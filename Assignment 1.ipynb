{
 "cells": [
  {
   "cell_type": "markdown",
   "id": "773994b9",
   "metadata": {},
   "source": [
    "## Creating An Empty List"
   ]
  },
  {
   "cell_type": "code",
   "execution_count": 14,
   "id": "19f1cb49",
   "metadata": {},
   "outputs": [],
   "source": [
    "fList = []\n",
    "intList = []\n",
    "strList = []\n",
    "bList = []\n"
   ]
  },
  {
   "cell_type": "markdown",
   "id": "873b2772",
   "metadata": {},
   "source": [
    "## Set of python List"
   ]
  },
  {
   "cell_type": "code",
   "execution_count": 16,
   "id": "41c43804",
   "metadata": {},
   "outputs": [],
   "source": [
    "fList = ['45.5', '45.3', '78.5']  #float\n",
    "bList = ['True', 'False', 'True', 'False']  # list of boolean\n",
    "inList = ['54', '52', '96', '45', '68', '78', '98', '14', '52', '21', '65'] #integers\n",
    "stList = ['Ama', 'Kojo', 'Yhup', 'Kwame', 'Kwesi', 'Roland', 'William','Patty', 'Folly', 'Adwoa', 'Pappy', 'Nti', 'Folly', 'Pency']  #list of strings\n"
   ]
  },
  {
   "cell_type": "markdown",
   "id": "c11c24bb",
   "metadata": {},
   "source": [
    "## Sorting strings and booleans "
   ]
  },
  {
   "cell_type": "code",
   "execution_count": 23,
   "id": "c293cef4",
   "metadata": {},
   "outputs": [
    {
     "name": "stdout",
     "output_type": "stream",
     "text": [
      "['False', 'False', 'True', 'True']\n"
     ]
    }
   ],
   "source": [
    "bList = ['True', 'False', 'True', 'False']  # list of boolean\n",
    "bList.sort()  #default->reverse=False in ascending order\n",
    "print(bList)\n"
   ]
  },
  {
   "cell_type": "code",
   "execution_count": 22,
   "id": "28b87303",
   "metadata": {},
   "outputs": [
    {
     "name": "stdout",
     "output_type": "stream",
     "text": [
      "['Yhup', 'William', 'Roland', 'Pency', 'Patty', 'Pappy', 'Nti', 'Kwesi', 'Kwame', 'Kojo', 'Folly', 'Folly', 'Ama', 'Adwoa']\n"
     ]
    }
   ],
   "source": [
    "stList = ['Ama', 'Kojo', 'Yhup', 'Kwame', 'Kwesi', 'Roland', 'William','Patty', 'Folly', 'Adwoa', 'Pappy', 'Nti', 'Folly', 'Pency']  #list of strings\n",
    "stList.sort(reverse=True)  #sorted in descending order\n",
    "print(stList)\n"
   ]
  },
  {
   "cell_type": "markdown",
   "id": "4abe3bc6",
   "metadata": {},
   "source": [
    "## working with ints\n"
   ]
  },
  {
   "cell_type": "code",
   "execution_count": null,
   "id": "0b5b2c10",
   "metadata": {},
   "outputs": [],
   "source": [
    "inList = ['54', '52', '96', '45', '68', '78', '98', '14', '52', '21', '65'] #integers\n",
    "y = inList[]  ##3rd highest and 5th highest"
   ]
  },
  {
   "cell_type": "markdown",
   "id": "a77dc1a3",
   "metadata": {},
   "source": [
    "## Working with floats\n"
   ]
  },
  {
   "cell_type": "code",
   "execution_count": null,
   "id": "93d0fbc8",
   "metadata": {},
   "outputs": [],
   "source": [
    "fList = ['45.5', '45.3', '78.5']  #float\n",
    "secLarg = fList[] ## printing the second largest number"
   ]
  }
 ],
 "metadata": {
  "kernelspec": {
   "display_name": "Python 3 (ipykernel)",
   "language": "python",
   "name": "python3"
  },
  "language_info": {
   "codemirror_mode": {
    "name": "ipython",
    "version": 3
   },
   "file_extension": ".py",
   "mimetype": "text/x-python",
   "name": "python",
   "nbconvert_exporter": "python",
   "pygments_lexer": "ipython3",
   "version": "3.9.7"
  }
 },
 "nbformat": 4,
 "nbformat_minor": 5
}
