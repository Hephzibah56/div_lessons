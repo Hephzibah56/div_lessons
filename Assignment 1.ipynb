{
 "cells": [
  {
   "cell_type": "markdown",
   "id": "773994b9",
   "metadata": {},
   "source": [
    "## Creating An Empty List"
   ]
  },
  {
   "cell_type": "code",
   "execution_count": 7,
   "id": "19f1cb49",
   "metadata": {},
   "outputs": [],
   "source": [
    "fList = []\n",
    "intList = []\n",
    "strList = []\n",
    "bList = []\n"
   ]
  },
  {
   "cell_type": "markdown",
   "id": "873b2772",
   "metadata": {},
   "source": [
    "## Set of python List"
   ]
  },
  {
   "cell_type": "code",
   "execution_count": 16,
   "id": "41c43804",
   "metadata": {},
   "outputs": [],
   "source": [
    "fList = ['45.5', '45.3', '78.5']  #float\n",
    "bList = ['True', 'False', 'True', 'False']  # list of boolean\n",
    "inList = ['54', '52', '96', '45', '68', '78', '98', '14', '52', '21', '65'] #integers\n",
    "stList = ['Ama', 'Kojo', 'Yhup', 'Kwame', 'Kwesi', 'Roland', 'William','Patty', 'Folly', 'Adwoa', 'Pappy', 'Nti', 'Folly', 'Pency']  #list of strings\n"
   ]
  },
  {
   "cell_type": "markdown",
   "id": "c11c24bb",
   "metadata": {},
   "source": [
    "## Sorting strings and booleans "
   ]
  },
  {
   "cell_type": "code",
   "execution_count": 23,
   "id": "c293cef4",
   "metadata": {},
   "outputs": [
    {
     "name": "stdout",
     "output_type": "stream",
     "text": [
      "['False', 'False', 'True', 'True']\n"
     ]
    }
   ],
   "source": [
    "bList = ['True', 'False', 'True', 'False']  # list of boolean\n",
    "bList.sort()  #default->reverse=False in ascending order\n",
    "print(bList)\n"
   ]
  },
  {
   "cell_type": "code",
   "execution_count": 3,
   "id": "28b87303",
   "metadata": {},
   "outputs": [
    {
     "name": "stdout",
     "output_type": "stream",
     "text": [
      "['Adwoa', 'Ama', 'Folly', 'Folly', 'Kojo', 'Kwame', 'Kwesi', 'Nti', 'Pappy', 'Patty', 'Pency', 'Roland', 'William', 'Yhup']\n"
     ]
    }
   ],
   "source": [
    "stList = ['Ama', 'Kojo', 'Yhup', 'Kwame', 'Kwesi', 'Roland', 'William','Patty', 'Folly', 'Adwoa', 'Pappy', 'Nti', 'Folly', 'Pency']  #list of strings\n",
    "stList.sort()  #sorted in ascending order\n",
    "print(stList)\n"
   ]
  },
  {
   "cell_type": "markdown",
   "id": "4abe3bc6",
   "metadata": {},
   "source": [
    "## working with ints\n"
   ]
  },
  {
   "cell_type": "code",
   "execution_count": 5,
   "id": "0b5b2c10",
   "metadata": {},
   "outputs": [
    {
     "name": "stdout",
     "output_type": "stream",
     "text": [
      "['98', '96', '78', '68', '65', '54', '52', '52', '45', '21', '14']\n",
      "The 3rd highest number is:  78\n",
      "The 5th highest number is:  65\n"
     ]
    }
   ],
   "source": [
    "inList = ['54', '52', '96', '45', '68', '78', '98', '14', '52', '21', '65'] #integers\n",
    "##3rd highest and 5th highest\n",
    "inList.sort(reverse=True)\n",
    "thirdHigh = inList[2]\n",
    "fifthHigh = inList[4]\n",
    "print(inList)\n",
    "print(\"The 3rd highest number is: \" + \" \" + thirdHigh)\n",
    "print(\"The 5th highest number is: \" + \" \" + fifthHigh)\n",
    "    "
   ]
  },
  {
   "cell_type": "markdown",
   "id": "a77dc1a3",
   "metadata": {},
   "source": [
    "## Working with floats\n"
   ]
  },
  {
   "cell_type": "code",
   "execution_count": 12,
   "id": "93d0fbc8",
   "metadata": {},
   "outputs": [
    {
     "name": "stdout",
     "output_type": "stream",
     "text": [
      "['78.5', '45.5', '45.3']\n",
      "The second largest number is 45.5\n"
     ]
    }
   ],
   "source": [
    "fList = ['45.5', '45.3', '78.5']  #float\n",
    "fList.sort(reverse = True)\n",
    "print(fList)\n",
    "secLarg = fList[1]     ## printing the second largest number\n",
    "print( \"The second largest number is\" + \" \" + secLarg)"
   ]
  },
  {
   "cell_type": "code",
   "execution_count": null,
   "id": "41143b8e",
   "metadata": {},
   "outputs": [],
   "source": []
  },
  {
   "cell_type": "code",
   "execution_count": null,
   "id": "3c78495f",
   "metadata": {},
   "outputs": [],
   "source": []
  }
 ],
 "metadata": {
  "kernelspec": {
   "display_name": "Python 3 (ipykernel)",
   "language": "python",
   "name": "python3"
  },
  "language_info": {
   "codemirror_mode": {
    "name": "ipython",
    "version": 3
   },
   "file_extension": ".py",
   "mimetype": "text/x-python",
   "name": "python",
   "nbconvert_exporter": "python",
   "pygments_lexer": "ipython3",
   "version": "3.9.7"
  }
 },
 "nbformat": 4,
 "nbformat_minor": 5
}
