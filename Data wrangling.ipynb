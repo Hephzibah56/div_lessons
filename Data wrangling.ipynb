{
 "cells": [
  {
   "cell_type": "code",
   "execution_count": 178,
   "id": "0720bd5c",
   "metadata": {},
   "outputs": [],
   "source": [
    "# import necessary libraries\n",
    "import pandas as pd\n",
    "import math\n",
    "import matplotlib.pyplot as plt\n",
    "import numpy as np"
   ]
  },
  {
   "cell_type": "code",
   "execution_count": 2,
   "id": "545cdcb8",
   "metadata": {},
   "outputs": [
    {
     "data": {
      "text/html": [
       "<div>\n",
       "<style scoped>\n",
       "    .dataframe tbody tr th:only-of-type {\n",
       "        vertical-align: middle;\n",
       "    }\n",
       "\n",
       "    .dataframe tbody tr th {\n",
       "        vertical-align: top;\n",
       "    }\n",
       "\n",
       "    .dataframe thead th {\n",
       "        text-align: right;\n",
       "    }\n",
       "</style>\n",
       "<table border=\"1\" class=\"dataframe\">\n",
       "  <thead>\n",
       "    <tr style=\"text-align: right;\">\n",
       "      <th></th>\n",
       "      <th>Name</th>\n",
       "      <th>Age</th>\n",
       "      <th>race</th>\n",
       "    </tr>\n",
       "  </thead>\n",
       "  <tbody>\n",
       "    <tr>\n",
       "      <th>0</th>\n",
       "      <td>Tigi</td>\n",
       "      <td>24</td>\n",
       "      <td>african-american</td>\n",
       "    </tr>\n",
       "    <tr>\n",
       "      <th>1</th>\n",
       "      <td>Mobi</td>\n",
       "      <td>27</td>\n",
       "      <td>asian</td>\n",
       "    </tr>\n",
       "    <tr>\n",
       "      <th>2</th>\n",
       "      <td>Waga</td>\n",
       "      <td>32</td>\n",
       "      <td>latino</td>\n",
       "    </tr>\n",
       "  </tbody>\n",
       "</table>\n",
       "</div>"
      ],
      "text/plain": [
       "   Name   Age               race\n",
       "0  Tigi    24   african-american\n",
       "1  Mobi    27              asian\n",
       "2  Waga    32             latino"
      ]
     },
     "execution_count": 2,
     "metadata": {},
     "output_type": "execute_result"
    }
   ],
   "source": [
    "csv_data = pd.read_csv('csv_data.csv')\n",
    "csv_data"
   ]
  },
  {
   "cell_type": "code",
   "execution_count": 3,
   "id": "f37c665c",
   "metadata": {},
   "outputs": [
    {
     "data": {
      "text/html": [
       "<div>\n",
       "<style scoped>\n",
       "    .dataframe tbody tr th:only-of-type {\n",
       "        vertical-align: middle;\n",
       "    }\n",
       "\n",
       "    .dataframe tbody tr th {\n",
       "        vertical-align: top;\n",
       "    }\n",
       "\n",
       "    .dataframe thead th {\n",
       "        text-align: right;\n",
       "    }\n",
       "</style>\n",
       "<table border=\"1\" class=\"dataframe\">\n",
       "  <thead>\n",
       "    <tr style=\"text-align: right;\">\n",
       "      <th></th>\n",
       "      <th>Students</th>\n",
       "      <th>Height</th>\n",
       "      <th>Fav_color</th>\n",
       "      <th>Salary()</th>\n",
       "    </tr>\n",
       "  </thead>\n",
       "  <tbody>\n",
       "    <tr>\n",
       "      <th>0</th>\n",
       "      <td>Akwasi</td>\n",
       "      <td>184</td>\n",
       "      <td>Black</td>\n",
       "      <td>70000</td>\n",
       "    </tr>\n",
       "    <tr>\n",
       "      <th>1</th>\n",
       "      <td>Franklin</td>\n",
       "      <td>175</td>\n",
       "      <td>Burgundy</td>\n",
       "      <td>20000</td>\n",
       "    </tr>\n",
       "    <tr>\n",
       "      <th>2</th>\n",
       "      <td>Nashirat</td>\n",
       "      <td>178</td>\n",
       "      <td>Purple</td>\n",
       "      <td>70000</td>\n",
       "    </tr>\n",
       "    <tr>\n",
       "      <th>3</th>\n",
       "      <td>Irene</td>\n",
       "      <td>188</td>\n",
       "      <td>Green</td>\n",
       "      <td>70000</td>\n",
       "    </tr>\n",
       "    <tr>\n",
       "      <th>4</th>\n",
       "      <td>Amma</td>\n",
       "      <td>182</td>\n",
       "      <td>Pink</td>\n",
       "      <td>70000</td>\n",
       "    </tr>\n",
       "    <tr>\n",
       "      <th>5</th>\n",
       "      <td>Fauzia</td>\n",
       "      <td>186</td>\n",
       "      <td>Yellow</td>\n",
       "      <td>70000</td>\n",
       "    </tr>\n",
       "  </tbody>\n",
       "</table>\n",
       "</div>"
      ],
      "text/plain": [
       "   Students  Height Fav_color  Salary()\n",
       "0    Akwasi     184     Black     70000\n",
       "1  Franklin     175  Burgundy     20000\n",
       "2  Nashirat     178    Purple     70000\n",
       "3     Irene     188     Green     70000\n",
       "4      Amma     182      Pink     70000\n",
       "5    Fauzia     186    Yellow     70000"
      ]
     },
     "execution_count": 3,
     "metadata": {},
     "output_type": "execute_result"
    }
   ],
   "source": [
    "data = pd.read_excel('excel_data.xlsx')\n",
    "data"
   ]
  },
  {
   "cell_type": "code",
   "execution_count": 138,
   "id": "70907292",
   "metadata": {
    "scrolled": true
   },
   "outputs": [
    {
     "data": {
      "text/html": [
       "<div>\n",
       "<style scoped>\n",
       "    .dataframe tbody tr th:only-of-type {\n",
       "        vertical-align: middle;\n",
       "    }\n",
       "\n",
       "    .dataframe tbody tr th {\n",
       "        vertical-align: top;\n",
       "    }\n",
       "\n",
       "    .dataframe thead th {\n",
       "        text-align: right;\n",
       "    }\n",
       "</style>\n",
       "<table border=\"1\" class=\"dataframe\">\n",
       "  <thead>\n",
       "    <tr style=\"text-align: right;\">\n",
       "      <th></th>\n",
       "      <th>REGION</th>\n",
       "      <th>DISTRICT</th>\n",
       "      <th>YEAR</th>\n",
       "      <th>CROP</th>\n",
       "      <th>AREA (HA)</th>\n",
       "      <th>YIELD (MT/HA)</th>\n",
       "      <th>PRODUCTION (MT)</th>\n",
       "    </tr>\n",
       "  </thead>\n",
       "  <tbody>\n",
       "    <tr>\n",
       "      <th>0</th>\n",
       "      <td>WESTERN</td>\n",
       "      <td>SHAMA AHANTA EAST</td>\n",
       "      <td>2008</td>\n",
       "      <td>MAIZE</td>\n",
       "      <td>1099.0</td>\n",
       "      <td>1.15</td>\n",
       "      <td>1,263.85</td>\n",
       "    </tr>\n",
       "    <tr>\n",
       "      <th>1</th>\n",
       "      <td>WESTERN</td>\n",
       "      <td>WEST AHANTA</td>\n",
       "      <td>2008</td>\n",
       "      <td>MAIZE</td>\n",
       "      <td>1433.0</td>\n",
       "      <td>1.19</td>\n",
       "      <td>1,705.27</td>\n",
       "    </tr>\n",
       "    <tr>\n",
       "      <th>2</th>\n",
       "      <td>WESTERN</td>\n",
       "      <td>MPORHOR WASSA EAST</td>\n",
       "      <td>2008</td>\n",
       "      <td>MAIZE</td>\n",
       "      <td>2034.0</td>\n",
       "      <td>1.32</td>\n",
       "      <td>2,684.88</td>\n",
       "    </tr>\n",
       "    <tr>\n",
       "      <th>3</th>\n",
       "      <td>WESTERN</td>\n",
       "      <td>WASSA WEST</td>\n",
       "      <td>2008</td>\n",
       "      <td>MAIZE</td>\n",
       "      <td>2204.0</td>\n",
       "      <td>1.2</td>\n",
       "      <td>2,644.80</td>\n",
       "    </tr>\n",
       "    <tr>\n",
       "      <th>4</th>\n",
       "      <td>WESTERN</td>\n",
       "      <td>EAST NZEMA</td>\n",
       "      <td>2008</td>\n",
       "      <td>MAIZE</td>\n",
       "      <td>1550.0</td>\n",
       "      <td>1.38</td>\n",
       "      <td>2,139.00</td>\n",
       "    </tr>\n",
       "    <tr>\n",
       "      <th>...</th>\n",
       "      <td>...</td>\n",
       "      <td>...</td>\n",
       "      <td>...</td>\n",
       "      <td>...</td>\n",
       "      <td>...</td>\n",
       "      <td>...</td>\n",
       "      <td>...</td>\n",
       "    </tr>\n",
       "    <tr>\n",
       "      <th>8231</th>\n",
       "      <td>NORTHERN REGION</td>\n",
       "      <td>MAMPRUGU MOAGDURI</td>\n",
       "      <td>2017</td>\n",
       "      <td>CASSAVA</td>\n",
       "      <td>900.0</td>\n",
       "      <td>7.95</td>\n",
       "      <td>7,155.00</td>\n",
       "    </tr>\n",
       "    <tr>\n",
       "      <th>8232</th>\n",
       "      <td>NORTHERN REGION</td>\n",
       "      <td>YENDI</td>\n",
       "      <td>2017</td>\n",
       "      <td>CASSAVA</td>\n",
       "      <td>4790.0</td>\n",
       "      <td>13.59</td>\n",
       "      <td>65,096.10</td>\n",
       "    </tr>\n",
       "    <tr>\n",
       "      <th>8233</th>\n",
       "      <td>NORTHERN REGION</td>\n",
       "      <td>MION</td>\n",
       "      <td>2017</td>\n",
       "      <td>CASSAVA</td>\n",
       "      <td>3831.0</td>\n",
       "      <td>6.96</td>\n",
       "      <td>26,663.76</td>\n",
       "    </tr>\n",
       "    <tr>\n",
       "      <th>8234</th>\n",
       "      <td>NORTHERN REGION</td>\n",
       "      <td>TATALE SANGULI</td>\n",
       "      <td>2017</td>\n",
       "      <td>CASSAVA</td>\n",
       "      <td>5192.0</td>\n",
       "      <td>13.85</td>\n",
       "      <td>71,909.20</td>\n",
       "    </tr>\n",
       "    <tr>\n",
       "      <th>8235</th>\n",
       "      <td>NORTHERN REGION</td>\n",
       "      <td>ZABZUGU</td>\n",
       "      <td>2017</td>\n",
       "      <td>CASSAVA</td>\n",
       "      <td>4612.0</td>\n",
       "      <td>13.85</td>\n",
       "      <td>63,876.20</td>\n",
       "    </tr>\n",
       "  </tbody>\n",
       "</table>\n",
       "<p>8236 rows × 7 columns</p>\n",
       "</div>"
      ],
      "text/plain": [
       "               REGION            DISTRICT  YEAR     CROP  AREA (HA)  \\\n",
       "0             WESTERN   SHAMA AHANTA EAST  2008    MAIZE     1099.0   \n",
       "1             WESTERN         WEST AHANTA  2008    MAIZE     1433.0   \n",
       "2             WESTERN  MPORHOR WASSA EAST  2008    MAIZE     2034.0   \n",
       "3             WESTERN          WASSA WEST  2008    MAIZE     2204.0   \n",
       "4             WESTERN          EAST NZEMA  2008    MAIZE     1550.0   \n",
       "...               ...                 ...   ...      ...        ...   \n",
       "8231  NORTHERN REGION   MAMPRUGU MOAGDURI  2017  CASSAVA      900.0   \n",
       "8232  NORTHERN REGION               YENDI  2017  CASSAVA     4790.0   \n",
       "8233  NORTHERN REGION                MION  2017  CASSAVA     3831.0   \n",
       "8234  NORTHERN REGION      TATALE SANGULI  2017  CASSAVA     5192.0   \n",
       "8235  NORTHERN REGION             ZABZUGU  2017  CASSAVA     4612.0   \n",
       "\n",
       "     YIELD (MT/HA) PRODUCTION (MT)  \n",
       "0             1.15        1,263.85  \n",
       "1             1.19        1,705.27  \n",
       "2             1.32        2,684.88  \n",
       "3              1.2        2,644.80  \n",
       "4             1.38        2,139.00  \n",
       "...            ...             ...  \n",
       "8231          7.95        7,155.00  \n",
       "8232         13.59       65,096.10  \n",
       "8233          6.96       26,663.76  \n",
       "8234         13.85       71,909.20  \n",
       "8235         13.85       63,876.20  \n",
       "\n",
       "[8236 rows x 7 columns]"
      ]
     },
     "execution_count": 138,
     "metadata": {},
     "output_type": "execute_result"
    }
   ],
   "source": [
    "pro_est_df = pd.read_csv('PRODUCTION ESTIMATES.csv')\n",
    "pro_est_df"
   ]
  },
  {
   "cell_type": "code",
   "execution_count": 6,
   "id": "62a3c95f",
   "metadata": {
    "scrolled": true
   },
   "outputs": [
    {
     "name": "stdout",
     "output_type": "stream",
     "text": [
      "<class 'pandas.core.frame.DataFrame'>\n",
      "RangeIndex: 8236 entries, 0 to 8235\n",
      "Data columns (total 7 columns):\n",
      " #   Column           Non-Null Count  Dtype \n",
      "---  ------           --------------  ----- \n",
      " 0   REGION           8236 non-null   object\n",
      " 1   DISTRICT         8236 non-null   object\n",
      " 2   YEAR             8236 non-null   int64 \n",
      " 3   CROP             8236 non-null   object\n",
      " 4   AREA (HA)        8236 non-null   object\n",
      " 5   YIELD (MT/HA)    8220 non-null   object\n",
      " 6   PRODUCTION (MT)  8234 non-null   object\n",
      "dtypes: int64(1), object(6)\n",
      "memory usage: 450.5+ KB\n"
     ]
    }
   ],
   "source": [
    "# ascertain the column types\n",
    "pro_est_df.info()"
   ]
  },
  {
   "cell_type": "code",
   "execution_count": 7,
   "id": "7725a11a",
   "metadata": {},
   "outputs": [
    {
     "data": {
      "text/html": [
       "<div>\n",
       "<style scoped>\n",
       "    .dataframe tbody tr th:only-of-type {\n",
       "        vertical-align: middle;\n",
       "    }\n",
       "\n",
       "    .dataframe tbody tr th {\n",
       "        vertical-align: top;\n",
       "    }\n",
       "\n",
       "    .dataframe thead th {\n",
       "        text-align: right;\n",
       "    }\n",
       "</style>\n",
       "<table border=\"1\" class=\"dataframe\">\n",
       "  <thead>\n",
       "    <tr style=\"text-align: right;\">\n",
       "      <th></th>\n",
       "      <th>Students</th>\n",
       "      <th>Height</th>\n",
       "      <th>Fav_color</th>\n",
       "      <th>Salary()</th>\n",
       "    </tr>\n",
       "  </thead>\n",
       "  <tbody>\n",
       "    <tr>\n",
       "      <th>0</th>\n",
       "      <td>Akwasi</td>\n",
       "      <td>184</td>\n",
       "      <td>Black</td>\n",
       "      <td>70000</td>\n",
       "    </tr>\n",
       "    <tr>\n",
       "      <th>1</th>\n",
       "      <td>Franklin</td>\n",
       "      <td>175</td>\n",
       "      <td>Burgundy</td>\n",
       "      <td>20000</td>\n",
       "    </tr>\n",
       "    <tr>\n",
       "      <th>2</th>\n",
       "      <td>Nashirat</td>\n",
       "      <td>178</td>\n",
       "      <td>Purple</td>\n",
       "      <td>70000</td>\n",
       "    </tr>\n",
       "    <tr>\n",
       "      <th>3</th>\n",
       "      <td>Irene</td>\n",
       "      <td>188</td>\n",
       "      <td>Green</td>\n",
       "      <td>70000</td>\n",
       "    </tr>\n",
       "    <tr>\n",
       "      <th>4</th>\n",
       "      <td>Amma</td>\n",
       "      <td>182</td>\n",
       "      <td>Pink</td>\n",
       "      <td>70000</td>\n",
       "    </tr>\n",
       "    <tr>\n",
       "      <th>5</th>\n",
       "      <td>Fauzia</td>\n",
       "      <td>186</td>\n",
       "      <td>Yellow</td>\n",
       "      <td>70000</td>\n",
       "    </tr>\n",
       "  </tbody>\n",
       "</table>\n",
       "</div>"
      ],
      "text/plain": [
       "   Students  Height Fav_color  Salary()\n",
       "0    Akwasi     184     Black     70000\n",
       "1  Franklin     175  Burgundy     20000\n",
       "2  Nashirat     178    Purple     70000\n",
       "3     Irene     188     Green     70000\n",
       "4      Amma     182      Pink     70000\n",
       "5    Fauzia     186    Yellow     70000"
      ]
     },
     "execution_count": 7,
     "metadata": {},
     "output_type": "execute_result"
    }
   ],
   "source": [
    "data = pd.read_excel('excel_data.xlsx')\n",
    "data"
   ]
  },
  {
   "cell_type": "code",
   "execution_count": 8,
   "id": "f948317a",
   "metadata": {},
   "outputs": [
    {
     "data": {
      "text/plain": [
       "Students     0\n",
       "Height       0\n",
       "Fav_color    0\n",
       "Salary()     0\n",
       "dtype: int64"
      ]
     },
     "execution_count": 8,
     "metadata": {},
     "output_type": "execute_result"
    }
   ],
   "source": [
    "# count null values within each column\n",
    "data.isnull().sum()"
   ]
  },
  {
   "cell_type": "code",
   "execution_count": 9,
   "id": "c97c4a81",
   "metadata": {},
   "outputs": [
    {
     "data": {
      "text/plain": [
       "REGION              0\n",
       "DISTRICT            0\n",
       "YEAR                0\n",
       "CROP                0\n",
       "AREA (HA)           0\n",
       "YIELD (MT/HA)      16\n",
       "PRODUCTION (MT)     2\n",
       "dtype: int64"
      ]
     },
     "execution_count": 9,
     "metadata": {},
     "output_type": "execute_result"
    }
   ],
   "source": [
    "pro_est_df.isnull().sum()"
   ]
  },
  {
   "cell_type": "code",
   "execution_count": 10,
   "id": "82e4dc4b",
   "metadata": {},
   "outputs": [
    {
     "data": {
      "text/html": [
       "<div>\n",
       "<style scoped>\n",
       "    .dataframe tbody tr th:only-of-type {\n",
       "        vertical-align: middle;\n",
       "    }\n",
       "\n",
       "    .dataframe tbody tr th {\n",
       "        vertical-align: top;\n",
       "    }\n",
       "\n",
       "    .dataframe thead th {\n",
       "        text-align: right;\n",
       "    }\n",
       "</style>\n",
       "<table border=\"1\" class=\"dataframe\">\n",
       "  <thead>\n",
       "    <tr style=\"text-align: right;\">\n",
       "      <th></th>\n",
       "      <th>REGION</th>\n",
       "      <th>DISTRICT</th>\n",
       "      <th>YEAR</th>\n",
       "      <th>CROP</th>\n",
       "      <th>AREA (HA)</th>\n",
       "      <th>YIELD (MT/HA)</th>\n",
       "      <th>PRODUCTION (MT)</th>\n",
       "    </tr>\n",
       "  </thead>\n",
       "  <tbody>\n",
       "    <tr>\n",
       "      <th>2188</th>\n",
       "      <td>VOLTA</td>\n",
       "      <td>KETA</td>\n",
       "      <td>2011</td>\n",
       "      <td>CASSAVA</td>\n",
       "      <td>1,290.00</td>\n",
       "      <td>NaN</td>\n",
       "      <td>-</td>\n",
       "    </tr>\n",
       "    <tr>\n",
       "      <th>2859</th>\n",
       "      <td>EASTERN</td>\n",
       "      <td>FANTEAKWA</td>\n",
       "      <td>2012</td>\n",
       "      <td>RICE</td>\n",
       "      <td>15</td>\n",
       "      <td>NaN</td>\n",
       "      <td>-</td>\n",
       "    </tr>\n",
       "    <tr>\n",
       "      <th>3256</th>\n",
       "      <td>CENTRAL</td>\n",
       "      <td>AGONA WEST (SWEDRU)</td>\n",
       "      <td>2012</td>\n",
       "      <td>COCOYAM</td>\n",
       "      <td>1,026.00</td>\n",
       "      <td>NaN</td>\n",
       "      <td>-</td>\n",
       "    </tr>\n",
       "    <tr>\n",
       "      <th>3257</th>\n",
       "      <td>CENTRAL</td>\n",
       "      <td>AGONA EAST</td>\n",
       "      <td>2012</td>\n",
       "      <td>COCOYAM</td>\n",
       "      <td>874</td>\n",
       "      <td>NaN</td>\n",
       "      <td>-</td>\n",
       "    </tr>\n",
       "    <tr>\n",
       "      <th>3324</th>\n",
       "      <td>EASTERN</td>\n",
       "      <td>KWAHU EAST</td>\n",
       "      <td>2012</td>\n",
       "      <td>COWPEA</td>\n",
       "      <td>13</td>\n",
       "      <td>NaN</td>\n",
       "      <td>-</td>\n",
       "    </tr>\n",
       "    <tr>\n",
       "      <th>3428</th>\n",
       "      <td>ASHANTI</td>\n",
       "      <td>SEKYERE SOUTH</td>\n",
       "      <td>2012</td>\n",
       "      <td>COWPEA</td>\n",
       "      <td>45</td>\n",
       "      <td>NaN</td>\n",
       "      <td>-</td>\n",
       "    </tr>\n",
       "    <tr>\n",
       "      <th>3429</th>\n",
       "      <td>ASHANTI</td>\n",
       "      <td>AFIGYA KWABRE</td>\n",
       "      <td>2012</td>\n",
       "      <td>COWPEA</td>\n",
       "      <td>35</td>\n",
       "      <td>NaN</td>\n",
       "      <td>-</td>\n",
       "    </tr>\n",
       "    <tr>\n",
       "      <th>3431</th>\n",
       "      <td>ASHANTI</td>\n",
       "      <td>ATWIMA NWABIAGYA</td>\n",
       "      <td>2012</td>\n",
       "      <td>COWPEA</td>\n",
       "      <td>30</td>\n",
       "      <td>NaN</td>\n",
       "      <td>-</td>\n",
       "    </tr>\n",
       "    <tr>\n",
       "      <th>5518</th>\n",
       "      <td>EASTERN</td>\n",
       "      <td>FANTEAKWA</td>\n",
       "      <td>2015</td>\n",
       "      <td>RICE</td>\n",
       "      <td>32.27</td>\n",
       "      <td>NaN</td>\n",
       "      <td>-</td>\n",
       "    </tr>\n",
       "    <tr>\n",
       "      <th>5955</th>\n",
       "      <td>EASTERN</td>\n",
       "      <td>KWAHU EAST</td>\n",
       "      <td>2015</td>\n",
       "      <td>COWPEA</td>\n",
       "      <td>9.19</td>\n",
       "      <td>NaN</td>\n",
       "      <td>-</td>\n",
       "    </tr>\n",
       "    <tr>\n",
       "      <th>6057</th>\n",
       "      <td>BRONG AHAFO</td>\n",
       "      <td>JAMAN SOUTH</td>\n",
       "      <td>2015</td>\n",
       "      <td>COCOYAM</td>\n",
       "      <td>2,781.58</td>\n",
       "      <td>NaN</td>\n",
       "      <td>-</td>\n",
       "    </tr>\n",
       "    <tr>\n",
       "      <th>6071</th>\n",
       "      <td>BRONG AHAFO</td>\n",
       "      <td>TECHIMAN MUNICIPAL</td>\n",
       "      <td>2015</td>\n",
       "      <td>PLANTAIN</td>\n",
       "      <td>3,897.35</td>\n",
       "      <td>NaN</td>\n",
       "      <td>-</td>\n",
       "    </tr>\n",
       "    <tr>\n",
       "      <th>6072</th>\n",
       "      <td>BRONG AHAFO</td>\n",
       "      <td>ASUNAFO NORTH</td>\n",
       "      <td>2015</td>\n",
       "      <td>PLANTAIN</td>\n",
       "      <td>4,177.18</td>\n",
       "      <td>NaN</td>\n",
       "      <td>-</td>\n",
       "    </tr>\n",
       "    <tr>\n",
       "      <th>6483</th>\n",
       "      <td>EASTERN</td>\n",
       "      <td>FANTEAKWA</td>\n",
       "      <td>2016</td>\n",
       "      <td>RICE</td>\n",
       "      <td>23.07</td>\n",
       "      <td>NaN</td>\n",
       "      <td>-</td>\n",
       "    </tr>\n",
       "    <tr>\n",
       "      <th>6579</th>\n",
       "      <td>EASTERN</td>\n",
       "      <td>KWAHU EAST</td>\n",
       "      <td>2016</td>\n",
       "      <td>COWPEA</td>\n",
       "      <td>16.53</td>\n",
       "      <td>NaN</td>\n",
       "      <td>-</td>\n",
       "    </tr>\n",
       "    <tr>\n",
       "      <th>7762</th>\n",
       "      <td>CENTRAL</td>\n",
       "      <td>AGONA EAST</td>\n",
       "      <td>2017</td>\n",
       "      <td>COCOYAM</td>\n",
       "      <td>65</td>\n",
       "      <td>NaN</td>\n",
       "      <td>-</td>\n",
       "    </tr>\n",
       "    <tr>\n",
       "      <th>8120</th>\n",
       "      <td>ASHANTI</td>\n",
       "      <td>SEKYERE SOUTH</td>\n",
       "      <td>2017</td>\n",
       "      <td>COWPEA</td>\n",
       "      <td>41</td>\n",
       "      <td>-</td>\n",
       "      <td>NaN</td>\n",
       "    </tr>\n",
       "    <tr>\n",
       "      <th>8121</th>\n",
       "      <td>ASHANTI</td>\n",
       "      <td>AFIGYA KWABRE</td>\n",
       "      <td>2017</td>\n",
       "      <td>COWPEA</td>\n",
       "      <td>33</td>\n",
       "      <td>-</td>\n",
       "      <td>NaN</td>\n",
       "    </tr>\n",
       "  </tbody>\n",
       "</table>\n",
       "</div>"
      ],
      "text/plain": [
       "           REGION             DISTRICT  YEAR      CROP AREA (HA)  \\\n",
       "2188        VOLTA                 KETA  2011   CASSAVA  1,290.00   \n",
       "2859      EASTERN            FANTEAKWA  2012      RICE        15   \n",
       "3256      CENTRAL  AGONA WEST (SWEDRU)  2012   COCOYAM  1,026.00   \n",
       "3257      CENTRAL           AGONA EAST  2012   COCOYAM       874   \n",
       "3324      EASTERN           KWAHU EAST  2012    COWPEA        13   \n",
       "3428      ASHANTI        SEKYERE SOUTH  2012    COWPEA        45   \n",
       "3429      ASHANTI        AFIGYA KWABRE  2012    COWPEA        35   \n",
       "3431      ASHANTI     ATWIMA NWABIAGYA  2012    COWPEA        30   \n",
       "5518      EASTERN            FANTEAKWA  2015      RICE     32.27   \n",
       "5955      EASTERN           KWAHU EAST  2015    COWPEA      9.19   \n",
       "6057  BRONG AHAFO         JAMAN SOUTH   2015   COCOYAM  2,781.58   \n",
       "6071  BRONG AHAFO   TECHIMAN MUNICIPAL  2015  PLANTAIN  3,897.35   \n",
       "6072  BRONG AHAFO       ASUNAFO NORTH   2015  PLANTAIN  4,177.18   \n",
       "6483      EASTERN            FANTEAKWA  2016      RICE     23.07   \n",
       "6579      EASTERN           KWAHU EAST  2016    COWPEA     16.53   \n",
       "7762      CENTRAL           AGONA EAST  2017   COCOYAM        65   \n",
       "8120      ASHANTI       SEKYERE SOUTH   2017    COWPEA        41   \n",
       "8121      ASHANTI       AFIGYA KWABRE   2017    COWPEA        33   \n",
       "\n",
       "                         YIELD (MT/HA) PRODUCTION (MT)  \n",
       "2188                               NaN            -     \n",
       "2859                               NaN            -     \n",
       "3256                               NaN            -     \n",
       "3257                               NaN            -     \n",
       "3324                               NaN            -     \n",
       "3428                               NaN            -     \n",
       "3429                               NaN            -     \n",
       "3431                               NaN            -     \n",
       "5518                               NaN              -   \n",
       "5955                               NaN              -   \n",
       "6057                               NaN              -   \n",
       "6071                               NaN              -   \n",
       "6072                               NaN              -   \n",
       "6483                               NaN              -   \n",
       "6579                               NaN              -   \n",
       "7762                               NaN              -   \n",
       "8120                             -                 NaN  \n",
       "8121                             -                 NaN  "
      ]
     },
     "execution_count": 10,
     "metadata": {},
     "output_type": "execute_result"
    }
   ],
   "source": [
    "pro_est_df[pro_est_df.isnull().any(axis=1)]"
   ]
  },
  {
   "cell_type": "code",
   "execution_count": 11,
   "id": "d71317ba",
   "metadata": {},
   "outputs": [
    {
     "data": {
      "text/plain": [
       "Index(['REGION', 'DISTRICT', 'YEAR', 'CROP', 'AREA (HA)', 'YIELD (MT/HA)',\n",
       "       'PRODUCTION (MT)'],\n",
       "      dtype='object')"
      ]
     },
     "execution_count": 11,
     "metadata": {},
     "output_type": "execute_result"
    }
   ],
   "source": [
    "pro_est_df.columns"
   ]
  },
  {
   "cell_type": "code",
   "execution_count": 12,
   "id": "54311f02",
   "metadata": {
    "scrolled": true
   },
   "outputs": [
    {
     "data": {
      "text/plain": [
       "0               WESTERN\n",
       "1               WESTERN\n",
       "2               WESTERN\n",
       "3               WESTERN\n",
       "4               WESTERN\n",
       "             ...       \n",
       "8231    NORTHERN REGION\n",
       "8232    NORTHERN REGION\n",
       "8233    NORTHERN REGION\n",
       "8234    NORTHERN REGION\n",
       "8235    NORTHERN REGION\n",
       "Name: REGION, Length: 8236, dtype: object"
      ]
     },
     "execution_count": 12,
     "metadata": {},
     "output_type": "execute_result"
    }
   ],
   "source": [
    "pro_est_df.REGION"
   ]
  },
  {
   "cell_type": "code",
   "execution_count": 13,
   "id": "df7196c7",
   "metadata": {},
   "outputs": [
    {
     "data": {
      "text/plain": [
       "0               WESTERN\n",
       "1               WESTERN\n",
       "2               WESTERN\n",
       "3               WESTERN\n",
       "4               WESTERN\n",
       "             ...       \n",
       "8231    NORTHERN REGION\n",
       "8232    NORTHERN REGION\n",
       "8233    NORTHERN REGION\n",
       "8234    NORTHERN REGION\n",
       "8235    NORTHERN REGION\n",
       "Name: REGION, Length: 8236, dtype: object"
      ]
     },
     "execution_count": 13,
     "metadata": {},
     "output_type": "execute_result"
    }
   ],
   "source": [
    "pro_est_df['REGION']"
   ]
  },
  {
   "cell_type": "code",
   "execution_count": 14,
   "id": "5c5efb1d",
   "metadata": {},
   "outputs": [
    {
     "data": {
      "text/plain": [
       "0       1,099.00\n",
       "1       1,433.00\n",
       "2       2,034.00\n",
       "3       2,204.00\n",
       "4       1,550.00\n",
       "          ...   \n",
       "8231         900\n",
       "8232    4,790.00\n",
       "8233    3,831.00\n",
       "8234    5,192.00\n",
       "8235    4,612.00\n",
       "Name: AREA (HA), Length: 8236, dtype: object"
      ]
     },
     "execution_count": 14,
     "metadata": {},
     "output_type": "execute_result"
    }
   ],
   "source": [
    "pro_est_df['AREA (HA)']"
   ]
  },
  {
   "cell_type": "code",
   "execution_count": 15,
   "id": "741ac450",
   "metadata": {},
   "outputs": [],
   "source": [
    "# get rows and columns\n",
    "rows_cols = pro_est_df.shape"
   ]
  },
  {
   "cell_type": "code",
   "execution_count": 16,
   "id": "0a11db05",
   "metadata": {},
   "outputs": [
    {
     "data": {
      "text/plain": [
       "tuple"
      ]
     },
     "execution_count": 16,
     "metadata": {},
     "output_type": "execute_result"
    }
   ],
   "source": [
    "type(rows_cols)"
   ]
  },
  {
   "cell_type": "code",
   "execution_count": 17,
   "id": "3d540c0c",
   "metadata": {},
   "outputs": [
    {
     "data": {
      "text/plain": [
       "7"
      ]
     },
     "execution_count": 17,
     "metadata": {},
     "output_type": "execute_result"
    }
   ],
   "source": [
    "rows_cols[1]"
   ]
  },
  {
   "cell_type": "code",
   "execution_count": 18,
   "id": "56a4dd9d",
   "metadata": {
    "scrolled": true
   },
   "outputs": [
    {
     "data": {
      "text/html": [
       "<div>\n",
       "<style scoped>\n",
       "    .dataframe tbody tr th:only-of-type {\n",
       "        vertical-align: middle;\n",
       "    }\n",
       "\n",
       "    .dataframe tbody tr th {\n",
       "        vertical-align: top;\n",
       "    }\n",
       "\n",
       "    .dataframe thead th {\n",
       "        text-align: right;\n",
       "    }\n",
       "</style>\n",
       "<table border=\"1\" class=\"dataframe\">\n",
       "  <thead>\n",
       "    <tr style=\"text-align: right;\">\n",
       "      <th></th>\n",
       "      <th>REGION</th>\n",
       "      <th>DISTRICT</th>\n",
       "      <th>YEAR</th>\n",
       "      <th>CROP</th>\n",
       "      <th>AREA (HA)</th>\n",
       "      <th>YIELD (MT/HA)</th>\n",
       "      <th>PRODUCTION (MT)</th>\n",
       "    </tr>\n",
       "  </thead>\n",
       "  <tbody>\n",
       "    <tr>\n",
       "      <th>0</th>\n",
       "      <td>WESTERN</td>\n",
       "      <td>SHAMA AHANTA EAST</td>\n",
       "      <td>2008</td>\n",
       "      <td>MAIZE</td>\n",
       "      <td>1,099.00</td>\n",
       "      <td>1.15</td>\n",
       "      <td>1,263.85</td>\n",
       "    </tr>\n",
       "    <tr>\n",
       "      <th>1</th>\n",
       "      <td>WESTERN</td>\n",
       "      <td>WEST AHANTA</td>\n",
       "      <td>2008</td>\n",
       "      <td>MAIZE</td>\n",
       "      <td>1,433.00</td>\n",
       "      <td>1.19</td>\n",
       "      <td>1,705.27</td>\n",
       "    </tr>\n",
       "    <tr>\n",
       "      <th>2</th>\n",
       "      <td>WESTERN</td>\n",
       "      <td>MPORHOR WASSA EAST</td>\n",
       "      <td>2008</td>\n",
       "      <td>MAIZE</td>\n",
       "      <td>2,034.00</td>\n",
       "      <td>1.32</td>\n",
       "      <td>2,684.88</td>\n",
       "    </tr>\n",
       "    <tr>\n",
       "      <th>3</th>\n",
       "      <td>WESTERN</td>\n",
       "      <td>WASSA WEST</td>\n",
       "      <td>2008</td>\n",
       "      <td>MAIZE</td>\n",
       "      <td>2,204.00</td>\n",
       "      <td>1.2</td>\n",
       "      <td>2,644.80</td>\n",
       "    </tr>\n",
       "    <tr>\n",
       "      <th>4</th>\n",
       "      <td>WESTERN</td>\n",
       "      <td>EAST NZEMA</td>\n",
       "      <td>2008</td>\n",
       "      <td>MAIZE</td>\n",
       "      <td>1,550.00</td>\n",
       "      <td>1.38</td>\n",
       "      <td>2,139.00</td>\n",
       "    </tr>\n",
       "  </tbody>\n",
       "</table>\n",
       "</div>"
      ],
      "text/plain": [
       "    REGION            DISTRICT  YEAR   CROP AREA (HA) YIELD (MT/HA)  \\\n",
       "0  WESTERN   SHAMA AHANTA EAST  2008  MAIZE  1,099.00          1.15   \n",
       "1  WESTERN         WEST AHANTA  2008  MAIZE  1,433.00          1.19   \n",
       "2  WESTERN  MPORHOR WASSA EAST  2008  MAIZE  2,034.00          1.32   \n",
       "3  WESTERN          WASSA WEST  2008  MAIZE  2,204.00           1.2   \n",
       "4  WESTERN          EAST NZEMA  2008  MAIZE  1,550.00          1.38   \n",
       "\n",
       "  PRODUCTION (MT)  \n",
       "0        1,263.85  \n",
       "1        1,705.27  \n",
       "2        2,684.88  \n",
       "3        2,644.80  \n",
       "4        2,139.00  "
      ]
     },
     "execution_count": 18,
     "metadata": {},
     "output_type": "execute_result"
    }
   ],
   "source": [
    "# get first 5 rows\n",
    "pro_est_df.head()"
   ]
  },
  {
   "cell_type": "code",
   "execution_count": 19,
   "id": "acee7e87",
   "metadata": {},
   "outputs": [
    {
     "data": {
      "text/html": [
       "<div>\n",
       "<style scoped>\n",
       "    .dataframe tbody tr th:only-of-type {\n",
       "        vertical-align: middle;\n",
       "    }\n",
       "\n",
       "    .dataframe tbody tr th {\n",
       "        vertical-align: top;\n",
       "    }\n",
       "\n",
       "    .dataframe thead th {\n",
       "        text-align: right;\n",
       "    }\n",
       "</style>\n",
       "<table border=\"1\" class=\"dataframe\">\n",
       "  <thead>\n",
       "    <tr style=\"text-align: right;\">\n",
       "      <th></th>\n",
       "      <th>REGION</th>\n",
       "      <th>DISTRICT</th>\n",
       "      <th>YEAR</th>\n",
       "      <th>CROP</th>\n",
       "      <th>AREA (HA)</th>\n",
       "      <th>YIELD (MT/HA)</th>\n",
       "      <th>PRODUCTION (MT)</th>\n",
       "    </tr>\n",
       "  </thead>\n",
       "  <tbody>\n",
       "    <tr>\n",
       "      <th>8231</th>\n",
       "      <td>NORTHERN REGION</td>\n",
       "      <td>MAMPRUGU MOAGDURI</td>\n",
       "      <td>2017</td>\n",
       "      <td>CASSAVA</td>\n",
       "      <td>900</td>\n",
       "      <td>7.95</td>\n",
       "      <td>7,155.00</td>\n",
       "    </tr>\n",
       "    <tr>\n",
       "      <th>8232</th>\n",
       "      <td>NORTHERN REGION</td>\n",
       "      <td>YENDI</td>\n",
       "      <td>2017</td>\n",
       "      <td>CASSAVA</td>\n",
       "      <td>4,790.00</td>\n",
       "      <td>13.59</td>\n",
       "      <td>65,096.10</td>\n",
       "    </tr>\n",
       "    <tr>\n",
       "      <th>8233</th>\n",
       "      <td>NORTHERN REGION</td>\n",
       "      <td>MION</td>\n",
       "      <td>2017</td>\n",
       "      <td>CASSAVA</td>\n",
       "      <td>3,831.00</td>\n",
       "      <td>6.96</td>\n",
       "      <td>26,663.76</td>\n",
       "    </tr>\n",
       "    <tr>\n",
       "      <th>8234</th>\n",
       "      <td>NORTHERN REGION</td>\n",
       "      <td>TATALE SANGULI</td>\n",
       "      <td>2017</td>\n",
       "      <td>CASSAVA</td>\n",
       "      <td>5,192.00</td>\n",
       "      <td>13.85</td>\n",
       "      <td>71,909.20</td>\n",
       "    </tr>\n",
       "    <tr>\n",
       "      <th>8235</th>\n",
       "      <td>NORTHERN REGION</td>\n",
       "      <td>ZABZUGU</td>\n",
       "      <td>2017</td>\n",
       "      <td>CASSAVA</td>\n",
       "      <td>4,612.00</td>\n",
       "      <td>13.85</td>\n",
       "      <td>63,876.20</td>\n",
       "    </tr>\n",
       "  </tbody>\n",
       "</table>\n",
       "</div>"
      ],
      "text/plain": [
       "               REGION           DISTRICT  YEAR     CROP AREA (HA)  \\\n",
       "8231  NORTHERN REGION  MAMPRUGU MOAGDURI  2017  CASSAVA       900   \n",
       "8232  NORTHERN REGION              YENDI  2017  CASSAVA  4,790.00   \n",
       "8233  NORTHERN REGION               MION  2017  CASSAVA  3,831.00   \n",
       "8234  NORTHERN REGION     TATALE SANGULI  2017  CASSAVA  5,192.00   \n",
       "8235  NORTHERN REGION            ZABZUGU  2017  CASSAVA  4,612.00   \n",
       "\n",
       "     YIELD (MT/HA) PRODUCTION (MT)  \n",
       "8231          7.95        7,155.00  \n",
       "8232         13.59       65,096.10  \n",
       "8233          6.96       26,663.76  \n",
       "8234         13.85       71,909.20  \n",
       "8235         13.85       63,876.20  "
      ]
     },
     "execution_count": 19,
     "metadata": {},
     "output_type": "execute_result"
    }
   ],
   "source": [
    "# get last 5 rows\n",
    "pro_est_df.tail()"
   ]
  },
  {
   "cell_type": "code",
   "execution_count": 20,
   "id": "46e1166d",
   "metadata": {
    "scrolled": true
   },
   "outputs": [
    {
     "data": {
      "text/html": [
       "<div>\n",
       "<style scoped>\n",
       "    .dataframe tbody tr th:only-of-type {\n",
       "        vertical-align: middle;\n",
       "    }\n",
       "\n",
       "    .dataframe tbody tr th {\n",
       "        vertical-align: top;\n",
       "    }\n",
       "\n",
       "    .dataframe thead th {\n",
       "        text-align: right;\n",
       "    }\n",
       "</style>\n",
       "<table border=\"1\" class=\"dataframe\">\n",
       "  <thead>\n",
       "    <tr style=\"text-align: right;\">\n",
       "      <th></th>\n",
       "      <th>REGION</th>\n",
       "      <th>DISTRICT</th>\n",
       "      <th>YEAR</th>\n",
       "      <th>CROP</th>\n",
       "      <th>AREA (HA)</th>\n",
       "      <th>YIELD (MT/HA)</th>\n",
       "      <th>PRODUCTION (MT)</th>\n",
       "    </tr>\n",
       "  </thead>\n",
       "  <tbody>\n",
       "    <tr>\n",
       "      <th>8223</th>\n",
       "      <td>NORTHERN REGION</td>\n",
       "      <td>SAWLA/TUNA/KALBA</td>\n",
       "      <td>2017</td>\n",
       "      <td>CASSAVA</td>\n",
       "      <td>1,258.00</td>\n",
       "      <td>14.24</td>\n",
       "      <td>17,913.92</td>\n",
       "    </tr>\n",
       "    <tr>\n",
       "      <th>8224</th>\n",
       "      <td>NORTHERN REGION</td>\n",
       "      <td>TAMALE METRO</td>\n",
       "      <td>2017</td>\n",
       "      <td>CASSAVA</td>\n",
       "      <td>1,567.32</td>\n",
       "      <td>6.96</td>\n",
       "      <td>10,908.55</td>\n",
       "    </tr>\n",
       "    <tr>\n",
       "      <th>8225</th>\n",
       "      <td>NORTHERN REGION</td>\n",
       "      <td>SAGNERIGU</td>\n",
       "      <td>2017</td>\n",
       "      <td>CASSAVA</td>\n",
       "      <td>346</td>\n",
       "      <td>6.96</td>\n",
       "      <td>2,408.16</td>\n",
       "    </tr>\n",
       "    <tr>\n",
       "      <th>8226</th>\n",
       "      <td>NORTHERN REGION</td>\n",
       "      <td>TOLON</td>\n",
       "      <td>2017</td>\n",
       "      <td>CASSAVA</td>\n",
       "      <td>4,738.00</td>\n",
       "      <td>13.71</td>\n",
       "      <td>64,957.98</td>\n",
       "    </tr>\n",
       "    <tr>\n",
       "      <th>8227</th>\n",
       "      <td>NORTHERN REGION</td>\n",
       "      <td>KUMBUNGU</td>\n",
       "      <td>2017</td>\n",
       "      <td>CASSAVA</td>\n",
       "      <td>1,000.00</td>\n",
       "      <td>9</td>\n",
       "      <td>9,000.00</td>\n",
       "    </tr>\n",
       "    <tr>\n",
       "      <th>8228</th>\n",
       "      <td>NORTHERN REGION</td>\n",
       "      <td>WEST GONJA</td>\n",
       "      <td>2017</td>\n",
       "      <td>CASSAVA</td>\n",
       "      <td>14,100.00</td>\n",
       "      <td>25.6</td>\n",
       "      <td>360,960.00</td>\n",
       "    </tr>\n",
       "    <tr>\n",
       "      <th>8229</th>\n",
       "      <td>NORTHERN REGION</td>\n",
       "      <td>NORTH GONJA</td>\n",
       "      <td>2017</td>\n",
       "      <td>CASSAVA</td>\n",
       "      <td>850</td>\n",
       "      <td>13</td>\n",
       "      <td>11,050.00</td>\n",
       "    </tr>\n",
       "    <tr>\n",
       "      <th>8230</th>\n",
       "      <td>NORTHERN REGION</td>\n",
       "      <td>WEST MAMPRUSI</td>\n",
       "      <td>2017</td>\n",
       "      <td>CASSAVA</td>\n",
       "      <td>1,100.00</td>\n",
       "      <td>5</td>\n",
       "      <td>5,500.00</td>\n",
       "    </tr>\n",
       "    <tr>\n",
       "      <th>8231</th>\n",
       "      <td>NORTHERN REGION</td>\n",
       "      <td>MAMPRUGU MOAGDURI</td>\n",
       "      <td>2017</td>\n",
       "      <td>CASSAVA</td>\n",
       "      <td>900</td>\n",
       "      <td>7.95</td>\n",
       "      <td>7,155.00</td>\n",
       "    </tr>\n",
       "    <tr>\n",
       "      <th>8232</th>\n",
       "      <td>NORTHERN REGION</td>\n",
       "      <td>YENDI</td>\n",
       "      <td>2017</td>\n",
       "      <td>CASSAVA</td>\n",
       "      <td>4,790.00</td>\n",
       "      <td>13.59</td>\n",
       "      <td>65,096.10</td>\n",
       "    </tr>\n",
       "    <tr>\n",
       "      <th>8233</th>\n",
       "      <td>NORTHERN REGION</td>\n",
       "      <td>MION</td>\n",
       "      <td>2017</td>\n",
       "      <td>CASSAVA</td>\n",
       "      <td>3,831.00</td>\n",
       "      <td>6.96</td>\n",
       "      <td>26,663.76</td>\n",
       "    </tr>\n",
       "    <tr>\n",
       "      <th>8234</th>\n",
       "      <td>NORTHERN REGION</td>\n",
       "      <td>TATALE SANGULI</td>\n",
       "      <td>2017</td>\n",
       "      <td>CASSAVA</td>\n",
       "      <td>5,192.00</td>\n",
       "      <td>13.85</td>\n",
       "      <td>71,909.20</td>\n",
       "    </tr>\n",
       "    <tr>\n",
       "      <th>8235</th>\n",
       "      <td>NORTHERN REGION</td>\n",
       "      <td>ZABZUGU</td>\n",
       "      <td>2017</td>\n",
       "      <td>CASSAVA</td>\n",
       "      <td>4,612.00</td>\n",
       "      <td>13.85</td>\n",
       "      <td>63,876.20</td>\n",
       "    </tr>\n",
       "  </tbody>\n",
       "</table>\n",
       "</div>"
      ],
      "text/plain": [
       "               REGION           DISTRICT  YEAR     CROP  AREA (HA)  \\\n",
       "8223  NORTHERN REGION   SAWLA/TUNA/KALBA  2017  CASSAVA   1,258.00   \n",
       "8224  NORTHERN REGION       TAMALE METRO  2017  CASSAVA   1,567.32   \n",
       "8225  NORTHERN REGION          SAGNERIGU  2017  CASSAVA        346   \n",
       "8226  NORTHERN REGION              TOLON  2017  CASSAVA   4,738.00   \n",
       "8227  NORTHERN REGION           KUMBUNGU  2017  CASSAVA   1,000.00   \n",
       "8228  NORTHERN REGION         WEST GONJA  2017  CASSAVA  14,100.00   \n",
       "8229  NORTHERN REGION        NORTH GONJA  2017  CASSAVA        850   \n",
       "8230  NORTHERN REGION      WEST MAMPRUSI  2017  CASSAVA   1,100.00   \n",
       "8231  NORTHERN REGION  MAMPRUGU MOAGDURI  2017  CASSAVA        900   \n",
       "8232  NORTHERN REGION              YENDI  2017  CASSAVA   4,790.00   \n",
       "8233  NORTHERN REGION               MION  2017  CASSAVA   3,831.00   \n",
       "8234  NORTHERN REGION     TATALE SANGULI  2017  CASSAVA   5,192.00   \n",
       "8235  NORTHERN REGION            ZABZUGU  2017  CASSAVA   4,612.00   \n",
       "\n",
       "     YIELD (MT/HA) PRODUCTION (MT)  \n",
       "8223         14.24       17,913.92  \n",
       "8224          6.96       10,908.55  \n",
       "8225          6.96        2,408.16  \n",
       "8226         13.71       64,957.98  \n",
       "8227             9        9,000.00  \n",
       "8228          25.6      360,960.00  \n",
       "8229            13       11,050.00  \n",
       "8230             5        5,500.00  \n",
       "8231          7.95        7,155.00  \n",
       "8232         13.59       65,096.10  \n",
       "8233          6.96       26,663.76  \n",
       "8234         13.85       71,909.20  \n",
       "8235         13.85       63,876.20  "
      ]
     },
     "execution_count": 20,
     "metadata": {},
     "output_type": "execute_result"
    }
   ],
   "source": [
    "# get first/last 13 rows\n",
    "pro_est_df.tail(13)"
   ]
  },
  {
   "cell_type": "code",
   "execution_count": 21,
   "id": "dc895a23",
   "metadata": {},
   "outputs": [
    {
     "data": {
      "text/plain": [
       "Index(['REGION', 'DISTRICT', 'YEAR', 'CROP', 'AREA (HA)', 'YIELD (MT/HA)',\n",
       "       'PRODUCTION (MT)'],\n",
       "      dtype='object')"
      ]
     },
     "execution_count": 21,
     "metadata": {},
     "output_type": "execute_result"
    }
   ],
   "source": [
    "pro_est_df.columns"
   ]
  },
  {
   "cell_type": "code",
   "execution_count": 22,
   "id": "30065cb8",
   "metadata": {
    "scrolled": true
   },
   "outputs": [
    {
     "data": {
      "text/html": [
       "<div>\n",
       "<style scoped>\n",
       "    .dataframe tbody tr th:only-of-type {\n",
       "        vertical-align: middle;\n",
       "    }\n",
       "\n",
       "    .dataframe tbody tr th {\n",
       "        vertical-align: top;\n",
       "    }\n",
       "\n",
       "    .dataframe thead th {\n",
       "        text-align: right;\n",
       "    }\n",
       "</style>\n",
       "<table border=\"1\" class=\"dataframe\">\n",
       "  <thead>\n",
       "    <tr style=\"text-align: right;\">\n",
       "      <th></th>\n",
       "      <th>YEAR</th>\n",
       "      <th>AREA (HA)</th>\n",
       "      <th>YIELD (MT/HA)</th>\n",
       "      <th>PRODUCTION (MT)</th>\n",
       "    </tr>\n",
       "  </thead>\n",
       "  <tbody>\n",
       "    <tr>\n",
       "      <th>0</th>\n",
       "      <td>2008</td>\n",
       "      <td>1,099.00</td>\n",
       "      <td>1.15</td>\n",
       "      <td>1,263.85</td>\n",
       "    </tr>\n",
       "    <tr>\n",
       "      <th>1</th>\n",
       "      <td>2008</td>\n",
       "      <td>1,433.00</td>\n",
       "      <td>1.19</td>\n",
       "      <td>1,705.27</td>\n",
       "    </tr>\n",
       "    <tr>\n",
       "      <th>2</th>\n",
       "      <td>2008</td>\n",
       "      <td>2,034.00</td>\n",
       "      <td>1.32</td>\n",
       "      <td>2,684.88</td>\n",
       "    </tr>\n",
       "    <tr>\n",
       "      <th>3</th>\n",
       "      <td>2008</td>\n",
       "      <td>2,204.00</td>\n",
       "      <td>1.2</td>\n",
       "      <td>2,644.80</td>\n",
       "    </tr>\n",
       "    <tr>\n",
       "      <th>4</th>\n",
       "      <td>2008</td>\n",
       "      <td>1,550.00</td>\n",
       "      <td>1.38</td>\n",
       "      <td>2,139.00</td>\n",
       "    </tr>\n",
       "    <tr>\n",
       "      <th>...</th>\n",
       "      <td>...</td>\n",
       "      <td>...</td>\n",
       "      <td>...</td>\n",
       "      <td>...</td>\n",
       "    </tr>\n",
       "    <tr>\n",
       "      <th>8231</th>\n",
       "      <td>2017</td>\n",
       "      <td>900</td>\n",
       "      <td>7.95</td>\n",
       "      <td>7,155.00</td>\n",
       "    </tr>\n",
       "    <tr>\n",
       "      <th>8232</th>\n",
       "      <td>2017</td>\n",
       "      <td>4,790.00</td>\n",
       "      <td>13.59</td>\n",
       "      <td>65,096.10</td>\n",
       "    </tr>\n",
       "    <tr>\n",
       "      <th>8233</th>\n",
       "      <td>2017</td>\n",
       "      <td>3,831.00</td>\n",
       "      <td>6.96</td>\n",
       "      <td>26,663.76</td>\n",
       "    </tr>\n",
       "    <tr>\n",
       "      <th>8234</th>\n",
       "      <td>2017</td>\n",
       "      <td>5,192.00</td>\n",
       "      <td>13.85</td>\n",
       "      <td>71,909.20</td>\n",
       "    </tr>\n",
       "    <tr>\n",
       "      <th>8235</th>\n",
       "      <td>2017</td>\n",
       "      <td>4,612.00</td>\n",
       "      <td>13.85</td>\n",
       "      <td>63,876.20</td>\n",
       "    </tr>\n",
       "  </tbody>\n",
       "</table>\n",
       "<p>8236 rows × 4 columns</p>\n",
       "</div>"
      ],
      "text/plain": [
       "      YEAR AREA (HA) YIELD (MT/HA) PRODUCTION (MT)\n",
       "0     2008  1,099.00          1.15        1,263.85\n",
       "1     2008  1,433.00          1.19        1,705.27\n",
       "2     2008  2,034.00          1.32        2,684.88\n",
       "3     2008  2,204.00           1.2        2,644.80\n",
       "4     2008  1,550.00          1.38        2,139.00\n",
       "...    ...       ...           ...             ...\n",
       "8231  2017       900          7.95        7,155.00\n",
       "8232  2017  4,790.00         13.59       65,096.10\n",
       "8233  2017  3,831.00          6.96       26,663.76\n",
       "8234  2017  5,192.00         13.85       71,909.20\n",
       "8235  2017  4,612.00         13.85       63,876.20\n",
       "\n",
       "[8236 rows x 4 columns]"
      ]
     },
     "execution_count": 22,
     "metadata": {},
     "output_type": "execute_result"
    }
   ],
   "source": [
    "# get fraction of all columns\n",
    "pro_est_df[[ 'YEAR', 'AREA (HA)', 'YIELD (MT/HA)','PRODUCTION (MT)']]"
   ]
  },
  {
   "cell_type": "code",
   "execution_count": 23,
   "id": "6610f43f",
   "metadata": {},
   "outputs": [
    {
     "data": {
      "text/html": [
       "<div>\n",
       "<style scoped>\n",
       "    .dataframe tbody tr th:only-of-type {\n",
       "        vertical-align: middle;\n",
       "    }\n",
       "\n",
       "    .dataframe tbody tr th {\n",
       "        vertical-align: top;\n",
       "    }\n",
       "\n",
       "    .dataframe thead th {\n",
       "        text-align: right;\n",
       "    }\n",
       "</style>\n",
       "<table border=\"1\" class=\"dataframe\">\n",
       "  <thead>\n",
       "    <tr style=\"text-align: right;\">\n",
       "      <th></th>\n",
       "      <th>YEAR</th>\n",
       "    </tr>\n",
       "  </thead>\n",
       "  <tbody>\n",
       "    <tr>\n",
       "      <th>count</th>\n",
       "      <td>8236.000000</td>\n",
       "    </tr>\n",
       "    <tr>\n",
       "      <th>mean</th>\n",
       "      <td>2012.969888</td>\n",
       "    </tr>\n",
       "    <tr>\n",
       "      <th>std</th>\n",
       "      <td>2.864953</td>\n",
       "    </tr>\n",
       "    <tr>\n",
       "      <th>min</th>\n",
       "      <td>2008.000000</td>\n",
       "    </tr>\n",
       "    <tr>\n",
       "      <th>25%</th>\n",
       "      <td>2011.000000</td>\n",
       "    </tr>\n",
       "    <tr>\n",
       "      <th>50%</th>\n",
       "      <td>2013.000000</td>\n",
       "    </tr>\n",
       "    <tr>\n",
       "      <th>75%</th>\n",
       "      <td>2016.000000</td>\n",
       "    </tr>\n",
       "    <tr>\n",
       "      <th>max</th>\n",
       "      <td>2017.000000</td>\n",
       "    </tr>\n",
       "  </tbody>\n",
       "</table>\n",
       "</div>"
      ],
      "text/plain": [
       "              YEAR\n",
       "count  8236.000000\n",
       "mean   2012.969888\n",
       "std       2.864953\n",
       "min    2008.000000\n",
       "25%    2011.000000\n",
       "50%    2013.000000\n",
       "75%    2016.000000\n",
       "max    2017.000000"
      ]
     },
     "execution_count": 23,
     "metadata": {},
     "output_type": "execute_result"
    }
   ],
   "source": [
    "# get descriptive statistics\n",
    "pro_est_df.describe()"
   ]
  },
  {
   "cell_type": "code",
   "execution_count": 24,
   "id": "3ae0a6c2",
   "metadata": {},
   "outputs": [
    {
     "data": {
      "text/html": [
       "<div>\n",
       "<style scoped>\n",
       "    .dataframe tbody tr th:only-of-type {\n",
       "        vertical-align: middle;\n",
       "    }\n",
       "\n",
       "    .dataframe tbody tr th {\n",
       "        vertical-align: top;\n",
       "    }\n",
       "\n",
       "    .dataframe thead th {\n",
       "        text-align: right;\n",
       "    }\n",
       "</style>\n",
       "<table border=\"1\" class=\"dataframe\">\n",
       "  <thead>\n",
       "    <tr style=\"text-align: right;\">\n",
       "      <th></th>\n",
       "      <th>Students</th>\n",
       "      <th>Height</th>\n",
       "      <th>Fav_color</th>\n",
       "      <th>Salary()</th>\n",
       "    </tr>\n",
       "  </thead>\n",
       "  <tbody>\n",
       "    <tr>\n",
       "      <th>0</th>\n",
       "      <td>Akwasi</td>\n",
       "      <td>184</td>\n",
       "      <td>Black</td>\n",
       "      <td>70000</td>\n",
       "    </tr>\n",
       "    <tr>\n",
       "      <th>1</th>\n",
       "      <td>Franklin</td>\n",
       "      <td>175</td>\n",
       "      <td>Burgundy</td>\n",
       "      <td>20000</td>\n",
       "    </tr>\n",
       "    <tr>\n",
       "      <th>2</th>\n",
       "      <td>Nashirat</td>\n",
       "      <td>178</td>\n",
       "      <td>Purple</td>\n",
       "      <td>70000</td>\n",
       "    </tr>\n",
       "    <tr>\n",
       "      <th>3</th>\n",
       "      <td>Irene</td>\n",
       "      <td>188</td>\n",
       "      <td>Green</td>\n",
       "      <td>70000</td>\n",
       "    </tr>\n",
       "    <tr>\n",
       "      <th>4</th>\n",
       "      <td>Amma</td>\n",
       "      <td>182</td>\n",
       "      <td>Pink</td>\n",
       "      <td>70000</td>\n",
       "    </tr>\n",
       "    <tr>\n",
       "      <th>5</th>\n",
       "      <td>Fauzia</td>\n",
       "      <td>186</td>\n",
       "      <td>Yellow</td>\n",
       "      <td>70000</td>\n",
       "    </tr>\n",
       "  </tbody>\n",
       "</table>\n",
       "</div>"
      ],
      "text/plain": [
       "   Students  Height Fav_color  Salary()\n",
       "0    Akwasi     184     Black     70000\n",
       "1  Franklin     175  Burgundy     20000\n",
       "2  Nashirat     178    Purple     70000\n",
       "3     Irene     188     Green     70000\n",
       "4      Amma     182      Pink     70000\n",
       "5    Fauzia     186    Yellow     70000"
      ]
     },
     "execution_count": 24,
     "metadata": {},
     "output_type": "execute_result"
    }
   ],
   "source": [
    "data = pd.read_excel('excel_data.xlsx')\n",
    "data"
   ]
  },
  {
   "cell_type": "code",
   "execution_count": 25,
   "id": "b0804da9",
   "metadata": {},
   "outputs": [
    {
     "name": "stdout",
     "output_type": "stream",
     "text": [
      "<class 'pandas.core.frame.DataFrame'>\n",
      "RangeIndex: 6 entries, 0 to 5\n",
      "Data columns (total 4 columns):\n",
      " #   Column     Non-Null Count  Dtype \n",
      "---  ------     --------------  ----- \n",
      " 0   Students   6 non-null      object\n",
      " 1   Height     6 non-null      int64 \n",
      " 2   Fav_color  6 non-null      object\n",
      " 3   Salary()   6 non-null      int64 \n",
      "dtypes: int64(2), object(2)\n",
      "memory usage: 320.0+ bytes\n"
     ]
    }
   ],
   "source": [
    "data.info()"
   ]
  },
  {
   "cell_type": "code",
   "execution_count": 26,
   "id": "ff5077e6",
   "metadata": {
    "scrolled": true
   },
   "outputs": [
    {
     "data": {
      "text/html": [
       "<div>\n",
       "<style scoped>\n",
       "    .dataframe tbody tr th:only-of-type {\n",
       "        vertical-align: middle;\n",
       "    }\n",
       "\n",
       "    .dataframe tbody tr th {\n",
       "        vertical-align: top;\n",
       "    }\n",
       "\n",
       "    .dataframe thead th {\n",
       "        text-align: right;\n",
       "    }\n",
       "</style>\n",
       "<table border=\"1\" class=\"dataframe\">\n",
       "  <thead>\n",
       "    <tr style=\"text-align: right;\">\n",
       "      <th></th>\n",
       "      <th>Height</th>\n",
       "      <th>Salary()</th>\n",
       "    </tr>\n",
       "  </thead>\n",
       "  <tbody>\n",
       "    <tr>\n",
       "      <th>count</th>\n",
       "      <td>6.000000</td>\n",
       "      <td>6.000000</td>\n",
       "    </tr>\n",
       "    <tr>\n",
       "      <th>mean</th>\n",
       "      <td>182.166667</td>\n",
       "      <td>61666.666667</td>\n",
       "    </tr>\n",
       "    <tr>\n",
       "      <th>std</th>\n",
       "      <td>4.915960</td>\n",
       "      <td>20412.414523</td>\n",
       "    </tr>\n",
       "    <tr>\n",
       "      <th>min</th>\n",
       "      <td>175.000000</td>\n",
       "      <td>20000.000000</td>\n",
       "    </tr>\n",
       "    <tr>\n",
       "      <th>25%</th>\n",
       "      <td>179.000000</td>\n",
       "      <td>70000.000000</td>\n",
       "    </tr>\n",
       "    <tr>\n",
       "      <th>50%</th>\n",
       "      <td>183.000000</td>\n",
       "      <td>70000.000000</td>\n",
       "    </tr>\n",
       "    <tr>\n",
       "      <th>75%</th>\n",
       "      <td>185.500000</td>\n",
       "      <td>70000.000000</td>\n",
       "    </tr>\n",
       "    <tr>\n",
       "      <th>max</th>\n",
       "      <td>188.000000</td>\n",
       "      <td>70000.000000</td>\n",
       "    </tr>\n",
       "  </tbody>\n",
       "</table>\n",
       "</div>"
      ],
      "text/plain": [
       "           Height      Salary()\n",
       "count    6.000000      6.000000\n",
       "mean   182.166667  61666.666667\n",
       "std      4.915960  20412.414523\n",
       "min    175.000000  20000.000000\n",
       "25%    179.000000  70000.000000\n",
       "50%    183.000000  70000.000000\n",
       "75%    185.500000  70000.000000\n",
       "max    188.000000  70000.000000"
      ]
     },
     "execution_count": 26,
     "metadata": {},
     "output_type": "execute_result"
    }
   ],
   "source": [
    "data.describe()"
   ]
  },
  {
   "cell_type": "code",
   "execution_count": 27,
   "id": "58754e57",
   "metadata": {},
   "outputs": [
    {
     "data": {
      "text/plain": [
       "182.16666666666666"
      ]
     },
     "execution_count": 27,
     "metadata": {},
     "output_type": "execute_result"
    }
   ],
   "source": [
    "data.Height.mean()"
   ]
  },
  {
   "cell_type": "code",
   "execution_count": 28,
   "id": "1698669b",
   "metadata": {},
   "outputs": [
    {
     "data": {
      "text/plain": [
       "175"
      ]
     },
     "execution_count": 28,
     "metadata": {},
     "output_type": "execute_result"
    }
   ],
   "source": [
    "data.Height.min()"
   ]
  },
  {
   "cell_type": "code",
   "execution_count": 29,
   "id": "5da494a6",
   "metadata": {},
   "outputs": [
    {
     "data": {
      "text/plain": [
       "188"
      ]
     },
     "execution_count": 29,
     "metadata": {},
     "output_type": "execute_result"
    }
   ],
   "source": [
    "data.Height.max()"
   ]
  },
  {
   "cell_type": "code",
   "execution_count": 30,
   "id": "adade8e5",
   "metadata": {},
   "outputs": [
    {
     "data": {
      "text/plain": [
       "182.16666666666666"
      ]
     },
     "execution_count": 30,
     "metadata": {},
     "output_type": "execute_result"
    }
   ],
   "source": [
    "data.Height.mean()"
   ]
  },
  {
   "cell_type": "code",
   "execution_count": 31,
   "id": "f0448366",
   "metadata": {},
   "outputs": [
    {
     "data": {
      "text/plain": [
       "4.915960401250875"
      ]
     },
     "execution_count": 31,
     "metadata": {},
     "output_type": "execute_result"
    }
   ],
   "source": [
    "data.Height.std()"
   ]
  },
  {
   "cell_type": "code",
   "execution_count": 32,
   "id": "3365c9d4",
   "metadata": {
    "scrolled": true
   },
   "outputs": [
    {
     "data": {
      "text/html": [
       "<div>\n",
       "<style scoped>\n",
       "    .dataframe tbody tr th:only-of-type {\n",
       "        vertical-align: middle;\n",
       "    }\n",
       "\n",
       "    .dataframe tbody tr th {\n",
       "        vertical-align: top;\n",
       "    }\n",
       "\n",
       "    .dataframe thead th {\n",
       "        text-align: right;\n",
       "    }\n",
       "</style>\n",
       "<table border=\"1\" class=\"dataframe\">\n",
       "  <thead>\n",
       "    <tr style=\"text-align: right;\">\n",
       "      <th></th>\n",
       "      <th>Students</th>\n",
       "      <th>Height</th>\n",
       "      <th>Fav_color</th>\n",
       "      <th>Salary()</th>\n",
       "    </tr>\n",
       "  </thead>\n",
       "  <tbody>\n",
       "    <tr>\n",
       "      <th>0</th>\n",
       "      <td>Akwasi</td>\n",
       "      <td>184</td>\n",
       "      <td>Black</td>\n",
       "      <td>70000</td>\n",
       "    </tr>\n",
       "    <tr>\n",
       "      <th>3</th>\n",
       "      <td>Irene</td>\n",
       "      <td>188</td>\n",
       "      <td>Green</td>\n",
       "      <td>70000</td>\n",
       "    </tr>\n",
       "    <tr>\n",
       "      <th>5</th>\n",
       "      <td>Fauzia</td>\n",
       "      <td>186</td>\n",
       "      <td>Yellow</td>\n",
       "      <td>70000</td>\n",
       "    </tr>\n",
       "  </tbody>\n",
       "</table>\n",
       "</div>"
      ],
      "text/plain": [
       "  Students  Height Fav_color  Salary()\n",
       "0   Akwasi     184     Black     70000\n",
       "3    Irene     188     Green     70000\n",
       "5   Fauzia     186    Yellow     70000"
      ]
     },
     "execution_count": 32,
     "metadata": {},
     "output_type": "execute_result"
    }
   ],
   "source": [
    "# get a dataframe using a condition\n",
    "data[data['Height'] > data.Height.mean() ]"
   ]
  },
  {
   "cell_type": "code",
   "execution_count": 33,
   "id": "248ff514",
   "metadata": {},
   "outputs": [
    {
     "data": {
      "text/plain": [
       "182.16666666666666"
      ]
     },
     "execution_count": 33,
     "metadata": {},
     "output_type": "execute_result"
    }
   ],
   "source": [
    "data.Height.mean()"
   ]
  },
  {
   "cell_type": "code",
   "execution_count": 34,
   "id": "d296813d",
   "metadata": {},
   "outputs": [
    {
     "data": {
      "text/plain": [
       "Index(['Students', 'Height', 'Fav_color', 'Salary()'], dtype='object')"
      ]
     },
     "execution_count": 34,
     "metadata": {},
     "output_type": "execute_result"
    }
   ],
   "source": [
    "data.columns"
   ]
  },
  {
   "cell_type": "code",
   "execution_count": 35,
   "id": "20993ad3",
   "metadata": {},
   "outputs": [
    {
     "data": {
      "text/html": [
       "<div>\n",
       "<style scoped>\n",
       "    .dataframe tbody tr th:only-of-type {\n",
       "        vertical-align: middle;\n",
       "    }\n",
       "\n",
       "    .dataframe tbody tr th {\n",
       "        vertical-align: top;\n",
       "    }\n",
       "\n",
       "    .dataframe thead th {\n",
       "        text-align: right;\n",
       "    }\n",
       "</style>\n",
       "<table border=\"1\" class=\"dataframe\">\n",
       "  <thead>\n",
       "    <tr style=\"text-align: right;\">\n",
       "      <th></th>\n",
       "      <th>Students</th>\n",
       "      <th>Height</th>\n",
       "      <th>Fav_color</th>\n",
       "      <th>Salary()</th>\n",
       "    </tr>\n",
       "  </thead>\n",
       "  <tbody>\n",
       "    <tr>\n",
       "      <th>1</th>\n",
       "      <td>Franklin</td>\n",
       "      <td>175</td>\n",
       "      <td>Burgundy</td>\n",
       "      <td>20000</td>\n",
       "    </tr>\n",
       "    <tr>\n",
       "      <th>2</th>\n",
       "      <td>Nashirat</td>\n",
       "      <td>178</td>\n",
       "      <td>Purple</td>\n",
       "      <td>70000</td>\n",
       "    </tr>\n",
       "  </tbody>\n",
       "</table>\n",
       "</div>"
      ],
      "text/plain": [
       "   Students  Height Fav_color  Salary()\n",
       "1  Franklin     175  Burgundy     20000\n",
       "2  Nashirat     178    Purple     70000"
      ]
     },
     "execution_count": 35,
     "metadata": {},
     "output_type": "execute_result"
    }
   ],
   "source": [
    "data[(data['Height'] < 180) | (data['Salary()'] == 30000)]"
   ]
  },
  {
   "cell_type": "code",
   "execution_count": 36,
   "id": "1d771d6f",
   "metadata": {},
   "outputs": [
    {
     "data": {
      "text/plain": [
       "Index(['Students', 'Height', 'Fav_color', 'Salary()'], dtype='object')"
      ]
     },
     "execution_count": 36,
     "metadata": {},
     "output_type": "execute_result"
    }
   ],
   "source": [
    "data.columns"
   ]
  },
  {
   "cell_type": "code",
   "execution_count": 37,
   "id": "ce899875",
   "metadata": {},
   "outputs": [
    {
     "data": {
      "text/html": [
       "<div>\n",
       "<style scoped>\n",
       "    .dataframe tbody tr th:only-of-type {\n",
       "        vertical-align: middle;\n",
       "    }\n",
       "\n",
       "    .dataframe tbody tr th {\n",
       "        vertical-align: top;\n",
       "    }\n",
       "\n",
       "    .dataframe thead th {\n",
       "        text-align: right;\n",
       "    }\n",
       "</style>\n",
       "<table border=\"1\" class=\"dataframe\">\n",
       "  <thead>\n",
       "    <tr style=\"text-align: right;\">\n",
       "      <th></th>\n",
       "      <th>Students</th>\n",
       "      <th>Height</th>\n",
       "      <th>Fav_color</th>\n",
       "      <th>Salary()</th>\n",
       "    </tr>\n",
       "  </thead>\n",
       "  <tbody>\n",
       "    <tr>\n",
       "      <th>0</th>\n",
       "      <td>Akwasi</td>\n",
       "      <td>184</td>\n",
       "      <td>Black</td>\n",
       "      <td>70000</td>\n",
       "    </tr>\n",
       "    <tr>\n",
       "      <th>1</th>\n",
       "      <td>Franklin</td>\n",
       "      <td>175</td>\n",
       "      <td>Burgundy</td>\n",
       "      <td>20000</td>\n",
       "    </tr>\n",
       "    <tr>\n",
       "      <th>2</th>\n",
       "      <td>Nashirat</td>\n",
       "      <td>178</td>\n",
       "      <td>Purple</td>\n",
       "      <td>70000</td>\n",
       "    </tr>\n",
       "    <tr>\n",
       "      <th>3</th>\n",
       "      <td>Irene</td>\n",
       "      <td>188</td>\n",
       "      <td>Green</td>\n",
       "      <td>70000</td>\n",
       "    </tr>\n",
       "    <tr>\n",
       "      <th>4</th>\n",
       "      <td>Amma</td>\n",
       "      <td>182</td>\n",
       "      <td>Pink</td>\n",
       "      <td>70000</td>\n",
       "    </tr>\n",
       "    <tr>\n",
       "      <th>5</th>\n",
       "      <td>Fauzia</td>\n",
       "      <td>186</td>\n",
       "      <td>Yellow</td>\n",
       "      <td>70000</td>\n",
       "    </tr>\n",
       "  </tbody>\n",
       "</table>\n",
       "</div>"
      ],
      "text/plain": [
       "   Students  Height Fav_color  Salary()\n",
       "0    Akwasi     184     Black     70000\n",
       "1  Franklin     175  Burgundy     20000\n",
       "2  Nashirat     178    Purple     70000\n",
       "3     Irene     188     Green     70000\n",
       "4      Amma     182      Pink     70000\n",
       "5    Fauzia     186    Yellow     70000"
      ]
     },
     "execution_count": 37,
     "metadata": {},
     "output_type": "execute_result"
    }
   ],
   "source": [
    "data"
   ]
  },
  {
   "cell_type": "code",
   "execution_count": 38,
   "id": "4f35230e",
   "metadata": {},
   "outputs": [
    {
     "data": {
      "text/html": [
       "<div>\n",
       "<style scoped>\n",
       "    .dataframe tbody tr th:only-of-type {\n",
       "        vertical-align: middle;\n",
       "    }\n",
       "\n",
       "    .dataframe tbody tr th {\n",
       "        vertical-align: top;\n",
       "    }\n",
       "\n",
       "    .dataframe thead th {\n",
       "        text-align: right;\n",
       "    }\n",
       "</style>\n",
       "<table border=\"1\" class=\"dataframe\">\n",
       "  <thead>\n",
       "    <tr style=\"text-align: right;\">\n",
       "      <th></th>\n",
       "      <th>Students</th>\n",
       "      <th>Height</th>\n",
       "      <th>Fav_color</th>\n",
       "      <th>Salary()</th>\n",
       "    </tr>\n",
       "  </thead>\n",
       "  <tbody>\n",
       "    <tr>\n",
       "      <th>0</th>\n",
       "      <td>Akwasi</td>\n",
       "      <td>184</td>\n",
       "      <td>Black</td>\n",
       "      <td>70000</td>\n",
       "    </tr>\n",
       "    <tr>\n",
       "      <th>1</th>\n",
       "      <td>Franklin</td>\n",
       "      <td>175</td>\n",
       "      <td>Burgundy</td>\n",
       "      <td>20000</td>\n",
       "    </tr>\n",
       "  </tbody>\n",
       "</table>\n",
       "</div>"
      ],
      "text/plain": [
       "   Students  Height Fav_color  Salary()\n",
       "0    Akwasi     184     Black     70000\n",
       "1  Franklin     175  Burgundy     20000"
      ]
     },
     "execution_count": 38,
     "metadata": {},
     "output_type": "execute_result"
    }
   ],
   "source": [
    "# finding a wording in a column\n",
    "data[data['Fav_color'].str.contains('B')]"
   ]
  },
  {
   "cell_type": "code",
   "execution_count": 39,
   "id": "c64e43b0",
   "metadata": {},
   "outputs": [
    {
     "data": {
      "text/html": [
       "<div>\n",
       "<style scoped>\n",
       "    .dataframe tbody tr th:only-of-type {\n",
       "        vertical-align: middle;\n",
       "    }\n",
       "\n",
       "    .dataframe tbody tr th {\n",
       "        vertical-align: top;\n",
       "    }\n",
       "\n",
       "    .dataframe thead th {\n",
       "        text-align: right;\n",
       "    }\n",
       "</style>\n",
       "<table border=\"1\" class=\"dataframe\">\n",
       "  <thead>\n",
       "    <tr style=\"text-align: right;\">\n",
       "      <th></th>\n",
       "      <th>Students</th>\n",
       "      <th>Height</th>\n",
       "      <th>Fav_color</th>\n",
       "      <th>Salary()</th>\n",
       "    </tr>\n",
       "  </thead>\n",
       "  <tbody>\n",
       "    <tr>\n",
       "      <th>2</th>\n",
       "      <td>Nashirat</td>\n",
       "      <td>178</td>\n",
       "      <td>Purple</td>\n",
       "      <td>70000</td>\n",
       "    </tr>\n",
       "    <tr>\n",
       "      <th>3</th>\n",
       "      <td>Irene</td>\n",
       "      <td>188</td>\n",
       "      <td>Green</td>\n",
       "      <td>70000</td>\n",
       "    </tr>\n",
       "    <tr>\n",
       "      <th>5</th>\n",
       "      <td>Fauzia</td>\n",
       "      <td>186</td>\n",
       "      <td>Yellow</td>\n",
       "      <td>70000</td>\n",
       "    </tr>\n",
       "  </tbody>\n",
       "</table>\n",
       "</div>"
      ],
      "text/plain": [
       "   Students  Height Fav_color  Salary()\n",
       "2  Nashirat     178    Purple     70000\n",
       "3     Irene     188     Green     70000\n",
       "5    Fauzia     186    Yellow     70000"
      ]
     },
     "execution_count": 39,
     "metadata": {},
     "output_type": "execute_result"
    }
   ],
   "source": [
    "data[data['Fav_color'].str.contains('e')]"
   ]
  },
  {
   "cell_type": "code",
   "execution_count": 40,
   "id": "35c04a6b",
   "metadata": {},
   "outputs": [],
   "source": [
    "## add tiems to the a specific column\n",
    "#general method\n",
    "data['Fav_color'] = data['Fav_color'] + ' color' "
   ]
  },
  {
   "cell_type": "code",
   "execution_count": 41,
   "id": "b1937958",
   "metadata": {},
   "outputs": [
    {
     "data": {
      "text/html": [
       "<div>\n",
       "<style scoped>\n",
       "    .dataframe tbody tr th:only-of-type {\n",
       "        vertical-align: middle;\n",
       "    }\n",
       "\n",
       "    .dataframe tbody tr th {\n",
       "        vertical-align: top;\n",
       "    }\n",
       "\n",
       "    .dataframe thead th {\n",
       "        text-align: right;\n",
       "    }\n",
       "</style>\n",
       "<table border=\"1\" class=\"dataframe\">\n",
       "  <thead>\n",
       "    <tr style=\"text-align: right;\">\n",
       "      <th></th>\n",
       "      <th>Students</th>\n",
       "      <th>Height</th>\n",
       "      <th>Fav_color</th>\n",
       "      <th>Salary()</th>\n",
       "    </tr>\n",
       "  </thead>\n",
       "  <tbody>\n",
       "    <tr>\n",
       "      <th>0</th>\n",
       "      <td>Akwasi</td>\n",
       "      <td>184</td>\n",
       "      <td>Black color</td>\n",
       "      <td>70000</td>\n",
       "    </tr>\n",
       "    <tr>\n",
       "      <th>1</th>\n",
       "      <td>Franklin</td>\n",
       "      <td>175</td>\n",
       "      <td>Burgundy color</td>\n",
       "      <td>20000</td>\n",
       "    </tr>\n",
       "    <tr>\n",
       "      <th>2</th>\n",
       "      <td>Nashirat</td>\n",
       "      <td>178</td>\n",
       "      <td>Purple color</td>\n",
       "      <td>70000</td>\n",
       "    </tr>\n",
       "    <tr>\n",
       "      <th>3</th>\n",
       "      <td>Irene</td>\n",
       "      <td>188</td>\n",
       "      <td>Green color</td>\n",
       "      <td>70000</td>\n",
       "    </tr>\n",
       "    <tr>\n",
       "      <th>4</th>\n",
       "      <td>Amma</td>\n",
       "      <td>182</td>\n",
       "      <td>Pink color</td>\n",
       "      <td>70000</td>\n",
       "    </tr>\n",
       "    <tr>\n",
       "      <th>5</th>\n",
       "      <td>Fauzia</td>\n",
       "      <td>186</td>\n",
       "      <td>Yellow color</td>\n",
       "      <td>70000</td>\n",
       "    </tr>\n",
       "  </tbody>\n",
       "</table>\n",
       "</div>"
      ],
      "text/plain": [
       "   Students  Height       Fav_color  Salary()\n",
       "0    Akwasi     184     Black color     70000\n",
       "1  Franklin     175  Burgundy color     20000\n",
       "2  Nashirat     178    Purple color     70000\n",
       "3     Irene     188     Green color     70000\n",
       "4      Amma     182      Pink color     70000\n",
       "5    Fauzia     186    Yellow color     70000"
      ]
     },
     "execution_count": 41,
     "metadata": {},
     "output_type": "execute_result"
    }
   ],
   "source": [
    "data"
   ]
  },
  {
   "cell_type": "code",
   "execution_count": 42,
   "id": "42dcc1c5",
   "metadata": {},
   "outputs": [],
   "source": [
    "data['Students'] = 'Dr. ' + data['Students'] "
   ]
  },
  {
   "cell_type": "code",
   "execution_count": 43,
   "id": "a070f2ab",
   "metadata": {},
   "outputs": [],
   "source": [
    "data['Salary()'] = 200 + data['Salary()'] "
   ]
  },
  {
   "cell_type": "code",
   "execution_count": 44,
   "id": "fc484593",
   "metadata": {},
   "outputs": [],
   "source": [
    "## add tiems to the a specific column\n",
    "#general method\n",
    "data['Fav_color'] = '¢ '+ data['Fav_color']"
   ]
  },
  {
   "cell_type": "code",
   "execution_count": 45,
   "id": "cb7aeb8e",
   "metadata": {},
   "outputs": [
    {
     "data": {
      "text/html": [
       "<div>\n",
       "<style scoped>\n",
       "    .dataframe tbody tr th:only-of-type {\n",
       "        vertical-align: middle;\n",
       "    }\n",
       "\n",
       "    .dataframe tbody tr th {\n",
       "        vertical-align: top;\n",
       "    }\n",
       "\n",
       "    .dataframe thead th {\n",
       "        text-align: right;\n",
       "    }\n",
       "</style>\n",
       "<table border=\"1\" class=\"dataframe\">\n",
       "  <thead>\n",
       "    <tr style=\"text-align: right;\">\n",
       "      <th></th>\n",
       "      <th>Students</th>\n",
       "      <th>Height</th>\n",
       "      <th>Fav_color</th>\n",
       "      <th>Salary()</th>\n",
       "    </tr>\n",
       "  </thead>\n",
       "  <tbody>\n",
       "    <tr>\n",
       "      <th>0</th>\n",
       "      <td>Dr. Akwasi</td>\n",
       "      <td>184</td>\n",
       "      <td>¢ Black color</td>\n",
       "      <td>70200</td>\n",
       "    </tr>\n",
       "    <tr>\n",
       "      <th>1</th>\n",
       "      <td>Dr. Franklin</td>\n",
       "      <td>175</td>\n",
       "      <td>¢ Burgundy color</td>\n",
       "      <td>20200</td>\n",
       "    </tr>\n",
       "    <tr>\n",
       "      <th>2</th>\n",
       "      <td>Dr. Nashirat</td>\n",
       "      <td>178</td>\n",
       "      <td>¢ Purple color</td>\n",
       "      <td>70200</td>\n",
       "    </tr>\n",
       "    <tr>\n",
       "      <th>3</th>\n",
       "      <td>Dr. Irene</td>\n",
       "      <td>188</td>\n",
       "      <td>¢ Green color</td>\n",
       "      <td>70200</td>\n",
       "    </tr>\n",
       "    <tr>\n",
       "      <th>4</th>\n",
       "      <td>Dr. Amma</td>\n",
       "      <td>182</td>\n",
       "      <td>¢ Pink color</td>\n",
       "      <td>70200</td>\n",
       "    </tr>\n",
       "    <tr>\n",
       "      <th>5</th>\n",
       "      <td>Dr. Fauzia</td>\n",
       "      <td>186</td>\n",
       "      <td>¢ Yellow color</td>\n",
       "      <td>70200</td>\n",
       "    </tr>\n",
       "  </tbody>\n",
       "</table>\n",
       "</div>"
      ],
      "text/plain": [
       "       Students  Height         Fav_color  Salary()\n",
       "0    Dr. Akwasi     184     ¢ Black color     70200\n",
       "1  Dr. Franklin     175  ¢ Burgundy color     20200\n",
       "2  Dr. Nashirat     178    ¢ Purple color     70200\n",
       "3     Dr. Irene     188     ¢ Green color     70200\n",
       "4      Dr. Amma     182      ¢ Pink color     70200\n",
       "5    Dr. Fauzia     186    ¢ Yellow color     70200"
      ]
     },
     "execution_count": 45,
     "metadata": {},
     "output_type": "execute_result"
    }
   ],
   "source": [
    "data "
   ]
  },
  {
   "cell_type": "code",
   "execution_count": 46,
   "id": "b3221594",
   "metadata": {},
   "outputs": [],
   "source": [
    "try_data = pd.read_excel(r'C:\\Users\\JB479JV\\OneDrive - EY\\Desktop\\JanBootCamp\\New folder\\try_data.xlsx')"
   ]
  },
  {
   "cell_type": "code",
   "execution_count": 47,
   "id": "efb28431",
   "metadata": {},
   "outputs": [
    {
     "data": {
      "text/html": [
       "<div>\n",
       "<style scoped>\n",
       "    .dataframe tbody tr th:only-of-type {\n",
       "        vertical-align: middle;\n",
       "    }\n",
       "\n",
       "    .dataframe tbody tr th {\n",
       "        vertical-align: top;\n",
       "    }\n",
       "\n",
       "    .dataframe thead th {\n",
       "        text-align: right;\n",
       "    }\n",
       "</style>\n",
       "<table border=\"1\" class=\"dataframe\">\n",
       "  <thead>\n",
       "    <tr style=\"text-align: right;\">\n",
       "      <th></th>\n",
       "      <th>Students</th>\n",
       "      <th>Height</th>\n",
       "      <th>Fav_color</th>\n",
       "      <th>Salary()</th>\n",
       "    </tr>\n",
       "  </thead>\n",
       "  <tbody>\n",
       "    <tr>\n",
       "      <th>0</th>\n",
       "      <td>Akwasi</td>\n",
       "      <td>184</td>\n",
       "      <td>Black</td>\n",
       "      <td>70000</td>\n",
       "    </tr>\n",
       "    <tr>\n",
       "      <th>1</th>\n",
       "      <td>Franklin</td>\n",
       "      <td>175</td>\n",
       "      <td>Burgundy</td>\n",
       "      <td>20000</td>\n",
       "    </tr>\n",
       "    <tr>\n",
       "      <th>2</th>\n",
       "      <td>Nashirat</td>\n",
       "      <td>178</td>\n",
       "      <td>Purple</td>\n",
       "      <td>70000</td>\n",
       "    </tr>\n",
       "    <tr>\n",
       "      <th>3</th>\n",
       "      <td>Irene</td>\n",
       "      <td>188</td>\n",
       "      <td>Green</td>\n",
       "      <td>70000</td>\n",
       "    </tr>\n",
       "    <tr>\n",
       "      <th>4</th>\n",
       "      <td>Amma</td>\n",
       "      <td>182</td>\n",
       "      <td>Pink</td>\n",
       "      <td>70000</td>\n",
       "    </tr>\n",
       "    <tr>\n",
       "      <th>5</th>\n",
       "      <td>Fauzia</td>\n",
       "      <td>186</td>\n",
       "      <td>Yellow</td>\n",
       "      <td>70000</td>\n",
       "    </tr>\n",
       "  </tbody>\n",
       "</table>\n",
       "</div>"
      ],
      "text/plain": [
       "   Students  Height Fav_color  Salary()\n",
       "0    Akwasi     184     Black     70000\n",
       "1  Franklin     175  Burgundy     20000\n",
       "2  Nashirat     178    Purple     70000\n",
       "3     Irene     188     Green     70000\n",
       "4      Amma     182      Pink     70000\n",
       "5    Fauzia     186    Yellow     70000"
      ]
     },
     "execution_count": 47,
     "metadata": {},
     "output_type": "execute_result"
    }
   ],
   "source": [
    "try_data"
   ]
  },
  {
   "cell_type": "code",
   "execution_count": 48,
   "id": "5d60d797",
   "metadata": {},
   "outputs": [],
   "source": [
    "import os"
   ]
  },
  {
   "cell_type": "code",
   "execution_count": 49,
   "id": "f3e6c791",
   "metadata": {},
   "outputs": [
    {
     "data": {
      "text/plain": [
       "'C:\\\\Users\\\\JB479JV\\\\OneDrive - EY\\\\Desktop\\\\JanBootCamp'"
      ]
     },
     "execution_count": 49,
     "metadata": {},
     "output_type": "execute_result"
    }
   ],
   "source": [
    "os.getcwd()"
   ]
  },
  {
   "cell_type": "code",
   "execution_count": 50,
   "id": "90463b41",
   "metadata": {},
   "outputs": [],
   "source": [
    "os.chdir(r'C:\\Users\\JB479JV\\OneDrive - EY\\Desktop\\JanBootCamp')"
   ]
  },
  {
   "cell_type": "code",
   "execution_count": 51,
   "id": "2135429b",
   "metadata": {},
   "outputs": [],
   "source": [
    "# try_data = pd.read_excel('try_data.xlsx')"
   ]
  },
  {
   "cell_type": "code",
   "execution_count": 52,
   "id": "bb941035",
   "metadata": {},
   "outputs": [],
   "source": [
    "## add tiems to the a specific column\n",
    "#function method\n",
    "data['Salary()'] = data.apply(lambda row: math.sqrt(row['Salary()']) if row['Salary()'] > 20000 else row['Salary()'], axis = 1) "
   ]
  },
  {
   "cell_type": "code",
   "execution_count": 53,
   "id": "f75e50d4",
   "metadata": {},
   "outputs": [
    {
     "data": {
      "text/html": [
       "<div>\n",
       "<style scoped>\n",
       "    .dataframe tbody tr th:only-of-type {\n",
       "        vertical-align: middle;\n",
       "    }\n",
       "\n",
       "    .dataframe tbody tr th {\n",
       "        vertical-align: top;\n",
       "    }\n",
       "\n",
       "    .dataframe thead th {\n",
       "        text-align: right;\n",
       "    }\n",
       "</style>\n",
       "<table border=\"1\" class=\"dataframe\">\n",
       "  <thead>\n",
       "    <tr style=\"text-align: right;\">\n",
       "      <th></th>\n",
       "      <th>Students</th>\n",
       "      <th>Height</th>\n",
       "      <th>Fav_color</th>\n",
       "      <th>Salary()</th>\n",
       "    </tr>\n",
       "  </thead>\n",
       "  <tbody>\n",
       "    <tr>\n",
       "      <th>0</th>\n",
       "      <td>Dr. Akwasi</td>\n",
       "      <td>184</td>\n",
       "      <td>¢ Black color</td>\n",
       "      <td>264.952826</td>\n",
       "    </tr>\n",
       "    <tr>\n",
       "      <th>1</th>\n",
       "      <td>Dr. Franklin</td>\n",
       "      <td>175</td>\n",
       "      <td>¢ Burgundy color</td>\n",
       "      <td>142.126704</td>\n",
       "    </tr>\n",
       "    <tr>\n",
       "      <th>2</th>\n",
       "      <td>Dr. Nashirat</td>\n",
       "      <td>178</td>\n",
       "      <td>¢ Purple color</td>\n",
       "      <td>264.952826</td>\n",
       "    </tr>\n",
       "    <tr>\n",
       "      <th>3</th>\n",
       "      <td>Dr. Irene</td>\n",
       "      <td>188</td>\n",
       "      <td>¢ Green color</td>\n",
       "      <td>264.952826</td>\n",
       "    </tr>\n",
       "    <tr>\n",
       "      <th>4</th>\n",
       "      <td>Dr. Amma</td>\n",
       "      <td>182</td>\n",
       "      <td>¢ Pink color</td>\n",
       "      <td>264.952826</td>\n",
       "    </tr>\n",
       "    <tr>\n",
       "      <th>5</th>\n",
       "      <td>Dr. Fauzia</td>\n",
       "      <td>186</td>\n",
       "      <td>¢ Yellow color</td>\n",
       "      <td>264.952826</td>\n",
       "    </tr>\n",
       "  </tbody>\n",
       "</table>\n",
       "</div>"
      ],
      "text/plain": [
       "       Students  Height         Fav_color    Salary()\n",
       "0    Dr. Akwasi     184     ¢ Black color  264.952826\n",
       "1  Dr. Franklin     175  ¢ Burgundy color  142.126704\n",
       "2  Dr. Nashirat     178    ¢ Purple color  264.952826\n",
       "3     Dr. Irene     188     ¢ Green color  264.952826\n",
       "4      Dr. Amma     182      ¢ Pink color  264.952826\n",
       "5    Dr. Fauzia     186    ¢ Yellow color  264.952826"
      ]
     },
     "execution_count": 53,
     "metadata": {},
     "output_type": "execute_result"
    }
   ],
   "source": [
    "data"
   ]
  },
  {
   "cell_type": "code",
   "execution_count": 54,
   "id": "c1629601",
   "metadata": {},
   "outputs": [
    {
     "data": {
      "text/plain": [
       "0     13.564660\n",
       "1    175.000000\n",
       "2    178.000000\n",
       "3     13.711309\n",
       "4     13.490738\n",
       "5     13.638182\n",
       "Name: Height, dtype: float64"
      ]
     },
     "execution_count": 54,
     "metadata": {},
     "output_type": "execute_result"
    }
   ],
   "source": [
    "data['Height'].apply(lambda row: math.sqrt(row) if row > 180 else row) "
   ]
  },
  {
   "cell_type": "code",
   "execution_count": 55,
   "id": "42513e1f",
   "metadata": {},
   "outputs": [
    {
     "data": {
      "text/html": [
       "<div>\n",
       "<style scoped>\n",
       "    .dataframe tbody tr th:only-of-type {\n",
       "        vertical-align: middle;\n",
       "    }\n",
       "\n",
       "    .dataframe tbody tr th {\n",
       "        vertical-align: top;\n",
       "    }\n",
       "\n",
       "    .dataframe thead th {\n",
       "        text-align: right;\n",
       "    }\n",
       "</style>\n",
       "<table border=\"1\" class=\"dataframe\">\n",
       "  <thead>\n",
       "    <tr style=\"text-align: right;\">\n",
       "      <th></th>\n",
       "      <th>Students</th>\n",
       "      <th>Height</th>\n",
       "      <th>Fav_color</th>\n",
       "      <th>Salary()</th>\n",
       "    </tr>\n",
       "  </thead>\n",
       "  <tbody>\n",
       "    <tr>\n",
       "      <th>0</th>\n",
       "      <td>Dr. Akwasi</td>\n",
       "      <td>184</td>\n",
       "      <td>¢ Black color</td>\n",
       "      <td>264.952826</td>\n",
       "    </tr>\n",
       "    <tr>\n",
       "      <th>1</th>\n",
       "      <td>Dr. Franklin</td>\n",
       "      <td>175</td>\n",
       "      <td>¢ Burgundy color</td>\n",
       "      <td>142.126704</td>\n",
       "    </tr>\n",
       "    <tr>\n",
       "      <th>2</th>\n",
       "      <td>Dr. Nashirat</td>\n",
       "      <td>178</td>\n",
       "      <td>¢ Purple color</td>\n",
       "      <td>264.952826</td>\n",
       "    </tr>\n",
       "    <tr>\n",
       "      <th>3</th>\n",
       "      <td>Dr. Irene</td>\n",
       "      <td>188</td>\n",
       "      <td>¢ Green color</td>\n",
       "      <td>264.952826</td>\n",
       "    </tr>\n",
       "    <tr>\n",
       "      <th>4</th>\n",
       "      <td>Dr. Amma</td>\n",
       "      <td>182</td>\n",
       "      <td>¢ Pink color</td>\n",
       "      <td>264.952826</td>\n",
       "    </tr>\n",
       "    <tr>\n",
       "      <th>5</th>\n",
       "      <td>Dr. Fauzia</td>\n",
       "      <td>186</td>\n",
       "      <td>¢ Yellow color</td>\n",
       "      <td>264.952826</td>\n",
       "    </tr>\n",
       "  </tbody>\n",
       "</table>\n",
       "</div>"
      ],
      "text/plain": [
       "       Students  Height         Fav_color    Salary()\n",
       "0    Dr. Akwasi     184     ¢ Black color  264.952826\n",
       "1  Dr. Franklin     175  ¢ Burgundy color  142.126704\n",
       "2  Dr. Nashirat     178    ¢ Purple color  264.952826\n",
       "3     Dr. Irene     188     ¢ Green color  264.952826\n",
       "4      Dr. Amma     182      ¢ Pink color  264.952826\n",
       "5    Dr. Fauzia     186    ¢ Yellow color  264.952826"
      ]
     },
     "execution_count": 55,
     "metadata": {},
     "output_type": "execute_result"
    }
   ],
   "source": [
    "data"
   ]
  },
  {
   "cell_type": "code",
   "execution_count": 56,
   "id": "780996aa",
   "metadata": {},
   "outputs": [],
   "source": [
    "# drop a column\n",
    "# data_one = data.drop('Salary()', axis = 1)\n",
    "data.drop('Salary()', axis = 1, inplace = True)\n",
    "\n",
    "#drop a row"
   ]
  },
  {
   "cell_type": "code",
   "execution_count": 57,
   "id": "5adbbb28",
   "metadata": {},
   "outputs": [
    {
     "data": {
      "text/html": [
       "<div>\n",
       "<style scoped>\n",
       "    .dataframe tbody tr th:only-of-type {\n",
       "        vertical-align: middle;\n",
       "    }\n",
       "\n",
       "    .dataframe tbody tr th {\n",
       "        vertical-align: top;\n",
       "    }\n",
       "\n",
       "    .dataframe thead th {\n",
       "        text-align: right;\n",
       "    }\n",
       "</style>\n",
       "<table border=\"1\" class=\"dataframe\">\n",
       "  <thead>\n",
       "    <tr style=\"text-align: right;\">\n",
       "      <th></th>\n",
       "      <th>Students</th>\n",
       "      <th>Height</th>\n",
       "      <th>Fav_color</th>\n",
       "    </tr>\n",
       "  </thead>\n",
       "  <tbody>\n",
       "    <tr>\n",
       "      <th>0</th>\n",
       "      <td>Dr. Akwasi</td>\n",
       "      <td>184</td>\n",
       "      <td>¢ Black color</td>\n",
       "    </tr>\n",
       "    <tr>\n",
       "      <th>1</th>\n",
       "      <td>Dr. Franklin</td>\n",
       "      <td>175</td>\n",
       "      <td>¢ Burgundy color</td>\n",
       "    </tr>\n",
       "    <tr>\n",
       "      <th>2</th>\n",
       "      <td>Dr. Nashirat</td>\n",
       "      <td>178</td>\n",
       "      <td>¢ Purple color</td>\n",
       "    </tr>\n",
       "    <tr>\n",
       "      <th>3</th>\n",
       "      <td>Dr. Irene</td>\n",
       "      <td>188</td>\n",
       "      <td>¢ Green color</td>\n",
       "    </tr>\n",
       "    <tr>\n",
       "      <th>4</th>\n",
       "      <td>Dr. Amma</td>\n",
       "      <td>182</td>\n",
       "      <td>¢ Pink color</td>\n",
       "    </tr>\n",
       "    <tr>\n",
       "      <th>5</th>\n",
       "      <td>Dr. Fauzia</td>\n",
       "      <td>186</td>\n",
       "      <td>¢ Yellow color</td>\n",
       "    </tr>\n",
       "  </tbody>\n",
       "</table>\n",
       "</div>"
      ],
      "text/plain": [
       "       Students  Height         Fav_color\n",
       "0    Dr. Akwasi     184     ¢ Black color\n",
       "1  Dr. Franklin     175  ¢ Burgundy color\n",
       "2  Dr. Nashirat     178    ¢ Purple color\n",
       "3     Dr. Irene     188     ¢ Green color\n",
       "4      Dr. Amma     182      ¢ Pink color\n",
       "5    Dr. Fauzia     186    ¢ Yellow color"
      ]
     },
     "execution_count": 57,
     "metadata": {},
     "output_type": "execute_result"
    }
   ],
   "source": [
    "data"
   ]
  },
  {
   "cell_type": "code",
   "execution_count": 58,
   "id": "22dd7e34",
   "metadata": {},
   "outputs": [],
   "source": [
    "# data_one"
   ]
  },
  {
   "cell_type": "code",
   "execution_count": 59,
   "id": "e5f010f4",
   "metadata": {},
   "outputs": [],
   "source": [
    "# writing the dataframe\n",
    "data.to_csv('Hippopotamus.csv')"
   ]
  },
  {
   "cell_type": "code",
   "execution_count": 60,
   "id": "c9fd71ac",
   "metadata": {},
   "outputs": [],
   "source": [
    "# data.to_excel('Mercy.xlsx')"
   ]
  },
  {
   "cell_type": "markdown",
   "id": "273e5cd6",
   "metadata": {},
   "source": [
    "### Missing vales"
   ]
  },
  {
   "cell_type": "code",
   "execution_count": 61,
   "id": "3697f96e",
   "metadata": {},
   "outputs": [
    {
     "data": {
      "text/html": [
       "<div>\n",
       "<style scoped>\n",
       "    .dataframe tbody tr th:only-of-type {\n",
       "        vertical-align: middle;\n",
       "    }\n",
       "\n",
       "    .dataframe tbody tr th {\n",
       "        vertical-align: top;\n",
       "    }\n",
       "\n",
       "    .dataframe thead th {\n",
       "        text-align: right;\n",
       "    }\n",
       "</style>\n",
       "<table border=\"1\" class=\"dataframe\">\n",
       "  <thead>\n",
       "    <tr style=\"text-align: right;\">\n",
       "      <th></th>\n",
       "      <th>Firstname</th>\n",
       "      <th>Lastname</th>\n",
       "      <th>School</th>\n",
       "      <th>Age</th>\n",
       "      <th>Profession</th>\n",
       "    </tr>\n",
       "  </thead>\n",
       "  <tbody>\n",
       "    <tr>\n",
       "      <th>0</th>\n",
       "      <td>Kojo</td>\n",
       "      <td>Mensah</td>\n",
       "      <td>KNUST</td>\n",
       "      <td>24.0</td>\n",
       "      <td>Data engineer</td>\n",
       "    </tr>\n",
       "    <tr>\n",
       "      <th>1</th>\n",
       "      <td>Aba</td>\n",
       "      <td>Kylis</td>\n",
       "      <td>KNUST</td>\n",
       "      <td>26.0</td>\n",
       "      <td>Data analyst</td>\n",
       "    </tr>\n",
       "    <tr>\n",
       "      <th>2</th>\n",
       "      <td>Esi</td>\n",
       "      <td>Najo</td>\n",
       "      <td>Legon</td>\n",
       "      <td>25.0</td>\n",
       "      <td>BI Developer</td>\n",
       "    </tr>\n",
       "    <tr>\n",
       "      <th>3</th>\n",
       "      <td>Kwame</td>\n",
       "      <td>Beako</td>\n",
       "      <td>27</td>\n",
       "      <td>36.0</td>\n",
       "      <td>Data scientist</td>\n",
       "    </tr>\n",
       "    <tr>\n",
       "      <th>4</th>\n",
       "      <td>Araba</td>\n",
       "      <td>Yahan</td>\n",
       "      <td>KNUST</td>\n",
       "      <td>NaN</td>\n",
       "      <td>Database engineer</td>\n",
       "    </tr>\n",
       "    <tr>\n",
       "      <th>5</th>\n",
       "      <td>Franky</td>\n",
       "      <td>Tomatoes</td>\n",
       "      <td>NaN</td>\n",
       "      <td>NaN</td>\n",
       "      <td>NaN</td>\n",
       "    </tr>\n",
       "    <tr>\n",
       "      <th>6</th>\n",
       "      <td>Ama</td>\n",
       "      <td>Potatoes</td>\n",
       "      <td>Legon</td>\n",
       "      <td>NaN</td>\n",
       "      <td>89</td>\n",
       "    </tr>\n",
       "    <tr>\n",
       "      <th>7</th>\n",
       "      <td>Kweku</td>\n",
       "      <td>Chilling</td>\n",
       "      <td>UMaT</td>\n",
       "      <td>56.0</td>\n",
       "      <td>Data engineer</td>\n",
       "    </tr>\n",
       "  </tbody>\n",
       "</table>\n",
       "</div>"
      ],
      "text/plain": [
       "  Firstname  Lastname School   Age         Profession\n",
       "0      Kojo    Mensah  KNUST  24.0      Data engineer\n",
       "1       Aba     Kylis  KNUST  26.0       Data analyst\n",
       "2       Esi      Najo  Legon  25.0       BI Developer\n",
       "3     Kwame     Beako     27  36.0     Data scientist\n",
       "4    Araba      Yahan  KNUST   NaN  Database engineer\n",
       "5    Franky  Tomatoes    NaN   NaN                NaN\n",
       "6       Ama  Potatoes  Legon   NaN                 89\n",
       "7     Kweku  Chilling   UMaT  56.0     Data engineer "
      ]
     },
     "execution_count": 61,
     "metadata": {},
     "output_type": "execute_result"
    }
   ],
   "source": [
    "df = pd.read_csv('example.csv')\n",
    "df"
   ]
  },
  {
   "cell_type": "code",
   "execution_count": 62,
   "id": "15d24d31",
   "metadata": {},
   "outputs": [
    {
     "data": {
      "text/html": [
       "<div>\n",
       "<style scoped>\n",
       "    .dataframe tbody tr th:only-of-type {\n",
       "        vertical-align: middle;\n",
       "    }\n",
       "\n",
       "    .dataframe tbody tr th {\n",
       "        vertical-align: top;\n",
       "    }\n",
       "\n",
       "    .dataframe thead th {\n",
       "        text-align: right;\n",
       "    }\n",
       "</style>\n",
       "<table border=\"1\" class=\"dataframe\">\n",
       "  <thead>\n",
       "    <tr style=\"text-align: right;\">\n",
       "      <th></th>\n",
       "      <th>REGION</th>\n",
       "      <th>DISTRICT</th>\n",
       "      <th>YEAR</th>\n",
       "      <th>CROP</th>\n",
       "      <th>AREA (HA)</th>\n",
       "      <th>YIELD (MT/HA)</th>\n",
       "      <th>PRODUCTION (MT)</th>\n",
       "    </tr>\n",
       "  </thead>\n",
       "  <tbody>\n",
       "    <tr>\n",
       "      <th>0</th>\n",
       "      <td>WESTERN</td>\n",
       "      <td>SHAMA AHANTA EAST</td>\n",
       "      <td>2008</td>\n",
       "      <td>MAIZE</td>\n",
       "      <td>1,099.00</td>\n",
       "      <td>1.15</td>\n",
       "      <td>1,263.85</td>\n",
       "    </tr>\n",
       "    <tr>\n",
       "      <th>1</th>\n",
       "      <td>WESTERN</td>\n",
       "      <td>WEST AHANTA</td>\n",
       "      <td>2008</td>\n",
       "      <td>MAIZE</td>\n",
       "      <td>1,433.00</td>\n",
       "      <td>1.19</td>\n",
       "      <td>1,705.27</td>\n",
       "    </tr>\n",
       "    <tr>\n",
       "      <th>2</th>\n",
       "      <td>WESTERN</td>\n",
       "      <td>MPORHOR WASSA EAST</td>\n",
       "      <td>2008</td>\n",
       "      <td>MAIZE</td>\n",
       "      <td>2,034.00</td>\n",
       "      <td>1.32</td>\n",
       "      <td>2,684.88</td>\n",
       "    </tr>\n",
       "    <tr>\n",
       "      <th>3</th>\n",
       "      <td>WESTERN</td>\n",
       "      <td>WASSA WEST</td>\n",
       "      <td>2008</td>\n",
       "      <td>MAIZE</td>\n",
       "      <td>2,204.00</td>\n",
       "      <td>1.2</td>\n",
       "      <td>2,644.80</td>\n",
       "    </tr>\n",
       "    <tr>\n",
       "      <th>4</th>\n",
       "      <td>WESTERN</td>\n",
       "      <td>EAST NZEMA</td>\n",
       "      <td>2008</td>\n",
       "      <td>MAIZE</td>\n",
       "      <td>1,550.00</td>\n",
       "      <td>1.38</td>\n",
       "      <td>2,139.00</td>\n",
       "    </tr>\n",
       "    <tr>\n",
       "      <th>...</th>\n",
       "      <td>...</td>\n",
       "      <td>...</td>\n",
       "      <td>...</td>\n",
       "      <td>...</td>\n",
       "      <td>...</td>\n",
       "      <td>...</td>\n",
       "      <td>...</td>\n",
       "    </tr>\n",
       "    <tr>\n",
       "      <th>8231</th>\n",
       "      <td>NORTHERN REGION</td>\n",
       "      <td>MAMPRUGU MOAGDURI</td>\n",
       "      <td>2017</td>\n",
       "      <td>CASSAVA</td>\n",
       "      <td>900</td>\n",
       "      <td>7.95</td>\n",
       "      <td>7,155.00</td>\n",
       "    </tr>\n",
       "    <tr>\n",
       "      <th>8232</th>\n",
       "      <td>NORTHERN REGION</td>\n",
       "      <td>YENDI</td>\n",
       "      <td>2017</td>\n",
       "      <td>CASSAVA</td>\n",
       "      <td>4,790.00</td>\n",
       "      <td>13.59</td>\n",
       "      <td>65,096.10</td>\n",
       "    </tr>\n",
       "    <tr>\n",
       "      <th>8233</th>\n",
       "      <td>NORTHERN REGION</td>\n",
       "      <td>MION</td>\n",
       "      <td>2017</td>\n",
       "      <td>CASSAVA</td>\n",
       "      <td>3,831.00</td>\n",
       "      <td>6.96</td>\n",
       "      <td>26,663.76</td>\n",
       "    </tr>\n",
       "    <tr>\n",
       "      <th>8234</th>\n",
       "      <td>NORTHERN REGION</td>\n",
       "      <td>TATALE SANGULI</td>\n",
       "      <td>2017</td>\n",
       "      <td>CASSAVA</td>\n",
       "      <td>5,192.00</td>\n",
       "      <td>13.85</td>\n",
       "      <td>71,909.20</td>\n",
       "    </tr>\n",
       "    <tr>\n",
       "      <th>8235</th>\n",
       "      <td>NORTHERN REGION</td>\n",
       "      <td>ZABZUGU</td>\n",
       "      <td>2017</td>\n",
       "      <td>CASSAVA</td>\n",
       "      <td>4,612.00</td>\n",
       "      <td>13.85</td>\n",
       "      <td>63,876.20</td>\n",
       "    </tr>\n",
       "  </tbody>\n",
       "</table>\n",
       "<p>8236 rows × 7 columns</p>\n",
       "</div>"
      ],
      "text/plain": [
       "               REGION            DISTRICT  YEAR     CROP AREA (HA)  \\\n",
       "0             WESTERN   SHAMA AHANTA EAST  2008    MAIZE  1,099.00   \n",
       "1             WESTERN         WEST AHANTA  2008    MAIZE  1,433.00   \n",
       "2             WESTERN  MPORHOR WASSA EAST  2008    MAIZE  2,034.00   \n",
       "3             WESTERN          WASSA WEST  2008    MAIZE  2,204.00   \n",
       "4             WESTERN          EAST NZEMA  2008    MAIZE  1,550.00   \n",
       "...               ...                 ...   ...      ...       ...   \n",
       "8231  NORTHERN REGION   MAMPRUGU MOAGDURI  2017  CASSAVA       900   \n",
       "8232  NORTHERN REGION               YENDI  2017  CASSAVA  4,790.00   \n",
       "8233  NORTHERN REGION                MION  2017  CASSAVA  3,831.00   \n",
       "8234  NORTHERN REGION      TATALE SANGULI  2017  CASSAVA  5,192.00   \n",
       "8235  NORTHERN REGION             ZABZUGU  2017  CASSAVA  4,612.00   \n",
       "\n",
       "     YIELD (MT/HA) PRODUCTION (MT)  \n",
       "0             1.15        1,263.85  \n",
       "1             1.19        1,705.27  \n",
       "2             1.32        2,684.88  \n",
       "3              1.2        2,644.80  \n",
       "4             1.38        2,139.00  \n",
       "...            ...             ...  \n",
       "8231          7.95        7,155.00  \n",
       "8232         13.59       65,096.10  \n",
       "8233          6.96       26,663.76  \n",
       "8234         13.85       71,909.20  \n",
       "8235         13.85       63,876.20  \n",
       "\n",
       "[8236 rows x 7 columns]"
      ]
     },
     "execution_count": 62,
     "metadata": {},
     "output_type": "execute_result"
    }
   ],
   "source": [
    "pro_est_df"
   ]
  },
  {
   "cell_type": "code",
   "execution_count": 63,
   "id": "0242463d",
   "metadata": {},
   "outputs": [
    {
     "data": {
      "text/plain": [
       "ASHANTI            1635\n",
       "BRONG AHAFO        1254\n",
       "EASTERN            1203\n",
       "WESTERN             971\n",
       "VOLTA               965\n",
       "CENTRAL             756\n",
       "UPPER WEST          707\n",
       "UPPER EAST          637\n",
       "NORTHERN REGION      78\n",
       "GREATER ACCRA        30\n",
       "Name: REGION, dtype: int64"
      ]
     },
     "execution_count": 63,
     "metadata": {},
     "output_type": "execute_result"
    }
   ],
   "source": [
    "pro_est_df.REGION.value_counts()"
   ]
  },
  {
   "cell_type": "code",
   "execution_count": 64,
   "id": "8d92b83c",
   "metadata": {},
   "outputs": [
    {
     "data": {
      "text/plain": [
       "array(['WESTERN', 'CENTRAL', 'EASTERN', 'VOLTA', 'ASHANTI', 'BRONG AHAFO',\n",
       "       'UPPER EAST', 'UPPER WEST', 'GREATER ACCRA', 'NORTHERN REGION'],\n",
       "      dtype=object)"
      ]
     },
     "execution_count": 64,
     "metadata": {},
     "output_type": "execute_result"
    }
   ],
   "source": [
    "pro_est_df.REGION.unique()"
   ]
  },
  {
   "cell_type": "code",
   "execution_count": 65,
   "id": "8b82d0a6",
   "metadata": {},
   "outputs": [
    {
     "data": {
      "text/plain": [
       "24.0    1\n",
       "26.0    1\n",
       "25.0    1\n",
       "36.0    1\n",
       "56.0    1\n",
       "Name: Age, dtype: int64"
      ]
     },
     "execution_count": 65,
     "metadata": {},
     "output_type": "execute_result"
    }
   ],
   "source": [
    "df.Age.value_counts()"
   ]
  },
  {
   "cell_type": "code",
   "execution_count": 66,
   "id": "6903d8d7",
   "metadata": {},
   "outputs": [
    {
     "data": {
      "text/plain": [
       "Firstname     0\n",
       "Lastname      0\n",
       "School        1\n",
       "Age           3\n",
       "Profession    1\n",
       "dtype: int64"
      ]
     },
     "execution_count": 66,
     "metadata": {},
     "output_type": "execute_result"
    }
   ],
   "source": [
    "df.isnull().sum()"
   ]
  },
  {
   "cell_type": "code",
   "execution_count": 67,
   "id": "0555e1eb",
   "metadata": {},
   "outputs": [
    {
     "data": {
      "text/html": [
       "<div>\n",
       "<style scoped>\n",
       "    .dataframe tbody tr th:only-of-type {\n",
       "        vertical-align: middle;\n",
       "    }\n",
       "\n",
       "    .dataframe tbody tr th {\n",
       "        vertical-align: top;\n",
       "    }\n",
       "\n",
       "    .dataframe thead th {\n",
       "        text-align: right;\n",
       "    }\n",
       "</style>\n",
       "<table border=\"1\" class=\"dataframe\">\n",
       "  <thead>\n",
       "    <tr style=\"text-align: right;\">\n",
       "      <th></th>\n",
       "      <th>Firstname</th>\n",
       "      <th>Lastname</th>\n",
       "      <th>School</th>\n",
       "      <th>Age</th>\n",
       "      <th>Profession</th>\n",
       "    </tr>\n",
       "  </thead>\n",
       "  <tbody>\n",
       "    <tr>\n",
       "      <th>0</th>\n",
       "      <td>Kojo</td>\n",
       "      <td>Mensah</td>\n",
       "      <td>KNUST</td>\n",
       "      <td>24.0</td>\n",
       "      <td>Data engineer</td>\n",
       "    </tr>\n",
       "    <tr>\n",
       "      <th>1</th>\n",
       "      <td>Aba</td>\n",
       "      <td>Kylis</td>\n",
       "      <td>KNUST</td>\n",
       "      <td>26.0</td>\n",
       "      <td>Data analyst</td>\n",
       "    </tr>\n",
       "    <tr>\n",
       "      <th>2</th>\n",
       "      <td>Esi</td>\n",
       "      <td>Najo</td>\n",
       "      <td>Legon</td>\n",
       "      <td>25.0</td>\n",
       "      <td>BI Developer</td>\n",
       "    </tr>\n",
       "    <tr>\n",
       "      <th>3</th>\n",
       "      <td>Kwame</td>\n",
       "      <td>Beako</td>\n",
       "      <td>27</td>\n",
       "      <td>36.0</td>\n",
       "      <td>Data scientist</td>\n",
       "    </tr>\n",
       "    <tr>\n",
       "      <th>4</th>\n",
       "      <td>Araba</td>\n",
       "      <td>Yahan</td>\n",
       "      <td>KNUST</td>\n",
       "      <td>NaN</td>\n",
       "      <td>Database engineer</td>\n",
       "    </tr>\n",
       "    <tr>\n",
       "      <th>5</th>\n",
       "      <td>Franky</td>\n",
       "      <td>Tomatoes</td>\n",
       "      <td>NaN</td>\n",
       "      <td>NaN</td>\n",
       "      <td>NaN</td>\n",
       "    </tr>\n",
       "    <tr>\n",
       "      <th>6</th>\n",
       "      <td>Ama</td>\n",
       "      <td>Potatoes</td>\n",
       "      <td>Legon</td>\n",
       "      <td>NaN</td>\n",
       "      <td>89</td>\n",
       "    </tr>\n",
       "    <tr>\n",
       "      <th>7</th>\n",
       "      <td>Kweku</td>\n",
       "      <td>Chilling</td>\n",
       "      <td>UMaT</td>\n",
       "      <td>56.0</td>\n",
       "      <td>Data engineer</td>\n",
       "    </tr>\n",
       "  </tbody>\n",
       "</table>\n",
       "</div>"
      ],
      "text/plain": [
       "  Firstname  Lastname School   Age         Profession\n",
       "0      Kojo    Mensah  KNUST  24.0      Data engineer\n",
       "1       Aba     Kylis  KNUST  26.0       Data analyst\n",
       "2       Esi      Najo  Legon  25.0       BI Developer\n",
       "3     Kwame     Beako     27  36.0     Data scientist\n",
       "4    Araba      Yahan  KNUST   NaN  Database engineer\n",
       "5    Franky  Tomatoes    NaN   NaN                NaN\n",
       "6       Ama  Potatoes  Legon   NaN                 89\n",
       "7     Kweku  Chilling   UMaT  56.0     Data engineer "
      ]
     },
     "execution_count": 67,
     "metadata": {},
     "output_type": "execute_result"
    }
   ],
   "source": [
    "df"
   ]
  },
  {
   "cell_type": "code",
   "execution_count": 68,
   "id": "2330611e",
   "metadata": {},
   "outputs": [
    {
     "data": {
      "text/plain": [
       "array(['Data engineer', 'Data analyst', 'BI Developer', 'Data scientist',\n",
       "       'Database engineer', nan, '89', 'Data engineer '], dtype=object)"
      ]
     },
     "execution_count": 68,
     "metadata": {},
     "output_type": "execute_result"
    }
   ],
   "source": [
    "df.Profession.unique()"
   ]
  },
  {
   "cell_type": "code",
   "execution_count": 69,
   "id": "6b167e7e",
   "metadata": {},
   "outputs": [
    {
     "data": {
      "text/html": [
       "<div>\n",
       "<style scoped>\n",
       "    .dataframe tbody tr th:only-of-type {\n",
       "        vertical-align: middle;\n",
       "    }\n",
       "\n",
       "    .dataframe tbody tr th {\n",
       "        vertical-align: top;\n",
       "    }\n",
       "\n",
       "    .dataframe thead th {\n",
       "        text-align: right;\n",
       "    }\n",
       "</style>\n",
       "<table border=\"1\" class=\"dataframe\">\n",
       "  <thead>\n",
       "    <tr style=\"text-align: right;\">\n",
       "      <th></th>\n",
       "      <th>Firstname</th>\n",
       "      <th>Lastname</th>\n",
       "      <th>School</th>\n",
       "      <th>Age</th>\n",
       "      <th>Profession</th>\n",
       "    </tr>\n",
       "  </thead>\n",
       "  <tbody>\n",
       "    <tr>\n",
       "      <th>0</th>\n",
       "      <td>Kojo</td>\n",
       "      <td>Mensah</td>\n",
       "      <td>KNUST</td>\n",
       "      <td>24.0</td>\n",
       "      <td>Data engineer</td>\n",
       "    </tr>\n",
       "    <tr>\n",
       "      <th>1</th>\n",
       "      <td>Aba</td>\n",
       "      <td>Kylis</td>\n",
       "      <td>KNUST</td>\n",
       "      <td>26.0</td>\n",
       "      <td>Data analyst</td>\n",
       "    </tr>\n",
       "    <tr>\n",
       "      <th>2</th>\n",
       "      <td>Esi</td>\n",
       "      <td>Najo</td>\n",
       "      <td>Legon</td>\n",
       "      <td>25.0</td>\n",
       "      <td>BI Developer</td>\n",
       "    </tr>\n",
       "    <tr>\n",
       "      <th>3</th>\n",
       "      <td>Kwame</td>\n",
       "      <td>Beako</td>\n",
       "      <td>27</td>\n",
       "      <td>36.0</td>\n",
       "      <td>Data scientist</td>\n",
       "    </tr>\n",
       "    <tr>\n",
       "      <th>4</th>\n",
       "      <td>Araba</td>\n",
       "      <td>Yahan</td>\n",
       "      <td>KNUST</td>\n",
       "      <td>NaN</td>\n",
       "      <td>Database engineer</td>\n",
       "    </tr>\n",
       "    <tr>\n",
       "      <th>5</th>\n",
       "      <td>Franky</td>\n",
       "      <td>Tomatoes</td>\n",
       "      <td>NaN</td>\n",
       "      <td>NaN</td>\n",
       "      <td>NaN</td>\n",
       "    </tr>\n",
       "    <tr>\n",
       "      <th>6</th>\n",
       "      <td>Ama</td>\n",
       "      <td>Potatoes</td>\n",
       "      <td>Legon</td>\n",
       "      <td>NaN</td>\n",
       "      <td>89</td>\n",
       "    </tr>\n",
       "    <tr>\n",
       "      <th>7</th>\n",
       "      <td>Kweku</td>\n",
       "      <td>Chilling</td>\n",
       "      <td>UMaT</td>\n",
       "      <td>56.0</td>\n",
       "      <td>Data engineer</td>\n",
       "    </tr>\n",
       "  </tbody>\n",
       "</table>\n",
       "</div>"
      ],
      "text/plain": [
       "  Firstname  Lastname School   Age         Profession\n",
       "0      Kojo    Mensah  KNUST  24.0      Data engineer\n",
       "1       Aba     Kylis  KNUST  26.0       Data analyst\n",
       "2       Esi      Najo  Legon  25.0       BI Developer\n",
       "3     Kwame     Beako     27  36.0     Data scientist\n",
       "4    Araba      Yahan  KNUST   NaN  Database engineer\n",
       "5    Franky  Tomatoes    NaN   NaN                NaN\n",
       "6       Ama  Potatoes  Legon   NaN                 89\n",
       "7     Kweku  Chilling   UMaT  56.0     Data engineer "
      ]
     },
     "execution_count": 69,
     "metadata": {},
     "output_type": "execute_result"
    }
   ],
   "source": [
    "df"
   ]
  },
  {
   "cell_type": "code",
   "execution_count": 70,
   "id": "f2421fc3",
   "metadata": {},
   "outputs": [],
   "source": [
    "# df['Profession'] = df['Profession'].fillna('Database engineer')"
   ]
  },
  {
   "cell_type": "code",
   "execution_count": 71,
   "id": "8e971680",
   "metadata": {},
   "outputs": [],
   "source": [
    "# df['School'] = df['School'].fillna('Legon')"
   ]
  },
  {
   "cell_type": "code",
   "execution_count": 72,
   "id": "9e06b886",
   "metadata": {},
   "outputs": [],
   "source": [
    "# df['School'] = df['School'].replace({'27': 'KNUST'})"
   ]
  },
  {
   "cell_type": "code",
   "execution_count": 73,
   "id": "3bc8c4ec",
   "metadata": {},
   "outputs": [
    {
     "data": {
      "text/html": [
       "<div>\n",
       "<style scoped>\n",
       "    .dataframe tbody tr th:only-of-type {\n",
       "        vertical-align: middle;\n",
       "    }\n",
       "\n",
       "    .dataframe tbody tr th {\n",
       "        vertical-align: top;\n",
       "    }\n",
       "\n",
       "    .dataframe thead th {\n",
       "        text-align: right;\n",
       "    }\n",
       "</style>\n",
       "<table border=\"1\" class=\"dataframe\">\n",
       "  <thead>\n",
       "    <tr style=\"text-align: right;\">\n",
       "      <th></th>\n",
       "      <th>Firstname</th>\n",
       "      <th>Lastname</th>\n",
       "      <th>School</th>\n",
       "      <th>Age</th>\n",
       "      <th>Profession</th>\n",
       "    </tr>\n",
       "  </thead>\n",
       "  <tbody>\n",
       "    <tr>\n",
       "      <th>0</th>\n",
       "      <td>Kojo</td>\n",
       "      <td>Mensah</td>\n",
       "      <td>KNUST</td>\n",
       "      <td>24.0</td>\n",
       "      <td>Data engineer</td>\n",
       "    </tr>\n",
       "    <tr>\n",
       "      <th>1</th>\n",
       "      <td>Aba</td>\n",
       "      <td>Kylis</td>\n",
       "      <td>KNUST</td>\n",
       "      <td>26.0</td>\n",
       "      <td>Data analyst</td>\n",
       "    </tr>\n",
       "    <tr>\n",
       "      <th>2</th>\n",
       "      <td>Esi</td>\n",
       "      <td>Najo</td>\n",
       "      <td>Legon</td>\n",
       "      <td>25.0</td>\n",
       "      <td>BI Developer</td>\n",
       "    </tr>\n",
       "    <tr>\n",
       "      <th>3</th>\n",
       "      <td>Kwame</td>\n",
       "      <td>Beako</td>\n",
       "      <td>27</td>\n",
       "      <td>36.0</td>\n",
       "      <td>Data scientist</td>\n",
       "    </tr>\n",
       "    <tr>\n",
       "      <th>4</th>\n",
       "      <td>Araba</td>\n",
       "      <td>Yahan</td>\n",
       "      <td>KNUST</td>\n",
       "      <td>NaN</td>\n",
       "      <td>Database engineer</td>\n",
       "    </tr>\n",
       "    <tr>\n",
       "      <th>5</th>\n",
       "      <td>Franky</td>\n",
       "      <td>Tomatoes</td>\n",
       "      <td>NaN</td>\n",
       "      <td>NaN</td>\n",
       "      <td>NaN</td>\n",
       "    </tr>\n",
       "    <tr>\n",
       "      <th>6</th>\n",
       "      <td>Ama</td>\n",
       "      <td>Potatoes</td>\n",
       "      <td>Legon</td>\n",
       "      <td>NaN</td>\n",
       "      <td>89</td>\n",
       "    </tr>\n",
       "    <tr>\n",
       "      <th>7</th>\n",
       "      <td>Kweku</td>\n",
       "      <td>Chilling</td>\n",
       "      <td>UMaT</td>\n",
       "      <td>56.0</td>\n",
       "      <td>Data engineer</td>\n",
       "    </tr>\n",
       "  </tbody>\n",
       "</table>\n",
       "</div>"
      ],
      "text/plain": [
       "  Firstname  Lastname School   Age         Profession\n",
       "0      Kojo    Mensah  KNUST  24.0      Data engineer\n",
       "1       Aba     Kylis  KNUST  26.0       Data analyst\n",
       "2       Esi      Najo  Legon  25.0       BI Developer\n",
       "3     Kwame     Beako     27  36.0     Data scientist\n",
       "4    Araba      Yahan  KNUST   NaN  Database engineer\n",
       "5    Franky  Tomatoes    NaN   NaN                NaN\n",
       "6       Ama  Potatoes  Legon   NaN                 89\n",
       "7     Kweku  Chilling   UMaT  56.0     Data engineer "
      ]
     },
     "execution_count": 73,
     "metadata": {},
     "output_type": "execute_result"
    }
   ],
   "source": [
    "df"
   ]
  },
  {
   "cell_type": "code",
   "execution_count": 74,
   "id": "d4696d86",
   "metadata": {},
   "outputs": [
    {
     "data": {
      "text/plain": [
       "33.4"
      ]
     },
     "execution_count": 74,
     "metadata": {},
     "output_type": "execute_result"
    }
   ],
   "source": [
    "df.Age.mean()"
   ]
  },
  {
   "cell_type": "code",
   "execution_count": 75,
   "id": "7e451374",
   "metadata": {},
   "outputs": [],
   "source": [
    "df.Age = df.Age.fillna(df.Age.mean())"
   ]
  },
  {
   "cell_type": "code",
   "execution_count": 76,
   "id": "11d55eb5",
   "metadata": {},
   "outputs": [
    {
     "data": {
      "text/plain": [
       "KNUST    3\n",
       "Legon    2\n",
       "27       1\n",
       "UMaT     1\n",
       "Name: School, dtype: int64"
      ]
     },
     "execution_count": 76,
     "metadata": {},
     "output_type": "execute_result"
    }
   ],
   "source": [
    "df.School.value_counts()"
   ]
  },
  {
   "cell_type": "code",
   "execution_count": 77,
   "id": "d3e7a64a",
   "metadata": {},
   "outputs": [],
   "source": [
    "df.School = df.School.fillna('KNUST')"
   ]
  },
  {
   "cell_type": "code",
   "execution_count": 78,
   "id": "38f2885b",
   "metadata": {},
   "outputs": [],
   "source": [
    "df.School = df.School.replace({'27': 'KNUST'})"
   ]
  },
  {
   "cell_type": "code",
   "execution_count": 79,
   "id": "35aea618",
   "metadata": {},
   "outputs": [
    {
     "data": {
      "text/plain": [
       "Data engineer        1\n",
       "Data analyst         1\n",
       "BI Developer         1\n",
       "Data scientist       1\n",
       "Database engineer    1\n",
       "89                   1\n",
       "Data engineer        1\n",
       "Name: Profession, dtype: int64"
      ]
     },
     "execution_count": 79,
     "metadata": {},
     "output_type": "execute_result"
    }
   ],
   "source": [
    "df.Profession.value_counts()"
   ]
  },
  {
   "cell_type": "code",
   "execution_count": 80,
   "id": "91f692c6",
   "metadata": {},
   "outputs": [
    {
     "data": {
      "text/plain": [
       "array(['Data engineer', 'Data analyst', 'BI Developer', 'Data scientist',\n",
       "       'Database engineer', nan, '89', 'Data engineer '], dtype=object)"
      ]
     },
     "execution_count": 80,
     "metadata": {},
     "output_type": "execute_result"
    }
   ],
   "source": [
    "df.Profession.unique()"
   ]
  },
  {
   "cell_type": "code",
   "execution_count": 81,
   "id": "538ce2f1",
   "metadata": {},
   "outputs": [],
   "source": [
    "df.Profession = df.Profession.replace({'Data engineer ': 'Data engineer'})"
   ]
  },
  {
   "cell_type": "code",
   "execution_count": 82,
   "id": "d9cebcfd",
   "metadata": {},
   "outputs": [
    {
     "data": {
      "text/plain": [
       "Data engineer        2\n",
       "Data analyst         1\n",
       "BI Developer         1\n",
       "Data scientist       1\n",
       "Database engineer    1\n",
       "89                   1\n",
       "Name: Profession, dtype: int64"
      ]
     },
     "execution_count": 82,
     "metadata": {},
     "output_type": "execute_result"
    }
   ],
   "source": [
    "df.Profession.value_counts()"
   ]
  },
  {
   "cell_type": "code",
   "execution_count": 83,
   "id": "83de9066",
   "metadata": {},
   "outputs": [],
   "source": [
    "df.Profession = df.Profession.replace({'89': 'Data engineer'})"
   ]
  },
  {
   "cell_type": "code",
   "execution_count": 84,
   "id": "87b84ec1",
   "metadata": {},
   "outputs": [],
   "source": [
    "df.Profession = df.Profession.fillna('Data engineer')"
   ]
  },
  {
   "cell_type": "code",
   "execution_count": 85,
   "id": "fd3d08fb",
   "metadata": {
    "scrolled": true
   },
   "outputs": [
    {
     "data": {
      "text/html": [
       "<div>\n",
       "<style scoped>\n",
       "    .dataframe tbody tr th:only-of-type {\n",
       "        vertical-align: middle;\n",
       "    }\n",
       "\n",
       "    .dataframe tbody tr th {\n",
       "        vertical-align: top;\n",
       "    }\n",
       "\n",
       "    .dataframe thead th {\n",
       "        text-align: right;\n",
       "    }\n",
       "</style>\n",
       "<table border=\"1\" class=\"dataframe\">\n",
       "  <thead>\n",
       "    <tr style=\"text-align: right;\">\n",
       "      <th></th>\n",
       "      <th>Firstname</th>\n",
       "      <th>Lastname</th>\n",
       "      <th>School</th>\n",
       "      <th>Age</th>\n",
       "      <th>Profession</th>\n",
       "    </tr>\n",
       "  </thead>\n",
       "  <tbody>\n",
       "    <tr>\n",
       "      <th>0</th>\n",
       "      <td>Kojo</td>\n",
       "      <td>Mensah</td>\n",
       "      <td>KNUST</td>\n",
       "      <td>24.0</td>\n",
       "      <td>Data engineer</td>\n",
       "    </tr>\n",
       "    <tr>\n",
       "      <th>1</th>\n",
       "      <td>Aba</td>\n",
       "      <td>Kylis</td>\n",
       "      <td>KNUST</td>\n",
       "      <td>26.0</td>\n",
       "      <td>Data analyst</td>\n",
       "    </tr>\n",
       "    <tr>\n",
       "      <th>2</th>\n",
       "      <td>Esi</td>\n",
       "      <td>Najo</td>\n",
       "      <td>Legon</td>\n",
       "      <td>25.0</td>\n",
       "      <td>BI Developer</td>\n",
       "    </tr>\n",
       "    <tr>\n",
       "      <th>3</th>\n",
       "      <td>Kwame</td>\n",
       "      <td>Beako</td>\n",
       "      <td>KNUST</td>\n",
       "      <td>36.0</td>\n",
       "      <td>Data scientist</td>\n",
       "    </tr>\n",
       "    <tr>\n",
       "      <th>4</th>\n",
       "      <td>Araba</td>\n",
       "      <td>Yahan</td>\n",
       "      <td>KNUST</td>\n",
       "      <td>33.4</td>\n",
       "      <td>Database engineer</td>\n",
       "    </tr>\n",
       "    <tr>\n",
       "      <th>5</th>\n",
       "      <td>Franky</td>\n",
       "      <td>Tomatoes</td>\n",
       "      <td>KNUST</td>\n",
       "      <td>33.4</td>\n",
       "      <td>Data engineer</td>\n",
       "    </tr>\n",
       "    <tr>\n",
       "      <th>6</th>\n",
       "      <td>Ama</td>\n",
       "      <td>Potatoes</td>\n",
       "      <td>Legon</td>\n",
       "      <td>33.4</td>\n",
       "      <td>Data engineer</td>\n",
       "    </tr>\n",
       "    <tr>\n",
       "      <th>7</th>\n",
       "      <td>Kweku</td>\n",
       "      <td>Chilling</td>\n",
       "      <td>UMaT</td>\n",
       "      <td>56.0</td>\n",
       "      <td>Data engineer</td>\n",
       "    </tr>\n",
       "  </tbody>\n",
       "</table>\n",
       "</div>"
      ],
      "text/plain": [
       "  Firstname  Lastname School   Age         Profession\n",
       "0      Kojo    Mensah  KNUST  24.0      Data engineer\n",
       "1       Aba     Kylis  KNUST  26.0       Data analyst\n",
       "2       Esi      Najo  Legon  25.0       BI Developer\n",
       "3     Kwame     Beako  KNUST  36.0     Data scientist\n",
       "4    Araba      Yahan  KNUST  33.4  Database engineer\n",
       "5    Franky  Tomatoes  KNUST  33.4      Data engineer\n",
       "6       Ama  Potatoes  Legon  33.4      Data engineer\n",
       "7     Kweku  Chilling   UMaT  56.0      Data engineer"
      ]
     },
     "execution_count": 85,
     "metadata": {},
     "output_type": "execute_result"
    }
   ],
   "source": [
    "df"
   ]
  },
  {
   "cell_type": "code",
   "execution_count": 86,
   "id": "4bc97bc8",
   "metadata": {},
   "outputs": [
    {
     "data": {
      "text/html": [
       "<div>\n",
       "<style scoped>\n",
       "    .dataframe tbody tr th:only-of-type {\n",
       "        vertical-align: middle;\n",
       "    }\n",
       "\n",
       "    .dataframe tbody tr th {\n",
       "        vertical-align: top;\n",
       "    }\n",
       "\n",
       "    .dataframe thead th {\n",
       "        text-align: right;\n",
       "    }\n",
       "</style>\n",
       "<table border=\"1\" class=\"dataframe\">\n",
       "  <thead>\n",
       "    <tr style=\"text-align: right;\">\n",
       "      <th></th>\n",
       "      <th>Age</th>\n",
       "    </tr>\n",
       "  </thead>\n",
       "  <tbody>\n",
       "    <tr>\n",
       "      <th>count</th>\n",
       "      <td>8.000000</td>\n",
       "    </tr>\n",
       "    <tr>\n",
       "      <th>mean</th>\n",
       "      <td>33.400000</td>\n",
       "    </tr>\n",
       "    <tr>\n",
       "      <th>std</th>\n",
       "      <td>10.220428</td>\n",
       "    </tr>\n",
       "    <tr>\n",
       "      <th>min</th>\n",
       "      <td>24.000000</td>\n",
       "    </tr>\n",
       "    <tr>\n",
       "      <th>25%</th>\n",
       "      <td>25.750000</td>\n",
       "    </tr>\n",
       "    <tr>\n",
       "      <th>50%</th>\n",
       "      <td>33.400000</td>\n",
       "    </tr>\n",
       "    <tr>\n",
       "      <th>75%</th>\n",
       "      <td>34.050000</td>\n",
       "    </tr>\n",
       "    <tr>\n",
       "      <th>max</th>\n",
       "      <td>56.000000</td>\n",
       "    </tr>\n",
       "  </tbody>\n",
       "</table>\n",
       "</div>"
      ],
      "text/plain": [
       "             Age\n",
       "count   8.000000\n",
       "mean   33.400000\n",
       "std    10.220428\n",
       "min    24.000000\n",
       "25%    25.750000\n",
       "50%    33.400000\n",
       "75%    34.050000\n",
       "max    56.000000"
      ]
     },
     "execution_count": 86,
     "metadata": {},
     "output_type": "execute_result"
    }
   ],
   "source": [
    "df.describe()"
   ]
  },
  {
   "cell_type": "markdown",
   "id": "63eb6c38",
   "metadata": {},
   "source": [
    "### Concatenation"
   ]
  },
  {
   "cell_type": "code",
   "execution_count": 87,
   "id": "37b65868",
   "metadata": {},
   "outputs": [],
   "source": [
    "newlist = [2,4,5,8]"
   ]
  },
  {
   "cell_type": "code",
   "execution_count": 88,
   "id": "e4a16fb0",
   "metadata": {},
   "outputs": [
    {
     "data": {
      "text/plain": [
       "[4, 5, 8]"
      ]
     },
     "execution_count": 88,
     "metadata": {},
     "output_type": "execute_result"
    }
   ],
   "source": [
    "newlist[1:4]"
   ]
  },
  {
   "cell_type": "code",
   "execution_count": 89,
   "id": "169b0e4e",
   "metadata": {},
   "outputs": [
    {
     "data": {
      "text/html": [
       "<div>\n",
       "<style scoped>\n",
       "    .dataframe tbody tr th:only-of-type {\n",
       "        vertical-align: middle;\n",
       "    }\n",
       "\n",
       "    .dataframe tbody tr th {\n",
       "        vertical-align: top;\n",
       "    }\n",
       "\n",
       "    .dataframe thead th {\n",
       "        text-align: right;\n",
       "    }\n",
       "</style>\n",
       "<table border=\"1\" class=\"dataframe\">\n",
       "  <thead>\n",
       "    <tr style=\"text-align: right;\">\n",
       "      <th></th>\n",
       "      <th>Firstname</th>\n",
       "      <th>Lastname</th>\n",
       "      <th>School</th>\n",
       "      <th>Age</th>\n",
       "      <th>Profession</th>\n",
       "    </tr>\n",
       "  </thead>\n",
       "  <tbody>\n",
       "    <tr>\n",
       "      <th>0</th>\n",
       "      <td>Kojo</td>\n",
       "      <td>Mensah</td>\n",
       "      <td>KNUST</td>\n",
       "      <td>24.0</td>\n",
       "      <td>Data engineer</td>\n",
       "    </tr>\n",
       "    <tr>\n",
       "      <th>1</th>\n",
       "      <td>Aba</td>\n",
       "      <td>Kylis</td>\n",
       "      <td>KNUST</td>\n",
       "      <td>26.0</td>\n",
       "      <td>Data analyst</td>\n",
       "    </tr>\n",
       "    <tr>\n",
       "      <th>2</th>\n",
       "      <td>Esi</td>\n",
       "      <td>Najo</td>\n",
       "      <td>Legon</td>\n",
       "      <td>25.0</td>\n",
       "      <td>BI Developer</td>\n",
       "    </tr>\n",
       "    <tr>\n",
       "      <th>3</th>\n",
       "      <td>Kwame</td>\n",
       "      <td>Beako</td>\n",
       "      <td>KNUST</td>\n",
       "      <td>36.0</td>\n",
       "      <td>Data scientist</td>\n",
       "    </tr>\n",
       "  </tbody>\n",
       "</table>\n",
       "</div>"
      ],
      "text/plain": [
       "  Firstname Lastname School   Age      Profession\n",
       "0      Kojo   Mensah  KNUST  24.0   Data engineer\n",
       "1       Aba    Kylis  KNUST  26.0    Data analyst\n",
       "2       Esi     Najo  Legon  25.0    BI Developer\n",
       "3     Kwame    Beako  KNUST  36.0  Data scientist"
      ]
     },
     "execution_count": 89,
     "metadata": {},
     "output_type": "execute_result"
    }
   ],
   "source": [
    "df1 = df[:4]\n",
    "df1"
   ]
  },
  {
   "cell_type": "code",
   "execution_count": 90,
   "id": "e39ed9bf",
   "metadata": {},
   "outputs": [
    {
     "data": {
      "text/html": [
       "<div>\n",
       "<style scoped>\n",
       "    .dataframe tbody tr th:only-of-type {\n",
       "        vertical-align: middle;\n",
       "    }\n",
       "\n",
       "    .dataframe tbody tr th {\n",
       "        vertical-align: top;\n",
       "    }\n",
       "\n",
       "    .dataframe thead th {\n",
       "        text-align: right;\n",
       "    }\n",
       "</style>\n",
       "<table border=\"1\" class=\"dataframe\">\n",
       "  <thead>\n",
       "    <tr style=\"text-align: right;\">\n",
       "      <th></th>\n",
       "      <th>Firstname</th>\n",
       "      <th>Lastname</th>\n",
       "      <th>School</th>\n",
       "      <th>Age</th>\n",
       "      <th>Profession</th>\n",
       "    </tr>\n",
       "  </thead>\n",
       "  <tbody>\n",
       "    <tr>\n",
       "      <th>4</th>\n",
       "      <td>Araba</td>\n",
       "      <td>Yahan</td>\n",
       "      <td>KNUST</td>\n",
       "      <td>33.4</td>\n",
       "      <td>Database engineer</td>\n",
       "    </tr>\n",
       "    <tr>\n",
       "      <th>5</th>\n",
       "      <td>Franky</td>\n",
       "      <td>Tomatoes</td>\n",
       "      <td>KNUST</td>\n",
       "      <td>33.4</td>\n",
       "      <td>Data engineer</td>\n",
       "    </tr>\n",
       "    <tr>\n",
       "      <th>6</th>\n",
       "      <td>Ama</td>\n",
       "      <td>Potatoes</td>\n",
       "      <td>Legon</td>\n",
       "      <td>33.4</td>\n",
       "      <td>Data engineer</td>\n",
       "    </tr>\n",
       "    <tr>\n",
       "      <th>7</th>\n",
       "      <td>Kweku</td>\n",
       "      <td>Chilling</td>\n",
       "      <td>UMaT</td>\n",
       "      <td>56.0</td>\n",
       "      <td>Data engineer</td>\n",
       "    </tr>\n",
       "  </tbody>\n",
       "</table>\n",
       "</div>"
      ],
      "text/plain": [
       "  Firstname  Lastname School   Age         Profession\n",
       "4    Araba      Yahan  KNUST  33.4  Database engineer\n",
       "5    Franky  Tomatoes  KNUST  33.4      Data engineer\n",
       "6       Ama  Potatoes  Legon  33.4      Data engineer\n",
       "7     Kweku  Chilling   UMaT  56.0      Data engineer"
      ]
     },
     "execution_count": 90,
     "metadata": {},
     "output_type": "execute_result"
    }
   ],
   "source": [
    "df2 = df[4:]\n",
    "df2"
   ]
  },
  {
   "cell_type": "code",
   "execution_count": 91,
   "id": "29b6c9fc",
   "metadata": {},
   "outputs": [
    {
     "data": {
      "text/html": [
       "<div>\n",
       "<style scoped>\n",
       "    .dataframe tbody tr th:only-of-type {\n",
       "        vertical-align: middle;\n",
       "    }\n",
       "\n",
       "    .dataframe tbody tr th {\n",
       "        vertical-align: top;\n",
       "    }\n",
       "\n",
       "    .dataframe thead th {\n",
       "        text-align: right;\n",
       "    }\n",
       "</style>\n",
       "<table border=\"1\" class=\"dataframe\">\n",
       "  <thead>\n",
       "    <tr style=\"text-align: right;\">\n",
       "      <th></th>\n",
       "      <th>Firstname</th>\n",
       "      <th>Lastname</th>\n",
       "      <th>School</th>\n",
       "      <th>Age</th>\n",
       "      <th>Profession</th>\n",
       "    </tr>\n",
       "  </thead>\n",
       "  <tbody>\n",
       "    <tr>\n",
       "      <th>0</th>\n",
       "      <td>Kojo</td>\n",
       "      <td>Mensah</td>\n",
       "      <td>KNUST</td>\n",
       "      <td>24.0</td>\n",
       "      <td>Data engineer</td>\n",
       "    </tr>\n",
       "    <tr>\n",
       "      <th>1</th>\n",
       "      <td>Aba</td>\n",
       "      <td>Kylis</td>\n",
       "      <td>KNUST</td>\n",
       "      <td>26.0</td>\n",
       "      <td>Data analyst</td>\n",
       "    </tr>\n",
       "    <tr>\n",
       "      <th>2</th>\n",
       "      <td>Esi</td>\n",
       "      <td>Najo</td>\n",
       "      <td>Legon</td>\n",
       "      <td>25.0</td>\n",
       "      <td>BI Developer</td>\n",
       "    </tr>\n",
       "    <tr>\n",
       "      <th>3</th>\n",
       "      <td>Kwame</td>\n",
       "      <td>Beako</td>\n",
       "      <td>KNUST</td>\n",
       "      <td>36.0</td>\n",
       "      <td>Data scientist</td>\n",
       "    </tr>\n",
       "    <tr>\n",
       "      <th>4</th>\n",
       "      <td>Araba</td>\n",
       "      <td>Yahan</td>\n",
       "      <td>KNUST</td>\n",
       "      <td>33.4</td>\n",
       "      <td>Database engineer</td>\n",
       "    </tr>\n",
       "    <tr>\n",
       "      <th>5</th>\n",
       "      <td>Franky</td>\n",
       "      <td>Tomatoes</td>\n",
       "      <td>KNUST</td>\n",
       "      <td>33.4</td>\n",
       "      <td>Data engineer</td>\n",
       "    </tr>\n",
       "    <tr>\n",
       "      <th>6</th>\n",
       "      <td>Ama</td>\n",
       "      <td>Potatoes</td>\n",
       "      <td>Legon</td>\n",
       "      <td>33.4</td>\n",
       "      <td>Data engineer</td>\n",
       "    </tr>\n",
       "    <tr>\n",
       "      <th>7</th>\n",
       "      <td>Kweku</td>\n",
       "      <td>Chilling</td>\n",
       "      <td>UMaT</td>\n",
       "      <td>56.0</td>\n",
       "      <td>Data engineer</td>\n",
       "    </tr>\n",
       "  </tbody>\n",
       "</table>\n",
       "</div>"
      ],
      "text/plain": [
       "  Firstname  Lastname School   Age         Profession\n",
       "0      Kojo    Mensah  KNUST  24.0      Data engineer\n",
       "1       Aba     Kylis  KNUST  26.0       Data analyst\n",
       "2       Esi      Najo  Legon  25.0       BI Developer\n",
       "3     Kwame     Beako  KNUST  36.0     Data scientist\n",
       "4    Araba      Yahan  KNUST  33.4  Database engineer\n",
       "5    Franky  Tomatoes  KNUST  33.4      Data engineer\n",
       "6       Ama  Potatoes  Legon  33.4      Data engineer\n",
       "7     Kweku  Chilling   UMaT  56.0      Data engineer"
      ]
     },
     "execution_count": 91,
     "metadata": {},
     "output_type": "execute_result"
    }
   ],
   "source": [
    "df3 = pd.concat([df1, df2])\n",
    "df3"
   ]
  },
  {
   "cell_type": "code",
   "execution_count": 92,
   "id": "f828082c",
   "metadata": {},
   "outputs": [
    {
     "data": {
      "text/html": [
       "<div>\n",
       "<style scoped>\n",
       "    .dataframe tbody tr th:only-of-type {\n",
       "        vertical-align: middle;\n",
       "    }\n",
       "\n",
       "    .dataframe tbody tr th {\n",
       "        vertical-align: top;\n",
       "    }\n",
       "\n",
       "    .dataframe thead th {\n",
       "        text-align: right;\n",
       "    }\n",
       "</style>\n",
       "<table border=\"1\" class=\"dataframe\">\n",
       "  <thead>\n",
       "    <tr style=\"text-align: right;\">\n",
       "      <th></th>\n",
       "      <th>Firstname</th>\n",
       "      <th>Lastname</th>\n",
       "      <th>School</th>\n",
       "      <th>Age</th>\n",
       "      <th>Profession</th>\n",
       "    </tr>\n",
       "  </thead>\n",
       "  <tbody>\n",
       "    <tr>\n",
       "      <th>4</th>\n",
       "      <td>Araba</td>\n",
       "      <td>Yahan</td>\n",
       "      <td>KNUST</td>\n",
       "      <td>33.4</td>\n",
       "      <td>Database engineer</td>\n",
       "    </tr>\n",
       "    <tr>\n",
       "      <th>5</th>\n",
       "      <td>Franky</td>\n",
       "      <td>Tomatoes</td>\n",
       "      <td>KNUST</td>\n",
       "      <td>33.4</td>\n",
       "      <td>Data engineer</td>\n",
       "    </tr>\n",
       "    <tr>\n",
       "      <th>6</th>\n",
       "      <td>Ama</td>\n",
       "      <td>Potatoes</td>\n",
       "      <td>Legon</td>\n",
       "      <td>33.4</td>\n",
       "      <td>Data engineer</td>\n",
       "    </tr>\n",
       "    <tr>\n",
       "      <th>7</th>\n",
       "      <td>Kweku</td>\n",
       "      <td>Chilling</td>\n",
       "      <td>UMaT</td>\n",
       "      <td>56.0</td>\n",
       "      <td>Data engineer</td>\n",
       "    </tr>\n",
       "    <tr>\n",
       "      <th>0</th>\n",
       "      <td>Kojo</td>\n",
       "      <td>Mensah</td>\n",
       "      <td>KNUST</td>\n",
       "      <td>24.0</td>\n",
       "      <td>Data engineer</td>\n",
       "    </tr>\n",
       "    <tr>\n",
       "      <th>1</th>\n",
       "      <td>Aba</td>\n",
       "      <td>Kylis</td>\n",
       "      <td>KNUST</td>\n",
       "      <td>26.0</td>\n",
       "      <td>Data analyst</td>\n",
       "    </tr>\n",
       "    <tr>\n",
       "      <th>2</th>\n",
       "      <td>Esi</td>\n",
       "      <td>Najo</td>\n",
       "      <td>Legon</td>\n",
       "      <td>25.0</td>\n",
       "      <td>BI Developer</td>\n",
       "    </tr>\n",
       "    <tr>\n",
       "      <th>3</th>\n",
       "      <td>Kwame</td>\n",
       "      <td>Beako</td>\n",
       "      <td>KNUST</td>\n",
       "      <td>36.0</td>\n",
       "      <td>Data scientist</td>\n",
       "    </tr>\n",
       "  </tbody>\n",
       "</table>\n",
       "</div>"
      ],
      "text/plain": [
       "  Firstname  Lastname School   Age         Profession\n",
       "4    Araba      Yahan  KNUST  33.4  Database engineer\n",
       "5    Franky  Tomatoes  KNUST  33.4      Data engineer\n",
       "6       Ama  Potatoes  Legon  33.4      Data engineer\n",
       "7     Kweku  Chilling   UMaT  56.0      Data engineer\n",
       "0      Kojo    Mensah  KNUST  24.0      Data engineer\n",
       "1       Aba     Kylis  KNUST  26.0       Data analyst\n",
       "2       Esi      Najo  Legon  25.0       BI Developer\n",
       "3     Kwame     Beako  KNUST  36.0     Data scientist"
      ]
     },
     "execution_count": 92,
     "metadata": {},
     "output_type": "execute_result"
    }
   ],
   "source": [
    "df4 = pd.concat([df2, df1])\n",
    "df4"
   ]
  },
  {
   "cell_type": "code",
   "execution_count": 93,
   "id": "b68d4a55",
   "metadata": {},
   "outputs": [
    {
     "data": {
      "text/html": [
       "<div>\n",
       "<style scoped>\n",
       "    .dataframe tbody tr th:only-of-type {\n",
       "        vertical-align: middle;\n",
       "    }\n",
       "\n",
       "    .dataframe tbody tr th {\n",
       "        vertical-align: top;\n",
       "    }\n",
       "\n",
       "    .dataframe thead th {\n",
       "        text-align: right;\n",
       "    }\n",
       "</style>\n",
       "<table border=\"1\" class=\"dataframe\">\n",
       "  <thead>\n",
       "    <tr style=\"text-align: right;\">\n",
       "      <th></th>\n",
       "      <th>Firstname</th>\n",
       "      <th>Lastname</th>\n",
       "      <th>School</th>\n",
       "      <th>Age</th>\n",
       "      <th>Profession</th>\n",
       "    </tr>\n",
       "  </thead>\n",
       "  <tbody>\n",
       "    <tr>\n",
       "      <th>0</th>\n",
       "      <td>Araba</td>\n",
       "      <td>Yahan</td>\n",
       "      <td>KNUST</td>\n",
       "      <td>33.4</td>\n",
       "      <td>Database engineer</td>\n",
       "    </tr>\n",
       "    <tr>\n",
       "      <th>1</th>\n",
       "      <td>Franky</td>\n",
       "      <td>Tomatoes</td>\n",
       "      <td>KNUST</td>\n",
       "      <td>33.4</td>\n",
       "      <td>Data engineer</td>\n",
       "    </tr>\n",
       "    <tr>\n",
       "      <th>2</th>\n",
       "      <td>Ama</td>\n",
       "      <td>Potatoes</td>\n",
       "      <td>Legon</td>\n",
       "      <td>33.4</td>\n",
       "      <td>Data engineer</td>\n",
       "    </tr>\n",
       "    <tr>\n",
       "      <th>3</th>\n",
       "      <td>Kweku</td>\n",
       "      <td>Chilling</td>\n",
       "      <td>UMaT</td>\n",
       "      <td>56.0</td>\n",
       "      <td>Data engineer</td>\n",
       "    </tr>\n",
       "    <tr>\n",
       "      <th>4</th>\n",
       "      <td>Kojo</td>\n",
       "      <td>Mensah</td>\n",
       "      <td>KNUST</td>\n",
       "      <td>24.0</td>\n",
       "      <td>Data engineer</td>\n",
       "    </tr>\n",
       "    <tr>\n",
       "      <th>5</th>\n",
       "      <td>Aba</td>\n",
       "      <td>Kylis</td>\n",
       "      <td>KNUST</td>\n",
       "      <td>26.0</td>\n",
       "      <td>Data analyst</td>\n",
       "    </tr>\n",
       "    <tr>\n",
       "      <th>6</th>\n",
       "      <td>Esi</td>\n",
       "      <td>Najo</td>\n",
       "      <td>Legon</td>\n",
       "      <td>25.0</td>\n",
       "      <td>BI Developer</td>\n",
       "    </tr>\n",
       "    <tr>\n",
       "      <th>7</th>\n",
       "      <td>Kwame</td>\n",
       "      <td>Beako</td>\n",
       "      <td>KNUST</td>\n",
       "      <td>36.0</td>\n",
       "      <td>Data scientist</td>\n",
       "    </tr>\n",
       "  </tbody>\n",
       "</table>\n",
       "</div>"
      ],
      "text/plain": [
       "  Firstname  Lastname School   Age         Profession\n",
       "0    Araba      Yahan  KNUST  33.4  Database engineer\n",
       "1    Franky  Tomatoes  KNUST  33.4      Data engineer\n",
       "2       Ama  Potatoes  Legon  33.4      Data engineer\n",
       "3     Kweku  Chilling   UMaT  56.0      Data engineer\n",
       "4      Kojo    Mensah  KNUST  24.0      Data engineer\n",
       "5       Aba     Kylis  KNUST  26.0       Data analyst\n",
       "6       Esi      Najo  Legon  25.0       BI Developer\n",
       "7     Kwame     Beako  KNUST  36.0     Data scientist"
      ]
     },
     "execution_count": 93,
     "metadata": {},
     "output_type": "execute_result"
    }
   ],
   "source": [
    "df5 = df4.reset_index(drop = True)\n",
    "df5"
   ]
  },
  {
   "cell_type": "markdown",
   "id": "d5c31157",
   "metadata": {},
   "source": [
    "### Merging"
   ]
  },
  {
   "cell_type": "code",
   "execution_count": 94,
   "id": "8f30c140",
   "metadata": {},
   "outputs": [
    {
     "data": {
      "text/html": [
       "<div>\n",
       "<style scoped>\n",
       "    .dataframe tbody tr th:only-of-type {\n",
       "        vertical-align: middle;\n",
       "    }\n",
       "\n",
       "    .dataframe tbody tr th {\n",
       "        vertical-align: top;\n",
       "    }\n",
       "\n",
       "    .dataframe thead th {\n",
       "        text-align: right;\n",
       "    }\n",
       "</style>\n",
       "<table border=\"1\" class=\"dataframe\">\n",
       "  <thead>\n",
       "    <tr style=\"text-align: right;\">\n",
       "      <th></th>\n",
       "      <th>ID</th>\n",
       "      <th>Name</th>\n",
       "      <th>Age</th>\n",
       "    </tr>\n",
       "  </thead>\n",
       "  <tbody>\n",
       "    <tr>\n",
       "      <th>0</th>\n",
       "      <td>1</td>\n",
       "      <td>Aba</td>\n",
       "      <td>21</td>\n",
       "    </tr>\n",
       "    <tr>\n",
       "      <th>1</th>\n",
       "      <td>2</td>\n",
       "      <td>Kojo</td>\n",
       "      <td>87</td>\n",
       "    </tr>\n",
       "    <tr>\n",
       "      <th>2</th>\n",
       "      <td>3</td>\n",
       "      <td>Kwesi</td>\n",
       "      <td>54</td>\n",
       "    </tr>\n",
       "    <tr>\n",
       "      <th>3</th>\n",
       "      <td>4</td>\n",
       "      <td>Pratt</td>\n",
       "      <td>36</td>\n",
       "    </tr>\n",
       "  </tbody>\n",
       "</table>\n",
       "</div>"
      ],
      "text/plain": [
       "   ID   Name  Age\n",
       "0   1   Aba    21\n",
       "1   2   Kojo   87\n",
       "2   3  Kwesi   54\n",
       "3   4  Pratt   36"
      ]
     },
     "execution_count": 94,
     "metadata": {},
     "output_type": "execute_result"
    }
   ],
   "source": [
    "mdf1 = pd.read_excel('mergedf1.xlsx')\n",
    "mdf1"
   ]
  },
  {
   "cell_type": "code",
   "execution_count": 95,
   "id": "00cbfeb0",
   "metadata": {},
   "outputs": [
    {
     "data": {
      "text/html": [
       "<div>\n",
       "<style scoped>\n",
       "    .dataframe tbody tr th:only-of-type {\n",
       "        vertical-align: middle;\n",
       "    }\n",
       "\n",
       "    .dataframe tbody tr th {\n",
       "        vertical-align: top;\n",
       "    }\n",
       "\n",
       "    .dataframe thead th {\n",
       "        text-align: right;\n",
       "    }\n",
       "</style>\n",
       "<table border=\"1\" class=\"dataframe\">\n",
       "  <thead>\n",
       "    <tr style=\"text-align: right;\">\n",
       "      <th></th>\n",
       "      <th>Name</th>\n",
       "      <th>ID</th>\n",
       "      <th>School</th>\n",
       "      <th>Fav Food</th>\n",
       "    </tr>\n",
       "  </thead>\n",
       "  <tbody>\n",
       "    <tr>\n",
       "      <th>0</th>\n",
       "      <td>Kwesi</td>\n",
       "      <td>5</td>\n",
       "      <td>KNUST</td>\n",
       "      <td>Mango</td>\n",
       "    </tr>\n",
       "    <tr>\n",
       "      <th>1</th>\n",
       "      <td>Kilson</td>\n",
       "      <td>6</td>\n",
       "      <td>Legon</td>\n",
       "      <td>Rice</td>\n",
       "    </tr>\n",
       "  </tbody>\n",
       "</table>\n",
       "</div>"
      ],
      "text/plain": [
       "     Name  ID School Fav Food\n",
       "0   Kwesi   5  KNUST    Mango\n",
       "1  Kilson   6  Legon     Rice"
      ]
     },
     "execution_count": 95,
     "metadata": {},
     "output_type": "execute_result"
    }
   ],
   "source": [
    "mdf2 = pd.read_excel('mergedf2.xlsx')\n",
    "mdf2"
   ]
  },
  {
   "cell_type": "code",
   "execution_count": 96,
   "id": "c32269e9",
   "metadata": {},
   "outputs": [
    {
     "data": {
      "text/html": [
       "<div>\n",
       "<style scoped>\n",
       "    .dataframe tbody tr th:only-of-type {\n",
       "        vertical-align: middle;\n",
       "    }\n",
       "\n",
       "    .dataframe tbody tr th {\n",
       "        vertical-align: top;\n",
       "    }\n",
       "\n",
       "    .dataframe thead th {\n",
       "        text-align: right;\n",
       "    }\n",
       "</style>\n",
       "<table border=\"1\" class=\"dataframe\">\n",
       "  <thead>\n",
       "    <tr style=\"text-align: right;\">\n",
       "      <th></th>\n",
       "      <th>Name</th>\n",
       "      <th>ID</th>\n",
       "      <th>Hometown</th>\n",
       "    </tr>\n",
       "  </thead>\n",
       "  <tbody>\n",
       "    <tr>\n",
       "      <th>0</th>\n",
       "      <td>Aba</td>\n",
       "      <td>1</td>\n",
       "      <td>Bogoso</td>\n",
       "    </tr>\n",
       "    <tr>\n",
       "      <th>1</th>\n",
       "      <td>Kojo</td>\n",
       "      <td>2</td>\n",
       "      <td>Atuabo</td>\n",
       "    </tr>\n",
       "    <tr>\n",
       "      <th>2</th>\n",
       "      <td>Kwesi</td>\n",
       "      <td>3</td>\n",
       "      <td>Wenchi</td>\n",
       "    </tr>\n",
       "    <tr>\n",
       "      <th>3</th>\n",
       "      <td>Pratt</td>\n",
       "      <td>4</td>\n",
       "      <td>Wa</td>\n",
       "    </tr>\n",
       "  </tbody>\n",
       "</table>\n",
       "</div>"
      ],
      "text/plain": [
       "   Name   ID Hometown\n",
       "0   Aba    1   Bogoso\n",
       "1   Kojo   2   Atuabo\n",
       "2  Kwesi   3   Wenchi\n",
       "3  Pratt   4       Wa"
      ]
     },
     "execution_count": 96,
     "metadata": {},
     "output_type": "execute_result"
    }
   ],
   "source": [
    "mdf3 = pd.read_excel('mergedf3.xlsx')\n",
    "mdf3"
   ]
  },
  {
   "cell_type": "code",
   "execution_count": 97,
   "id": "e8d08fd6",
   "metadata": {},
   "outputs": [
    {
     "data": {
      "text/plain": [
       "Index(['Name', 'ID', 'School', 'Fav Food'], dtype='object')"
      ]
     },
     "execution_count": 97,
     "metadata": {},
     "output_type": "execute_result"
    }
   ],
   "source": [
    "mdf2.columns"
   ]
  },
  {
   "cell_type": "code",
   "execution_count": 98,
   "id": "c4cc47f7",
   "metadata": {},
   "outputs": [],
   "source": [
    "mdf3.columns = ['Name', 'ID', 'Hometown']"
   ]
  },
  {
   "cell_type": "code",
   "execution_count": 99,
   "id": "e23ae3f4",
   "metadata": {},
   "outputs": [
    {
     "data": {
      "text/plain": [
       "Index(['Name', 'ID', 'Hometown'], dtype='object')"
      ]
     },
     "execution_count": 99,
     "metadata": {},
     "output_type": "execute_result"
    }
   ],
   "source": [
    "mdf3.columns"
   ]
  },
  {
   "cell_type": "code",
   "execution_count": 100,
   "id": "935796a8",
   "metadata": {},
   "outputs": [
    {
     "data": {
      "text/html": [
       "<div>\n",
       "<style scoped>\n",
       "    .dataframe tbody tr th:only-of-type {\n",
       "        vertical-align: middle;\n",
       "    }\n",
       "\n",
       "    .dataframe tbody tr th {\n",
       "        vertical-align: top;\n",
       "    }\n",
       "\n",
       "    .dataframe thead th {\n",
       "        text-align: right;\n",
       "    }\n",
       "</style>\n",
       "<table border=\"1\" class=\"dataframe\">\n",
       "  <thead>\n",
       "    <tr style=\"text-align: right;\">\n",
       "      <th></th>\n",
       "      <th>Name</th>\n",
       "      <th>ID_x</th>\n",
       "      <th>School</th>\n",
       "      <th>Fav Food</th>\n",
       "      <th>ID_y</th>\n",
       "      <th>Hometown</th>\n",
       "    </tr>\n",
       "  </thead>\n",
       "  <tbody>\n",
       "    <tr>\n",
       "      <th>0</th>\n",
       "      <td>Kwesi</td>\n",
       "      <td>5</td>\n",
       "      <td>KNUST</td>\n",
       "      <td>Mango</td>\n",
       "      <td>3</td>\n",
       "      <td>Wenchi</td>\n",
       "    </tr>\n",
       "  </tbody>\n",
       "</table>\n",
       "</div>"
      ],
      "text/plain": [
       "    Name  ID_x School Fav Food  ID_y Hometown\n",
       "0  Kwesi     5  KNUST    Mango     3   Wenchi"
      ]
     },
     "execution_count": 100,
     "metadata": {},
     "output_type": "execute_result"
    }
   ],
   "source": [
    "mdf2.merge(mdf3, on = 'Name', how = 'inner')"
   ]
  },
  {
   "cell_type": "code",
   "execution_count": 101,
   "id": "9b226b6f",
   "metadata": {},
   "outputs": [
    {
     "data": {
      "text/html": [
       "<div>\n",
       "<style scoped>\n",
       "    .dataframe tbody tr th:only-of-type {\n",
       "        vertical-align: middle;\n",
       "    }\n",
       "\n",
       "    .dataframe tbody tr th {\n",
       "        vertical-align: top;\n",
       "    }\n",
       "\n",
       "    .dataframe thead th {\n",
       "        text-align: right;\n",
       "    }\n",
       "</style>\n",
       "<table border=\"1\" class=\"dataframe\">\n",
       "  <thead>\n",
       "    <tr style=\"text-align: right;\">\n",
       "      <th></th>\n",
       "      <th>Name</th>\n",
       "      <th>ID_x</th>\n",
       "      <th>School</th>\n",
       "      <th>Fav Food</th>\n",
       "      <th>ID_y</th>\n",
       "      <th>Hometown</th>\n",
       "    </tr>\n",
       "  </thead>\n",
       "  <tbody>\n",
       "    <tr>\n",
       "      <th>0</th>\n",
       "      <td>Kwesi</td>\n",
       "      <td>5.0</td>\n",
       "      <td>KNUST</td>\n",
       "      <td>Mango</td>\n",
       "      <td>3.0</td>\n",
       "      <td>Wenchi</td>\n",
       "    </tr>\n",
       "    <tr>\n",
       "      <th>1</th>\n",
       "      <td>Kilson</td>\n",
       "      <td>6.0</td>\n",
       "      <td>Legon</td>\n",
       "      <td>Rice</td>\n",
       "      <td>NaN</td>\n",
       "      <td>NaN</td>\n",
       "    </tr>\n",
       "    <tr>\n",
       "      <th>2</th>\n",
       "      <td>Aba</td>\n",
       "      <td>NaN</td>\n",
       "      <td>NaN</td>\n",
       "      <td>NaN</td>\n",
       "      <td>1.0</td>\n",
       "      <td>Bogoso</td>\n",
       "    </tr>\n",
       "    <tr>\n",
       "      <th>3</th>\n",
       "      <td>Kojo</td>\n",
       "      <td>NaN</td>\n",
       "      <td>NaN</td>\n",
       "      <td>NaN</td>\n",
       "      <td>2.0</td>\n",
       "      <td>Atuabo</td>\n",
       "    </tr>\n",
       "    <tr>\n",
       "      <th>4</th>\n",
       "      <td>Pratt</td>\n",
       "      <td>NaN</td>\n",
       "      <td>NaN</td>\n",
       "      <td>NaN</td>\n",
       "      <td>4.0</td>\n",
       "      <td>Wa</td>\n",
       "    </tr>\n",
       "  </tbody>\n",
       "</table>\n",
       "</div>"
      ],
      "text/plain": [
       "     Name  ID_x School Fav Food  ID_y Hometown\n",
       "0   Kwesi   5.0  KNUST    Mango   3.0   Wenchi\n",
       "1  Kilson   6.0  Legon     Rice   NaN      NaN\n",
       "2    Aba    NaN    NaN      NaN   1.0   Bogoso\n",
       "3    Kojo   NaN    NaN      NaN   2.0   Atuabo\n",
       "4   Pratt   NaN    NaN      NaN   4.0       Wa"
      ]
     },
     "execution_count": 101,
     "metadata": {},
     "output_type": "execute_result"
    }
   ],
   "source": [
    "mdf2.merge(mdf3, on = 'Name', how = 'outer')"
   ]
  },
  {
   "cell_type": "code",
   "execution_count": 102,
   "id": "425d2fba",
   "metadata": {},
   "outputs": [
    {
     "data": {
      "text/html": [
       "<div>\n",
       "<style scoped>\n",
       "    .dataframe tbody tr th:only-of-type {\n",
       "        vertical-align: middle;\n",
       "    }\n",
       "\n",
       "    .dataframe tbody tr th {\n",
       "        vertical-align: top;\n",
       "    }\n",
       "\n",
       "    .dataframe thead th {\n",
       "        text-align: right;\n",
       "    }\n",
       "</style>\n",
       "<table border=\"1\" class=\"dataframe\">\n",
       "  <thead>\n",
       "    <tr style=\"text-align: right;\">\n",
       "      <th></th>\n",
       "      <th>Name</th>\n",
       "      <th>ID_x</th>\n",
       "      <th>School</th>\n",
       "      <th>Fav Food</th>\n",
       "      <th>ID_y</th>\n",
       "      <th>Hometown</th>\n",
       "    </tr>\n",
       "  </thead>\n",
       "  <tbody>\n",
       "    <tr>\n",
       "      <th>0</th>\n",
       "      <td>Kwesi</td>\n",
       "      <td>5</td>\n",
       "      <td>KNUST</td>\n",
       "      <td>Mango</td>\n",
       "      <td>3.0</td>\n",
       "      <td>Wenchi</td>\n",
       "    </tr>\n",
       "    <tr>\n",
       "      <th>1</th>\n",
       "      <td>Kilson</td>\n",
       "      <td>6</td>\n",
       "      <td>Legon</td>\n",
       "      <td>Rice</td>\n",
       "      <td>NaN</td>\n",
       "      <td>NaN</td>\n",
       "    </tr>\n",
       "  </tbody>\n",
       "</table>\n",
       "</div>"
      ],
      "text/plain": [
       "     Name  ID_x School Fav Food  ID_y Hometown\n",
       "0   Kwesi     5  KNUST    Mango   3.0   Wenchi\n",
       "1  Kilson     6  Legon     Rice   NaN      NaN"
      ]
     },
     "execution_count": 102,
     "metadata": {},
     "output_type": "execute_result"
    }
   ],
   "source": [
    "mdf2.merge(mdf3, on = 'Name', how = 'left')"
   ]
  },
  {
   "cell_type": "code",
   "execution_count": 103,
   "id": "3b0b15f3",
   "metadata": {},
   "outputs": [
    {
     "data": {
      "text/html": [
       "<div>\n",
       "<style scoped>\n",
       "    .dataframe tbody tr th:only-of-type {\n",
       "        vertical-align: middle;\n",
       "    }\n",
       "\n",
       "    .dataframe tbody tr th {\n",
       "        vertical-align: top;\n",
       "    }\n",
       "\n",
       "    .dataframe thead th {\n",
       "        text-align: right;\n",
       "    }\n",
       "</style>\n",
       "<table border=\"1\" class=\"dataframe\">\n",
       "  <thead>\n",
       "    <tr style=\"text-align: right;\">\n",
       "      <th></th>\n",
       "      <th>Name</th>\n",
       "      <th>ID_x</th>\n",
       "      <th>School</th>\n",
       "      <th>Fav Food</th>\n",
       "      <th>ID_y</th>\n",
       "      <th>Hometown</th>\n",
       "    </tr>\n",
       "  </thead>\n",
       "  <tbody>\n",
       "    <tr>\n",
       "      <th>0</th>\n",
       "      <td>Aba</td>\n",
       "      <td>NaN</td>\n",
       "      <td>NaN</td>\n",
       "      <td>NaN</td>\n",
       "      <td>1</td>\n",
       "      <td>Bogoso</td>\n",
       "    </tr>\n",
       "    <tr>\n",
       "      <th>1</th>\n",
       "      <td>Kojo</td>\n",
       "      <td>NaN</td>\n",
       "      <td>NaN</td>\n",
       "      <td>NaN</td>\n",
       "      <td>2</td>\n",
       "      <td>Atuabo</td>\n",
       "    </tr>\n",
       "    <tr>\n",
       "      <th>2</th>\n",
       "      <td>Kwesi</td>\n",
       "      <td>5.0</td>\n",
       "      <td>KNUST</td>\n",
       "      <td>Mango</td>\n",
       "      <td>3</td>\n",
       "      <td>Wenchi</td>\n",
       "    </tr>\n",
       "    <tr>\n",
       "      <th>3</th>\n",
       "      <td>Pratt</td>\n",
       "      <td>NaN</td>\n",
       "      <td>NaN</td>\n",
       "      <td>NaN</td>\n",
       "      <td>4</td>\n",
       "      <td>Wa</td>\n",
       "    </tr>\n",
       "  </tbody>\n",
       "</table>\n",
       "</div>"
      ],
      "text/plain": [
       "    Name  ID_x School Fav Food  ID_y Hometown\n",
       "0   Aba    NaN    NaN      NaN     1   Bogoso\n",
       "1   Kojo   NaN    NaN      NaN     2   Atuabo\n",
       "2  Kwesi   5.0  KNUST    Mango     3   Wenchi\n",
       "3  Pratt   NaN    NaN      NaN     4       Wa"
      ]
     },
     "execution_count": 103,
     "metadata": {},
     "output_type": "execute_result"
    }
   ],
   "source": [
    "mdf2.merge(mdf3, on = 'Name', how = 'right')"
   ]
  },
  {
   "cell_type": "markdown",
   "id": "a09f0c11",
   "metadata": {},
   "source": [
    "### Group By"
   ]
  },
  {
   "cell_type": "code",
   "execution_count": 104,
   "id": "2b1e7e23",
   "metadata": {},
   "outputs": [
    {
     "data": {
      "text/html": [
       "<div>\n",
       "<style scoped>\n",
       "    .dataframe tbody tr th:only-of-type {\n",
       "        vertical-align: middle;\n",
       "    }\n",
       "\n",
       "    .dataframe tbody tr th {\n",
       "        vertical-align: top;\n",
       "    }\n",
       "\n",
       "    .dataframe thead th {\n",
       "        text-align: right;\n",
       "    }\n",
       "</style>\n",
       "<table border=\"1\" class=\"dataframe\">\n",
       "  <thead>\n",
       "    <tr style=\"text-align: right;\">\n",
       "      <th></th>\n",
       "      <th>Firstname</th>\n",
       "      <th>Lastname</th>\n",
       "      <th>School</th>\n",
       "      <th>Age</th>\n",
       "      <th>Profession</th>\n",
       "    </tr>\n",
       "  </thead>\n",
       "  <tbody>\n",
       "    <tr>\n",
       "      <th>0</th>\n",
       "      <td>Kojo</td>\n",
       "      <td>Mensah</td>\n",
       "      <td>KNUST</td>\n",
       "      <td>24.0</td>\n",
       "      <td>Data engineer</td>\n",
       "    </tr>\n",
       "    <tr>\n",
       "      <th>1</th>\n",
       "      <td>Aba</td>\n",
       "      <td>Kylis</td>\n",
       "      <td>KNUST</td>\n",
       "      <td>26.0</td>\n",
       "      <td>Data analyst</td>\n",
       "    </tr>\n",
       "    <tr>\n",
       "      <th>2</th>\n",
       "      <td>Esi</td>\n",
       "      <td>Najo</td>\n",
       "      <td>Legon</td>\n",
       "      <td>25.0</td>\n",
       "      <td>BI Developer</td>\n",
       "    </tr>\n",
       "    <tr>\n",
       "      <th>3</th>\n",
       "      <td>Kwame</td>\n",
       "      <td>Beako</td>\n",
       "      <td>KNUST</td>\n",
       "      <td>36.0</td>\n",
       "      <td>Data scientist</td>\n",
       "    </tr>\n",
       "    <tr>\n",
       "      <th>4</th>\n",
       "      <td>Araba</td>\n",
       "      <td>Yahan</td>\n",
       "      <td>KNUST</td>\n",
       "      <td>33.4</td>\n",
       "      <td>Database engineer</td>\n",
       "    </tr>\n",
       "    <tr>\n",
       "      <th>5</th>\n",
       "      <td>Franky</td>\n",
       "      <td>Tomatoes</td>\n",
       "      <td>KNUST</td>\n",
       "      <td>33.4</td>\n",
       "      <td>Data engineer</td>\n",
       "    </tr>\n",
       "    <tr>\n",
       "      <th>6</th>\n",
       "      <td>Ama</td>\n",
       "      <td>Potatoes</td>\n",
       "      <td>Legon</td>\n",
       "      <td>33.4</td>\n",
       "      <td>Data engineer</td>\n",
       "    </tr>\n",
       "    <tr>\n",
       "      <th>7</th>\n",
       "      <td>Kweku</td>\n",
       "      <td>Chilling</td>\n",
       "      <td>UMaT</td>\n",
       "      <td>56.0</td>\n",
       "      <td>Data engineer</td>\n",
       "    </tr>\n",
       "  </tbody>\n",
       "</table>\n",
       "</div>"
      ],
      "text/plain": [
       "  Firstname  Lastname School   Age         Profession\n",
       "0      Kojo    Mensah  KNUST  24.0      Data engineer\n",
       "1       Aba     Kylis  KNUST  26.0       Data analyst\n",
       "2       Esi      Najo  Legon  25.0       BI Developer\n",
       "3     Kwame     Beako  KNUST  36.0     Data scientist\n",
       "4    Araba      Yahan  KNUST  33.4  Database engineer\n",
       "5    Franky  Tomatoes  KNUST  33.4      Data engineer\n",
       "6       Ama  Potatoes  Legon  33.4      Data engineer\n",
       "7     Kweku  Chilling   UMaT  56.0      Data engineer"
      ]
     },
     "execution_count": 104,
     "metadata": {},
     "output_type": "execute_result"
    }
   ],
   "source": [
    "df"
   ]
  },
  {
   "cell_type": "code",
   "execution_count": 105,
   "id": "da14063c",
   "metadata": {},
   "outputs": [
    {
     "data": {
      "text/html": [
       "<div>\n",
       "<style scoped>\n",
       "    .dataframe tbody tr th:only-of-type {\n",
       "        vertical-align: middle;\n",
       "    }\n",
       "\n",
       "    .dataframe tbody tr th {\n",
       "        vertical-align: top;\n",
       "    }\n",
       "\n",
       "    .dataframe thead th {\n",
       "        text-align: right;\n",
       "    }\n",
       "</style>\n",
       "<table border=\"1\" class=\"dataframe\">\n",
       "  <thead>\n",
       "    <tr style=\"text-align: right;\">\n",
       "      <th></th>\n",
       "      <th>Firstname</th>\n",
       "      <th>Lastname</th>\n",
       "      <th>School</th>\n",
       "      <th>Age</th>\n",
       "    </tr>\n",
       "    <tr>\n",
       "      <th>Profession</th>\n",
       "      <th></th>\n",
       "      <th></th>\n",
       "      <th></th>\n",
       "      <th></th>\n",
       "    </tr>\n",
       "  </thead>\n",
       "  <tbody>\n",
       "    <tr>\n",
       "      <th>BI Developer</th>\n",
       "      <td>1</td>\n",
       "      <td>1</td>\n",
       "      <td>1</td>\n",
       "      <td>1</td>\n",
       "    </tr>\n",
       "    <tr>\n",
       "      <th>Data analyst</th>\n",
       "      <td>1</td>\n",
       "      <td>1</td>\n",
       "      <td>1</td>\n",
       "      <td>1</td>\n",
       "    </tr>\n",
       "    <tr>\n",
       "      <th>Data engineer</th>\n",
       "      <td>4</td>\n",
       "      <td>4</td>\n",
       "      <td>4</td>\n",
       "      <td>4</td>\n",
       "    </tr>\n",
       "    <tr>\n",
       "      <th>Data scientist</th>\n",
       "      <td>1</td>\n",
       "      <td>1</td>\n",
       "      <td>1</td>\n",
       "      <td>1</td>\n",
       "    </tr>\n",
       "    <tr>\n",
       "      <th>Database engineer</th>\n",
       "      <td>1</td>\n",
       "      <td>1</td>\n",
       "      <td>1</td>\n",
       "      <td>1</td>\n",
       "    </tr>\n",
       "  </tbody>\n",
       "</table>\n",
       "</div>"
      ],
      "text/plain": [
       "                   Firstname  Lastname  School  Age\n",
       "Profession                                         \n",
       "BI Developer               1         1       1    1\n",
       "Data analyst               1         1       1    1\n",
       "Data engineer              4         4       4    4\n",
       "Data scientist             1         1       1    1\n",
       "Database engineer          1         1       1    1"
      ]
     },
     "execution_count": 105,
     "metadata": {},
     "output_type": "execute_result"
    }
   ],
   "source": [
    "df.groupby('Profession').count()"
   ]
  },
  {
   "cell_type": "code",
   "execution_count": 106,
   "id": "7209df5a",
   "metadata": {},
   "outputs": [
    {
     "data": {
      "text/html": [
       "<div>\n",
       "<style scoped>\n",
       "    .dataframe tbody tr th:only-of-type {\n",
       "        vertical-align: middle;\n",
       "    }\n",
       "\n",
       "    .dataframe tbody tr th {\n",
       "        vertical-align: top;\n",
       "    }\n",
       "\n",
       "    .dataframe thead th {\n",
       "        text-align: right;\n",
       "    }\n",
       "</style>\n",
       "<table border=\"1\" class=\"dataframe\">\n",
       "  <thead>\n",
       "    <tr style=\"text-align: right;\">\n",
       "      <th></th>\n",
       "      <th>Age</th>\n",
       "    </tr>\n",
       "    <tr>\n",
       "      <th>Profession</th>\n",
       "      <th></th>\n",
       "    </tr>\n",
       "  </thead>\n",
       "  <tbody>\n",
       "    <tr>\n",
       "      <th>BI Developer</th>\n",
       "      <td>25.0</td>\n",
       "    </tr>\n",
       "    <tr>\n",
       "      <th>Data analyst</th>\n",
       "      <td>26.0</td>\n",
       "    </tr>\n",
       "    <tr>\n",
       "      <th>Data engineer</th>\n",
       "      <td>146.8</td>\n",
       "    </tr>\n",
       "    <tr>\n",
       "      <th>Data scientist</th>\n",
       "      <td>36.0</td>\n",
       "    </tr>\n",
       "    <tr>\n",
       "      <th>Database engineer</th>\n",
       "      <td>33.4</td>\n",
       "    </tr>\n",
       "  </tbody>\n",
       "</table>\n",
       "</div>"
      ],
      "text/plain": [
       "                     Age\n",
       "Profession              \n",
       "BI Developer        25.0\n",
       "Data analyst        26.0\n",
       "Data engineer      146.8\n",
       "Data scientist      36.0\n",
       "Database engineer   33.4"
      ]
     },
     "execution_count": 106,
     "metadata": {},
     "output_type": "execute_result"
    }
   ],
   "source": [
    "df.groupby('Profession').sum()"
   ]
  },
  {
   "cell_type": "code",
   "execution_count": 107,
   "id": "c278beff",
   "metadata": {},
   "outputs": [
    {
     "data": {
      "text/html": [
       "<div>\n",
       "<style scoped>\n",
       "    .dataframe tbody tr th:only-of-type {\n",
       "        vertical-align: middle;\n",
       "    }\n",
       "\n",
       "    .dataframe tbody tr th {\n",
       "        vertical-align: top;\n",
       "    }\n",
       "\n",
       "    .dataframe thead th {\n",
       "        text-align: right;\n",
       "    }\n",
       "</style>\n",
       "<table border=\"1\" class=\"dataframe\">\n",
       "  <thead>\n",
       "    <tr style=\"text-align: right;\">\n",
       "      <th></th>\n",
       "      <th>day</th>\n",
       "      <th>city</th>\n",
       "      <th>temperature</th>\n",
       "      <th>windspeed</th>\n",
       "      <th>event</th>\n",
       "    </tr>\n",
       "  </thead>\n",
       "  <tbody>\n",
       "    <tr>\n",
       "      <th>0</th>\n",
       "      <td>1/1/2017</td>\n",
       "      <td>new york</td>\n",
       "      <td>32</td>\n",
       "      <td>6</td>\n",
       "      <td>Rain</td>\n",
       "    </tr>\n",
       "    <tr>\n",
       "      <th>1</th>\n",
       "      <td>1/2/2017</td>\n",
       "      <td>new york</td>\n",
       "      <td>36</td>\n",
       "      <td>7</td>\n",
       "      <td>Sunny</td>\n",
       "    </tr>\n",
       "    <tr>\n",
       "      <th>2</th>\n",
       "      <td>1/3/2017</td>\n",
       "      <td>new york</td>\n",
       "      <td>28</td>\n",
       "      <td>12</td>\n",
       "      <td>Snow</td>\n",
       "    </tr>\n",
       "    <tr>\n",
       "      <th>3</th>\n",
       "      <td>1/4/2017</td>\n",
       "      <td>new york</td>\n",
       "      <td>33</td>\n",
       "      <td>7</td>\n",
       "      <td>Sunny</td>\n",
       "    </tr>\n",
       "    <tr>\n",
       "      <th>4</th>\n",
       "      <td>1/1/2017</td>\n",
       "      <td>mumbai</td>\n",
       "      <td>90</td>\n",
       "      <td>5</td>\n",
       "      <td>Sunny</td>\n",
       "    </tr>\n",
       "    <tr>\n",
       "      <th>5</th>\n",
       "      <td>1/2/2017</td>\n",
       "      <td>mumbai</td>\n",
       "      <td>85</td>\n",
       "      <td>12</td>\n",
       "      <td>Fog</td>\n",
       "    </tr>\n",
       "    <tr>\n",
       "      <th>6</th>\n",
       "      <td>1/3/2017</td>\n",
       "      <td>mumbai</td>\n",
       "      <td>87</td>\n",
       "      <td>15</td>\n",
       "      <td>Fog</td>\n",
       "    </tr>\n",
       "    <tr>\n",
       "      <th>7</th>\n",
       "      <td>1/4/2017</td>\n",
       "      <td>mumbai</td>\n",
       "      <td>92</td>\n",
       "      <td>5</td>\n",
       "      <td>Rain</td>\n",
       "    </tr>\n",
       "    <tr>\n",
       "      <th>8</th>\n",
       "      <td>1/1/2017</td>\n",
       "      <td>paris</td>\n",
       "      <td>45</td>\n",
       "      <td>20</td>\n",
       "      <td>Sunny</td>\n",
       "    </tr>\n",
       "    <tr>\n",
       "      <th>9</th>\n",
       "      <td>1/2/2017</td>\n",
       "      <td>paris</td>\n",
       "      <td>50</td>\n",
       "      <td>13</td>\n",
       "      <td>Cloudy</td>\n",
       "    </tr>\n",
       "    <tr>\n",
       "      <th>10</th>\n",
       "      <td>1/3/2017</td>\n",
       "      <td>paris</td>\n",
       "      <td>54</td>\n",
       "      <td>8</td>\n",
       "      <td>Cloudy</td>\n",
       "    </tr>\n",
       "    <tr>\n",
       "      <th>11</th>\n",
       "      <td>1/4/2017</td>\n",
       "      <td>paris</td>\n",
       "      <td>42</td>\n",
       "      <td>10</td>\n",
       "      <td>Cloudy</td>\n",
       "    </tr>\n",
       "  </tbody>\n",
       "</table>\n",
       "</div>"
      ],
      "text/plain": [
       "         day      city  temperature  windspeed   event\n",
       "0   1/1/2017  new york           32          6    Rain\n",
       "1   1/2/2017  new york           36          7   Sunny\n",
       "2   1/3/2017  new york           28         12    Snow\n",
       "3   1/4/2017  new york           33          7   Sunny\n",
       "4   1/1/2017    mumbai           90          5   Sunny\n",
       "5   1/2/2017    mumbai           85         12     Fog\n",
       "6   1/3/2017    mumbai           87         15     Fog\n",
       "7   1/4/2017    mumbai           92          5    Rain\n",
       "8   1/1/2017     paris           45         20   Sunny\n",
       "9   1/2/2017     paris           50         13  Cloudy\n",
       "10  1/3/2017     paris           54          8  Cloudy\n",
       "11  1/4/2017     paris           42         10  Cloudy"
      ]
     },
     "execution_count": 107,
     "metadata": {},
     "output_type": "execute_result"
    }
   ],
   "source": [
    "newdf = pd.read_csv('weather_by_cities.csv')\n",
    "newdf"
   ]
  },
  {
   "cell_type": "code",
   "execution_count": 108,
   "id": "3a052de8",
   "metadata": {},
   "outputs": [
    {
     "data": {
      "text/html": [
       "<div>\n",
       "<style scoped>\n",
       "    .dataframe tbody tr th:only-of-type {\n",
       "        vertical-align: middle;\n",
       "    }\n",
       "\n",
       "    .dataframe tbody tr th {\n",
       "        vertical-align: top;\n",
       "    }\n",
       "\n",
       "    .dataframe thead th {\n",
       "        text-align: right;\n",
       "    }\n",
       "</style>\n",
       "<table border=\"1\" class=\"dataframe\">\n",
       "  <thead>\n",
       "    <tr style=\"text-align: right;\">\n",
       "      <th></th>\n",
       "      <th>temperature</th>\n",
       "      <th>windspeed</th>\n",
       "    </tr>\n",
       "    <tr>\n",
       "      <th>event</th>\n",
       "      <th></th>\n",
       "      <th></th>\n",
       "    </tr>\n",
       "  </thead>\n",
       "  <tbody>\n",
       "    <tr>\n",
       "      <th>Cloudy</th>\n",
       "      <td>48.666667</td>\n",
       "      <td>10.333333</td>\n",
       "    </tr>\n",
       "    <tr>\n",
       "      <th>Fog</th>\n",
       "      <td>86.000000</td>\n",
       "      <td>13.500000</td>\n",
       "    </tr>\n",
       "    <tr>\n",
       "      <th>Rain</th>\n",
       "      <td>62.000000</td>\n",
       "      <td>5.500000</td>\n",
       "    </tr>\n",
       "    <tr>\n",
       "      <th>Snow</th>\n",
       "      <td>28.000000</td>\n",
       "      <td>12.000000</td>\n",
       "    </tr>\n",
       "    <tr>\n",
       "      <th>Sunny</th>\n",
       "      <td>51.000000</td>\n",
       "      <td>9.750000</td>\n",
       "    </tr>\n",
       "  </tbody>\n",
       "</table>\n",
       "</div>"
      ],
      "text/plain": [
       "        temperature  windspeed\n",
       "event                         \n",
       "Cloudy    48.666667  10.333333\n",
       "Fog       86.000000  13.500000\n",
       "Rain      62.000000   5.500000\n",
       "Snow      28.000000  12.000000\n",
       "Sunny     51.000000   9.750000"
      ]
     },
     "execution_count": 108,
     "metadata": {},
     "output_type": "execute_result"
    }
   ],
   "source": [
    "newdf.groupby('event').mean(['temperature', 'speed'])"
   ]
  },
  {
   "cell_type": "code",
   "execution_count": 109,
   "id": "36dbb3ec",
   "metadata": {},
   "outputs": [
    {
     "data": {
      "text/html": [
       "<div>\n",
       "<style scoped>\n",
       "    .dataframe tbody tr th:only-of-type {\n",
       "        vertical-align: middle;\n",
       "    }\n",
       "\n",
       "    .dataframe tbody tr th {\n",
       "        vertical-align: top;\n",
       "    }\n",
       "\n",
       "    .dataframe thead th {\n",
       "        text-align: right;\n",
       "    }\n",
       "</style>\n",
       "<table border=\"1\" class=\"dataframe\">\n",
       "  <thead>\n",
       "    <tr style=\"text-align: right;\">\n",
       "      <th></th>\n",
       "      <th>temperature</th>\n",
       "      <th>windspeed</th>\n",
       "    </tr>\n",
       "    <tr>\n",
       "      <th>event</th>\n",
       "      <th></th>\n",
       "      <th></th>\n",
       "    </tr>\n",
       "  </thead>\n",
       "  <tbody>\n",
       "    <tr>\n",
       "      <th>Cloudy</th>\n",
       "      <td>146</td>\n",
       "      <td>31</td>\n",
       "    </tr>\n",
       "    <tr>\n",
       "      <th>Fog</th>\n",
       "      <td>172</td>\n",
       "      <td>27</td>\n",
       "    </tr>\n",
       "    <tr>\n",
       "      <th>Rain</th>\n",
       "      <td>124</td>\n",
       "      <td>11</td>\n",
       "    </tr>\n",
       "    <tr>\n",
       "      <th>Snow</th>\n",
       "      <td>28</td>\n",
       "      <td>12</td>\n",
       "    </tr>\n",
       "    <tr>\n",
       "      <th>Sunny</th>\n",
       "      <td>204</td>\n",
       "      <td>39</td>\n",
       "    </tr>\n",
       "  </tbody>\n",
       "</table>\n",
       "</div>"
      ],
      "text/plain": [
       "        temperature  windspeed\n",
       "event                         \n",
       "Cloudy          146         31\n",
       "Fog             172         27\n",
       "Rain            124         11\n",
       "Snow             28         12\n",
       "Sunny           204         39"
      ]
     },
     "execution_count": 109,
     "metadata": {},
     "output_type": "execute_result"
    }
   ],
   "source": [
    "newdf.groupby('event').sum(['temperature', 'speed'])"
   ]
  },
  {
   "cell_type": "code",
   "execution_count": 143,
   "id": "7700ae4d",
   "metadata": {
    "scrolled": true
   },
   "outputs": [
    {
     "data": {
      "text/html": [
       "<div>\n",
       "<style scoped>\n",
       "    .dataframe tbody tr th:only-of-type {\n",
       "        vertical-align: middle;\n",
       "    }\n",
       "\n",
       "    .dataframe tbody tr th {\n",
       "        vertical-align: top;\n",
       "    }\n",
       "\n",
       "    .dataframe thead th {\n",
       "        text-align: right;\n",
       "    }\n",
       "</style>\n",
       "<table border=\"1\" class=\"dataframe\">\n",
       "  <thead>\n",
       "    <tr style=\"text-align: right;\">\n",
       "      <th></th>\n",
       "      <th>REGION</th>\n",
       "      <th>DISTRICT</th>\n",
       "      <th>YEAR</th>\n",
       "      <th>CROP</th>\n",
       "      <th>AREA (HA)</th>\n",
       "      <th>YIELD (MT/HA)</th>\n",
       "      <th>PRODUCTION (MT)</th>\n",
       "    </tr>\n",
       "  </thead>\n",
       "  <tbody>\n",
       "    <tr>\n",
       "      <th>0</th>\n",
       "      <td>WESTERN</td>\n",
       "      <td>SHAMA AHANTA EAST</td>\n",
       "      <td>2008</td>\n",
       "      <td>MAIZE</td>\n",
       "      <td>1099.0</td>\n",
       "      <td>1.15</td>\n",
       "      <td>1263.85</td>\n",
       "    </tr>\n",
       "    <tr>\n",
       "      <th>1</th>\n",
       "      <td>WESTERN</td>\n",
       "      <td>WEST AHANTA</td>\n",
       "      <td>2008</td>\n",
       "      <td>MAIZE</td>\n",
       "      <td>1433.0</td>\n",
       "      <td>1.19</td>\n",
       "      <td>1705.27</td>\n",
       "    </tr>\n",
       "    <tr>\n",
       "      <th>2</th>\n",
       "      <td>WESTERN</td>\n",
       "      <td>MPORHOR WASSA EAST</td>\n",
       "      <td>2008</td>\n",
       "      <td>MAIZE</td>\n",
       "      <td>2034.0</td>\n",
       "      <td>1.32</td>\n",
       "      <td>2684.88</td>\n",
       "    </tr>\n",
       "    <tr>\n",
       "      <th>3</th>\n",
       "      <td>WESTERN</td>\n",
       "      <td>WASSA WEST</td>\n",
       "      <td>2008</td>\n",
       "      <td>MAIZE</td>\n",
       "      <td>2204.0</td>\n",
       "      <td>1.20</td>\n",
       "      <td>2644.80</td>\n",
       "    </tr>\n",
       "    <tr>\n",
       "      <th>4</th>\n",
       "      <td>WESTERN</td>\n",
       "      <td>EAST NZEMA</td>\n",
       "      <td>2008</td>\n",
       "      <td>MAIZE</td>\n",
       "      <td>1550.0</td>\n",
       "      <td>1.38</td>\n",
       "      <td>2139.00</td>\n",
       "    </tr>\n",
       "    <tr>\n",
       "      <th>...</th>\n",
       "      <td>...</td>\n",
       "      <td>...</td>\n",
       "      <td>...</td>\n",
       "      <td>...</td>\n",
       "      <td>...</td>\n",
       "      <td>...</td>\n",
       "      <td>...</td>\n",
       "    </tr>\n",
       "    <tr>\n",
       "      <th>8231</th>\n",
       "      <td>NORTHERN REGION</td>\n",
       "      <td>MAMPRUGU MOAGDURI</td>\n",
       "      <td>2017</td>\n",
       "      <td>CASSAVA</td>\n",
       "      <td>900.0</td>\n",
       "      <td>7.95</td>\n",
       "      <td>7155.00</td>\n",
       "    </tr>\n",
       "    <tr>\n",
       "      <th>8232</th>\n",
       "      <td>NORTHERN REGION</td>\n",
       "      <td>YENDI</td>\n",
       "      <td>2017</td>\n",
       "      <td>CASSAVA</td>\n",
       "      <td>4790.0</td>\n",
       "      <td>13.59</td>\n",
       "      <td>65096.10</td>\n",
       "    </tr>\n",
       "    <tr>\n",
       "      <th>8233</th>\n",
       "      <td>NORTHERN REGION</td>\n",
       "      <td>MION</td>\n",
       "      <td>2017</td>\n",
       "      <td>CASSAVA</td>\n",
       "      <td>3831.0</td>\n",
       "      <td>6.96</td>\n",
       "      <td>26663.76</td>\n",
       "    </tr>\n",
       "    <tr>\n",
       "      <th>8234</th>\n",
       "      <td>NORTHERN REGION</td>\n",
       "      <td>TATALE SANGULI</td>\n",
       "      <td>2017</td>\n",
       "      <td>CASSAVA</td>\n",
       "      <td>5192.0</td>\n",
       "      <td>13.85</td>\n",
       "      <td>71909.20</td>\n",
       "    </tr>\n",
       "    <tr>\n",
       "      <th>8235</th>\n",
       "      <td>NORTHERN REGION</td>\n",
       "      <td>ZABZUGU</td>\n",
       "      <td>2017</td>\n",
       "      <td>CASSAVA</td>\n",
       "      <td>4612.0</td>\n",
       "      <td>13.85</td>\n",
       "      <td>63876.20</td>\n",
       "    </tr>\n",
       "  </tbody>\n",
       "</table>\n",
       "<p>8236 rows × 7 columns</p>\n",
       "</div>"
      ],
      "text/plain": [
       "               REGION            DISTRICT  YEAR     CROP  AREA (HA)  \\\n",
       "0             WESTERN   SHAMA AHANTA EAST  2008    MAIZE     1099.0   \n",
       "1             WESTERN         WEST AHANTA  2008    MAIZE     1433.0   \n",
       "2             WESTERN  MPORHOR WASSA EAST  2008    MAIZE     2034.0   \n",
       "3             WESTERN          WASSA WEST  2008    MAIZE     2204.0   \n",
       "4             WESTERN          EAST NZEMA  2008    MAIZE     1550.0   \n",
       "...               ...                 ...   ...      ...        ...   \n",
       "8231  NORTHERN REGION   MAMPRUGU MOAGDURI  2017  CASSAVA      900.0   \n",
       "8232  NORTHERN REGION               YENDI  2017  CASSAVA     4790.0   \n",
       "8233  NORTHERN REGION                MION  2017  CASSAVA     3831.0   \n",
       "8234  NORTHERN REGION      TATALE SANGULI  2017  CASSAVA     5192.0   \n",
       "8235  NORTHERN REGION             ZABZUGU  2017  CASSAVA     4612.0   \n",
       "\n",
       "     YIELD (MT/HA) PRODUCTION (MT)  \n",
       "0             1.15         1263.85  \n",
       "1             1.19         1705.27  \n",
       "2             1.32         2684.88  \n",
       "3             1.20         2644.80  \n",
       "4             1.38         2139.00  \n",
       "...            ...             ...  \n",
       "8231          7.95         7155.00  \n",
       "8232         13.59        65096.10  \n",
       "8233          6.96        26663.76  \n",
       "8234         13.85        71909.20  \n",
       "8235         13.85        63876.20  \n",
       "\n",
       "[8236 rows x 7 columns]"
      ]
     },
     "execution_count": 143,
     "metadata": {},
     "output_type": "execute_result"
    }
   ],
   "source": [
    "pro_est_df = pd.read_csv('PRODUCTION ESTIMATES.csv')\n",
    "pro_est_df"
   ]
  },
  {
   "cell_type": "code",
   "execution_count": 144,
   "id": "3f0e9831",
   "metadata": {},
   "outputs": [
    {
     "name": "stdout",
     "output_type": "stream",
     "text": [
      "<class 'pandas.core.frame.DataFrame'>\n",
      "RangeIndex: 8236 entries, 0 to 8235\n",
      "Data columns (total 7 columns):\n",
      " #   Column           Non-Null Count  Dtype  \n",
      "---  ------           --------------  -----  \n",
      " 0   REGION           8236 non-null   object \n",
      " 1   DISTRICT         8236 non-null   object \n",
      " 2   YEAR             8236 non-null   int64  \n",
      " 3   CROP             8236 non-null   object \n",
      " 4   AREA (HA)        8236 non-null   float64\n",
      " 5   YIELD (MT/HA)    8220 non-null   object \n",
      " 6   PRODUCTION (MT)  8234 non-null   object \n",
      "dtypes: float64(1), int64(1), object(5)\n",
      "memory usage: 450.5+ KB\n"
     ]
    }
   ],
   "source": [
    "pro_est_df.info()"
   ]
  },
  {
   "cell_type": "code",
   "execution_count": 145,
   "id": "bc22b958",
   "metadata": {},
   "outputs": [
    {
     "data": {
      "text/plain": [
       "REGION              0\n",
       "DISTRICT            0\n",
       "YEAR                0\n",
       "CROP                0\n",
       "AREA (HA)           0\n",
       "YIELD (MT/HA)      16\n",
       "PRODUCTION (MT)     2\n",
       "dtype: int64"
      ]
     },
     "execution_count": 145,
     "metadata": {},
     "output_type": "execute_result"
    }
   ],
   "source": [
    "pro_est_df.isnull().sum()"
   ]
  },
  {
   "cell_type": "code",
   "execution_count": 146,
   "id": "4b3a4b1f",
   "metadata": {
    "scrolled": true
   },
   "outputs": [
    {
     "data": {
      "text/html": [
       "<div>\n",
       "<style scoped>\n",
       "    .dataframe tbody tr th:only-of-type {\n",
       "        vertical-align: middle;\n",
       "    }\n",
       "\n",
       "    .dataframe tbody tr th {\n",
       "        vertical-align: top;\n",
       "    }\n",
       "\n",
       "    .dataframe thead th {\n",
       "        text-align: right;\n",
       "    }\n",
       "</style>\n",
       "<table border=\"1\" class=\"dataframe\">\n",
       "  <thead>\n",
       "    <tr style=\"text-align: right;\">\n",
       "      <th></th>\n",
       "      <th>REGION</th>\n",
       "      <th>DISTRICT</th>\n",
       "      <th>YEAR</th>\n",
       "      <th>CROP</th>\n",
       "      <th>AREA (HA)</th>\n",
       "      <th>YIELD (MT/HA)</th>\n",
       "      <th>PRODUCTION (MT)</th>\n",
       "    </tr>\n",
       "  </thead>\n",
       "  <tbody>\n",
       "    <tr>\n",
       "      <th>2188</th>\n",
       "      <td>VOLTA</td>\n",
       "      <td>KETA</td>\n",
       "      <td>2011</td>\n",
       "      <td>CASSAVA</td>\n",
       "      <td>1290.00</td>\n",
       "      <td>NaN</td>\n",
       "      <td>-</td>\n",
       "    </tr>\n",
       "    <tr>\n",
       "      <th>2859</th>\n",
       "      <td>EASTERN</td>\n",
       "      <td>FANTEAKWA</td>\n",
       "      <td>2012</td>\n",
       "      <td>RICE</td>\n",
       "      <td>15.00</td>\n",
       "      <td>NaN</td>\n",
       "      <td>-</td>\n",
       "    </tr>\n",
       "    <tr>\n",
       "      <th>3256</th>\n",
       "      <td>CENTRAL</td>\n",
       "      <td>AGONA WEST (SWEDRU)</td>\n",
       "      <td>2012</td>\n",
       "      <td>COCOYAM</td>\n",
       "      <td>1026.00</td>\n",
       "      <td>NaN</td>\n",
       "      <td>-</td>\n",
       "    </tr>\n",
       "    <tr>\n",
       "      <th>3257</th>\n",
       "      <td>CENTRAL</td>\n",
       "      <td>AGONA EAST</td>\n",
       "      <td>2012</td>\n",
       "      <td>COCOYAM</td>\n",
       "      <td>874.00</td>\n",
       "      <td>NaN</td>\n",
       "      <td>-</td>\n",
       "    </tr>\n",
       "    <tr>\n",
       "      <th>3324</th>\n",
       "      <td>EASTERN</td>\n",
       "      <td>KWAHU EAST</td>\n",
       "      <td>2012</td>\n",
       "      <td>COWPEA</td>\n",
       "      <td>13.00</td>\n",
       "      <td>NaN</td>\n",
       "      <td>-</td>\n",
       "    </tr>\n",
       "    <tr>\n",
       "      <th>3428</th>\n",
       "      <td>ASHANTI</td>\n",
       "      <td>SEKYERE SOUTH</td>\n",
       "      <td>2012</td>\n",
       "      <td>COWPEA</td>\n",
       "      <td>45.00</td>\n",
       "      <td>NaN</td>\n",
       "      <td>-</td>\n",
       "    </tr>\n",
       "    <tr>\n",
       "      <th>3429</th>\n",
       "      <td>ASHANTI</td>\n",
       "      <td>AFIGYA KWABRE</td>\n",
       "      <td>2012</td>\n",
       "      <td>COWPEA</td>\n",
       "      <td>35.00</td>\n",
       "      <td>NaN</td>\n",
       "      <td>-</td>\n",
       "    </tr>\n",
       "    <tr>\n",
       "      <th>3431</th>\n",
       "      <td>ASHANTI</td>\n",
       "      <td>ATWIMA NWABIAGYA</td>\n",
       "      <td>2012</td>\n",
       "      <td>COWPEA</td>\n",
       "      <td>30.00</td>\n",
       "      <td>NaN</td>\n",
       "      <td>-</td>\n",
       "    </tr>\n",
       "    <tr>\n",
       "      <th>5518</th>\n",
       "      <td>EASTERN</td>\n",
       "      <td>FANTEAKWA</td>\n",
       "      <td>2015</td>\n",
       "      <td>RICE</td>\n",
       "      <td>32.27</td>\n",
       "      <td>NaN</td>\n",
       "      <td>-</td>\n",
       "    </tr>\n",
       "    <tr>\n",
       "      <th>5955</th>\n",
       "      <td>EASTERN</td>\n",
       "      <td>KWAHU EAST</td>\n",
       "      <td>2015</td>\n",
       "      <td>COWPEA</td>\n",
       "      <td>9.19</td>\n",
       "      <td>NaN</td>\n",
       "      <td>-</td>\n",
       "    </tr>\n",
       "    <tr>\n",
       "      <th>6057</th>\n",
       "      <td>BRONG AHAFO</td>\n",
       "      <td>JAMAN SOUTH</td>\n",
       "      <td>2015</td>\n",
       "      <td>COCOYAM</td>\n",
       "      <td>2781.58</td>\n",
       "      <td>NaN</td>\n",
       "      <td>-</td>\n",
       "    </tr>\n",
       "    <tr>\n",
       "      <th>6071</th>\n",
       "      <td>BRONG AHAFO</td>\n",
       "      <td>TECHIMAN MUNICIPAL</td>\n",
       "      <td>2015</td>\n",
       "      <td>PLANTAIN</td>\n",
       "      <td>3897.35</td>\n",
       "      <td>NaN</td>\n",
       "      <td>-</td>\n",
       "    </tr>\n",
       "    <tr>\n",
       "      <th>6072</th>\n",
       "      <td>BRONG AHAFO</td>\n",
       "      <td>ASUNAFO NORTH</td>\n",
       "      <td>2015</td>\n",
       "      <td>PLANTAIN</td>\n",
       "      <td>4177.18</td>\n",
       "      <td>NaN</td>\n",
       "      <td>-</td>\n",
       "    </tr>\n",
       "    <tr>\n",
       "      <th>6483</th>\n",
       "      <td>EASTERN</td>\n",
       "      <td>FANTEAKWA</td>\n",
       "      <td>2016</td>\n",
       "      <td>RICE</td>\n",
       "      <td>23.07</td>\n",
       "      <td>NaN</td>\n",
       "      <td>-</td>\n",
       "    </tr>\n",
       "    <tr>\n",
       "      <th>6579</th>\n",
       "      <td>EASTERN</td>\n",
       "      <td>KWAHU EAST</td>\n",
       "      <td>2016</td>\n",
       "      <td>COWPEA</td>\n",
       "      <td>16.53</td>\n",
       "      <td>NaN</td>\n",
       "      <td>-</td>\n",
       "    </tr>\n",
       "    <tr>\n",
       "      <th>7762</th>\n",
       "      <td>CENTRAL</td>\n",
       "      <td>AGONA EAST</td>\n",
       "      <td>2017</td>\n",
       "      <td>COCOYAM</td>\n",
       "      <td>65.00</td>\n",
       "      <td>NaN</td>\n",
       "      <td>-</td>\n",
       "    </tr>\n",
       "    <tr>\n",
       "      <th>8120</th>\n",
       "      <td>ASHANTI</td>\n",
       "      <td>SEKYERE SOUTH</td>\n",
       "      <td>2017</td>\n",
       "      <td>COWPEA</td>\n",
       "      <td>41.00</td>\n",
       "      <td>-</td>\n",
       "      <td>NaN</td>\n",
       "    </tr>\n",
       "    <tr>\n",
       "      <th>8121</th>\n",
       "      <td>ASHANTI</td>\n",
       "      <td>AFIGYA KWABRE</td>\n",
       "      <td>2017</td>\n",
       "      <td>COWPEA</td>\n",
       "      <td>33.00</td>\n",
       "      <td>-</td>\n",
       "      <td>NaN</td>\n",
       "    </tr>\n",
       "  </tbody>\n",
       "</table>\n",
       "</div>"
      ],
      "text/plain": [
       "           REGION             DISTRICT  YEAR      CROP  AREA (HA)  \\\n",
       "2188        VOLTA                 KETA  2011   CASSAVA    1290.00   \n",
       "2859      EASTERN            FANTEAKWA  2012      RICE      15.00   \n",
       "3256      CENTRAL  AGONA WEST (SWEDRU)  2012   COCOYAM    1026.00   \n",
       "3257      CENTRAL           AGONA EAST  2012   COCOYAM     874.00   \n",
       "3324      EASTERN           KWAHU EAST  2012    COWPEA      13.00   \n",
       "3428      ASHANTI        SEKYERE SOUTH  2012    COWPEA      45.00   \n",
       "3429      ASHANTI        AFIGYA KWABRE  2012    COWPEA      35.00   \n",
       "3431      ASHANTI     ATWIMA NWABIAGYA  2012    COWPEA      30.00   \n",
       "5518      EASTERN            FANTEAKWA  2015      RICE      32.27   \n",
       "5955      EASTERN           KWAHU EAST  2015    COWPEA       9.19   \n",
       "6057  BRONG AHAFO         JAMAN SOUTH   2015   COCOYAM    2781.58   \n",
       "6071  BRONG AHAFO   TECHIMAN MUNICIPAL  2015  PLANTAIN    3897.35   \n",
       "6072  BRONG AHAFO       ASUNAFO NORTH   2015  PLANTAIN    4177.18   \n",
       "6483      EASTERN            FANTEAKWA  2016      RICE      23.07   \n",
       "6579      EASTERN           KWAHU EAST  2016    COWPEA      16.53   \n",
       "7762      CENTRAL           AGONA EAST  2017   COCOYAM      65.00   \n",
       "8120      ASHANTI       SEKYERE SOUTH   2017    COWPEA      41.00   \n",
       "8121      ASHANTI       AFIGYA KWABRE   2017    COWPEA      33.00   \n",
       "\n",
       "                         YIELD (MT/HA) PRODUCTION (MT)  \n",
       "2188                               NaN            -     \n",
       "2859                               NaN            -     \n",
       "3256                               NaN            -     \n",
       "3257                               NaN            -     \n",
       "3324                               NaN            -     \n",
       "3428                               NaN            -     \n",
       "3429                               NaN            -     \n",
       "3431                               NaN            -     \n",
       "5518                               NaN              -   \n",
       "5955                               NaN              -   \n",
       "6057                               NaN              -   \n",
       "6071                               NaN              -   \n",
       "6072                               NaN              -   \n",
       "6483                               NaN              -   \n",
       "6579                               NaN              -   \n",
       "7762                               NaN              -   \n",
       "8120                             -                 NaN  \n",
       "8121                             -                 NaN  "
      ]
     },
     "execution_count": 146,
     "metadata": {},
     "output_type": "execute_result"
    }
   ],
   "source": [
    "pro_est_df[pro_est_df.isnull().any(axis=1)]"
   ]
  },
  {
   "cell_type": "code",
   "execution_count": 147,
   "id": "0adecedf",
   "metadata": {},
   "outputs": [],
   "source": [
    "pro_est_df = pro_est_df.fillna(0)"
   ]
  },
  {
   "cell_type": "code",
   "execution_count": 148,
   "id": "fa3e94be",
   "metadata": {},
   "outputs": [
    {
     "data": {
      "text/plain": [
       "REGION             0\n",
       "DISTRICT           0\n",
       "YEAR               0\n",
       "CROP               0\n",
       "AREA (HA)          0\n",
       "YIELD (MT/HA)      0\n",
       "PRODUCTION (MT)    0\n",
       "dtype: int64"
      ]
     },
     "execution_count": 148,
     "metadata": {},
     "output_type": "execute_result"
    }
   ],
   "source": [
    "pro_est_df.isnull().sum()"
   ]
  },
  {
   "cell_type": "code",
   "execution_count": 149,
   "id": "6eda3c2d",
   "metadata": {},
   "outputs": [
    {
     "name": "stdout",
     "output_type": "stream",
     "text": [
      "<class 'pandas.core.frame.DataFrame'>\n",
      "RangeIndex: 8236 entries, 0 to 8235\n",
      "Data columns (total 7 columns):\n",
      " #   Column           Non-Null Count  Dtype  \n",
      "---  ------           --------------  -----  \n",
      " 0   REGION           8236 non-null   object \n",
      " 1   DISTRICT         8236 non-null   object \n",
      " 2   YEAR             8236 non-null   int64  \n",
      " 3   CROP             8236 non-null   object \n",
      " 4   AREA (HA)        8236 non-null   float64\n",
      " 5   YIELD (MT/HA)    8236 non-null   object \n",
      " 6   PRODUCTION (MT)  8236 non-null   object \n",
      "dtypes: float64(1), int64(1), object(5)\n",
      "memory usage: 450.5+ KB\n"
     ]
    }
   ],
   "source": [
    "pro_est_df.info()"
   ]
  },
  {
   "cell_type": "code",
   "execution_count": 150,
   "id": "730ee926",
   "metadata": {},
   "outputs": [],
   "source": [
    "pro_est_df['PRODUCTION (MT)'] = pro_est_df['PRODUCTION (MT)'].replace({'-': 0})"
   ]
  },
  {
   "cell_type": "code",
   "execution_count": 151,
   "id": "e55ff42e",
   "metadata": {},
   "outputs": [
    {
     "name": "stdout",
     "output_type": "stream",
     "text": [
      "<class 'pandas.core.frame.DataFrame'>\n",
      "RangeIndex: 8236 entries, 0 to 8235\n",
      "Data columns (total 7 columns):\n",
      " #   Column           Non-Null Count  Dtype  \n",
      "---  ------           --------------  -----  \n",
      " 0   REGION           8236 non-null   object \n",
      " 1   DISTRICT         8236 non-null   object \n",
      " 2   YEAR             8236 non-null   int64  \n",
      " 3   CROP             8236 non-null   object \n",
      " 4   AREA (HA)        8236 non-null   float64\n",
      " 5   YIELD (MT/HA)    8236 non-null   object \n",
      " 6   PRODUCTION (MT)  8236 non-null   object \n",
      "dtypes: float64(1), int64(1), object(5)\n",
      "memory usage: 450.5+ KB\n"
     ]
    }
   ],
   "source": [
    "pro_est_df.info()"
   ]
  },
  {
   "cell_type": "code",
   "execution_count": 152,
   "id": "7b954ad9",
   "metadata": {},
   "outputs": [
    {
     "ename": "ValueError",
     "evalue": "Unable to parse string \" -   \" at position 1417",
     "output_type": "error",
     "traceback": [
      "\u001b[1;31m---------------------------------------------------------------------------\u001b[0m",
      "\u001b[1;31mValueError\u001b[0m                                Traceback (most recent call last)",
      "\u001b[1;32m~\\Anaconda3\\lib\\site-packages\\pandas\\_libs\\lib.pyx\u001b[0m in \u001b[0;36mpandas._libs.lib.maybe_convert_numeric\u001b[1;34m()\u001b[0m\n",
      "\u001b[1;31mValueError\u001b[0m: Unable to parse string \" -   \"",
      "\nDuring handling of the above exception, another exception occurred:\n",
      "\u001b[1;31mValueError\u001b[0m                                Traceback (most recent call last)",
      "\u001b[1;32m~\\AppData\\Local\\Temp/ipykernel_12708/3994663576.py\u001b[0m in \u001b[0;36m<module>\u001b[1;34m\u001b[0m\n\u001b[1;32m----> 1\u001b[1;33m \u001b[0mpro_est_df\u001b[0m\u001b[1;33m[\u001b[0m\u001b[1;34m'PRODUCTION (MT)'\u001b[0m\u001b[1;33m]\u001b[0m \u001b[1;33m=\u001b[0m \u001b[0mpd\u001b[0m\u001b[1;33m.\u001b[0m\u001b[0mto_numeric\u001b[0m\u001b[1;33m(\u001b[0m\u001b[0mpro_est_df\u001b[0m\u001b[1;33m[\u001b[0m\u001b[1;34m'PRODUCTION (MT)'\u001b[0m\u001b[1;33m]\u001b[0m\u001b[1;33m)\u001b[0m\u001b[1;33m\u001b[0m\u001b[1;33m\u001b[0m\u001b[0m\n\u001b[0m",
      "\u001b[1;32m~\\Anaconda3\\lib\\site-packages\\pandas\\core\\tools\\numeric.py\u001b[0m in \u001b[0;36mto_numeric\u001b[1;34m(arg, errors, downcast)\u001b[0m\n\u001b[0;32m    181\u001b[0m         \u001b[0mcoerce_numeric\u001b[0m \u001b[1;33m=\u001b[0m \u001b[0merrors\u001b[0m \u001b[1;32mnot\u001b[0m \u001b[1;32min\u001b[0m \u001b[1;33m(\u001b[0m\u001b[1;34m\"ignore\"\u001b[0m\u001b[1;33m,\u001b[0m \u001b[1;34m\"raise\"\u001b[0m\u001b[1;33m)\u001b[0m\u001b[1;33m\u001b[0m\u001b[1;33m\u001b[0m\u001b[0m\n\u001b[0;32m    182\u001b[0m         \u001b[1;32mtry\u001b[0m\u001b[1;33m:\u001b[0m\u001b[1;33m\u001b[0m\u001b[1;33m\u001b[0m\u001b[0m\n\u001b[1;32m--> 183\u001b[1;33m             values, _ = lib.maybe_convert_numeric(\n\u001b[0m\u001b[0;32m    184\u001b[0m                 \u001b[0mvalues\u001b[0m\u001b[1;33m,\u001b[0m \u001b[0mset\u001b[0m\u001b[1;33m(\u001b[0m\u001b[1;33m)\u001b[0m\u001b[1;33m,\u001b[0m \u001b[0mcoerce_numeric\u001b[0m\u001b[1;33m=\u001b[0m\u001b[0mcoerce_numeric\u001b[0m\u001b[1;33m\u001b[0m\u001b[1;33m\u001b[0m\u001b[0m\n\u001b[0;32m    185\u001b[0m             )\n",
      "\u001b[1;32m~\\Anaconda3\\lib\\site-packages\\pandas\\_libs\\lib.pyx\u001b[0m in \u001b[0;36mpandas._libs.lib.maybe_convert_numeric\u001b[1;34m()\u001b[0m\n",
      "\u001b[1;31mValueError\u001b[0m: Unable to parse string \" -   \" at position 1417"
     ]
    }
   ],
   "source": [
    "pro_est_df['PRODUCTION (MT)'] = pd.to_numeric(pro_est_df['PRODUCTION (MT)'])"
   ]
  },
  {
   "cell_type": "code",
   "execution_count": 153,
   "id": "5901907a",
   "metadata": {},
   "outputs": [],
   "source": [
    "pro_est_df['PRODUCTION (MT)'] = pro_est_df['PRODUCTION (MT)'].replace({' -   ': 0})"
   ]
  },
  {
   "cell_type": "code",
   "execution_count": 154,
   "id": "92c50fe1",
   "metadata": {},
   "outputs": [
    {
     "ename": "ValueError",
     "evalue": "Unable to parse string \" - \" at position 4284",
     "output_type": "error",
     "traceback": [
      "\u001b[1;31m---------------------------------------------------------------------------\u001b[0m",
      "\u001b[1;31mValueError\u001b[0m                                Traceback (most recent call last)",
      "\u001b[1;32m~\\Anaconda3\\lib\\site-packages\\pandas\\_libs\\lib.pyx\u001b[0m in \u001b[0;36mpandas._libs.lib.maybe_convert_numeric\u001b[1;34m()\u001b[0m\n",
      "\u001b[1;31mValueError\u001b[0m: Unable to parse string \" - \"",
      "\nDuring handling of the above exception, another exception occurred:\n",
      "\u001b[1;31mValueError\u001b[0m                                Traceback (most recent call last)",
      "\u001b[1;32m~\\AppData\\Local\\Temp/ipykernel_12708/3994663576.py\u001b[0m in \u001b[0;36m<module>\u001b[1;34m\u001b[0m\n\u001b[1;32m----> 1\u001b[1;33m \u001b[0mpro_est_df\u001b[0m\u001b[1;33m[\u001b[0m\u001b[1;34m'PRODUCTION (MT)'\u001b[0m\u001b[1;33m]\u001b[0m \u001b[1;33m=\u001b[0m \u001b[0mpd\u001b[0m\u001b[1;33m.\u001b[0m\u001b[0mto_numeric\u001b[0m\u001b[1;33m(\u001b[0m\u001b[0mpro_est_df\u001b[0m\u001b[1;33m[\u001b[0m\u001b[1;34m'PRODUCTION (MT)'\u001b[0m\u001b[1;33m]\u001b[0m\u001b[1;33m)\u001b[0m\u001b[1;33m\u001b[0m\u001b[1;33m\u001b[0m\u001b[0m\n\u001b[0m",
      "\u001b[1;32m~\\Anaconda3\\lib\\site-packages\\pandas\\core\\tools\\numeric.py\u001b[0m in \u001b[0;36mto_numeric\u001b[1;34m(arg, errors, downcast)\u001b[0m\n\u001b[0;32m    181\u001b[0m         \u001b[0mcoerce_numeric\u001b[0m \u001b[1;33m=\u001b[0m \u001b[0merrors\u001b[0m \u001b[1;32mnot\u001b[0m \u001b[1;32min\u001b[0m \u001b[1;33m(\u001b[0m\u001b[1;34m\"ignore\"\u001b[0m\u001b[1;33m,\u001b[0m \u001b[1;34m\"raise\"\u001b[0m\u001b[1;33m)\u001b[0m\u001b[1;33m\u001b[0m\u001b[1;33m\u001b[0m\u001b[0m\n\u001b[0;32m    182\u001b[0m         \u001b[1;32mtry\u001b[0m\u001b[1;33m:\u001b[0m\u001b[1;33m\u001b[0m\u001b[1;33m\u001b[0m\u001b[0m\n\u001b[1;32m--> 183\u001b[1;33m             values, _ = lib.maybe_convert_numeric(\n\u001b[0m\u001b[0;32m    184\u001b[0m                 \u001b[0mvalues\u001b[0m\u001b[1;33m,\u001b[0m \u001b[0mset\u001b[0m\u001b[1;33m(\u001b[0m\u001b[1;33m)\u001b[0m\u001b[1;33m,\u001b[0m \u001b[0mcoerce_numeric\u001b[0m\u001b[1;33m=\u001b[0m\u001b[0mcoerce_numeric\u001b[0m\u001b[1;33m\u001b[0m\u001b[1;33m\u001b[0m\u001b[0m\n\u001b[0;32m    185\u001b[0m             )\n",
      "\u001b[1;32m~\\Anaconda3\\lib\\site-packages\\pandas\\_libs\\lib.pyx\u001b[0m in \u001b[0;36mpandas._libs.lib.maybe_convert_numeric\u001b[1;34m()\u001b[0m\n",
      "\u001b[1;31mValueError\u001b[0m: Unable to parse string \" - \" at position 4284"
     ]
    }
   ],
   "source": [
    "pro_est_df['PRODUCTION (MT)'] = pd.to_numeric(pro_est_df['PRODUCTION (MT)'])"
   ]
  },
  {
   "cell_type": "code",
   "execution_count": 155,
   "id": "109390b4",
   "metadata": {},
   "outputs": [],
   "source": [
    "pro_est_df['PRODUCTION (MT)'] = pro_est_df['PRODUCTION (MT)'].replace({' - ': 0})"
   ]
  },
  {
   "cell_type": "code",
   "execution_count": 156,
   "id": "9f7a54d3",
   "metadata": {},
   "outputs": [],
   "source": [
    "pro_est_df['PRODUCTION (MT)'] = pd.to_numeric(pro_est_df['PRODUCTION (MT)'])"
   ]
  },
  {
   "cell_type": "code",
   "execution_count": 157,
   "id": "6e4427d8",
   "metadata": {},
   "outputs": [
    {
     "name": "stdout",
     "output_type": "stream",
     "text": [
      "<class 'pandas.core.frame.DataFrame'>\n",
      "RangeIndex: 8236 entries, 0 to 8235\n",
      "Data columns (total 7 columns):\n",
      " #   Column           Non-Null Count  Dtype  \n",
      "---  ------           --------------  -----  \n",
      " 0   REGION           8236 non-null   object \n",
      " 1   DISTRICT         8236 non-null   object \n",
      " 2   YEAR             8236 non-null   int64  \n",
      " 3   CROP             8236 non-null   object \n",
      " 4   AREA (HA)        8236 non-null   float64\n",
      " 5   YIELD (MT/HA)    8236 non-null   object \n",
      " 6   PRODUCTION (MT)  8236 non-null   float64\n",
      "dtypes: float64(2), int64(1), object(4)\n",
      "memory usage: 450.5+ KB\n"
     ]
    }
   ],
   "source": [
    "pro_est_df.info()"
   ]
  },
  {
   "cell_type": "code",
   "execution_count": 158,
   "id": "1f6f4261",
   "metadata": {},
   "outputs": [],
   "source": [
    "pro_est_df['AREA (HA)'] = pd.to_numeric(pro_est_df['AREA (HA)'])"
   ]
  },
  {
   "cell_type": "code",
   "execution_count": 159,
   "id": "53ad12fa",
   "metadata": {},
   "outputs": [
    {
     "name": "stdout",
     "output_type": "stream",
     "text": [
      "<class 'pandas.core.frame.DataFrame'>\n",
      "RangeIndex: 8236 entries, 0 to 8235\n",
      "Data columns (total 7 columns):\n",
      " #   Column           Non-Null Count  Dtype  \n",
      "---  ------           --------------  -----  \n",
      " 0   REGION           8236 non-null   object \n",
      " 1   DISTRICT         8236 non-null   object \n",
      " 2   YEAR             8236 non-null   int64  \n",
      " 3   CROP             8236 non-null   object \n",
      " 4   AREA (HA)        8236 non-null   float64\n",
      " 5   YIELD (MT/HA)    8236 non-null   object \n",
      " 6   PRODUCTION (MT)  8236 non-null   float64\n",
      "dtypes: float64(2), int64(1), object(4)\n",
      "memory usage: 450.5+ KB\n"
     ]
    }
   ],
   "source": [
    "pro_est_df.info()"
   ]
  },
  {
   "cell_type": "code",
   "execution_count": 160,
   "id": "e8ff0236",
   "metadata": {},
   "outputs": [
    {
     "ename": "ValueError",
     "evalue": "Unable to parse string \" -   \" at position 1417",
     "output_type": "error",
     "traceback": [
      "\u001b[1;31m---------------------------------------------------------------------------\u001b[0m",
      "\u001b[1;31mValueError\u001b[0m                                Traceback (most recent call last)",
      "\u001b[1;32m~\\Anaconda3\\lib\\site-packages\\pandas\\_libs\\lib.pyx\u001b[0m in \u001b[0;36mpandas._libs.lib.maybe_convert_numeric\u001b[1;34m()\u001b[0m\n",
      "\u001b[1;31mValueError\u001b[0m: Unable to parse string \" -   \"",
      "\nDuring handling of the above exception, another exception occurred:\n",
      "\u001b[1;31mValueError\u001b[0m                                Traceback (most recent call last)",
      "\u001b[1;32m~\\AppData\\Local\\Temp/ipykernel_12708/3208330077.py\u001b[0m in \u001b[0;36m<module>\u001b[1;34m\u001b[0m\n\u001b[1;32m----> 1\u001b[1;33m \u001b[0mpro_est_df\u001b[0m\u001b[1;33m[\u001b[0m\u001b[1;34m'YIELD (MT/HA)'\u001b[0m\u001b[1;33m]\u001b[0m \u001b[1;33m=\u001b[0m \u001b[0mpd\u001b[0m\u001b[1;33m.\u001b[0m\u001b[0mto_numeric\u001b[0m\u001b[1;33m(\u001b[0m\u001b[0mpro_est_df\u001b[0m\u001b[1;33m[\u001b[0m\u001b[1;34m'YIELD (MT/HA)'\u001b[0m\u001b[1;33m]\u001b[0m\u001b[1;33m)\u001b[0m\u001b[1;33m\u001b[0m\u001b[1;33m\u001b[0m\u001b[0m\n\u001b[0m",
      "\u001b[1;32m~\\Anaconda3\\lib\\site-packages\\pandas\\core\\tools\\numeric.py\u001b[0m in \u001b[0;36mto_numeric\u001b[1;34m(arg, errors, downcast)\u001b[0m\n\u001b[0;32m    181\u001b[0m         \u001b[0mcoerce_numeric\u001b[0m \u001b[1;33m=\u001b[0m \u001b[0merrors\u001b[0m \u001b[1;32mnot\u001b[0m \u001b[1;32min\u001b[0m \u001b[1;33m(\u001b[0m\u001b[1;34m\"ignore\"\u001b[0m\u001b[1;33m,\u001b[0m \u001b[1;34m\"raise\"\u001b[0m\u001b[1;33m)\u001b[0m\u001b[1;33m\u001b[0m\u001b[1;33m\u001b[0m\u001b[0m\n\u001b[0;32m    182\u001b[0m         \u001b[1;32mtry\u001b[0m\u001b[1;33m:\u001b[0m\u001b[1;33m\u001b[0m\u001b[1;33m\u001b[0m\u001b[0m\n\u001b[1;32m--> 183\u001b[1;33m             values, _ = lib.maybe_convert_numeric(\n\u001b[0m\u001b[0;32m    184\u001b[0m                 \u001b[0mvalues\u001b[0m\u001b[1;33m,\u001b[0m \u001b[0mset\u001b[0m\u001b[1;33m(\u001b[0m\u001b[1;33m)\u001b[0m\u001b[1;33m,\u001b[0m \u001b[0mcoerce_numeric\u001b[0m\u001b[1;33m=\u001b[0m\u001b[0mcoerce_numeric\u001b[0m\u001b[1;33m\u001b[0m\u001b[1;33m\u001b[0m\u001b[0m\n\u001b[0;32m    185\u001b[0m             )\n",
      "\u001b[1;32m~\\Anaconda3\\lib\\site-packages\\pandas\\_libs\\lib.pyx\u001b[0m in \u001b[0;36mpandas._libs.lib.maybe_convert_numeric\u001b[1;34m()\u001b[0m\n",
      "\u001b[1;31mValueError\u001b[0m: Unable to parse string \" -   \" at position 1417"
     ]
    }
   ],
   "source": [
    "pro_est_df['YIELD (MT/HA)'] = pd.to_numeric(pro_est_df['YIELD (MT/HA)'])"
   ]
  },
  {
   "cell_type": "code",
   "execution_count": 161,
   "id": "3b2015e7",
   "metadata": {},
   "outputs": [],
   "source": [
    "pro_est_df['PRODUCTION (MT)'] = pro_est_df['PRODUCTION (MT)'].replace({' -   ': 0})"
   ]
  },
  {
   "cell_type": "code",
   "execution_count": 162,
   "id": "3322ec0e",
   "metadata": {},
   "outputs": [
    {
     "ename": "ValueError",
     "evalue": "Unable to parse string \" -   \" at position 1417",
     "output_type": "error",
     "traceback": [
      "\u001b[1;31m---------------------------------------------------------------------------\u001b[0m",
      "\u001b[1;31mValueError\u001b[0m                                Traceback (most recent call last)",
      "\u001b[1;32m~\\Anaconda3\\lib\\site-packages\\pandas\\_libs\\lib.pyx\u001b[0m in \u001b[0;36mpandas._libs.lib.maybe_convert_numeric\u001b[1;34m()\u001b[0m\n",
      "\u001b[1;31mValueError\u001b[0m: Unable to parse string \" -   \"",
      "\nDuring handling of the above exception, another exception occurred:\n",
      "\u001b[1;31mValueError\u001b[0m                                Traceback (most recent call last)",
      "\u001b[1;32m~\\AppData\\Local\\Temp/ipykernel_12708/3208330077.py\u001b[0m in \u001b[0;36m<module>\u001b[1;34m\u001b[0m\n\u001b[1;32m----> 1\u001b[1;33m \u001b[0mpro_est_df\u001b[0m\u001b[1;33m[\u001b[0m\u001b[1;34m'YIELD (MT/HA)'\u001b[0m\u001b[1;33m]\u001b[0m \u001b[1;33m=\u001b[0m \u001b[0mpd\u001b[0m\u001b[1;33m.\u001b[0m\u001b[0mto_numeric\u001b[0m\u001b[1;33m(\u001b[0m\u001b[0mpro_est_df\u001b[0m\u001b[1;33m[\u001b[0m\u001b[1;34m'YIELD (MT/HA)'\u001b[0m\u001b[1;33m]\u001b[0m\u001b[1;33m)\u001b[0m\u001b[1;33m\u001b[0m\u001b[1;33m\u001b[0m\u001b[0m\n\u001b[0m",
      "\u001b[1;32m~\\Anaconda3\\lib\\site-packages\\pandas\\core\\tools\\numeric.py\u001b[0m in \u001b[0;36mto_numeric\u001b[1;34m(arg, errors, downcast)\u001b[0m\n\u001b[0;32m    181\u001b[0m         \u001b[0mcoerce_numeric\u001b[0m \u001b[1;33m=\u001b[0m \u001b[0merrors\u001b[0m \u001b[1;32mnot\u001b[0m \u001b[1;32min\u001b[0m \u001b[1;33m(\u001b[0m\u001b[1;34m\"ignore\"\u001b[0m\u001b[1;33m,\u001b[0m \u001b[1;34m\"raise\"\u001b[0m\u001b[1;33m)\u001b[0m\u001b[1;33m\u001b[0m\u001b[1;33m\u001b[0m\u001b[0m\n\u001b[0;32m    182\u001b[0m         \u001b[1;32mtry\u001b[0m\u001b[1;33m:\u001b[0m\u001b[1;33m\u001b[0m\u001b[1;33m\u001b[0m\u001b[0m\n\u001b[1;32m--> 183\u001b[1;33m             values, _ = lib.maybe_convert_numeric(\n\u001b[0m\u001b[0;32m    184\u001b[0m                 \u001b[0mvalues\u001b[0m\u001b[1;33m,\u001b[0m \u001b[0mset\u001b[0m\u001b[1;33m(\u001b[0m\u001b[1;33m)\u001b[0m\u001b[1;33m,\u001b[0m \u001b[0mcoerce_numeric\u001b[0m\u001b[1;33m=\u001b[0m\u001b[0mcoerce_numeric\u001b[0m\u001b[1;33m\u001b[0m\u001b[1;33m\u001b[0m\u001b[0m\n\u001b[0;32m    185\u001b[0m             )\n",
      "\u001b[1;32m~\\Anaconda3\\lib\\site-packages\\pandas\\_libs\\lib.pyx\u001b[0m in \u001b[0;36mpandas._libs.lib.maybe_convert_numeric\u001b[1;34m()\u001b[0m\n",
      "\u001b[1;31mValueError\u001b[0m: Unable to parse string \" -   \" at position 1417"
     ]
    }
   ],
   "source": [
    "pro_est_df['YIELD (MT/HA)'] = pd.to_numeric(pro_est_df['YIELD (MT/HA)'])"
   ]
  },
  {
   "cell_type": "code",
   "execution_count": 163,
   "id": "c7cc8275",
   "metadata": {},
   "outputs": [],
   "source": [
    "pro_est_df['YIELD (MT/HA)'] = pro_est_df['YIELD (MT/HA)'].replace({' -   ': 0})"
   ]
  },
  {
   "cell_type": "code",
   "execution_count": 164,
   "id": "d93c5c84",
   "metadata": {},
   "outputs": [
    {
     "ename": "ValueError",
     "evalue": "Unable to parse string \" - \" at position 3832",
     "output_type": "error",
     "traceback": [
      "\u001b[1;31m---------------------------------------------------------------------------\u001b[0m",
      "\u001b[1;31mValueError\u001b[0m                                Traceback (most recent call last)",
      "\u001b[1;32m~\\Anaconda3\\lib\\site-packages\\pandas\\_libs\\lib.pyx\u001b[0m in \u001b[0;36mpandas._libs.lib.maybe_convert_numeric\u001b[1;34m()\u001b[0m\n",
      "\u001b[1;31mValueError\u001b[0m: Unable to parse string \" - \"",
      "\nDuring handling of the above exception, another exception occurred:\n",
      "\u001b[1;31mValueError\u001b[0m                                Traceback (most recent call last)",
      "\u001b[1;32m~\\AppData\\Local\\Temp/ipykernel_12708/3208330077.py\u001b[0m in \u001b[0;36m<module>\u001b[1;34m\u001b[0m\n\u001b[1;32m----> 1\u001b[1;33m \u001b[0mpro_est_df\u001b[0m\u001b[1;33m[\u001b[0m\u001b[1;34m'YIELD (MT/HA)'\u001b[0m\u001b[1;33m]\u001b[0m \u001b[1;33m=\u001b[0m \u001b[0mpd\u001b[0m\u001b[1;33m.\u001b[0m\u001b[0mto_numeric\u001b[0m\u001b[1;33m(\u001b[0m\u001b[0mpro_est_df\u001b[0m\u001b[1;33m[\u001b[0m\u001b[1;34m'YIELD (MT/HA)'\u001b[0m\u001b[1;33m]\u001b[0m\u001b[1;33m)\u001b[0m\u001b[1;33m\u001b[0m\u001b[1;33m\u001b[0m\u001b[0m\n\u001b[0m",
      "\u001b[1;32m~\\Anaconda3\\lib\\site-packages\\pandas\\core\\tools\\numeric.py\u001b[0m in \u001b[0;36mto_numeric\u001b[1;34m(arg, errors, downcast)\u001b[0m\n\u001b[0;32m    181\u001b[0m         \u001b[0mcoerce_numeric\u001b[0m \u001b[1;33m=\u001b[0m \u001b[0merrors\u001b[0m \u001b[1;32mnot\u001b[0m \u001b[1;32min\u001b[0m \u001b[1;33m(\u001b[0m\u001b[1;34m\"ignore\"\u001b[0m\u001b[1;33m,\u001b[0m \u001b[1;34m\"raise\"\u001b[0m\u001b[1;33m)\u001b[0m\u001b[1;33m\u001b[0m\u001b[1;33m\u001b[0m\u001b[0m\n\u001b[0;32m    182\u001b[0m         \u001b[1;32mtry\u001b[0m\u001b[1;33m:\u001b[0m\u001b[1;33m\u001b[0m\u001b[1;33m\u001b[0m\u001b[0m\n\u001b[1;32m--> 183\u001b[1;33m             values, _ = lib.maybe_convert_numeric(\n\u001b[0m\u001b[0;32m    184\u001b[0m                 \u001b[0mvalues\u001b[0m\u001b[1;33m,\u001b[0m \u001b[0mset\u001b[0m\u001b[1;33m(\u001b[0m\u001b[1;33m)\u001b[0m\u001b[1;33m,\u001b[0m \u001b[0mcoerce_numeric\u001b[0m\u001b[1;33m=\u001b[0m\u001b[0mcoerce_numeric\u001b[0m\u001b[1;33m\u001b[0m\u001b[1;33m\u001b[0m\u001b[0m\n\u001b[0;32m    185\u001b[0m             )\n",
      "\u001b[1;32m~\\Anaconda3\\lib\\site-packages\\pandas\\_libs\\lib.pyx\u001b[0m in \u001b[0;36mpandas._libs.lib.maybe_convert_numeric\u001b[1;34m()\u001b[0m\n",
      "\u001b[1;31mValueError\u001b[0m: Unable to parse string \" - \" at position 3832"
     ]
    }
   ],
   "source": [
    "pro_est_df['YIELD (MT/HA)'] = pd.to_numeric(pro_est_df['YIELD (MT/HA)'])"
   ]
  },
  {
   "cell_type": "code",
   "execution_count": 165,
   "id": "515f143d",
   "metadata": {},
   "outputs": [],
   "source": [
    "pro_est_df['YIELD (MT/HA)'] = pro_est_df['YIELD (MT/HA)'].replace({' - ': 0})"
   ]
  },
  {
   "cell_type": "code",
   "execution_count": 166,
   "id": "4aa8a69e",
   "metadata": {},
   "outputs": [
    {
     "ename": "ValueError",
     "evalue": "Unable to parse string \"                           -    \" at position 8120",
     "output_type": "error",
     "traceback": [
      "\u001b[1;31m---------------------------------------------------------------------------\u001b[0m",
      "\u001b[1;31mValueError\u001b[0m                                Traceback (most recent call last)",
      "\u001b[1;32m~\\Anaconda3\\lib\\site-packages\\pandas\\_libs\\lib.pyx\u001b[0m in \u001b[0;36mpandas._libs.lib.maybe_convert_numeric\u001b[1;34m()\u001b[0m\n",
      "\u001b[1;31mValueError\u001b[0m: Unable to parse string \"                           -    \"",
      "\nDuring handling of the above exception, another exception occurred:\n",
      "\u001b[1;31mValueError\u001b[0m                                Traceback (most recent call last)",
      "\u001b[1;32m~\\AppData\\Local\\Temp/ipykernel_12708/3208330077.py\u001b[0m in \u001b[0;36m<module>\u001b[1;34m\u001b[0m\n\u001b[1;32m----> 1\u001b[1;33m \u001b[0mpro_est_df\u001b[0m\u001b[1;33m[\u001b[0m\u001b[1;34m'YIELD (MT/HA)'\u001b[0m\u001b[1;33m]\u001b[0m \u001b[1;33m=\u001b[0m \u001b[0mpd\u001b[0m\u001b[1;33m.\u001b[0m\u001b[0mto_numeric\u001b[0m\u001b[1;33m(\u001b[0m\u001b[0mpro_est_df\u001b[0m\u001b[1;33m[\u001b[0m\u001b[1;34m'YIELD (MT/HA)'\u001b[0m\u001b[1;33m]\u001b[0m\u001b[1;33m)\u001b[0m\u001b[1;33m\u001b[0m\u001b[1;33m\u001b[0m\u001b[0m\n\u001b[0m",
      "\u001b[1;32m~\\Anaconda3\\lib\\site-packages\\pandas\\core\\tools\\numeric.py\u001b[0m in \u001b[0;36mto_numeric\u001b[1;34m(arg, errors, downcast)\u001b[0m\n\u001b[0;32m    181\u001b[0m         \u001b[0mcoerce_numeric\u001b[0m \u001b[1;33m=\u001b[0m \u001b[0merrors\u001b[0m \u001b[1;32mnot\u001b[0m \u001b[1;32min\u001b[0m \u001b[1;33m(\u001b[0m\u001b[1;34m\"ignore\"\u001b[0m\u001b[1;33m,\u001b[0m \u001b[1;34m\"raise\"\u001b[0m\u001b[1;33m)\u001b[0m\u001b[1;33m\u001b[0m\u001b[1;33m\u001b[0m\u001b[0m\n\u001b[0;32m    182\u001b[0m         \u001b[1;32mtry\u001b[0m\u001b[1;33m:\u001b[0m\u001b[1;33m\u001b[0m\u001b[1;33m\u001b[0m\u001b[0m\n\u001b[1;32m--> 183\u001b[1;33m             values, _ = lib.maybe_convert_numeric(\n\u001b[0m\u001b[0;32m    184\u001b[0m                 \u001b[0mvalues\u001b[0m\u001b[1;33m,\u001b[0m \u001b[0mset\u001b[0m\u001b[1;33m(\u001b[0m\u001b[1;33m)\u001b[0m\u001b[1;33m,\u001b[0m \u001b[0mcoerce_numeric\u001b[0m\u001b[1;33m=\u001b[0m\u001b[0mcoerce_numeric\u001b[0m\u001b[1;33m\u001b[0m\u001b[1;33m\u001b[0m\u001b[0m\n\u001b[0;32m    185\u001b[0m             )\n",
      "\u001b[1;32m~\\Anaconda3\\lib\\site-packages\\pandas\\_libs\\lib.pyx\u001b[0m in \u001b[0;36mpandas._libs.lib.maybe_convert_numeric\u001b[1;34m()\u001b[0m\n",
      "\u001b[1;31mValueError\u001b[0m: Unable to parse string \"                           -    \" at position 8120"
     ]
    }
   ],
   "source": [
    "pro_est_df['YIELD (MT/HA)'] = pd.to_numeric(pro_est_df['YIELD (MT/HA)'])"
   ]
  },
  {
   "cell_type": "code",
   "execution_count": 167,
   "id": "130a00b4",
   "metadata": {},
   "outputs": [],
   "source": [
    "pro_est_df['YIELD (MT/HA)'] = pro_est_df['YIELD (MT/HA)'].replace({'                           -    ': 0})"
   ]
  },
  {
   "cell_type": "code",
   "execution_count": 168,
   "id": "eab50679",
   "metadata": {},
   "outputs": [],
   "source": [
    "pro_est_df['YIELD (MT/HA)'] = pd.to_numeric(pro_est_df['YIELD (MT/HA)'])"
   ]
  },
  {
   "cell_type": "code",
   "execution_count": 169,
   "id": "25f2be5e",
   "metadata": {},
   "outputs": [
    {
     "name": "stdout",
     "output_type": "stream",
     "text": [
      "<class 'pandas.core.frame.DataFrame'>\n",
      "RangeIndex: 8236 entries, 0 to 8235\n",
      "Data columns (total 7 columns):\n",
      " #   Column           Non-Null Count  Dtype  \n",
      "---  ------           --------------  -----  \n",
      " 0   REGION           8236 non-null   object \n",
      " 1   DISTRICT         8236 non-null   object \n",
      " 2   YEAR             8236 non-null   int64  \n",
      " 3   CROP             8236 non-null   object \n",
      " 4   AREA (HA)        8236 non-null   float64\n",
      " 5   YIELD (MT/HA)    8236 non-null   float64\n",
      " 6   PRODUCTION (MT)  8236 non-null   float64\n",
      "dtypes: float64(3), int64(1), object(3)\n",
      "memory usage: 450.5+ KB\n"
     ]
    }
   ],
   "source": [
    "pro_est_df.info()"
   ]
  },
  {
   "cell_type": "markdown",
   "id": "fde351d5",
   "metadata": {},
   "source": [
    "### Matplotlib"
   ]
  },
  {
   "cell_type": "markdown",
   "id": "715b71b6",
   "metadata": {},
   "source": [
    "#### Histograms"
   ]
  },
  {
   "cell_type": "code",
   "execution_count": 170,
   "id": "c63e20da",
   "metadata": {},
   "outputs": [
    {
     "data": {
      "text/html": [
       "<div>\n",
       "<style scoped>\n",
       "    .dataframe tbody tr th:only-of-type {\n",
       "        vertical-align: middle;\n",
       "    }\n",
       "\n",
       "    .dataframe tbody tr th {\n",
       "        vertical-align: top;\n",
       "    }\n",
       "\n",
       "    .dataframe thead th {\n",
       "        text-align: right;\n",
       "    }\n",
       "</style>\n",
       "<table border=\"1\" class=\"dataframe\">\n",
       "  <thead>\n",
       "    <tr style=\"text-align: right;\">\n",
       "      <th></th>\n",
       "      <th>REGION</th>\n",
       "      <th>DISTRICT</th>\n",
       "      <th>YEAR</th>\n",
       "      <th>CROP</th>\n",
       "      <th>AREA (HA)</th>\n",
       "      <th>YIELD (MT/HA)</th>\n",
       "      <th>PRODUCTION (MT)</th>\n",
       "    </tr>\n",
       "  </thead>\n",
       "  <tbody>\n",
       "    <tr>\n",
       "      <th>0</th>\n",
       "      <td>WESTERN</td>\n",
       "      <td>SHAMA AHANTA EAST</td>\n",
       "      <td>2008</td>\n",
       "      <td>MAIZE</td>\n",
       "      <td>1099.0</td>\n",
       "      <td>1.15</td>\n",
       "      <td>1263.85</td>\n",
       "    </tr>\n",
       "    <tr>\n",
       "      <th>1</th>\n",
       "      <td>WESTERN</td>\n",
       "      <td>WEST AHANTA</td>\n",
       "      <td>2008</td>\n",
       "      <td>MAIZE</td>\n",
       "      <td>1433.0</td>\n",
       "      <td>1.19</td>\n",
       "      <td>1705.27</td>\n",
       "    </tr>\n",
       "    <tr>\n",
       "      <th>2</th>\n",
       "      <td>WESTERN</td>\n",
       "      <td>MPORHOR WASSA EAST</td>\n",
       "      <td>2008</td>\n",
       "      <td>MAIZE</td>\n",
       "      <td>2034.0</td>\n",
       "      <td>1.32</td>\n",
       "      <td>2684.88</td>\n",
       "    </tr>\n",
       "    <tr>\n",
       "      <th>3</th>\n",
       "      <td>WESTERN</td>\n",
       "      <td>WASSA WEST</td>\n",
       "      <td>2008</td>\n",
       "      <td>MAIZE</td>\n",
       "      <td>2204.0</td>\n",
       "      <td>1.20</td>\n",
       "      <td>2644.80</td>\n",
       "    </tr>\n",
       "    <tr>\n",
       "      <th>4</th>\n",
       "      <td>WESTERN</td>\n",
       "      <td>EAST NZEMA</td>\n",
       "      <td>2008</td>\n",
       "      <td>MAIZE</td>\n",
       "      <td>1550.0</td>\n",
       "      <td>1.38</td>\n",
       "      <td>2139.00</td>\n",
       "    </tr>\n",
       "    <tr>\n",
       "      <th>...</th>\n",
       "      <td>...</td>\n",
       "      <td>...</td>\n",
       "      <td>...</td>\n",
       "      <td>...</td>\n",
       "      <td>...</td>\n",
       "      <td>...</td>\n",
       "      <td>...</td>\n",
       "    </tr>\n",
       "    <tr>\n",
       "      <th>8231</th>\n",
       "      <td>NORTHERN REGION</td>\n",
       "      <td>MAMPRUGU MOAGDURI</td>\n",
       "      <td>2017</td>\n",
       "      <td>CASSAVA</td>\n",
       "      <td>900.0</td>\n",
       "      <td>7.95</td>\n",
       "      <td>7155.00</td>\n",
       "    </tr>\n",
       "    <tr>\n",
       "      <th>8232</th>\n",
       "      <td>NORTHERN REGION</td>\n",
       "      <td>YENDI</td>\n",
       "      <td>2017</td>\n",
       "      <td>CASSAVA</td>\n",
       "      <td>4790.0</td>\n",
       "      <td>13.59</td>\n",
       "      <td>65096.10</td>\n",
       "    </tr>\n",
       "    <tr>\n",
       "      <th>8233</th>\n",
       "      <td>NORTHERN REGION</td>\n",
       "      <td>MION</td>\n",
       "      <td>2017</td>\n",
       "      <td>CASSAVA</td>\n",
       "      <td>3831.0</td>\n",
       "      <td>6.96</td>\n",
       "      <td>26663.76</td>\n",
       "    </tr>\n",
       "    <tr>\n",
       "      <th>8234</th>\n",
       "      <td>NORTHERN REGION</td>\n",
       "      <td>TATALE SANGULI</td>\n",
       "      <td>2017</td>\n",
       "      <td>CASSAVA</td>\n",
       "      <td>5192.0</td>\n",
       "      <td>13.85</td>\n",
       "      <td>71909.20</td>\n",
       "    </tr>\n",
       "    <tr>\n",
       "      <th>8235</th>\n",
       "      <td>NORTHERN REGION</td>\n",
       "      <td>ZABZUGU</td>\n",
       "      <td>2017</td>\n",
       "      <td>CASSAVA</td>\n",
       "      <td>4612.0</td>\n",
       "      <td>13.85</td>\n",
       "      <td>63876.20</td>\n",
       "    </tr>\n",
       "  </tbody>\n",
       "</table>\n",
       "<p>8236 rows × 7 columns</p>\n",
       "</div>"
      ],
      "text/plain": [
       "               REGION            DISTRICT  YEAR     CROP  AREA (HA)  \\\n",
       "0             WESTERN   SHAMA AHANTA EAST  2008    MAIZE     1099.0   \n",
       "1             WESTERN         WEST AHANTA  2008    MAIZE     1433.0   \n",
       "2             WESTERN  MPORHOR WASSA EAST  2008    MAIZE     2034.0   \n",
       "3             WESTERN          WASSA WEST  2008    MAIZE     2204.0   \n",
       "4             WESTERN          EAST NZEMA  2008    MAIZE     1550.0   \n",
       "...               ...                 ...   ...      ...        ...   \n",
       "8231  NORTHERN REGION   MAMPRUGU MOAGDURI  2017  CASSAVA      900.0   \n",
       "8232  NORTHERN REGION               YENDI  2017  CASSAVA     4790.0   \n",
       "8233  NORTHERN REGION                MION  2017  CASSAVA     3831.0   \n",
       "8234  NORTHERN REGION      TATALE SANGULI  2017  CASSAVA     5192.0   \n",
       "8235  NORTHERN REGION             ZABZUGU  2017  CASSAVA     4612.0   \n",
       "\n",
       "      YIELD (MT/HA)  PRODUCTION (MT)  \n",
       "0              1.15          1263.85  \n",
       "1              1.19          1705.27  \n",
       "2              1.32          2684.88  \n",
       "3              1.20          2644.80  \n",
       "4              1.38          2139.00  \n",
       "...             ...              ...  \n",
       "8231           7.95          7155.00  \n",
       "8232          13.59         65096.10  \n",
       "8233           6.96         26663.76  \n",
       "8234          13.85         71909.20  \n",
       "8235          13.85         63876.20  \n",
       "\n",
       "[8236 rows x 7 columns]"
      ]
     },
     "execution_count": 170,
     "metadata": {},
     "output_type": "execute_result"
    }
   ],
   "source": [
    "pro_est_df"
   ]
  },
  {
   "cell_type": "code",
   "execution_count": 172,
   "id": "ca310141",
   "metadata": {},
   "outputs": [
    {
     "data": {
      "text/plain": [
       "pandas.core.frame.DataFrame"
      ]
     },
     "execution_count": 172,
     "metadata": {},
     "output_type": "execute_result"
    }
   ],
   "source": [
    "type(pro_est_df)"
   ]
  },
  {
   "cell_type": "code",
   "execution_count": 173,
   "id": "0835535c",
   "metadata": {},
   "outputs": [
    {
     "data": {
      "text/plain": [
       "pandas.core.series.Series"
      ]
     },
     "execution_count": 173,
     "metadata": {},
     "output_type": "execute_result"
    }
   ],
   "source": [
    "type(pro_est_df['AREA (HA)'])"
   ]
  },
  {
   "cell_type": "code",
   "execution_count": 174,
   "id": "9582c664",
   "metadata": {},
   "outputs": [
    {
     "data": {
      "text/html": [
       "<div>\n",
       "<style scoped>\n",
       "    .dataframe tbody tr th:only-of-type {\n",
       "        vertical-align: middle;\n",
       "    }\n",
       "\n",
       "    .dataframe tbody tr th {\n",
       "        vertical-align: top;\n",
       "    }\n",
       "\n",
       "    .dataframe thead th {\n",
       "        text-align: right;\n",
       "    }\n",
       "</style>\n",
       "<table border=\"1\" class=\"dataframe\">\n",
       "  <thead>\n",
       "    <tr style=\"text-align: right;\">\n",
       "      <th></th>\n",
       "      <th>REGION</th>\n",
       "      <th>DISTRICT</th>\n",
       "      <th>YEAR</th>\n",
       "      <th>CROP</th>\n",
       "      <th>AREA (HA)</th>\n",
       "      <th>YIELD (MT/HA)</th>\n",
       "      <th>PRODUCTION (MT)</th>\n",
       "    </tr>\n",
       "  </thead>\n",
       "  <tbody>\n",
       "    <tr>\n",
       "      <th>0</th>\n",
       "      <td>WESTERN</td>\n",
       "      <td>SHAMA AHANTA EAST</td>\n",
       "      <td>2008</td>\n",
       "      <td>MAIZE</td>\n",
       "      <td>1099.0</td>\n",
       "      <td>1.15</td>\n",
       "      <td>1263.85</td>\n",
       "    </tr>\n",
       "    <tr>\n",
       "      <th>1</th>\n",
       "      <td>WESTERN</td>\n",
       "      <td>WEST AHANTA</td>\n",
       "      <td>2008</td>\n",
       "      <td>MAIZE</td>\n",
       "      <td>1433.0</td>\n",
       "      <td>1.19</td>\n",
       "      <td>1705.27</td>\n",
       "    </tr>\n",
       "  </tbody>\n",
       "</table>\n",
       "</div>"
      ],
      "text/plain": [
       "    REGION           DISTRICT  YEAR   CROP  AREA (HA)  YIELD (MT/HA)  \\\n",
       "0  WESTERN  SHAMA AHANTA EAST  2008  MAIZE     1099.0           1.15   \n",
       "1  WESTERN        WEST AHANTA  2008  MAIZE     1433.0           1.19   \n",
       "\n",
       "   PRODUCTION (MT)  \n",
       "0          1263.85  \n",
       "1          1705.27  "
      ]
     },
     "execution_count": 174,
     "metadata": {},
     "output_type": "execute_result"
    }
   ],
   "source": [
    "pro_est_df.head(2)"
   ]
  },
  {
   "cell_type": "code",
   "execution_count": 175,
   "id": "36818721",
   "metadata": {},
   "outputs": [
    {
     "data": {
      "text/plain": [
       "0       1099.0\n",
       "1       1433.0\n",
       "2       2034.0\n",
       "3       2204.0\n",
       "4       1550.0\n",
       "         ...  \n",
       "8231     900.0\n",
       "8232    4790.0\n",
       "8233    3831.0\n",
       "8234    5192.0\n",
       "8235    4612.0\n",
       "Name: AREA (HA), Length: 8236, dtype: float64"
      ]
     },
     "execution_count": 175,
     "metadata": {},
     "output_type": "execute_result"
    }
   ],
   "source": [
    "pro_est_df['AREA (HA)']"
   ]
  },
  {
   "cell_type": "code",
   "execution_count": 188,
   "id": "3a1ce23e",
   "metadata": {},
   "outputs": [
    {
     "data": {
      "text/plain": [
       "array([[1, 2],\n",
       "       [3, 4]])"
      ]
     },
     "execution_count": 188,
     "metadata": {},
     "output_type": "execute_result"
    }
   ],
   "source": [
    "np.array([[1,2], [3,4]])"
   ]
  },
  {
   "cell_type": "code",
   "execution_count": 190,
   "id": "03f82998",
   "metadata": {},
   "outputs": [],
   "source": [
    "area_array = np.array(pro_est_df['AREA (HA)'])"
   ]
  },
  {
   "cell_type": "code",
   "execution_count": 196,
   "id": "e4de0804",
   "metadata": {},
   "outputs": [
    {
     "data": {
      "image/png": "[encoded data removed]",
      "text/plain": [
       "<Figure size 432x288 with 1 Axes>"
      ]
     },
     "metadata": {
      "needs_background": "light"
     },
     "output_type": "display_data"
    }
   ],
   "source": [
    "plt.hist(area_array, bins =22)\n",
    "plt.show()"
   ]
  },
  {
   "cell_type": "code",
   "execution_count": 197,
   "id": "bb84793e",
   "metadata": {},
   "outputs": [
    {
     "data": {
      "text/plain": [
       "3996.5393734822683"
      ]
     },
     "execution_count": 197,
     "metadata": {},
     "output_type": "execute_result"
    }
   ],
   "source": [
    "pro_est_df['AREA (HA)'].mean()"
   ]
  },
  {
   "cell_type": "code",
   "execution_count": 198,
   "id": "c47861cf",
   "metadata": {},
   "outputs": [
    {
     "data": {
      "text/plain": [
       "2308.4449999999997"
      ]
     },
     "execution_count": 198,
     "metadata": {},
     "output_type": "execute_result"
    }
   ],
   "source": [
    "pro_est_df['AREA (HA)'].median()"
   ]
  },
  {
   "cell_type": "code",
   "execution_count": 200,
   "id": "e71ae807",
   "metadata": {},
   "outputs": [
    {
     "data": {
      "text/plain": [
       "110.0      27\n",
       "20.0       26\n",
       "100.0      25\n",
       "30.0       25\n",
       "200.0      23\n",
       "           ..\n",
       "8698.0      1\n",
       "14250.0     1\n",
       "8615.0      1\n",
       "6693.0      1\n",
       "4612.0      1\n",
       "Name: AREA (HA), Length: 5025, dtype: int64"
      ]
     },
     "execution_count": 200,
     "metadata": {},
     "output_type": "execute_result"
    }
   ],
   "source": [
    "pro_est_df['AREA (HA)'].value_counts()"
   ]
  },
  {
   "cell_type": "code",
   "execution_count": 199,
   "id": "24d1a860",
   "metadata": {},
   "outputs": [
    {
     "data": {
      "text/plain": [
       "0    110.0\n",
       "dtype: float64"
      ]
     },
     "execution_count": 199,
     "metadata": {},
     "output_type": "execute_result"
    }
   ],
   "source": [
    "pro_est_df['AREA (HA)'].mode()"
   ]
  },
  {
   "cell_type": "code",
   "execution_count": null,
   "id": "08cae48e",
   "metadata": {},
   "outputs": [],
   "source": []
  },
  {
   "cell_type": "code",
   "execution_count": null,
   "id": "79f27593",
   "metadata": {},
   "outputs": [],
   "source": []
  },
  {
   "cell_type": "code",
   "execution_count": 202,
   "id": "125aa389",
   "metadata": {},
   "outputs": [],
   "source": [
    "yield_array = np.array(pro_est_df['YIELD (MT/HA)'])"
   ]
  },
  {
   "cell_type": "code",
   "execution_count": 266,
   "id": "8294c884",
   "metadata": {},
   "outputs": [
    {
     "data": {
      "image/png": "[encoded data removed]",
      "text/plain": [
       "<Figure size 1080x1080 with 1 Axes>"
      ]
     },
     "metadata": {
      "needs_background": "light"
     },
     "output_type": "display_data"
    }
   ],
   "source": [
    "plt.figure(figsize=(15,15))\n",
    "plt.hist(yield_array, bins =22)\n",
    "plt.show()"
   ]
  },
  {
   "cell_type": "code",
   "execution_count": 204,
   "id": "3ad0b39c",
   "metadata": {},
   "outputs": [
    {
     "data": {
      "text/plain": [
       "6.9614558037882395"
      ]
     },
     "execution_count": 204,
     "metadata": {},
     "output_type": "execute_result"
    }
   ],
   "source": [
    "pro_est_df['YIELD (MT/HA)'].mean()"
   ]
  },
  {
   "cell_type": "code",
   "execution_count": 205,
   "id": "66e1364c",
   "metadata": {},
   "outputs": [
    {
     "data": {
      "text/plain": [
       "4.6"
      ]
     },
     "execution_count": 205,
     "metadata": {},
     "output_type": "execute_result"
    }
   ],
   "source": [
    "pro_est_df['YIELD (MT/HA)'].median()"
   ]
  },
  {
   "cell_type": "code",
   "execution_count": 206,
   "id": "05979d21",
   "metadata": {},
   "outputs": [
    {
     "data": {
      "text/plain": [
       "1.20     176\n",
       "1.00     100\n",
       "1.30      98\n",
       "1.40      97\n",
       "1.10      90\n",
       "        ... \n",
       "18.06      1\n",
       "30.14      1\n",
       "17.16      1\n",
       "3.45       1\n",
       "13.59      1\n",
       "Name: YIELD (MT/HA), Length: 1746, dtype: int64"
      ]
     },
     "execution_count": 206,
     "metadata": {},
     "output_type": "execute_result"
    }
   ],
   "source": [
    "pro_est_df['YIELD (MT/HA)'].value_counts()"
   ]
  },
  {
   "cell_type": "code",
   "execution_count": 207,
   "id": "cad93580",
   "metadata": {},
   "outputs": [
    {
     "data": {
      "text/plain": [
       "0    1.2\n",
       "dtype: float64"
      ]
     },
     "execution_count": 207,
     "metadata": {},
     "output_type": "execute_result"
    }
   ],
   "source": [
    "pro_est_df['YIELD (MT/HA)'].mode()"
   ]
  },
  {
   "cell_type": "code",
   "execution_count": null,
   "id": "cc028766",
   "metadata": {},
   "outputs": [],
   "source": []
  },
  {
   "cell_type": "code",
   "execution_count": null,
   "id": "96f93e8b",
   "metadata": {},
   "outputs": [],
   "source": []
  },
  {
   "cell_type": "code",
   "execution_count": null,
   "id": "b07332b0",
   "metadata": {},
   "outputs": [],
   "source": []
  },
  {
   "cell_type": "code",
   "execution_count": 208,
   "id": "43689724",
   "metadata": {},
   "outputs": [],
   "source": [
    "prod_array = np.array(pro_est_df['PRODUCTION (MT)'])"
   ]
  },
  {
   "cell_type": "code",
   "execution_count": 215,
   "id": "edd60bb1",
   "metadata": {},
   "outputs": [
    {
     "data": {
      "image/png": "[encoded data removed]",
      "text/plain": [
       "<Figure size 432x288 with 1 Axes>"
      ]
     },
     "metadata": {
      "needs_background": "light"
     },
     "output_type": "display_data"
    }
   ],
   "source": [
    "plt.hist(prod_array, bins =35)\n",
    "plt.show()"
   ]
  },
  {
   "cell_type": "code",
   "execution_count": 210,
   "id": "d9856288",
   "metadata": {},
   "outputs": [
    {
     "data": {
      "text/plain": [
       "32651.23766512867"
      ]
     },
     "execution_count": 210,
     "metadata": {},
     "output_type": "execute_result"
    }
   ],
   "source": [
    "pro_est_df['PRODUCTION (MT)'].mean()"
   ]
  },
  {
   "cell_type": "code",
   "execution_count": 211,
   "id": "b1cac5f6",
   "metadata": {
    "scrolled": true
   },
   "outputs": [
    {
     "data": {
      "text/plain": [
       "7477.235000000001"
      ]
     },
     "execution_count": 211,
     "metadata": {},
     "output_type": "execute_result"
    }
   ],
   "source": [
    "pro_est_df['PRODUCTION (MT)'].median()"
   ]
  },
  {
   "cell_type": "code",
   "execution_count": 213,
   "id": "6d6921d3",
   "metadata": {},
   "outputs": [
    {
     "data": {
      "text/plain": [
       "0    0.0\n",
       "dtype: float64"
      ]
     },
     "execution_count": 213,
     "metadata": {},
     "output_type": "execute_result"
    }
   ],
   "source": [
    "pro_est_df['PRODUCTION (MT)'].mode()"
   ]
  },
  {
   "cell_type": "code",
   "execution_count": 212,
   "id": "bfccd62f",
   "metadata": {},
   "outputs": [
    {
     "data": {
      "text/plain": [
       "0.00         55\n",
       "90.00         8\n",
       "4500.00       7\n",
       "180.00        6\n",
       "7650.00       6\n",
       "             ..\n",
       "376.32        1\n",
       "2227.96       1\n",
       "10958.81      1\n",
       "119820.29     1\n",
       "63876.20      1\n",
       "Name: PRODUCTION (MT), Length: 7634, dtype: int64"
      ]
     },
     "execution_count": 212,
     "metadata": {},
     "output_type": "execute_result"
    }
   ],
   "source": [
    "pro_est_df['PRODUCTION (MT)'].value_counts()"
   ]
  },
  {
   "cell_type": "markdown",
   "id": "2d81d788",
   "metadata": {},
   "source": [
    "#### Pie chart"
   ]
  },
  {
   "cell_type": "code",
   "execution_count": 232,
   "id": "be3836c0",
   "metadata": {},
   "outputs": [
    {
     "data": {
      "text/plain": [
       "<AxesSubplot:ylabel='AREA (HA)'>"
      ]
     },
     "execution_count": 232,
     "metadata": {},
     "output_type": "execute_result"
    },
    {
     "data": {
      "image/png": "[encoded data removed]",
      "text/plain": [
       "<Figure size 1440x1440 with 1 Axes>"
      ]
     },
     "metadata": {},
     "output_type": "display_data"
    }
   ],
   "source": [
    "pro_est_df.groupby(pro_est_df['REGION'])['AREA (HA)'].sum().plot(kind = 'pie', figsize = (20,20), autopct='%1.1f%%')"
   ]
  },
  {
   "cell_type": "markdown",
   "id": "d6b71219",
   "metadata": {},
   "source": [
    "#### Line Chart"
   ]
  },
  {
   "cell_type": "code",
   "execution_count": 237,
   "id": "b2cfac94",
   "metadata": {},
   "outputs": [
    {
     "data": {
      "text/plain": [
       "2017    1147\n",
       "2016     923\n",
       "2015     870\n",
       "2013     868\n",
       "2014     867\n",
       "2012     856\n",
       "2011     705\n",
       "2010     702\n",
       "2009     650\n",
       "2008     648\n",
       "Name: YEAR, dtype: int64"
      ]
     },
     "execution_count": 237,
     "metadata": {},
     "output_type": "execute_result"
    }
   ],
   "source": [
    "pro_est_df['YEAR'].value_counts()"
   ]
  },
  {
   "cell_type": "code",
   "execution_count": 242,
   "id": "b9b61f2b",
   "metadata": {},
   "outputs": [
    {
     "data": {
      "text/plain": [
       "array([1147,  923,  870,  868,  867,  856,  705,  702,  650,  648],\n",
       "      dtype=int64)"
      ]
     },
     "execution_count": 242,
     "metadata": {},
     "output_type": "execute_result"
    }
   ],
   "source": [
    "y= np.array(pro_est_df['YEAR'].value_counts())\n",
    "y"
   ]
  },
  {
   "cell_type": "code",
   "execution_count": 248,
   "id": "f35d1157",
   "metadata": {},
   "outputs": [
    {
     "data": {
      "text/plain": [
       "[2017, 2016, 2015, 2014, 2013, 2012, 2011, 2010, 2009, 2008]"
      ]
     },
     "execution_count": 248,
     "metadata": {},
     "output_type": "execute_result"
    }
   ],
   "source": [
    "x = list(np.array(pro_est_df['YEAR'].unique()))\n",
    "x = sorted(x, reverse = True)\n",
    "x"
   ]
  },
  {
   "cell_type": "code",
   "execution_count": 251,
   "id": "3b6c2379",
   "metadata": {},
   "outputs": [
    {
     "data": {
      "text/plain": [
       "2014"
      ]
     },
     "execution_count": 251,
     "metadata": {},
     "output_type": "execute_result"
    }
   ],
   "source": [
    "x.pop(3)"
   ]
  },
  {
   "cell_type": "code",
   "execution_count": 253,
   "id": "ba8b99a0",
   "metadata": {},
   "outputs": [
    {
     "data": {
      "text/plain": [
       "[2017, 2016, 2015, 2013, 2012, 2011, 2010, 2009, 2008]"
      ]
     },
     "execution_count": 253,
     "metadata": {},
     "output_type": "execute_result"
    }
   ],
   "source": [
    "x"
   ]
  },
  {
   "cell_type": "code",
   "execution_count": 254,
   "id": "66570ffe",
   "metadata": {},
   "outputs": [],
   "source": [
    "x.insert(4, 2014)"
   ]
  },
  {
   "cell_type": "code",
   "execution_count": 255,
   "id": "6d27e304",
   "metadata": {},
   "outputs": [
    {
     "data": {
      "text/plain": [
       "[2017, 2016, 2015, 2013, 2014, 2012, 2011, 2010, 2009, 2008]"
      ]
     },
     "execution_count": 255,
     "metadata": {},
     "output_type": "execute_result"
    }
   ],
   "source": [
    "x"
   ]
  },
  {
   "cell_type": "code",
   "execution_count": 259,
   "id": "69df4092",
   "metadata": {},
   "outputs": [
    {
     "data": {
      "text/plain": [
       "[<matplotlib.lines.Line2D at 0x1f90ba86e80>]"
      ]
     },
     "execution_count": 259,
     "metadata": {},
     "output_type": "execute_result"
    },
    {
     "data": {
      "image/png": "[encoded data removed]",
      "text/plain": [
       "<Figure size 1080x1080 with 1 Axes>"
      ]
     },
     "metadata": {
      "needs_background": "light"
     },
     "output_type": "display_data"
    }
   ],
   "source": [
    "plt.figure(figsize=(15,15))\n",
    "plt.plot(x, y)"
   ]
  },
  {
   "cell_type": "markdown",
   "id": "8dc52e87",
   "metadata": {},
   "source": [
    "#### Boxplot"
   ]
  },
  {
   "cell_type": "code",
   "execution_count": 261,
   "id": "c0f2bde4",
   "metadata": {},
   "outputs": [
    {
     "data": {
      "text/plain": [
       "array([ 1.15,  1.19,  1.32, ...,  6.96, 13.85, 13.85])"
      ]
     },
     "execution_count": 261,
     "metadata": {},
     "output_type": "execute_result"
    }
   ],
   "source": [
    "yield_array = np.array(pro_est_df['YIELD (MT/HA)'])\n",
    "yield_array"
   ]
  },
  {
   "cell_type": "code",
   "execution_count": 265,
   "id": "79083577",
   "metadata": {
    "scrolled": false
   },
   "outputs": [
    {
     "data": {
      "image/png": "[encoded data removed]",
      "text/plain": [
       "<Figure size 1080x1080 with 1 Axes>"
      ]
     },
     "metadata": {
      "needs_background": "light"
     },
     "output_type": "display_data"
    }
   ],
   "source": [
    "plt.figure(figsize=(15,15))\n",
    "plt.boxplot(yield_array)\n",
    "plt.show()"
   ]
  },
  {
   "cell_type": "code",
   "execution_count": 267,
   "id": "4af663c9",
   "metadata": {},
   "outputs": [
    {
     "data": {
      "text/html": [
       "<div>\n",
       "<style scoped>\n",
       "    .dataframe tbody tr th:only-of-type {\n",
       "        vertical-align: middle;\n",
       "    }\n",
       "\n",
       "    .dataframe tbody tr th {\n",
       "        vertical-align: top;\n",
       "    }\n",
       "\n",
       "    .dataframe thead th {\n",
       "        text-align: right;\n",
       "    }\n",
       "</style>\n",
       "<table border=\"1\" class=\"dataframe\">\n",
       "  <thead>\n",
       "    <tr style=\"text-align: right;\">\n",
       "      <th></th>\n",
       "      <th>YEAR</th>\n",
       "      <th>AREA (HA)</th>\n",
       "      <th>YIELD (MT/HA)</th>\n",
       "      <th>PRODUCTION (MT)</th>\n",
       "    </tr>\n",
       "  </thead>\n",
       "  <tbody>\n",
       "    <tr>\n",
       "      <th>count</th>\n",
       "      <td>8236.000000</td>\n",
       "      <td>8236.000000</td>\n",
       "      <td>8236.000000</td>\n",
       "      <td>8.236000e+03</td>\n",
       "    </tr>\n",
       "    <tr>\n",
       "      <th>mean</th>\n",
       "      <td>2012.969888</td>\n",
       "      <td>3996.539373</td>\n",
       "      <td>6.961456</td>\n",
       "      <td>3.265124e+04</td>\n",
       "    </tr>\n",
       "    <tr>\n",
       "      <th>std</th>\n",
       "      <td>2.864953</td>\n",
       "      <td>4868.861002</td>\n",
       "      <td>6.576048</td>\n",
       "      <td>6.558999e+04</td>\n",
       "    </tr>\n",
       "    <tr>\n",
       "      <th>min</th>\n",
       "      <td>2008.000000</td>\n",
       "      <td>0.020000</td>\n",
       "      <td>0.000000</td>\n",
       "      <td>0.000000e+00</td>\n",
       "    </tr>\n",
       "    <tr>\n",
       "      <th>25%</th>\n",
       "      <td>2011.000000</td>\n",
       "      <td>540.000000</td>\n",
       "      <td>1.440000</td>\n",
       "      <td>1.782000e+03</td>\n",
       "    </tr>\n",
       "    <tr>\n",
       "      <th>50%</th>\n",
       "      <td>2013.000000</td>\n",
       "      <td>2308.445000</td>\n",
       "      <td>4.600000</td>\n",
       "      <td>7.477235e+03</td>\n",
       "    </tr>\n",
       "    <tr>\n",
       "      <th>75%</th>\n",
       "      <td>2016.000000</td>\n",
       "      <td>5860.000000</td>\n",
       "      <td>10.900000</td>\n",
       "      <td>2.956623e+04</td>\n",
       "    </tr>\n",
       "    <tr>\n",
       "      <th>max</th>\n",
       "      <td>2017.000000</td>\n",
       "      <td>54300.000000</td>\n",
       "      <td>42.450000</td>\n",
       "      <td>1.241400e+06</td>\n",
       "    </tr>\n",
       "  </tbody>\n",
       "</table>\n",
       "</div>"
      ],
      "text/plain": [
       "              YEAR     AREA (HA)  YIELD (MT/HA)  PRODUCTION (MT)\n",
       "count  8236.000000   8236.000000    8236.000000     8.236000e+03\n",
       "mean   2012.969888   3996.539373       6.961456     3.265124e+04\n",
       "std       2.864953   4868.861002       6.576048     6.558999e+04\n",
       "min    2008.000000      0.020000       0.000000     0.000000e+00\n",
       "25%    2011.000000    540.000000       1.440000     1.782000e+03\n",
       "50%    2013.000000   2308.445000       4.600000     7.477235e+03\n",
       "75%    2016.000000   5860.000000      10.900000     2.956623e+04\n",
       "max    2017.000000  54300.000000      42.450000     1.241400e+06"
      ]
     },
     "execution_count": 267,
     "metadata": {},
     "output_type": "execute_result"
    }
   ],
   "source": [
    "pro_est_df.describe()"
   ]
  }
 ],
 "metadata": {
  "kernelspec": {
   "display_name": "Python 3 (ipykernel)",
   "language": "python",
   "name": "python3"
  },
  "language_info": {
   "codemirror_mode": {
    "name": "ipython",
    "version": 3
   },
   "file_extension": ".py",
   "mimetype": "text/x-python",
   "name": "python",
   "nbconvert_exporter": "python",
   "pygments_lexer": "ipython3",
   "version": "3.9.7"
  }
 },
 "nbformat": 4,
 "nbformat_minor": 5
}
