{
 "cells": [
  {
   "cell_type": "code",
   "execution_count": 1,
   "id": "0720bd5c",
   "metadata": {},
   "outputs": [],
   "source": [
    "# import necessary libraries\n",
    "import pandas as pd"
   ]
  },
  {
   "cell_type": "code",
   "execution_count": 2,
   "id": "545cdcb8",
   "metadata": {},
   "outputs": [
    {
     "data": {
      "text/html": [
       "<div>\n",
       "<style scoped>\n",
       "    .dataframe tbody tr th:only-of-type {\n",
       "        vertical-align: middle;\n",
       "    }\n",
       "\n",
       "    .dataframe tbody tr th {\n",
       "        vertical-align: top;\n",
       "    }\n",
       "\n",
       "    .dataframe thead th {\n",
       "        text-align: right;\n",
       "    }\n",
       "</style>\n",
       "<table border=\"1\" class=\"dataframe\">\n",
       "  <thead>\n",
       "    <tr style=\"text-align: right;\">\n",
       "      <th></th>\n",
       "      <th>Name</th>\n",
       "      <th>Age</th>\n",
       "      <th>race</th>\n",
       "    </tr>\n",
       "  </thead>\n",
       "  <tbody>\n",
       "    <tr>\n",
       "      <th>0</th>\n",
       "      <td>Tigi</td>\n",
       "      <td>24</td>\n",
       "      <td>african-american</td>\n",
       "    </tr>\n",
       "    <tr>\n",
       "      <th>1</th>\n",
       "      <td>Mobi</td>\n",
       "      <td>27</td>\n",
       "      <td>asian</td>\n",
       "    </tr>\n",
       "    <tr>\n",
       "      <th>2</th>\n",
       "      <td>Waga</td>\n",
       "      <td>32</td>\n",
       "      <td>latino</td>\n",
       "    </tr>\n",
       "  </tbody>\n",
       "</table>\n",
       "</div>"
      ],
      "text/plain": [
       "   Name   Age               race\n",
       "0  Tigi    24   african-american\n",
       "1  Mobi    27              asian\n",
       "2  Waga    32             latino"
      ]
     },
     "execution_count": 2,
     "metadata": {},
     "output_type": "execute_result"
    }
   ],
   "source": [
    "csv_data = pd.read_csv('csv_data.csv')\n",
    "csv_data"
   ]
  },
  {
   "cell_type": "code",
   "execution_count": 12,
   "id": "f37c665c",
   "metadata": {},
   "outputs": [
    {
     "data": {
      "text/html": [
       "<div>\n",
       "<style scoped>\n",
       "    .dataframe tbody tr th:only-of-type {\n",
       "        vertical-align: middle;\n",
       "    }\n",
       "\n",
       "    .dataframe tbody tr th {\n",
       "        vertical-align: top;\n",
       "    }\n",
       "\n",
       "    .dataframe thead th {\n",
       "        text-align: right;\n",
       "    }\n",
       "</style>\n",
       "<table border=\"1\" class=\"dataframe\">\n",
       "  <thead>\n",
       "    <tr style=\"text-align: right;\">\n",
       "      <th></th>\n",
       "      <th>Students</th>\n",
       "      <th>Height</th>\n",
       "      <th>Fav_color</th>\n",
       "    </tr>\n",
       "  </thead>\n",
       "  <tbody>\n",
       "    <tr>\n",
       "      <th>0</th>\n",
       "      <td>Akwasi</td>\n",
       "      <td>184</td>\n",
       "      <td>Black</td>\n",
       "    </tr>\n",
       "    <tr>\n",
       "      <th>1</th>\n",
       "      <td>Franklin</td>\n",
       "      <td>175</td>\n",
       "      <td>Burgundy</td>\n",
       "    </tr>\n",
       "    <tr>\n",
       "      <th>2</th>\n",
       "      <td>Nashirat</td>\n",
       "      <td>178</td>\n",
       "      <td>Purple</td>\n",
       "    </tr>\n",
       "    <tr>\n",
       "      <th>3</th>\n",
       "      <td>Irene</td>\n",
       "      <td>188</td>\n",
       "      <td>Green</td>\n",
       "    </tr>\n",
       "  </tbody>\n",
       "</table>\n",
       "</div>"
      ],
      "text/plain": [
       "   Students  Height Fav_color\n",
       "0    Akwasi     184     Black\n",
       "1  Franklin     175  Burgundy\n",
       "2  Nashirat     178    Purple\n",
       "3     Irene     188     Green"
      ]
     },
     "execution_count": 12,
     "metadata": {},
     "output_type": "execute_result"
    }
   ],
   "source": [
    "data = pd.read_excel('excel_data.xlsx')\n",
    "data"
   ]
  },
  {
   "cell_type": "code",
   "execution_count": 3,
   "id": "70907292",
   "metadata": {
    "scrolled": true
   },
   "outputs": [
    {
     "data": {
      "text/html": [
       "<div>\n",
       "<style scoped>\n",
       "    .dataframe tbody tr th:only-of-type {\n",
       "        vertical-align: middle;\n",
       "    }\n",
       "\n",
       "    .dataframe tbody tr th {\n",
       "        vertical-align: top;\n",
       "    }\n",
       "\n",
       "    .dataframe thead th {\n",
       "        text-align: right;\n",
       "    }\n",
       "</style>\n",
       "<table border=\"1\" class=\"dataframe\">\n",
       "  <thead>\n",
       "    <tr style=\"text-align: right;\">\n",
       "      <th></th>\n",
       "      <th>REGION</th>\n",
       "      <th>DISTRICT</th>\n",
       "      <th>YEAR</th>\n",
       "      <th>CROP</th>\n",
       "      <th>AREA (HA)</th>\n",
       "      <th>YIELD (MT/HA)</th>\n",
       "      <th>PRODUCTION (MT)</th>\n",
       "    </tr>\n",
       "  </thead>\n",
       "  <tbody>\n",
       "    <tr>\n",
       "      <th>0</th>\n",
       "      <td>WESTERN</td>\n",
       "      <td>SHAMA AHANTA EAST</td>\n",
       "      <td>2008</td>\n",
       "      <td>MAIZE</td>\n",
       "      <td>1,099.00</td>\n",
       "      <td>1.15</td>\n",
       "      <td>1,263.85</td>\n",
       "    </tr>\n",
       "    <tr>\n",
       "      <th>1</th>\n",
       "      <td>WESTERN</td>\n",
       "      <td>WEST AHANTA</td>\n",
       "      <td>2008</td>\n",
       "      <td>MAIZE</td>\n",
       "      <td>1,433.00</td>\n",
       "      <td>1.19</td>\n",
       "      <td>1,705.27</td>\n",
       "    </tr>\n",
       "    <tr>\n",
       "      <th>2</th>\n",
       "      <td>WESTERN</td>\n",
       "      <td>MPORHOR WASSA EAST</td>\n",
       "      <td>2008</td>\n",
       "      <td>MAIZE</td>\n",
       "      <td>2,034.00</td>\n",
       "      <td>1.32</td>\n",
       "      <td>2,684.88</td>\n",
       "    </tr>\n",
       "    <tr>\n",
       "      <th>3</th>\n",
       "      <td>WESTERN</td>\n",
       "      <td>WASSA WEST</td>\n",
       "      <td>2008</td>\n",
       "      <td>MAIZE</td>\n",
       "      <td>2,204.00</td>\n",
       "      <td>1.2</td>\n",
       "      <td>2,644.80</td>\n",
       "    </tr>\n",
       "    <tr>\n",
       "      <th>4</th>\n",
       "      <td>WESTERN</td>\n",
       "      <td>EAST NZEMA</td>\n",
       "      <td>2008</td>\n",
       "      <td>MAIZE</td>\n",
       "      <td>1,550.00</td>\n",
       "      <td>1.38</td>\n",
       "      <td>2,139.00</td>\n",
       "    </tr>\n",
       "    <tr>\n",
       "      <th>...</th>\n",
       "      <td>...</td>\n",
       "      <td>...</td>\n",
       "      <td>...</td>\n",
       "      <td>...</td>\n",
       "      <td>...</td>\n",
       "      <td>...</td>\n",
       "      <td>...</td>\n",
       "    </tr>\n",
       "    <tr>\n",
       "      <th>8231</th>\n",
       "      <td>NORTHERN REGION</td>\n",
       "      <td>MAMPRUGU MOAGDURI</td>\n",
       "      <td>2017</td>\n",
       "      <td>CASSAVA</td>\n",
       "      <td>900</td>\n",
       "      <td>7.95</td>\n",
       "      <td>7,155.00</td>\n",
       "    </tr>\n",
       "    <tr>\n",
       "      <th>8232</th>\n",
       "      <td>NORTHERN REGION</td>\n",
       "      <td>YENDI</td>\n",
       "      <td>2017</td>\n",
       "      <td>CASSAVA</td>\n",
       "      <td>4,790.00</td>\n",
       "      <td>13.59</td>\n",
       "      <td>65,096.10</td>\n",
       "    </tr>\n",
       "    <tr>\n",
       "      <th>8233</th>\n",
       "      <td>NORTHERN REGION</td>\n",
       "      <td>MION</td>\n",
       "      <td>2017</td>\n",
       "      <td>CASSAVA</td>\n",
       "      <td>3,831.00</td>\n",
       "      <td>6.96</td>\n",
       "      <td>26,663.76</td>\n",
       "    </tr>\n",
       "    <tr>\n",
       "      <th>8234</th>\n",
       "      <td>NORTHERN REGION</td>\n",
       "      <td>TATALE SANGULI</td>\n",
       "      <td>2017</td>\n",
       "      <td>CASSAVA</td>\n",
       "      <td>5,192.00</td>\n",
       "      <td>13.85</td>\n",
       "      <td>71,909.20</td>\n",
       "    </tr>\n",
       "    <tr>\n",
       "      <th>8235</th>\n",
       "      <td>NORTHERN REGION</td>\n",
       "      <td>ZABZUGU</td>\n",
       "      <td>2017</td>\n",
       "      <td>CASSAVA</td>\n",
       "      <td>4,612.00</td>\n",
       "      <td>13.85</td>\n",
       "      <td>63,876.20</td>\n",
       "    </tr>\n",
       "  </tbody>\n",
       "</table>\n",
       "<p>8236 rows × 7 columns</p>\n",
       "</div>"
      ],
      "text/plain": [
       "               REGION            DISTRICT  YEAR     CROP AREA (HA)  \\\n",
       "0             WESTERN   SHAMA AHANTA EAST  2008    MAIZE  1,099.00   \n",
       "1             WESTERN         WEST AHANTA  2008    MAIZE  1,433.00   \n",
       "2             WESTERN  MPORHOR WASSA EAST  2008    MAIZE  2,034.00   \n",
       "3             WESTERN          WASSA WEST  2008    MAIZE  2,204.00   \n",
       "4             WESTERN          EAST NZEMA  2008    MAIZE  1,550.00   \n",
       "...               ...                 ...   ...      ...       ...   \n",
       "8231  NORTHERN REGION   MAMPRUGU MOAGDURI  2017  CASSAVA       900   \n",
       "8232  NORTHERN REGION               YENDI  2017  CASSAVA  4,790.00   \n",
       "8233  NORTHERN REGION                MION  2017  CASSAVA  3,831.00   \n",
       "8234  NORTHERN REGION      TATALE SANGULI  2017  CASSAVA  5,192.00   \n",
       "8235  NORTHERN REGION             ZABZUGU  2017  CASSAVA  4,612.00   \n",
       "\n",
       "     YIELD (MT/HA) PRODUCTION (MT)  \n",
       "0             1.15        1,263.85  \n",
       "1             1.19        1,705.27  \n",
       "2             1.32        2,684.88  \n",
       "3              1.2        2,644.80  \n",
       "4             1.38        2,139.00  \n",
       "...            ...             ...  \n",
       "8231          7.95        7,155.00  \n",
       "8232         13.59       65,096.10  \n",
       "8233          6.96       26,663.76  \n",
       "8234         13.85       71,909.20  \n",
       "8235         13.85       63,876.20  \n",
       "\n",
       "[8236 rows x 7 columns]"
      ]
     },
     "execution_count": 3,
     "metadata": {},
     "output_type": "execute_result"
    }
   ],
   "source": [
    "pro_est_df = pd.read_csv('PRODUCTION ESTIMATES.csv')\n",
    "pro_est_df"
   ]
  },
  {
   "cell_type": "code",
   "execution_count": 4,
   "id": "62a3c95f",
   "metadata": {
    "scrolled": true
   },
   "outputs": [
    {
     "name": "stdout",
     "output_type": "stream",
     "text": [
      "<class 'pandas.core.frame.DataFrame'>\n",
      "RangeIndex: 8236 entries, 0 to 8235\n",
      "Data columns (total 7 columns):\n",
      " #   Column           Non-Null Count  Dtype \n",
      "---  ------           --------------  ----- \n",
      " 0   REGION           8236 non-null   object\n",
      " 1   DISTRICT         8236 non-null   object\n",
      " 2   YEAR             8236 non-null   int64 \n",
      " 3   CROP             8236 non-null   object\n",
      " 4   AREA (HA)        8236 non-null   object\n",
      " 5   YIELD (MT/HA)    8220 non-null   object\n",
      " 6   PRODUCTION (MT)  8234 non-null   object\n",
      "dtypes: int64(1), object(6)\n",
      "memory usage: 450.5+ KB\n"
     ]
    }
   ],
   "source": [
    "# ascertain the column types\n",
    "pro_est_df.info()"
   ]
  },
  {
   "cell_type": "code",
   "execution_count": 10,
   "id": "7725a11a",
   "metadata": {},
   "outputs": [
    {
     "data": {
      "text/html": [
       "<div>\n",
       "<style scoped>\n",
       "    .dataframe tbody tr th:only-of-type {\n",
       "        vertical-align: middle;\n",
       "    }\n",
       "\n",
       "    .dataframe tbody tr th {\n",
       "        vertical-align: top;\n",
       "    }\n",
       "\n",
       "    .dataframe thead th {\n",
       "        text-align: right;\n",
       "    }\n",
       "</style>\n",
       "<table border=\"1\" class=\"dataframe\">\n",
       "  <thead>\n",
       "    <tr style=\"text-align: right;\">\n",
       "      <th></th>\n",
       "      <th>Students</th>\n",
       "      <th>Height</th>\n",
       "      <th>Fav_color</th>\n",
       "    </tr>\n",
       "  </thead>\n",
       "  <tbody>\n",
       "    <tr>\n",
       "      <th>0</th>\n",
       "      <td>Akwasi</td>\n",
       "      <td>184</td>\n",
       "      <td>Black</td>\n",
       "    </tr>\n",
       "    <tr>\n",
       "      <th>1</th>\n",
       "      <td>Franklin</td>\n",
       "      <td>175</td>\n",
       "      <td>Burgundy</td>\n",
       "    </tr>\n",
       "    <tr>\n",
       "      <th>2</th>\n",
       "      <td>Nashirat</td>\n",
       "      <td>178</td>\n",
       "      <td>Purple</td>\n",
       "    </tr>\n",
       "    <tr>\n",
       "      <th>3</th>\n",
       "      <td>Irene</td>\n",
       "      <td>188</td>\n",
       "      <td>Green</td>\n",
       "    </tr>\n",
       "    <tr>\n",
       "      <th>4</th>\n",
       "      <td>Amma</td>\n",
       "      <td></td>\n",
       "      <td>Pink</td>\n",
       "    </tr>\n",
       "    <tr>\n",
       "      <th>5</th>\n",
       "      <td>Fauzia</td>\n",
       "      <td>Abc</td>\n",
       "      <td>Yellow</td>\n",
       "    </tr>\n",
       "  </tbody>\n",
       "</table>\n",
       "</div>"
      ],
      "text/plain": [
       "   Students Height Fav_color\n",
       "0    Akwasi    184     Black\n",
       "1  Franklin    175  Burgundy\n",
       "2  Nashirat    178    Purple\n",
       "3     Irene    188     Green\n",
       "4      Amma             Pink\n",
       "5    Fauzia    Abc    Yellow"
      ]
     },
     "execution_count": 10,
     "metadata": {},
     "output_type": "execute_result"
    }
   ],
   "source": [
    "data = pd.read_excel('excel_data.xlsx')\n",
    "data"
   ]
  },
  {
   "cell_type": "code",
   "execution_count": 13,
   "id": "f948317a",
   "metadata": {},
   "outputs": [
    {
     "data": {
      "text/plain": [
       "Students     0\n",
       "Height       0\n",
       "Fav_color    0\n",
       "dtype: int64"
      ]
     },
     "execution_count": 13,
     "metadata": {},
     "output_type": "execute_result"
    }
   ],
   "source": [
    "# count null values within each column\n",
    "data.isnull().sum()"
   ]
  },
  {
   "cell_type": "code",
   "execution_count": 15,
   "id": "c97c4a81",
   "metadata": {},
   "outputs": [
    {
     "data": {
      "text/plain": [
       "REGION              0\n",
       "DISTRICT            0\n",
       "YEAR                0\n",
       "CROP                0\n",
       "AREA (HA)           0\n",
       "YIELD (MT/HA)      16\n",
       "PRODUCTION (MT)     2\n",
       "dtype: int64"
      ]
     },
     "execution_count": 15,
     "metadata": {},
     "output_type": "execute_result"
    }
   ],
   "source": [
    "pro_est_df.isnull().sum()"
   ]
  },
  {
   "cell_type": "code",
   "execution_count": 16,
   "id": "d71317ba",
   "metadata": {},
   "outputs": [
    {
     "data": {
      "text/plain": [
       "Index(['REGION', 'DISTRICT', 'YEAR', 'CROP', 'AREA (HA)', 'YIELD (MT/HA)',\n",
       "       'PRODUCTION (MT)'],\n",
       "      dtype='object')"
      ]
     },
     "execution_count": 16,
     "metadata": {},
     "output_type": "execute_result"
    }
   ],
   "source": [
    "pro_est_df.columns"
   ]
  },
  {
   "cell_type": "code",
   "execution_count": 17,
   "id": "54311f02",
   "metadata": {
    "scrolled": true
   },
   "outputs": [
    {
     "data": {
      "text/plain": [
       "0               WESTERN\n",
       "1               WESTERN\n",
       "2               WESTERN\n",
       "3               WESTERN\n",
       "4               WESTERN\n",
       "             ...       \n",
       "8231    NORTHERN REGION\n",
       "8232    NORTHERN REGION\n",
       "8233    NORTHERN REGION\n",
       "8234    NORTHERN REGION\n",
       "8235    NORTHERN REGION\n",
       "Name: REGION, Length: 8236, dtype: object"
      ]
     },
     "execution_count": 17,
     "metadata": {},
     "output_type": "execute_result"
    }
   ],
   "source": [
    "pro_est_df.REGION"
   ]
  },
  {
   "cell_type": "code",
   "execution_count": 18,
   "id": "df7196c7",
   "metadata": {},
   "outputs": [
    {
     "data": {
      "text/plain": [
       "0               WESTERN\n",
       "1               WESTERN\n",
       "2               WESTERN\n",
       "3               WESTERN\n",
       "4               WESTERN\n",
       "             ...       \n",
       "8231    NORTHERN REGION\n",
       "8232    NORTHERN REGION\n",
       "8233    NORTHERN REGION\n",
       "8234    NORTHERN REGION\n",
       "8235    NORTHERN REGION\n",
       "Name: REGION, Length: 8236, dtype: object"
      ]
     },
     "execution_count": 18,
     "metadata": {},
     "output_type": "execute_result"
    }
   ],
   "source": [
    "pro_est_df['REGION']"
   ]
  },
  {
   "cell_type": "code",
   "execution_count": 20,
   "id": "5c5efb1d",
   "metadata": {},
   "outputs": [
    {
     "data": {
      "text/plain": [
       "0       1,099.00\n",
       "1       1,433.00\n",
       "2       2,034.00\n",
       "3       2,204.00\n",
       "4       1,550.00\n",
       "          ...   \n",
       "8231         900\n",
       "8232    4,790.00\n",
       "8233    3,831.00\n",
       "8234    5,192.00\n",
       "8235    4,612.00\n",
       "Name: AREA (HA), Length: 8236, dtype: object"
      ]
     },
     "execution_count": 20,
     "metadata": {},
     "output_type": "execute_result"
    }
   ],
   "source": [
    "pro_est_df['AREA (HA)']"
   ]
  },
  {
   "cell_type": "code",
   "execution_count": 22,
   "id": "741ac450",
   "metadata": {},
   "outputs": [],
   "source": [
    "# get rows and columns\n",
    "rows_cols = pro_est_df.shape"
   ]
  },
  {
   "cell_type": "code",
   "execution_count": 23,
   "id": "0a11db05",
   "metadata": {},
   "outputs": [
    {
     "data": {
      "text/plain": [
       "tuple"
      ]
     },
     "execution_count": 23,
     "metadata": {},
     "output_type": "execute_result"
    }
   ],
   "source": [
    "type(rows_cols)"
   ]
  },
  {
   "cell_type": "code",
   "execution_count": 26,
   "id": "3d540c0c",
   "metadata": {},
   "outputs": [
    {
     "data": {
      "text/plain": [
       "7"
      ]
     },
     "execution_count": 26,
     "metadata": {},
     "output_type": "execute_result"
    }
   ],
   "source": [
    "rows_cols[1]"
   ]
  },
  {
   "cell_type": "code",
   "execution_count": 27,
   "id": "56a4dd9d",
   "metadata": {
    "scrolled": true
   },
   "outputs": [
    {
     "data": {
      "text/html": [
       "<div>\n",
       "<style scoped>\n",
       "    .dataframe tbody tr th:only-of-type {\n",
       "        vertical-align: middle;\n",
       "    }\n",
       "\n",
       "    .dataframe tbody tr th {\n",
       "        vertical-align: top;\n",
       "    }\n",
       "\n",
       "    .dataframe thead th {\n",
       "        text-align: right;\n",
       "    }\n",
       "</style>\n",
       "<table border=\"1\" class=\"dataframe\">\n",
       "  <thead>\n",
       "    <tr style=\"text-align: right;\">\n",
       "      <th></th>\n",
       "      <th>REGION</th>\n",
       "      <th>DISTRICT</th>\n",
       "      <th>YEAR</th>\n",
       "      <th>CROP</th>\n",
       "      <th>AREA (HA)</th>\n",
       "      <th>YIELD (MT/HA)</th>\n",
       "      <th>PRODUCTION (MT)</th>\n",
       "    </tr>\n",
       "  </thead>\n",
       "  <tbody>\n",
       "    <tr>\n",
       "      <th>0</th>\n",
       "      <td>WESTERN</td>\n",
       "      <td>SHAMA AHANTA EAST</td>\n",
       "      <td>2008</td>\n",
       "      <td>MAIZE</td>\n",
       "      <td>1,099.00</td>\n",
       "      <td>1.15</td>\n",
       "      <td>1,263.85</td>\n",
       "    </tr>\n",
       "    <tr>\n",
       "      <th>1</th>\n",
       "      <td>WESTERN</td>\n",
       "      <td>WEST AHANTA</td>\n",
       "      <td>2008</td>\n",
       "      <td>MAIZE</td>\n",
       "      <td>1,433.00</td>\n",
       "      <td>1.19</td>\n",
       "      <td>1,705.27</td>\n",
       "    </tr>\n",
       "    <tr>\n",
       "      <th>2</th>\n",
       "      <td>WESTERN</td>\n",
       "      <td>MPORHOR WASSA EAST</td>\n",
       "      <td>2008</td>\n",
       "      <td>MAIZE</td>\n",
       "      <td>2,034.00</td>\n",
       "      <td>1.32</td>\n",
       "      <td>2,684.88</td>\n",
       "    </tr>\n",
       "    <tr>\n",
       "      <th>3</th>\n",
       "      <td>WESTERN</td>\n",
       "      <td>WASSA WEST</td>\n",
       "      <td>2008</td>\n",
       "      <td>MAIZE</td>\n",
       "      <td>2,204.00</td>\n",
       "      <td>1.2</td>\n",
       "      <td>2,644.80</td>\n",
       "    </tr>\n",
       "    <tr>\n",
       "      <th>4</th>\n",
       "      <td>WESTERN</td>\n",
       "      <td>EAST NZEMA</td>\n",
       "      <td>2008</td>\n",
       "      <td>MAIZE</td>\n",
       "      <td>1,550.00</td>\n",
       "      <td>1.38</td>\n",
       "      <td>2,139.00</td>\n",
       "    </tr>\n",
       "  </tbody>\n",
       "</table>\n",
       "</div>"
      ],
      "text/plain": [
       "    REGION            DISTRICT  YEAR   CROP AREA (HA) YIELD (MT/HA)  \\\n",
       "0  WESTERN   SHAMA AHANTA EAST  2008  MAIZE  1,099.00          1.15   \n",
       "1  WESTERN         WEST AHANTA  2008  MAIZE  1,433.00          1.19   \n",
       "2  WESTERN  MPORHOR WASSA EAST  2008  MAIZE  2,034.00          1.32   \n",
       "3  WESTERN          WASSA WEST  2008  MAIZE  2,204.00           1.2   \n",
       "4  WESTERN          EAST NZEMA  2008  MAIZE  1,550.00          1.38   \n",
       "\n",
       "  PRODUCTION (MT)  \n",
       "0        1,263.85  \n",
       "1        1,705.27  \n",
       "2        2,684.88  \n",
       "3        2,644.80  \n",
       "4        2,139.00  "
      ]
     },
     "execution_count": 27,
     "metadata": {},
     "output_type": "execute_result"
    }
   ],
   "source": [
    "# get first 5 rows\n",
    "pro_est_df.head()"
   ]
  },
  {
   "cell_type": "code",
   "execution_count": 28,
   "id": "acee7e87",
   "metadata": {},
   "outputs": [
    {
     "data": {
      "text/html": [
       "<div>\n",
       "<style scoped>\n",
       "    .dataframe tbody tr th:only-of-type {\n",
       "        vertical-align: middle;\n",
       "    }\n",
       "\n",
       "    .dataframe tbody tr th {\n",
       "        vertical-align: top;\n",
       "    }\n",
       "\n",
       "    .dataframe thead th {\n",
       "        text-align: right;\n",
       "    }\n",
       "</style>\n",
       "<table border=\"1\" class=\"dataframe\">\n",
       "  <thead>\n",
       "    <tr style=\"text-align: right;\">\n",
       "      <th></th>\n",
       "      <th>REGION</th>\n",
       "      <th>DISTRICT</th>\n",
       "      <th>YEAR</th>\n",
       "      <th>CROP</th>\n",
       "      <th>AREA (HA)</th>\n",
       "      <th>YIELD (MT/HA)</th>\n",
       "      <th>PRODUCTION (MT)</th>\n",
       "    </tr>\n",
       "  </thead>\n",
       "  <tbody>\n",
       "    <tr>\n",
       "      <th>8231</th>\n",
       "      <td>NORTHERN REGION</td>\n",
       "      <td>MAMPRUGU MOAGDURI</td>\n",
       "      <td>2017</td>\n",
       "      <td>CASSAVA</td>\n",
       "      <td>900</td>\n",
       "      <td>7.95</td>\n",
       "      <td>7,155.00</td>\n",
       "    </tr>\n",
       "    <tr>\n",
       "      <th>8232</th>\n",
       "      <td>NORTHERN REGION</td>\n",
       "      <td>YENDI</td>\n",
       "      <td>2017</td>\n",
       "      <td>CASSAVA</td>\n",
       "      <td>4,790.00</td>\n",
       "      <td>13.59</td>\n",
       "      <td>65,096.10</td>\n",
       "    </tr>\n",
       "    <tr>\n",
       "      <th>8233</th>\n",
       "      <td>NORTHERN REGION</td>\n",
       "      <td>MION</td>\n",
       "      <td>2017</td>\n",
       "      <td>CASSAVA</td>\n",
       "      <td>3,831.00</td>\n",
       "      <td>6.96</td>\n",
       "      <td>26,663.76</td>\n",
       "    </tr>\n",
       "    <tr>\n",
       "      <th>8234</th>\n",
       "      <td>NORTHERN REGION</td>\n",
       "      <td>TATALE SANGULI</td>\n",
       "      <td>2017</td>\n",
       "      <td>CASSAVA</td>\n",
       "      <td>5,192.00</td>\n",
       "      <td>13.85</td>\n",
       "      <td>71,909.20</td>\n",
       "    </tr>\n",
       "    <tr>\n",
       "      <th>8235</th>\n",
       "      <td>NORTHERN REGION</td>\n",
       "      <td>ZABZUGU</td>\n",
       "      <td>2017</td>\n",
       "      <td>CASSAVA</td>\n",
       "      <td>4,612.00</td>\n",
       "      <td>13.85</td>\n",
       "      <td>63,876.20</td>\n",
       "    </tr>\n",
       "  </tbody>\n",
       "</table>\n",
       "</div>"
      ],
      "text/plain": [
       "               REGION           DISTRICT  YEAR     CROP AREA (HA)  \\\n",
       "8231  NORTHERN REGION  MAMPRUGU MOAGDURI  2017  CASSAVA       900   \n",
       "8232  NORTHERN REGION              YENDI  2017  CASSAVA  4,790.00   \n",
       "8233  NORTHERN REGION               MION  2017  CASSAVA  3,831.00   \n",
       "8234  NORTHERN REGION     TATALE SANGULI  2017  CASSAVA  5,192.00   \n",
       "8235  NORTHERN REGION            ZABZUGU  2017  CASSAVA  4,612.00   \n",
       "\n",
       "     YIELD (MT/HA) PRODUCTION (MT)  \n",
       "8231          7.95        7,155.00  \n",
       "8232         13.59       65,096.10  \n",
       "8233          6.96       26,663.76  \n",
       "8234         13.85       71,909.20  \n",
       "8235         13.85       63,876.20  "
      ]
     },
     "execution_count": 28,
     "metadata": {},
     "output_type": "execute_result"
    }
   ],
   "source": [
    "# get last 5 rows\n",
    "pro_est_df.tail()"
   ]
  },
  {
   "cell_type": "code",
   "execution_count": 31,
   "id": "46e1166d",
   "metadata": {
    "scrolled": true
   },
   "outputs": [
    {
     "data": {
      "text/html": [
       "<div>\n",
       "<style scoped>\n",
       "    .dataframe tbody tr th:only-of-type {\n",
       "        vertical-align: middle;\n",
       "    }\n",
       "\n",
       "    .dataframe tbody tr th {\n",
       "        vertical-align: top;\n",
       "    }\n",
       "\n",
       "    .dataframe thead th {\n",
       "        text-align: right;\n",
       "    }\n",
       "</style>\n",
       "<table border=\"1\" class=\"dataframe\">\n",
       "  <thead>\n",
       "    <tr style=\"text-align: right;\">\n",
       "      <th></th>\n",
       "      <th>REGION</th>\n",
       "      <th>DISTRICT</th>\n",
       "      <th>YEAR</th>\n",
       "      <th>CROP</th>\n",
       "      <th>AREA (HA)</th>\n",
       "      <th>YIELD (MT/HA)</th>\n",
       "      <th>PRODUCTION (MT)</th>\n",
       "    </tr>\n",
       "  </thead>\n",
       "  <tbody>\n",
       "    <tr>\n",
       "      <th>8223</th>\n",
       "      <td>NORTHERN REGION</td>\n",
       "      <td>SAWLA/TUNA/KALBA</td>\n",
       "      <td>2017</td>\n",
       "      <td>CASSAVA</td>\n",
       "      <td>1,258.00</td>\n",
       "      <td>14.24</td>\n",
       "      <td>17,913.92</td>\n",
       "    </tr>\n",
       "    <tr>\n",
       "      <th>8224</th>\n",
       "      <td>NORTHERN REGION</td>\n",
       "      <td>TAMALE METRO</td>\n",
       "      <td>2017</td>\n",
       "      <td>CASSAVA</td>\n",
       "      <td>1,567.32</td>\n",
       "      <td>6.96</td>\n",
       "      <td>10,908.55</td>\n",
       "    </tr>\n",
       "    <tr>\n",
       "      <th>8225</th>\n",
       "      <td>NORTHERN REGION</td>\n",
       "      <td>SAGNERIGU</td>\n",
       "      <td>2017</td>\n",
       "      <td>CASSAVA</td>\n",
       "      <td>346</td>\n",
       "      <td>6.96</td>\n",
       "      <td>2,408.16</td>\n",
       "    </tr>\n",
       "    <tr>\n",
       "      <th>8226</th>\n",
       "      <td>NORTHERN REGION</td>\n",
       "      <td>TOLON</td>\n",
       "      <td>2017</td>\n",
       "      <td>CASSAVA</td>\n",
       "      <td>4,738.00</td>\n",
       "      <td>13.71</td>\n",
       "      <td>64,957.98</td>\n",
       "    </tr>\n",
       "    <tr>\n",
       "      <th>8227</th>\n",
       "      <td>NORTHERN REGION</td>\n",
       "      <td>KUMBUNGU</td>\n",
       "      <td>2017</td>\n",
       "      <td>CASSAVA</td>\n",
       "      <td>1,000.00</td>\n",
       "      <td>9</td>\n",
       "      <td>9,000.00</td>\n",
       "    </tr>\n",
       "    <tr>\n",
       "      <th>8228</th>\n",
       "      <td>NORTHERN REGION</td>\n",
       "      <td>WEST GONJA</td>\n",
       "      <td>2017</td>\n",
       "      <td>CASSAVA</td>\n",
       "      <td>14,100.00</td>\n",
       "      <td>25.6</td>\n",
       "      <td>360,960.00</td>\n",
       "    </tr>\n",
       "    <tr>\n",
       "      <th>8229</th>\n",
       "      <td>NORTHERN REGION</td>\n",
       "      <td>NORTH GONJA</td>\n",
       "      <td>2017</td>\n",
       "      <td>CASSAVA</td>\n",
       "      <td>850</td>\n",
       "      <td>13</td>\n",
       "      <td>11,050.00</td>\n",
       "    </tr>\n",
       "    <tr>\n",
       "      <th>8230</th>\n",
       "      <td>NORTHERN REGION</td>\n",
       "      <td>WEST MAMPRUSI</td>\n",
       "      <td>2017</td>\n",
       "      <td>CASSAVA</td>\n",
       "      <td>1,100.00</td>\n",
       "      <td>5</td>\n",
       "      <td>5,500.00</td>\n",
       "    </tr>\n",
       "    <tr>\n",
       "      <th>8231</th>\n",
       "      <td>NORTHERN REGION</td>\n",
       "      <td>MAMPRUGU MOAGDURI</td>\n",
       "      <td>2017</td>\n",
       "      <td>CASSAVA</td>\n",
       "      <td>900</td>\n",
       "      <td>7.95</td>\n",
       "      <td>7,155.00</td>\n",
       "    </tr>\n",
       "    <tr>\n",
       "      <th>8232</th>\n",
       "      <td>NORTHERN REGION</td>\n",
       "      <td>YENDI</td>\n",
       "      <td>2017</td>\n",
       "      <td>CASSAVA</td>\n",
       "      <td>4,790.00</td>\n",
       "      <td>13.59</td>\n",
       "      <td>65,096.10</td>\n",
       "    </tr>\n",
       "    <tr>\n",
       "      <th>8233</th>\n",
       "      <td>NORTHERN REGION</td>\n",
       "      <td>MION</td>\n",
       "      <td>2017</td>\n",
       "      <td>CASSAVA</td>\n",
       "      <td>3,831.00</td>\n",
       "      <td>6.96</td>\n",
       "      <td>26,663.76</td>\n",
       "    </tr>\n",
       "    <tr>\n",
       "      <th>8234</th>\n",
       "      <td>NORTHERN REGION</td>\n",
       "      <td>TATALE SANGULI</td>\n",
       "      <td>2017</td>\n",
       "      <td>CASSAVA</td>\n",
       "      <td>5,192.00</td>\n",
       "      <td>13.85</td>\n",
       "      <td>71,909.20</td>\n",
       "    </tr>\n",
       "    <tr>\n",
       "      <th>8235</th>\n",
       "      <td>NORTHERN REGION</td>\n",
       "      <td>ZABZUGU</td>\n",
       "      <td>2017</td>\n",
       "      <td>CASSAVA</td>\n",
       "      <td>4,612.00</td>\n",
       "      <td>13.85</td>\n",
       "      <td>63,876.20</td>\n",
       "    </tr>\n",
       "  </tbody>\n",
       "</table>\n",
       "</div>"
      ],
      "text/plain": [
       "               REGION           DISTRICT  YEAR     CROP  AREA (HA)  \\\n",
       "8223  NORTHERN REGION   SAWLA/TUNA/KALBA  2017  CASSAVA   1,258.00   \n",
       "8224  NORTHERN REGION       TAMALE METRO  2017  CASSAVA   1,567.32   \n",
       "8225  NORTHERN REGION          SAGNERIGU  2017  CASSAVA        346   \n",
       "8226  NORTHERN REGION              TOLON  2017  CASSAVA   4,738.00   \n",
       "8227  NORTHERN REGION           KUMBUNGU  2017  CASSAVA   1,000.00   \n",
       "8228  NORTHERN REGION         WEST GONJA  2017  CASSAVA  14,100.00   \n",
       "8229  NORTHERN REGION        NORTH GONJA  2017  CASSAVA        850   \n",
       "8230  NORTHERN REGION      WEST MAMPRUSI  2017  CASSAVA   1,100.00   \n",
       "8231  NORTHERN REGION  MAMPRUGU MOAGDURI  2017  CASSAVA        900   \n",
       "8232  NORTHERN REGION              YENDI  2017  CASSAVA   4,790.00   \n",
       "8233  NORTHERN REGION               MION  2017  CASSAVA   3,831.00   \n",
       "8234  NORTHERN REGION     TATALE SANGULI  2017  CASSAVA   5,192.00   \n",
       "8235  NORTHERN REGION            ZABZUGU  2017  CASSAVA   4,612.00   \n",
       "\n",
       "     YIELD (MT/HA) PRODUCTION (MT)  \n",
       "8223         14.24       17,913.92  \n",
       "8224          6.96       10,908.55  \n",
       "8225          6.96        2,408.16  \n",
       "8226         13.71       64,957.98  \n",
       "8227             9        9,000.00  \n",
       "8228          25.6      360,960.00  \n",
       "8229            13       11,050.00  \n",
       "8230             5        5,500.00  \n",
       "8231          7.95        7,155.00  \n",
       "8232         13.59       65,096.10  \n",
       "8233          6.96       26,663.76  \n",
       "8234         13.85       71,909.20  \n",
       "8235         13.85       63,876.20  "
      ]
     },
     "execution_count": 31,
     "metadata": {},
     "output_type": "execute_result"
    }
   ],
   "source": [
    "# get first/last 13 rows\n",
    "pro_est_df.tail(13)"
   ]
  },
  {
   "cell_type": "code",
   "execution_count": 34,
   "id": "dc895a23",
   "metadata": {},
   "outputs": [
    {
     "data": {
      "text/plain": [
       "Index(['REGION', 'DISTRICT', 'YEAR', 'CROP', 'AREA (HA)', 'YIELD (MT/HA)',\n",
       "       'PRODUCTION (MT)'],\n",
       "      dtype='object')"
      ]
     },
     "execution_count": 34,
     "metadata": {},
     "output_type": "execute_result"
    }
   ],
   "source": [
    "pro_est_df.columns"
   ]
  },
  {
   "cell_type": "code",
   "execution_count": 35,
   "id": "30065cb8",
   "metadata": {
    "scrolled": true
   },
   "outputs": [
    {
     "data": {
      "text/html": [
       "<div>\n",
       "<style scoped>\n",
       "    .dataframe tbody tr th:only-of-type {\n",
       "        vertical-align: middle;\n",
       "    }\n",
       "\n",
       "    .dataframe tbody tr th {\n",
       "        vertical-align: top;\n",
       "    }\n",
       "\n",
       "    .dataframe thead th {\n",
       "        text-align: right;\n",
       "    }\n",
       "</style>\n",
       "<table border=\"1\" class=\"dataframe\">\n",
       "  <thead>\n",
       "    <tr style=\"text-align: right;\">\n",
       "      <th></th>\n",
       "      <th>YEAR</th>\n",
       "      <th>AREA (HA)</th>\n",
       "      <th>YIELD (MT/HA)</th>\n",
       "      <th>PRODUCTION (MT)</th>\n",
       "    </tr>\n",
       "  </thead>\n",
       "  <tbody>\n",
       "    <tr>\n",
       "      <th>0</th>\n",
       "      <td>2008</td>\n",
       "      <td>1,099.00</td>\n",
       "      <td>1.15</td>\n",
       "      <td>1,263.85</td>\n",
       "    </tr>\n",
       "    <tr>\n",
       "      <th>1</th>\n",
       "      <td>2008</td>\n",
       "      <td>1,433.00</td>\n",
       "      <td>1.19</td>\n",
       "      <td>1,705.27</td>\n",
       "    </tr>\n",
       "    <tr>\n",
       "      <th>2</th>\n",
       "      <td>2008</td>\n",
       "      <td>2,034.00</td>\n",
       "      <td>1.32</td>\n",
       "      <td>2,684.88</td>\n",
       "    </tr>\n",
       "    <tr>\n",
       "      <th>3</th>\n",
       "      <td>2008</td>\n",
       "      <td>2,204.00</td>\n",
       "      <td>1.2</td>\n",
       "      <td>2,644.80</td>\n",
       "    </tr>\n",
       "    <tr>\n",
       "      <th>4</th>\n",
       "      <td>2008</td>\n",
       "      <td>1,550.00</td>\n",
       "      <td>1.38</td>\n",
       "      <td>2,139.00</td>\n",
       "    </tr>\n",
       "    <tr>\n",
       "      <th>...</th>\n",
       "      <td>...</td>\n",
       "      <td>...</td>\n",
       "      <td>...</td>\n",
       "      <td>...</td>\n",
       "    </tr>\n",
       "    <tr>\n",
       "      <th>8231</th>\n",
       "      <td>2017</td>\n",
       "      <td>900</td>\n",
       "      <td>7.95</td>\n",
       "      <td>7,155.00</td>\n",
       "    </tr>\n",
       "    <tr>\n",
       "      <th>8232</th>\n",
       "      <td>2017</td>\n",
       "      <td>4,790.00</td>\n",
       "      <td>13.59</td>\n",
       "      <td>65,096.10</td>\n",
       "    </tr>\n",
       "    <tr>\n",
       "      <th>8233</th>\n",
       "      <td>2017</td>\n",
       "      <td>3,831.00</td>\n",
       "      <td>6.96</td>\n",
       "      <td>26,663.76</td>\n",
       "    </tr>\n",
       "    <tr>\n",
       "      <th>8234</th>\n",
       "      <td>2017</td>\n",
       "      <td>5,192.00</td>\n",
       "      <td>13.85</td>\n",
       "      <td>71,909.20</td>\n",
       "    </tr>\n",
       "    <tr>\n",
       "      <th>8235</th>\n",
       "      <td>2017</td>\n",
       "      <td>4,612.00</td>\n",
       "      <td>13.85</td>\n",
       "      <td>63,876.20</td>\n",
       "    </tr>\n",
       "  </tbody>\n",
       "</table>\n",
       "<p>8236 rows × 4 columns</p>\n",
       "</div>"
      ],
      "text/plain": [
       "      YEAR AREA (HA) YIELD (MT/HA) PRODUCTION (MT)\n",
       "0     2008  1,099.00          1.15        1,263.85\n",
       "1     2008  1,433.00          1.19        1,705.27\n",
       "2     2008  2,034.00          1.32        2,684.88\n",
       "3     2008  2,204.00           1.2        2,644.80\n",
       "4     2008  1,550.00          1.38        2,139.00\n",
       "...    ...       ...           ...             ...\n",
       "8231  2017       900          7.95        7,155.00\n",
       "8232  2017  4,790.00         13.59       65,096.10\n",
       "8233  2017  3,831.00          6.96       26,663.76\n",
       "8234  2017  5,192.00         13.85       71,909.20\n",
       "8235  2017  4,612.00         13.85       63,876.20\n",
       "\n",
       "[8236 rows x 4 columns]"
      ]
     },
     "execution_count": 35,
     "metadata": {},
     "output_type": "execute_result"
    }
   ],
   "source": [
    "# get fraction of all columns\n",
    "pro_est_df[[ 'YEAR', 'AREA (HA)', 'YIELD (MT/HA)','PRODUCTION (MT)']]"
   ]
  },
  {
   "cell_type": "code",
   "execution_count": 36,
   "id": "6610f43f",
   "metadata": {},
   "outputs": [
    {
     "data": {
      "text/html": [
       "<div>\n",
       "<style scoped>\n",
       "    .dataframe tbody tr th:only-of-type {\n",
       "        vertical-align: middle;\n",
       "    }\n",
       "\n",
       "    .dataframe tbody tr th {\n",
       "        vertical-align: top;\n",
       "    }\n",
       "\n",
       "    .dataframe thead th {\n",
       "        text-align: right;\n",
       "    }\n",
       "</style>\n",
       "<table border=\"1\" class=\"dataframe\">\n",
       "  <thead>\n",
       "    <tr style=\"text-align: right;\">\n",
       "      <th></th>\n",
       "      <th>YEAR</th>\n",
       "    </tr>\n",
       "  </thead>\n",
       "  <tbody>\n",
       "    <tr>\n",
       "      <th>count</th>\n",
       "      <td>8236.000000</td>\n",
       "    </tr>\n",
       "    <tr>\n",
       "      <th>mean</th>\n",
       "      <td>2012.969888</td>\n",
       "    </tr>\n",
       "    <tr>\n",
       "      <th>std</th>\n",
       "      <td>2.864953</td>\n",
       "    </tr>\n",
       "    <tr>\n",
       "      <th>min</th>\n",
       "      <td>2008.000000</td>\n",
       "    </tr>\n",
       "    <tr>\n",
       "      <th>25%</th>\n",
       "      <td>2011.000000</td>\n",
       "    </tr>\n",
       "    <tr>\n",
       "      <th>50%</th>\n",
       "      <td>2013.000000</td>\n",
       "    </tr>\n",
       "    <tr>\n",
       "      <th>75%</th>\n",
       "      <td>2016.000000</td>\n",
       "    </tr>\n",
       "    <tr>\n",
       "      <th>max</th>\n",
       "      <td>2017.000000</td>\n",
       "    </tr>\n",
       "  </tbody>\n",
       "</table>\n",
       "</div>"
      ],
      "text/plain": [
       "              YEAR\n",
       "count  8236.000000\n",
       "mean   2012.969888\n",
       "std       2.864953\n",
       "min    2008.000000\n",
       "25%    2011.000000\n",
       "50%    2013.000000\n",
       "75%    2016.000000\n",
       "max    2017.000000"
      ]
     },
     "execution_count": 36,
     "metadata": {},
     "output_type": "execute_result"
    }
   ],
   "source": [
    "# get descriptive statistics\n",
    "pro_est_df.describe()"
   ]
  },
  {
   "cell_type": "code",
   "execution_count": 46,
   "id": "3ae0a6c2",
   "metadata": {},
   "outputs": [
    {
     "data": {
      "text/html": [
       "<div>\n",
       "<style scoped>\n",
       "    .dataframe tbody tr th:only-of-type {\n",
       "        vertical-align: middle;\n",
       "    }\n",
       "\n",
       "    .dataframe tbody tr th {\n",
       "        vertical-align: top;\n",
       "    }\n",
       "\n",
       "    .dataframe thead th {\n",
       "        text-align: right;\n",
       "    }\n",
       "</style>\n",
       "<table border=\"1\" class=\"dataframe\">\n",
       "  <thead>\n",
       "    <tr style=\"text-align: right;\">\n",
       "      <th></th>\n",
       "      <th>Students</th>\n",
       "      <th>Height</th>\n",
       "      <th>Fav_color</th>\n",
       "      <th>Salary()</th>\n",
       "    </tr>\n",
       "  </thead>\n",
       "  <tbody>\n",
       "    <tr>\n",
       "      <th>0</th>\n",
       "      <td>Akwasi</td>\n",
       "      <td>184</td>\n",
       "      <td>Black</td>\n",
       "      <td>70000</td>\n",
       "    </tr>\n",
       "    <tr>\n",
       "      <th>1</th>\n",
       "      <td>Franklin</td>\n",
       "      <td>175</td>\n",
       "      <td>Burgundy</td>\n",
       "      <td>20000</td>\n",
       "    </tr>\n",
       "    <tr>\n",
       "      <th>2</th>\n",
       "      <td>Nashirat</td>\n",
       "      <td>178</td>\n",
       "      <td>Purple</td>\n",
       "      <td>70000</td>\n",
       "    </tr>\n",
       "    <tr>\n",
       "      <th>3</th>\n",
       "      <td>Irene</td>\n",
       "      <td>188</td>\n",
       "      <td>Green</td>\n",
       "      <td>70000</td>\n",
       "    </tr>\n",
       "    <tr>\n",
       "      <th>4</th>\n",
       "      <td>Amma</td>\n",
       "      <td>182</td>\n",
       "      <td>Pink</td>\n",
       "      <td>70000</td>\n",
       "    </tr>\n",
       "    <tr>\n",
       "      <th>5</th>\n",
       "      <td>Fauzia</td>\n",
       "      <td>186</td>\n",
       "      <td>Yellow</td>\n",
       "      <td>70000</td>\n",
       "    </tr>\n",
       "  </tbody>\n",
       "</table>\n",
       "</div>"
      ],
      "text/plain": [
       "   Students  Height Fav_color  Salary()\n",
       "0    Akwasi     184     Black     70000\n",
       "1  Franklin     175  Burgundy     20000\n",
       "2  Nashirat     178    Purple     70000\n",
       "3     Irene     188     Green     70000\n",
       "4      Amma     182      Pink     70000\n",
       "5    Fauzia     186    Yellow     70000"
      ]
     },
     "execution_count": 46,
     "metadata": {},
     "output_type": "execute_result"
    }
   ],
   "source": [
    "data = pd.read_excel('excel_data.xlsx')\n",
    "data"
   ]
  },
  {
   "cell_type": "code",
   "execution_count": 47,
   "id": "b0804da9",
   "metadata": {},
   "outputs": [
    {
     "name": "stdout",
     "output_type": "stream",
     "text": [
      "<class 'pandas.core.frame.DataFrame'>\n",
      "RangeIndex: 6 entries, 0 to 5\n",
      "Data columns (total 4 columns):\n",
      " #   Column     Non-Null Count  Dtype \n",
      "---  ------     --------------  ----- \n",
      " 0   Students   6 non-null      object\n",
      " 1   Height     6 non-null      int64 \n",
      " 2   Fav_color  6 non-null      object\n",
      " 3   Salary()   6 non-null      int64 \n",
      "dtypes: int64(2), object(2)\n",
      "memory usage: 320.0+ bytes\n"
     ]
    }
   ],
   "source": [
    "data.info()"
   ]
  },
  {
   "cell_type": "code",
   "execution_count": 48,
   "id": "ff5077e6",
   "metadata": {
    "scrolled": true
   },
   "outputs": [
    {
     "data": {
      "text/html": [
       "<div>\n",
       "<style scoped>\n",
       "    .dataframe tbody tr th:only-of-type {\n",
       "        vertical-align: middle;\n",
       "    }\n",
       "\n",
       "    .dataframe tbody tr th {\n",
       "        vertical-align: top;\n",
       "    }\n",
       "\n",
       "    .dataframe thead th {\n",
       "        text-align: right;\n",
       "    }\n",
       "</style>\n",
       "<table border=\"1\" class=\"dataframe\">\n",
       "  <thead>\n",
       "    <tr style=\"text-align: right;\">\n",
       "      <th></th>\n",
       "      <th>Height</th>\n",
       "      <th>Salary()</th>\n",
       "    </tr>\n",
       "  </thead>\n",
       "  <tbody>\n",
       "    <tr>\n",
       "      <th>count</th>\n",
       "      <td>6.000000</td>\n",
       "      <td>6.000000</td>\n",
       "    </tr>\n",
       "    <tr>\n",
       "      <th>mean</th>\n",
       "      <td>182.166667</td>\n",
       "      <td>61666.666667</td>\n",
       "    </tr>\n",
       "    <tr>\n",
       "      <th>std</th>\n",
       "      <td>4.915960</td>\n",
       "      <td>20412.414523</td>\n",
       "    </tr>\n",
       "    <tr>\n",
       "      <th>min</th>\n",
       "      <td>175.000000</td>\n",
       "      <td>20000.000000</td>\n",
       "    </tr>\n",
       "    <tr>\n",
       "      <th>25%</th>\n",
       "      <td>179.000000</td>\n",
       "      <td>70000.000000</td>\n",
       "    </tr>\n",
       "    <tr>\n",
       "      <th>50%</th>\n",
       "      <td>183.000000</td>\n",
       "      <td>70000.000000</td>\n",
       "    </tr>\n",
       "    <tr>\n",
       "      <th>75%</th>\n",
       "      <td>185.500000</td>\n",
       "      <td>70000.000000</td>\n",
       "    </tr>\n",
       "    <tr>\n",
       "      <th>max</th>\n",
       "      <td>188.000000</td>\n",
       "      <td>70000.000000</td>\n",
       "    </tr>\n",
       "  </tbody>\n",
       "</table>\n",
       "</div>"
      ],
      "text/plain": [
       "           Height      Salary()\n",
       "count    6.000000      6.000000\n",
       "mean   182.166667  61666.666667\n",
       "std      4.915960  20412.414523\n",
       "min    175.000000  20000.000000\n",
       "25%    179.000000  70000.000000\n",
       "50%    183.000000  70000.000000\n",
       "75%    185.500000  70000.000000\n",
       "max    188.000000  70000.000000"
      ]
     },
     "execution_count": 48,
     "metadata": {},
     "output_type": "execute_result"
    }
   ],
   "source": [
    "data.describe()"
   ]
  },
  {
   "cell_type": "code",
   "execution_count": 50,
   "id": "58754e57",
   "metadata": {},
   "outputs": [
    {
     "data": {
      "text/plain": [
       "182.16666666666666"
      ]
     },
     "execution_count": 50,
     "metadata": {},
     "output_type": "execute_result"
    }
   ],
   "source": [
    "data.Height.mean()"
   ]
  },
  {
   "cell_type": "code",
   "execution_count": 51,
   "id": "1698669b",
   "metadata": {},
   "outputs": [
    {
     "data": {
      "text/plain": [
       "175"
      ]
     },
     "execution_count": 51,
     "metadata": {},
     "output_type": "execute_result"
    }
   ],
   "source": [
    "data.Height.min()"
   ]
  },
  {
   "cell_type": "code",
   "execution_count": 52,
   "id": "5da494a6",
   "metadata": {},
   "outputs": [
    {
     "data": {
      "text/plain": [
       "188"
      ]
     },
     "execution_count": 52,
     "metadata": {},
     "output_type": "execute_result"
    }
   ],
   "source": [
    "data.Height.max()"
   ]
  },
  {
   "cell_type": "code",
   "execution_count": 54,
   "id": "adade8e5",
   "metadata": {},
   "outputs": [
    {
     "data": {
      "text/plain": [
       "182.16666666666666"
      ]
     },
     "execution_count": 54,
     "metadata": {},
     "output_type": "execute_result"
    }
   ],
   "source": [
    "data.Height.mean()"
   ]
  },
  {
   "cell_type": "code",
   "execution_count": 53,
   "id": "f0448366",
   "metadata": {},
   "outputs": [
    {
     "data": {
      "text/plain": [
       "4.915960401250875"
      ]
     },
     "execution_count": 53,
     "metadata": {},
     "output_type": "execute_result"
    }
   ],
   "source": [
    "data.Height.std()"
   ]
  },
  {
   "cell_type": "code",
   "execution_count": 55,
   "id": "3365c9d4",
   "metadata": {
    "scrolled": true
   },
   "outputs": [
    {
     "data": {
      "text/html": [
       "<div>\n",
       "<style scoped>\n",
       "    .dataframe tbody tr th:only-of-type {\n",
       "        vertical-align: middle;\n",
       "    }\n",
       "\n",
       "    .dataframe tbody tr th {\n",
       "        vertical-align: top;\n",
       "    }\n",
       "\n",
       "    .dataframe thead th {\n",
       "        text-align: right;\n",
       "    }\n",
       "</style>\n",
       "<table border=\"1\" class=\"dataframe\">\n",
       "  <thead>\n",
       "    <tr style=\"text-align: right;\">\n",
       "      <th></th>\n",
       "      <th>Students</th>\n",
       "      <th>Height</th>\n",
       "      <th>Fav_color</th>\n",
       "      <th>Salary()</th>\n",
       "    </tr>\n",
       "  </thead>\n",
       "  <tbody>\n",
       "    <tr>\n",
       "      <th>0</th>\n",
       "      <td>Akwasi</td>\n",
       "      <td>184</td>\n",
       "      <td>Black</td>\n",
       "      <td>70000</td>\n",
       "    </tr>\n",
       "    <tr>\n",
       "      <th>3</th>\n",
       "      <td>Irene</td>\n",
       "      <td>188</td>\n",
       "      <td>Green</td>\n",
       "      <td>70000</td>\n",
       "    </tr>\n",
       "    <tr>\n",
       "      <th>5</th>\n",
       "      <td>Fauzia</td>\n",
       "      <td>186</td>\n",
       "      <td>Yellow</td>\n",
       "      <td>70000</td>\n",
       "    </tr>\n",
       "  </tbody>\n",
       "</table>\n",
       "</div>"
      ],
      "text/plain": [
       "  Students  Height Fav_color  Salary()\n",
       "0   Akwasi     184     Black     70000\n",
       "3    Irene     188     Green     70000\n",
       "5   Fauzia     186    Yellow     70000"
      ]
     },
     "execution_count": 55,
     "metadata": {},
     "output_type": "execute_result"
    }
   ],
   "source": [
    "# get a dataframe using a condition\n",
    "data[data['Height'] > data.Height.mean() ]"
   ]
  },
  {
   "cell_type": "code",
   "execution_count": 50,
   "id": "248ff514",
   "metadata": {},
   "outputs": [
    {
     "data": {
      "text/plain": [
       "182.16666666666666"
      ]
     },
     "execution_count": 50,
     "metadata": {},
     "output_type": "execute_result"
    }
   ],
   "source": [
    "data.Height.mean()"
   ]
  },
  {
   "cell_type": "code",
   "execution_count": 56,
   "id": "d296813d",
   "metadata": {},
   "outputs": [
    {
     "data": {
      "text/plain": [
       "Index(['Students', 'Height', 'Fav_color', 'Salary()'], dtype='object')"
      ]
     },
     "execution_count": 56,
     "metadata": {},
     "output_type": "execute_result"
    }
   ],
   "source": [
    "data.columns"
   ]
  },
  {
   "cell_type": "code",
   "execution_count": 63,
   "id": "20993ad3",
   "metadata": {},
   "outputs": [
    {
     "data": {
      "text/html": [
       "<div>\n",
       "<style scoped>\n",
       "    .dataframe tbody tr th:only-of-type {\n",
       "        vertical-align: middle;\n",
       "    }\n",
       "\n",
       "    .dataframe tbody tr th {\n",
       "        vertical-align: top;\n",
       "    }\n",
       "\n",
       "    .dataframe thead th {\n",
       "        text-align: right;\n",
       "    }\n",
       "</style>\n",
       "<table border=\"1\" class=\"dataframe\">\n",
       "  <thead>\n",
       "    <tr style=\"text-align: right;\">\n",
       "      <th></th>\n",
       "      <th>Students</th>\n",
       "      <th>Height</th>\n",
       "      <th>Fav_color</th>\n",
       "      <th>Salary()</th>\n",
       "    </tr>\n",
       "  </thead>\n",
       "  <tbody>\n",
       "    <tr>\n",
       "      <th>1</th>\n",
       "      <td>Franklin</td>\n",
       "      <td>175</td>\n",
       "      <td>Burgundy</td>\n",
       "      <td>20000</td>\n",
       "    </tr>\n",
       "    <tr>\n",
       "      <th>2</th>\n",
       "      <td>Nashirat</td>\n",
       "      <td>178</td>\n",
       "      <td>Purple</td>\n",
       "      <td>70000</td>\n",
       "    </tr>\n",
       "  </tbody>\n",
       "</table>\n",
       "</div>"
      ],
      "text/plain": [
       "   Students  Height Fav_color  Salary()\n",
       "1  Franklin     175  Burgundy     20000\n",
       "2  Nashirat     178    Purple     70000"
      ]
     },
     "execution_count": 63,
     "metadata": {},
     "output_type": "execute_result"
    }
   ],
   "source": [
    "data[(data['Height'] < 180) | (data['Salary()'] == 30000)]"
   ]
  }
 ],
 "metadata": {
  "kernelspec": {
   "display_name": "Python 3 (ipykernel)",
   "language": "python",
   "name": "python3"
  },
  "language_info": {
   "codemirror_mode": {
    "name": "ipython",
    "version": 3
   },
   "file_extension": ".py",
   "mimetype": "text/x-python",
   "name": "python",
   "nbconvert_exporter": "python",
   "pygments_lexer": "ipython3",
   "version": "3.9.7"
  }
 },
 "nbformat": 4,
 "nbformat_minor": 5
}
