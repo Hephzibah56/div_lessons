{
 "cells": [
  {
   "cell_type": "code",
   "execution_count": 1,
   "id": "24f71f9d",
   "metadata": {},
   "outputs": [
    {
     "name": "stderr",
     "output_type": "stream",
     "text": [
      "Matplotlib is building the font cache; this may take a moment.\n"
     ]
    }
   ],
   "source": [
    "import pandas as pd\n",
    "import numpy as np\n",
    "import matplotlib.pyplot as plt\n"
   ]
  },
  {
   "cell_type": "code",
   "execution_count": null,
   "id": "3bdcd214",
   "metadata": {},
   "outputs": [],
   "source": [
    "account = pd.read_csv('r') #the data is categorical. Use value count and unique. If Numerical find the mean, mode, median e.t.c\n",
    "account.head()"
   ]
  },
  {
   "cell_type": "code",
   "execution_count": null,
   "id": "e7f7fd52",
   "metadata": {},
   "outputs": [],
   "source": [
    "account.AccountId.value_counts()  #datafram first before acessing the column, look at the length\n",
    "account.PaymentplanId.value_counts()\n",
    "len(np.account.PaymentplanId.value_counts())  ##it is in descending order\n",
    "aacount.RegistrationDAte.value_counts()  ## on a specific day, A,B,C,D registered more. Barchart, Piechart, \n"
   ]
  }
 ],
 "metadata": {
  "kernelspec": {
   "display_name": "Python 3 (ipykernel)",
   "language": "python",
   "name": "python3"
  },
  "language_info": {
   "codemirror_mode": {
    "name": "ipython",
    "version": 3
   },
   "file_extension": ".py",
   "mimetype": "text/x-python",
   "name": "python",
   "nbconvert_exporter": "python",
   "pygments_lexer": "ipython3",
   "version": "3.9.7"
  }
 },
 "nbformat": 4,
 "nbformat_minor": 5
}
