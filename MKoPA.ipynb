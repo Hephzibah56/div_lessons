{
 "cells": [
  {
   "cell_type": "code",
   "execution_count": 1,
   "id": "b3e1e76b",
   "metadata": {},
   "outputs": [],
   "source": [
    "import pandas as pd\n",
    "import numpy as np\n",
    "import matplotlib.pyplot as plt"
   ]
  },
  {
   "cell_type": "code",
   "execution_count": 14,
   "id": "49ffb247",
   "metadata": {},
   "outputs": [
    {
     "data": {
      "text/html": [
       "<div>\n",
       "<style scoped>\n",
       "    .dataframe tbody tr th:only-of-type {\n",
       "        vertical-align: middle;\n",
       "    }\n",
       "\n",
       "    .dataframe tbody tr th {\n",
       "        vertical-align: top;\n",
       "    }\n",
       "\n",
       "    .dataframe thead th {\n",
       "        text-align: right;\n",
       "    }\n",
       "</style>\n",
       "<table border=\"1\" class=\"dataframe\">\n",
       "  <thead>\n",
       "    <tr style=\"text-align: right;\">\n",
       "      <th></th>\n",
       "      <th>AccountId</th>\n",
       "      <th>RegistrationDate</th>\n",
       "      <th>CustomerId</th>\n",
       "      <th>PaymentPlanId</th>\n",
       "    </tr>\n",
       "  </thead>\n",
       "  <tbody>\n",
       "    <tr>\n",
       "      <th>0</th>\n",
       "      <td>5000</td>\n",
       "      <td>2020-03-30</td>\n",
       "      <td>4720</td>\n",
       "      <td>63</td>\n",
       "    </tr>\n",
       "    <tr>\n",
       "      <th>1</th>\n",
       "      <td>5002</td>\n",
       "      <td>2020-06-06</td>\n",
       "      <td>2674</td>\n",
       "      <td>63</td>\n",
       "    </tr>\n",
       "    <tr>\n",
       "      <th>2</th>\n",
       "      <td>5003</td>\n",
       "      <td>2020-02-28</td>\n",
       "      <td>2495</td>\n",
       "      <td>69</td>\n",
       "    </tr>\n",
       "    <tr>\n",
       "      <th>3</th>\n",
       "      <td>5007</td>\n",
       "      <td>2020-02-20</td>\n",
       "      <td>1749</td>\n",
       "      <td>37</td>\n",
       "    </tr>\n",
       "    <tr>\n",
       "      <th>4</th>\n",
       "      <td>5010</td>\n",
       "      <td>2020-09-03</td>\n",
       "      <td>2905</td>\n",
       "      <td>20</td>\n",
       "    </tr>\n",
       "    <tr>\n",
       "      <th>...</th>\n",
       "      <td>...</td>\n",
       "      <td>...</td>\n",
       "      <td>...</td>\n",
       "      <td>...</td>\n",
       "    </tr>\n",
       "    <tr>\n",
       "      <th>1995</th>\n",
       "      <td>8991</td>\n",
       "      <td>2020-04-06</td>\n",
       "      <td>3149</td>\n",
       "      <td>46</td>\n",
       "    </tr>\n",
       "    <tr>\n",
       "      <th>1996</th>\n",
       "      <td>8993</td>\n",
       "      <td>2020-10-14</td>\n",
       "      <td>4106</td>\n",
       "      <td>44</td>\n",
       "    </tr>\n",
       "    <tr>\n",
       "      <th>1997</th>\n",
       "      <td>8994</td>\n",
       "      <td>2020-04-23</td>\n",
       "      <td>2127</td>\n",
       "      <td>51</td>\n",
       "    </tr>\n",
       "    <tr>\n",
       "      <th>1998</th>\n",
       "      <td>8996</td>\n",
       "      <td>2020-06-26</td>\n",
       "      <td>3162</td>\n",
       "      <td>49</td>\n",
       "    </tr>\n",
       "    <tr>\n",
       "      <th>1999</th>\n",
       "      <td>8999</td>\n",
       "      <td>2020-12-18</td>\n",
       "      <td>4561</td>\n",
       "      <td>59</td>\n",
       "    </tr>\n",
       "  </tbody>\n",
       "</table>\n",
       "<p>2000 rows × 4 columns</p>\n",
       "</div>"
      ],
      "text/plain": [
       "      AccountId RegistrationDate  CustomerId  PaymentPlanId\n",
       "0          5000       2020-03-30        4720             63\n",
       "1          5002       2020-06-06        2674             63\n",
       "2          5003       2020-02-28        2495             69\n",
       "3          5007       2020-02-20        1749             37\n",
       "4          5010       2020-09-03        2905             20\n",
       "...         ...              ...         ...            ...\n",
       "1995       8991       2020-04-06        3149             46\n",
       "1996       8993       2020-10-14        4106             44\n",
       "1997       8994       2020-04-23        2127             51\n",
       "1998       8996       2020-06-26        3162             49\n",
       "1999       8999       2020-12-18        4561             59\n",
       "\n",
       "[2000 rows x 4 columns]"
      ]
     },
     "execution_count": 14,
     "metadata": {},
     "output_type": "execute_result"
    }
   ],
   "source": [
    "account = pd.read_csv(r'C:\\Users\\JB479JV\\Downloads\\Data\\Account.csv')\n",
    "account"
   ]
  },
  {
   "cell_type": "code",
   "execution_count": 15,
   "id": "07eebb39",
   "metadata": {},
   "outputs": [
    {
     "data": {
      "text/plain": [
       "5000    1\n",
       "7637    1\n",
       "7658    1\n",
       "7656    1\n",
       "7654    1\n",
       "       ..\n",
       "6293    1\n",
       "6292    1\n",
       "6291    1\n",
       "6289    1\n",
       "8999    1\n",
       "Name: AccountId, Length: 2000, dtype: int64"
      ]
     },
     "execution_count": 15,
     "metadata": {},
     "output_type": "execute_result"
    }
   ],
   "source": [
    "account.AccountId.value_counts()"
   ]
  },
  {
   "cell_type": "code",
   "execution_count": 16,
   "id": "311fcf0f",
   "metadata": {},
   "outputs": [
    {
     "data": {
      "text/plain": [
       "4720    1\n",
       "2142    1\n",
       "1586    1\n",
       "4521    1\n",
       "4060    1\n",
       "       ..\n",
       "1991    1\n",
       "3533    1\n",
       "2018    1\n",
       "1284    1\n",
       "4561    1\n",
       "Name: CustomerId, Length: 2000, dtype: int64"
      ]
     },
     "execution_count": 16,
     "metadata": {},
     "output_type": "execute_result"
    }
   ],
   "source": [
    "account.CustomerId.value_counts()"
   ]
  },
  {
   "cell_type": "code",
   "execution_count": 17,
   "id": "c2fc95b5",
   "metadata": {
    "scrolled": true
   },
   "outputs": [
    {
     "data": {
      "text/plain": [
       "69    82\n",
       "37    81\n",
       "52    80\n",
       "49    78\n",
       "44    77\n",
       "22    76\n",
       "63    75\n",
       "36    74\n",
       "46    74\n",
       "38    73\n",
       "53    72\n",
       "10    69\n",
       "66    66\n",
       "19    66\n",
       "13    65\n",
       "20    65\n",
       "56    64\n",
       "23    64\n",
       "57    64\n",
       "39    63\n",
       "28    62\n",
       "16    61\n",
       "59    61\n",
       "51    59\n",
       "62    59\n",
       "12    59\n",
       "11    58\n",
       "17    54\n",
       "31    51\n",
       "15    48\n",
       "Name: PaymentPlanId, dtype: int64"
      ]
     },
     "execution_count": 17,
     "metadata": {},
     "output_type": "execute_result"
    }
   ],
   "source": [
    "account.PaymentPlanId.value_counts()"
   ]
  },
  {
   "cell_type": "code",
   "execution_count": 20,
   "id": "eb31f69c",
   "metadata": {},
   "outputs": [
    {
     "data": {
      "text/plain": [
       "2020-08-14    16\n",
       "2020-12-30    15\n",
       "2020-11-23    14\n",
       "2020-09-16    13\n",
       "2020-01-28    13\n",
       "              ..\n",
       "2020-06-17     1\n",
       "2020-11-06     1\n",
       "2020-08-05     1\n",
       "2020-01-27     1\n",
       "2020-03-16     1\n",
       "Name: RegistrationDate, Length: 365, dtype: int64"
      ]
     },
     "execution_count": 20,
     "metadata": {},
     "output_type": "execute_result"
    }
   ],
   "source": [
    "account.RegistrationDate.value_counts()"
   ]
  }
 ],
 "metadata": {
  "kernelspec": {
   "display_name": "Python 3 (ipykernel)",
   "language": "python",
   "name": "python3"
  },
  "language_info": {
   "codemirror_mode": {
    "name": "ipython",
    "version": 3
   },
   "file_extension": ".py",
   "mimetype": "text/x-python",
   "name": "python",
   "nbconvert_exporter": "python",
   "pygments_lexer": "ipython3",
   "version": "3.9.7"
  }
 },
 "nbformat": 4,
 "nbformat_minor": 5
}
