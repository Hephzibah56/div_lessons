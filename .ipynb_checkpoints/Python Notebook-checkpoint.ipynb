{
 "cells": [
  {
   "cell_type": "markdown",
   "id": "50693206",
   "metadata": {},
   "source": [
    "# Fundamentals of Python Programming"
   ]
  },
  {
   "cell_type": "markdown",
   "id": "eda2cb2b",
   "metadata": {},
   "source": [
    "## Variable assignation"
   ]
  },
  {
   "cell_type": "code",
   "execution_count": 9,
   "id": "a9fa8e52",
   "metadata": {},
   "outputs": [],
   "source": [
    "pi = 3.142567849"
   ]
  },
  {
   "cell_type": "code",
   "execution_count": 12,
   "id": "af976f2f",
   "metadata": {},
   "outputs": [
    {
     "data": {
      "text/plain": [
       "6.285135698"
      ]
     },
     "execution_count": 12,
     "metadata": {},
     "output_type": "execute_result"
    }
   ],
   "source": [
    "2 * pi"
   ]
  },
  {
   "cell_type": "code",
   "execution_count": 13,
   "id": "1758b307",
   "metadata": {},
   "outputs": [
    {
     "data": {
      "text/plain": [
       "9.427703547"
      ]
     },
     "execution_count": 13,
     "metadata": {},
     "output_type": "execute_result"
    }
   ],
   "source": [
    "3 * pi\n"
   ]
  },
  {
   "cell_type": "code",
   "execution_count": 14,
   "id": "e4e746a5",
   "metadata": {},
   "outputs": [
    {
     "data": {
      "text/plain": [
       "135.130417507"
      ]
     },
     "execution_count": 14,
     "metadata": {},
     "output_type": "execute_result"
    }
   ],
   "source": [
    "43 * pi"
   ]
  },
  {
   "cell_type": "code",
   "execution_count": 16,
   "id": "2e215e13",
   "metadata": {},
   "outputs": [],
   "source": [
    "my_name = 'Franklin'"
   ]
  },
  {
   "cell_type": "code",
   "execution_count": 17,
   "id": "9816b170",
   "metadata": {},
   "outputs": [
    {
     "name": "stdout",
     "output_type": "stream",
     "text": [
      "Sleep Franklin\n",
      "Wake Up Franklin\n",
      "Eat Franklin\n"
     ]
    }
   ],
   "source": [
    "print('Sleep ' + my_name)\n",
    "print('Wake Up ' + my_name)\n",
    "print('Eat ' + my_name)"
   ]
  },
  {
   "cell_type": "code",
   "execution_count": 18,
   "id": "2bd6fe93",
   "metadata": {},
   "outputs": [
    {
     "ename": "SyntaxError",
     "evalue": "invalid syntax (Temp/ipykernel_19424/676024002.py, line 1)",
     "output_type": "error",
     "traceback": [
      "\u001b[1;36m  File \u001b[1;32m\"C:\\Users\\JB479JV\\AppData\\Local\\Temp/ipykernel_19424/676024002.py\"\u001b[1;36m, line \u001b[1;32m1\u001b[0m\n\u001b[1;33m    23name = 'Maggie'\u001b[0m\n\u001b[1;37m      ^\u001b[0m\n\u001b[1;31mSyntaxError\u001b[0m\u001b[1;31m:\u001b[0m invalid syntax\n"
     ]
    }
   ],
   "source": [
    "23name = 'Maggie'"
   ]
  },
  {
   "cell_type": "code",
   "execution_count": 2,
   "id": "032bef51",
   "metadata": {},
   "outputs": [
    {
     "ename": "SyntaxError",
     "evalue": "cannot assign to operator (Temp/ipykernel_22328/896893662.py, line 3)",
     "output_type": "error",
     "traceback": [
      "\u001b[1;36m  File \u001b[1;32m\"C:\\Users\\JB479JV\\AppData\\Local\\Temp/ipykernel_22328/896893662.py\"\u001b[1;36m, line \u001b[1;32m3\u001b[0m\n\u001b[1;33m    man-23 = 'Maggie'\u001b[0m\n\u001b[1;37m    ^\u001b[0m\n\u001b[1;31mSyntaxError\u001b[0m\u001b[1;31m:\u001b[0m cannot assign to operator\n"
     ]
    }
   ],
   "source": [
    "# cannot use hyphen in variable assignation\n",
    "'''cannot use hyphen in variable assignation'''\n",
    "man-23 = 'Maggie'"
   ]
  },
  {
   "cell_type": "code",
   "execution_count": 21,
   "id": "3a5be5e0",
   "metadata": {},
   "outputs": [
    {
     "ename": "SyntaxError",
     "evalue": "cannot assign to operator (Temp/ipykernel_19424/1539159314.py, line 1)",
     "output_type": "error",
     "traceback": [
      "\u001b[1;36m  File \u001b[1;32m\"C:\\Users\\JB479JV\\AppData\\Local\\Temp/ipykernel_19424/1539159314.py\"\u001b[1;36m, line \u001b[1;32m1\u001b[0m\n\u001b[1;33m    man-kofi = 'Maagi'\u001b[0m\n\u001b[1;37m    ^\u001b[0m\n\u001b[1;31mSyntaxError\u001b[0m\u001b[1;31m:\u001b[0m cannot assign to operator\n"
     ]
    }
   ],
   "source": [
    "man-kofi = 'Maagi'"
   ]
  },
  {
   "cell_type": "markdown",
   "id": "e42a2985",
   "metadata": {},
   "source": [
    "## Data Types"
   ]
  },
  {
   "cell_type": "markdown",
   "id": "3e4216a3",
   "metadata": {},
   "source": [
    "Integers,\n",
    "Floats,\n",
    "Strings,\n",
    "Lists,\n",
    "Range,\n",
    "Dictionaries,\n",
    "Booleans"
   ]
  },
  {
   "cell_type": "markdown",
   "id": "1f6d71d7",
   "metadata": {},
   "source": [
    "### Numbers(Integers and Floats)"
   ]
  },
  {
   "cell_type": "code",
   "execution_count": 34,
   "id": "09d41add",
   "metadata": {},
   "outputs": [],
   "source": [
    "num = 13001"
   ]
  },
  {
   "cell_type": "code",
   "execution_count": 35,
   "id": "40819a6d",
   "metadata": {},
   "outputs": [
    {
     "data": {
      "text/plain": [
       "int"
      ]
     },
     "execution_count": 35,
     "metadata": {},
     "output_type": "execute_result"
    }
   ],
   "source": [
    "type(num)"
   ]
  },
  {
   "cell_type": "code",
   "execution_count": 36,
   "id": "4175670c",
   "metadata": {},
   "outputs": [],
   "source": [
    "num = 130.01"
   ]
  },
  {
   "cell_type": "code",
   "execution_count": 37,
   "id": "574d0306",
   "metadata": {},
   "outputs": [
    {
     "data": {
      "text/plain": [
       "float"
      ]
     },
     "execution_count": 37,
     "metadata": {},
     "output_type": "execute_result"
    }
   ],
   "source": [
    "type(num)"
   ]
  },
  {
   "cell_type": "code",
   "execution_count": 38,
   "id": "7d058cc4",
   "metadata": {},
   "outputs": [
    {
     "data": {
      "text/plain": [
       "13"
      ]
     },
     "execution_count": 38,
     "metadata": {},
     "output_type": "execute_result"
    }
   ],
   "source": [
    "6 + 7"
   ]
  },
  {
   "cell_type": "code",
   "execution_count": 39,
   "id": "915689d9",
   "metadata": {},
   "outputs": [
    {
     "data": {
      "text/plain": [
       "42"
      ]
     },
     "execution_count": 39,
     "metadata": {},
     "output_type": "execute_result"
    }
   ],
   "source": [
    "6 * 7"
   ]
  },
  {
   "cell_type": "code",
   "execution_count": 40,
   "id": "15ad01cf",
   "metadata": {},
   "outputs": [
    {
     "data": {
      "text/plain": [
       "-1"
      ]
     },
     "execution_count": 40,
     "metadata": {},
     "output_type": "execute_result"
    }
   ],
   "source": [
    "6-7"
   ]
  },
  {
   "cell_type": "code",
   "execution_count": 41,
   "id": "4d1c899d",
   "metadata": {},
   "outputs": [
    {
     "data": {
      "text/plain": [
       "-1"
      ]
     },
     "execution_count": 41,
     "metadata": {},
     "output_type": "execute_result"
    }
   ],
   "source": [
    "6 - 7"
   ]
  },
  {
   "cell_type": "code",
   "execution_count": 42,
   "id": "ea141a8c",
   "metadata": {},
   "outputs": [
    {
     "data": {
      "text/plain": [
       "3.5"
      ]
     },
     "execution_count": 42,
     "metadata": {},
     "output_type": "execute_result"
    }
   ],
   "source": [
    "7/2"
   ]
  },
  {
   "cell_type": "code",
   "execution_count": 43,
   "id": "173f9f50",
   "metadata": {},
   "outputs": [
    {
     "data": {
      "text/plain": [
       "3"
      ]
     },
     "execution_count": 43,
     "metadata": {},
     "output_type": "execute_result"
    }
   ],
   "source": [
    "7//2"
   ]
  },
  {
   "cell_type": "code",
   "execution_count": 44,
   "id": "f34b06af",
   "metadata": {},
   "outputs": [
    {
     "data": {
      "text/plain": [
       "1"
      ]
     },
     "execution_count": 44,
     "metadata": {},
     "output_type": "execute_result"
    }
   ],
   "source": [
    "7%2"
   ]
  },
  {
   "cell_type": "code",
   "execution_count": 45,
   "id": "8bfbebbd",
   "metadata": {},
   "outputs": [
    {
     "data": {
      "text/plain": [
       "0.6666666666666666"
      ]
     },
     "execution_count": 45,
     "metadata": {},
     "output_type": "execute_result"
    }
   ],
   "source": [
    "2/3"
   ]
  },
  {
   "cell_type": "code",
   "execution_count": 46,
   "id": "e613a52b",
   "metadata": {},
   "outputs": [
    {
     "data": {
      "text/plain": [
       "0"
      ]
     },
     "execution_count": 46,
     "metadata": {},
     "output_type": "execute_result"
    }
   ],
   "source": [
    "2//3"
   ]
  },
  {
   "cell_type": "code",
   "execution_count": 47,
   "id": "900484ba",
   "metadata": {},
   "outputs": [
    {
     "data": {
      "text/plain": [
       "2"
      ]
     },
     "execution_count": 47,
     "metadata": {},
     "output_type": "execute_result"
    }
   ],
   "source": [
    "2%3"
   ]
  },
  {
   "cell_type": "markdown",
   "id": "cd3a9329",
   "metadata": {},
   "source": [
    "### Strings"
   ]
  },
  {
   "cell_type": "code",
   "execution_count": 50,
   "id": "9860d066",
   "metadata": {},
   "outputs": [],
   "source": [
    "name1 = 'Zoe'\n",
    "name2 = \"Zoe\""
   ]
  },
  {
   "cell_type": "code",
   "execution_count": 51,
   "id": "f7077501",
   "metadata": {},
   "outputs": [
    {
     "data": {
      "text/plain": [
       "str"
      ]
     },
     "execution_count": 51,
     "metadata": {},
     "output_type": "execute_result"
    }
   ],
   "source": [
    "type(name1)"
   ]
  },
  {
   "cell_type": "code",
   "execution_count": 52,
   "id": "482ba0f8",
   "metadata": {},
   "outputs": [
    {
     "data": {
      "text/plain": [
       "str"
      ]
     },
     "execution_count": 52,
     "metadata": {},
     "output_type": "execute_result"
    }
   ],
   "source": [
    "type(name2)"
   ]
  },
  {
   "cell_type": "code",
   "execution_count": 53,
   "id": "fc6950df",
   "metadata": {},
   "outputs": [
    {
     "ename": "SyntaxError",
     "evalue": "EOL while scanning string literal (Temp/ipykernel_19424/3993667118.py, line 1)",
     "output_type": "error",
     "traceback": [
      "\u001b[1;36m  File \u001b[1;32m\"C:\\Users\\JB479JV\\AppData\\Local\\Temp/ipykernel_19424/3993667118.py\"\u001b[1;36m, line \u001b[1;32m1\u001b[0m\n\u001b[1;33m    name3 = 'Zoe\"\u001b[0m\n\u001b[1;37m                 ^\u001b[0m\n\u001b[1;31mSyntaxError\u001b[0m\u001b[1;31m:\u001b[0m EOL while scanning string literal\n"
     ]
    }
   ],
   "source": [
    "name3 = 'Zoe\""
   ]
  },
  {
   "cell_type": "code",
   "execution_count": 54,
   "id": "8ab5cc06",
   "metadata": {},
   "outputs": [],
   "source": [
    "pi = '3.142'"
   ]
  },
  {
   "cell_type": "code",
   "execution_count": 55,
   "id": "b5a6d021",
   "metadata": {},
   "outputs": [
    {
     "data": {
      "text/plain": [
       "str"
      ]
     },
     "execution_count": 55,
     "metadata": {},
     "output_type": "execute_result"
    }
   ],
   "source": [
    "type(pi)"
   ]
  },
  {
   "cell_type": "code",
   "execution_count": 59,
   "id": "904c44d9",
   "metadata": {},
   "outputs": [
    {
     "name": "stdout",
     "output_type": "stream",
     "text": [
      "Franklin Adjei\n"
     ]
    }
   ],
   "source": [
    "first_name = 'Franklin'\n",
    "last_name = 'Adjei'\n",
    "print(first_name + ' ' + last_name)"
   ]
  },
  {
   "cell_type": "code",
   "execution_count": 60,
   "id": "b112f745",
   "metadata": {},
   "outputs": [
    {
     "name": "stdout",
     "output_type": "stream",
     "text": [
      "FRANKLIN\n"
     ]
    }
   ],
   "source": [
    "print(first_name.upper())"
   ]
  },
  {
   "cell_type": "code",
   "execution_count": 62,
   "id": "975116d8",
   "metadata": {},
   "outputs": [
    {
     "name": "stdout",
     "output_type": "stream",
     "text": [
      "1\n"
     ]
    }
   ],
   "source": [
    "print(first_name.count('a'))"
   ]
  },
  {
   "cell_type": "code",
   "execution_count": 63,
   "id": "c3df45fc",
   "metadata": {},
   "outputs": [
    {
     "name": "stdout",
     "output_type": "stream",
     "text": [
      "2\n"
     ]
    }
   ],
   "source": [
    "print(first_name.count('n'))"
   ]
  },
  {
   "cell_type": "markdown",
   "id": "bdbce810",
   "metadata": {},
   "source": [
    "### Booleans"
   ]
  },
  {
   "cell_type": "code",
   "execution_count": 64,
   "id": "9e33aec7",
   "metadata": {},
   "outputs": [
    {
     "ename": "NameError",
     "evalue": "name 'TRUE' is not defined",
     "output_type": "error",
     "traceback": [
      "\u001b[1;31m---------------------------------------------------------------------------\u001b[0m",
      "\u001b[1;31mNameError\u001b[0m                                 Traceback (most recent call last)",
      "\u001b[1;32m~\\AppData\\Local\\Temp/ipykernel_19424/3320712247.py\u001b[0m in \u001b[0;36m<module>\u001b[1;34m\u001b[0m\n\u001b[1;32m----> 1\u001b[1;33m \u001b[0mTRUE\u001b[0m\u001b[1;33m\u001b[0m\u001b[1;33m\u001b[0m\u001b[0m\n\u001b[0m",
      "\u001b[1;31mNameError\u001b[0m: name 'TRUE' is not defined"
     ]
    }
   ],
   "source": [
    "TRUE"
   ]
  },
  {
   "cell_type": "code",
   "execution_count": 65,
   "id": "19ad12ef",
   "metadata": {},
   "outputs": [
    {
     "data": {
      "text/plain": [
       "True"
      ]
     },
     "execution_count": 65,
     "metadata": {},
     "output_type": "execute_result"
    }
   ],
   "source": [
    "True"
   ]
  },
  {
   "cell_type": "code",
   "execution_count": 66,
   "id": "595c7a61",
   "metadata": {},
   "outputs": [
    {
     "data": {
      "text/plain": [
       "False"
      ]
     },
     "execution_count": 66,
     "metadata": {},
     "output_type": "execute_result"
    }
   ],
   "source": [
    "False"
   ]
  },
  {
   "cell_type": "code",
   "execution_count": 67,
   "id": "5a137283",
   "metadata": {},
   "outputs": [
    {
     "data": {
      "text/plain": [
       "True"
      ]
     },
     "execution_count": 67,
     "metadata": {},
     "output_type": "execute_result"
    }
   ],
   "source": [
    "2 == 2"
   ]
  },
  {
   "cell_type": "code",
   "execution_count": 68,
   "id": "db06b036",
   "metadata": {},
   "outputs": [
    {
     "data": {
      "text/plain": [
       "False"
      ]
     },
     "execution_count": 68,
     "metadata": {},
     "output_type": "execute_result"
    }
   ],
   "source": [
    "3 == -3"
   ]
  },
  {
   "cell_type": "code",
   "execution_count": 69,
   "id": "16707f22",
   "metadata": {},
   "outputs": [
    {
     "name": "stdout",
     "output_type": "stream",
     "text": [
      "Sleep\n"
     ]
    }
   ],
   "source": [
    "num = 4\n",
    "if num > 4:\n",
    "    print('Hello World')\n",
    "else:\n",
    "    print('Sleep')"
   ]
  },
  {
   "cell_type": "markdown",
   "id": "9fc0d208",
   "metadata": {},
   "source": [
    "### Range"
   ]
  },
  {
   "cell_type": "code",
   "execution_count": 70,
   "id": "6671e803",
   "metadata": {},
   "outputs": [],
   "source": [
    "# 2,4,6,8,10,12,14,16,20,22,24"
   ]
  },
  {
   "cell_type": "code",
   "execution_count": 71,
   "id": "50c27a7a",
   "metadata": {},
   "outputs": [
    {
     "data": {
      "text/plain": [
       "[2, 4, 6, 8, 10, 12, 14, 16, 18, 20, 22]"
      ]
     },
     "execution_count": 71,
     "metadata": {},
     "output_type": "execute_result"
    }
   ],
   "source": [
    "list(range(2,24,2))"
   ]
  },
  {
   "cell_type": "code",
   "execution_count": 72,
   "id": "16bc5cc1",
   "metadata": {},
   "outputs": [
    {
     "data": {
      "text/plain": [
       "[2, 4, 6, 8, 10, 12, 14, 16, 18, 20, 22, 24]"
      ]
     },
     "execution_count": 72,
     "metadata": {},
     "output_type": "execute_result"
    }
   ],
   "source": [
    "list(range(2,25,2))"
   ]
  },
  {
   "cell_type": "code",
   "execution_count": 73,
   "id": "c1638ffa",
   "metadata": {
    "scrolled": true
   },
   "outputs": [
    {
     "data": {
      "text/plain": [
       "[1,\n",
       " 4,\n",
       " 7,\n",
       " 10,\n",
       " 13,\n",
       " 16,\n",
       " 19,\n",
       " 22,\n",
       " 25,\n",
       " 28,\n",
       " 31,\n",
       " 34,\n",
       " 37,\n",
       " 40,\n",
       " 43,\n",
       " 46,\n",
       " 49,\n",
       " 52,\n",
       " 55,\n",
       " 58,\n",
       " 61,\n",
       " 64,\n",
       " 67,\n",
       " 70,\n",
       " 73,\n",
       " 76,\n",
       " 79,\n",
       " 82,\n",
       " 85,\n",
       " 88,\n",
       " 91,\n",
       " 94,\n",
       " 97,\n",
       " 100,\n",
       " 103,\n",
       " 106,\n",
       " 109,\n",
       " 112,\n",
       " 115,\n",
       " 118,\n",
       " 121,\n",
       " 124,\n",
       " 127,\n",
       " 130,\n",
       " 133,\n",
       " 136,\n",
       " 139,\n",
       " 142,\n",
       " 145,\n",
       " 148,\n",
       " 151,\n",
       " 154,\n",
       " 157,\n",
       " 160,\n",
       " 163,\n",
       " 166,\n",
       " 169,\n",
       " 172,\n",
       " 175,\n",
       " 178,\n",
       " 181,\n",
       " 184,\n",
       " 187,\n",
       " 190,\n",
       " 193,\n",
       " 196,\n",
       " 199,\n",
       " 202,\n",
       " 205,\n",
       " 208,\n",
       " 211,\n",
       " 214,\n",
       " 217,\n",
       " 220,\n",
       " 223,\n",
       " 226,\n",
       " 229,\n",
       " 232,\n",
       " 235,\n",
       " 238,\n",
       " 241,\n",
       " 244,\n",
       " 247,\n",
       " 250,\n",
       " 253,\n",
       " 256,\n",
       " 259,\n",
       " 262,\n",
       " 265,\n",
       " 268,\n",
       " 271,\n",
       " 274,\n",
       " 277,\n",
       " 280,\n",
       " 283,\n",
       " 286,\n",
       " 289,\n",
       " 292,\n",
       " 295,\n",
       " 298,\n",
       " 301,\n",
       " 304,\n",
       " 307,\n",
       " 310,\n",
       " 313,\n",
       " 316,\n",
       " 319,\n",
       " 322,\n",
       " 325,\n",
       " 328,\n",
       " 331,\n",
       " 334,\n",
       " 337,\n",
       " 340,\n",
       " 343,\n",
       " 346,\n",
       " 349,\n",
       " 352,\n",
       " 355,\n",
       " 358,\n",
       " 361,\n",
       " 364,\n",
       " 367,\n",
       " 370,\n",
       " 373,\n",
       " 376,\n",
       " 379,\n",
       " 382,\n",
       " 385,\n",
       " 388,\n",
       " 391,\n",
       " 394,\n",
       " 397,\n",
       " 400,\n",
       " 403,\n",
       " 406,\n",
       " 409,\n",
       " 412,\n",
       " 415,\n",
       " 418,\n",
       " 421,\n",
       " 424,\n",
       " 427,\n",
       " 430,\n",
       " 433,\n",
       " 436,\n",
       " 439,\n",
       " 442,\n",
       " 445,\n",
       " 448,\n",
       " 451,\n",
       " 454,\n",
       " 457,\n",
       " 460,\n",
       " 463,\n",
       " 466,\n",
       " 469,\n",
       " 472,\n",
       " 475,\n",
       " 478,\n",
       " 481,\n",
       " 484,\n",
       " 487,\n",
       " 490,\n",
       " 493,\n",
       " 496,\n",
       " 499,\n",
       " 502,\n",
       " 505,\n",
       " 508,\n",
       " 511,\n",
       " 514,\n",
       " 517,\n",
       " 520,\n",
       " 523,\n",
       " 526,\n",
       " 529,\n",
       " 532,\n",
       " 535,\n",
       " 538,\n",
       " 541,\n",
       " 544,\n",
       " 547,\n",
       " 550,\n",
       " 553,\n",
       " 556,\n",
       " 559,\n",
       " 562,\n",
       " 565,\n",
       " 568,\n",
       " 571,\n",
       " 574,\n",
       " 577,\n",
       " 580,\n",
       " 583,\n",
       " 586,\n",
       " 589,\n",
       " 592,\n",
       " 595,\n",
       " 598,\n",
       " 601,\n",
       " 604,\n",
       " 607,\n",
       " 610,\n",
       " 613,\n",
       " 616,\n",
       " 619,\n",
       " 622,\n",
       " 625,\n",
       " 628,\n",
       " 631,\n",
       " 634,\n",
       " 637,\n",
       " 640,\n",
       " 643,\n",
       " 646,\n",
       " 649,\n",
       " 652,\n",
       " 655,\n",
       " 658,\n",
       " 661,\n",
       " 664,\n",
       " 667,\n",
       " 670,\n",
       " 673,\n",
       " 676,\n",
       " 679,\n",
       " 682,\n",
       " 685,\n",
       " 688,\n",
       " 691,\n",
       " 694,\n",
       " 697,\n",
       " 700,\n",
       " 703,\n",
       " 706,\n",
       " 709,\n",
       " 712,\n",
       " 715,\n",
       " 718,\n",
       " 721,\n",
       " 724,\n",
       " 727,\n",
       " 730,\n",
       " 733,\n",
       " 736,\n",
       " 739,\n",
       " 742,\n",
       " 745,\n",
       " 748,\n",
       " 751,\n",
       " 754,\n",
       " 757,\n",
       " 760,\n",
       " 763,\n",
       " 766,\n",
       " 769,\n",
       " 772,\n",
       " 775,\n",
       " 778,\n",
       " 781,\n",
       " 784,\n",
       " 787,\n",
       " 790,\n",
       " 793,\n",
       " 796,\n",
       " 799,\n",
       " 802,\n",
       " 805,\n",
       " 808,\n",
       " 811,\n",
       " 814,\n",
       " 817,\n",
       " 820,\n",
       " 823,\n",
       " 826,\n",
       " 829,\n",
       " 832,\n",
       " 835,\n",
       " 838,\n",
       " 841,\n",
       " 844,\n",
       " 847,\n",
       " 850,\n",
       " 853,\n",
       " 856,\n",
       " 859,\n",
       " 862,\n",
       " 865,\n",
       " 868,\n",
       " 871,\n",
       " 874,\n",
       " 877,\n",
       " 880,\n",
       " 883,\n",
       " 886,\n",
       " 889,\n",
       " 892,\n",
       " 895,\n",
       " 898,\n",
       " 901,\n",
       " 904,\n",
       " 907,\n",
       " 910,\n",
       " 913,\n",
       " 916,\n",
       " 919,\n",
       " 922,\n",
       " 925,\n",
       " 928,\n",
       " 931,\n",
       " 934,\n",
       " 937,\n",
       " 940,\n",
       " 943,\n",
       " 946,\n",
       " 949,\n",
       " 952,\n",
       " 955,\n",
       " 958,\n",
       " 961,\n",
       " 964,\n",
       " 967,\n",
       " 970,\n",
       " 973,\n",
       " 976,\n",
       " 979,\n",
       " 982,\n",
       " 985,\n",
       " 988,\n",
       " 991,\n",
       " 994,\n",
       " 997]"
      ]
     },
     "execution_count": 73,
     "metadata": {},
     "output_type": "execute_result"
    }
   ],
   "source": [
    "list(range(1,1000,3))"
   ]
  },
  {
   "cell_type": "markdown",
   "id": "d81fe13d",
   "metadata": {},
   "source": [
    "### Escape character"
   ]
  },
  {
   "cell_type": "code",
   "execution_count": 77,
   "id": "7a520bc7",
   "metadata": {},
   "outputs": [
    {
     "name": "stdout",
     "output_type": "stream",
     "text": [
      "Franklin's cat is sick\n"
     ]
    }
   ],
   "source": [
    "print('Franklin\\'s cat is sick')"
   ]
  },
  {
   "cell_type": "markdown",
   "id": "439c7e95",
   "metadata": {},
   "source": [
    "### Casting"
   ]
  },
  {
   "cell_type": "code",
   "execution_count": null,
   "id": "b4bbfcf3",
   "metadata": {},
   "outputs": [],
   "source": [
    "int()\n",
    "str()\n",
    "float()"
   ]
  },
  {
   "cell_type": "code",
   "execution_count": 9,
   "id": "b10d95cf",
   "metadata": {},
   "outputs": [
    {
     "name": "stdout",
     "output_type": "stream",
     "text": [
      "Franklin is 26.0 years old\n"
     ]
    }
   ],
   "source": [
    "age = 26\n",
    "first_name = 'Franklin'\n",
    "print(first_name + ' is ' + str(float(age)) + ' years old' )"
   ]
  },
  {
   "cell_type": "code",
   "execution_count": 8,
   "id": "9847ba96",
   "metadata": {},
   "outputs": [
    {
     "data": {
      "text/plain": [
       "int"
      ]
     },
     "execution_count": 8,
     "metadata": {},
     "output_type": "execute_result"
    }
   ],
   "source": [
    "type(age)"
   ]
  },
  {
   "cell_type": "markdown",
   "id": "8fb007af",
   "metadata": {},
   "source": [
    "### Operations"
   ]
  },
  {
   "cell_type": "markdown",
   "id": "093039ce",
   "metadata": {},
   "source": [
    "#### Arithmetric Operators"
   ]
  },
  {
   "cell_type": "code",
   "execution_count": 14,
   "id": "55441b77",
   "metadata": {},
   "outputs": [
    {
     "data": {
      "text/plain": [
       "8"
      ]
     },
     "execution_count": 14,
     "metadata": {},
     "output_type": "execute_result"
    }
   ],
   "source": [
    "# +, -, *, /, //, %  ( all these have been mentioned)\n",
    "2**3"
   ]
  },
  {
   "cell_type": "code",
   "execution_count": 16,
   "id": "380c6b05",
   "metadata": {},
   "outputs": [
    {
     "data": {
      "text/plain": [
       "3.5"
      ]
     },
     "execution_count": 16,
     "metadata": {},
     "output_type": "execute_result"
    }
   ],
   "source": [
    "2**3+4.5*(2-3)"
   ]
  },
  {
   "cell_type": "markdown",
   "id": "6284b46b",
   "metadata": {},
   "source": [
    "#### Comparison Operators"
   ]
  },
  {
   "cell_type": "code",
   "execution_count": 17,
   "id": "ad93ef51",
   "metadata": {},
   "outputs": [
    {
     "data": {
      "text/plain": [
       "False"
      ]
     },
     "execution_count": 17,
     "metadata": {},
     "output_type": "execute_result"
    }
   ],
   "source": [
    "2 > 3"
   ]
  },
  {
   "cell_type": "code",
   "execution_count": 20,
   "id": "e24ba40b",
   "metadata": {},
   "outputs": [
    {
     "data": {
      "text/plain": [
       "True"
      ]
     },
     "execution_count": 20,
     "metadata": {},
     "output_type": "execute_result"
    }
   ],
   "source": [
    "'Franklin' > 'Francis'"
   ]
  },
  {
   "cell_type": "code",
   "execution_count": 18,
   "id": "df26edbb",
   "metadata": {},
   "outputs": [
    {
     "data": {
      "text/plain": [
       "True"
      ]
     },
     "execution_count": 18,
     "metadata": {},
     "output_type": "execute_result"
    }
   ],
   "source": [
    "4 < 5"
   ]
  },
  {
   "cell_type": "code",
   "execution_count": 21,
   "id": "640cdd2a",
   "metadata": {},
   "outputs": [
    {
     "data": {
      "text/plain": [
       "False"
      ]
     },
     "execution_count": 21,
     "metadata": {},
     "output_type": "execute_result"
    }
   ],
   "source": [
    "'Zoe' < 'Franklin'"
   ]
  },
  {
   "cell_type": "code",
   "execution_count": 19,
   "id": "35944207",
   "metadata": {},
   "outputs": [
    {
     "data": {
      "text/plain": [
       "True"
      ]
     },
     "execution_count": 19,
     "metadata": {},
     "output_type": "execute_result"
    }
   ],
   "source": [
    "2 == 2"
   ]
  },
  {
   "cell_type": "code",
   "execution_count": 22,
   "id": "f88afb19",
   "metadata": {},
   "outputs": [
    {
     "data": {
      "text/plain": [
       "False"
      ]
     },
     "execution_count": 22,
     "metadata": {},
     "output_type": "execute_result"
    }
   ],
   "source": [
    "'Franklin' == 'FRANKLIN'"
   ]
  },
  {
   "cell_type": "code",
   "execution_count": 23,
   "id": "93d5ec1c",
   "metadata": {},
   "outputs": [
    {
     "data": {
      "text/plain": [
       "True"
      ]
     },
     "execution_count": 23,
     "metadata": {},
     "output_type": "execute_result"
    }
   ],
   "source": [
    "'FRANKLIN' == 'FRANKLIN'"
   ]
  },
  {
   "cell_type": "code",
   "execution_count": 24,
   "id": "e070057e",
   "metadata": {},
   "outputs": [
    {
     "data": {
      "text/plain": [
       "True"
      ]
     },
     "execution_count": 24,
     "metadata": {},
     "output_type": "execute_result"
    }
   ],
   "source": [
    "9 >= 2"
   ]
  },
  {
   "cell_type": "code",
   "execution_count": 25,
   "id": "dce55ade",
   "metadata": {},
   "outputs": [
    {
     "data": {
      "text/plain": [
       "False"
      ]
     },
     "execution_count": 25,
     "metadata": {},
     "output_type": "execute_result"
    }
   ],
   "source": [
    "7 <= 4"
   ]
  },
  {
   "cell_type": "code",
   "execution_count": 26,
   "id": "c069eeec",
   "metadata": {},
   "outputs": [
    {
     "data": {
      "text/plain": [
       "True"
      ]
     },
     "execution_count": 26,
     "metadata": {},
     "output_type": "execute_result"
    }
   ],
   "source": [
    "7 != 6"
   ]
  },
  {
   "cell_type": "markdown",
   "id": "908b23d3",
   "metadata": {},
   "source": [
    "#### Logical Operators"
   ]
  },
  {
   "cell_type": "code",
   "execution_count": 27,
   "id": "5e5f6c15",
   "metadata": {},
   "outputs": [
    {
     "data": {
      "text/plain": [
       "False"
      ]
     },
     "execution_count": 27,
     "metadata": {},
     "output_type": "execute_result"
    }
   ],
   "source": [
    "(2>3) and (3>4)\n",
    "# False and False"
   ]
  },
  {
   "cell_type": "code",
   "execution_count": 28,
   "id": "1f79fba7",
   "metadata": {},
   "outputs": [
    {
     "data": {
      "text/plain": [
       "True"
      ]
     },
     "execution_count": 28,
     "metadata": {},
     "output_type": "execute_result"
    }
   ],
   "source": [
    "(7>5) or (3>5)\n",
    "# True or False"
   ]
  },
  {
   "cell_type": "code",
   "execution_count": 29,
   "id": "ddfd2167",
   "metadata": {},
   "outputs": [
    {
     "data": {
      "text/plain": [
       "False"
      ]
     },
     "execution_count": 29,
     "metadata": {},
     "output_type": "execute_result"
    }
   ],
   "source": [
    "not((7>5) or (3>5))"
   ]
  },
  {
   "cell_type": "markdown",
   "id": "a03b231c",
   "metadata": {},
   "source": [
    "#### Identity Operators"
   ]
  },
  {
   "cell_type": "code",
   "execution_count": 30,
   "id": "7f9610d0",
   "metadata": {},
   "outputs": [],
   "source": [
    "age = 23"
   ]
  },
  {
   "cell_type": "code",
   "execution_count": 31,
   "id": "880ece33",
   "metadata": {},
   "outputs": [
    {
     "name": "stderr",
     "output_type": "stream",
     "text": [
      "<>:1: SyntaxWarning: \"is\" with a literal. Did you mean \"==\"?\n",
      "<>:1: SyntaxWarning: \"is\" with a literal. Did you mean \"==\"?\n",
      "C:\\Users\\JB479JV\\AppData\\Local\\Temp/ipykernel_22328/3639104037.py:1: SyntaxWarning: \"is\" with a literal. Did you mean \"==\"?\n",
      "  age is 23\n"
     ]
    },
    {
     "data": {
      "text/plain": [
       "True"
      ]
     },
     "execution_count": 31,
     "metadata": {},
     "output_type": "execute_result"
    }
   ],
   "source": [
    "age is 23"
   ]
  },
  {
   "cell_type": "code",
   "execution_count": 32,
   "id": "5a395854",
   "metadata": {},
   "outputs": [
    {
     "name": "stderr",
     "output_type": "stream",
     "text": [
      "<>:1: SyntaxWarning: \"is not\" with a literal. Did you mean \"!=\"?\n",
      "<>:1: SyntaxWarning: \"is not\" with a literal. Did you mean \"!=\"?\n",
      "C:\\Users\\JB479JV\\AppData\\Local\\Temp/ipykernel_22328/3942896955.py:1: SyntaxWarning: \"is not\" with a literal. Did you mean \"!=\"?\n",
      "  age is not 23\n"
     ]
    },
    {
     "data": {
      "text/plain": [
       "False"
      ]
     },
     "execution_count": 32,
     "metadata": {},
     "output_type": "execute_result"
    }
   ],
   "source": [
    "age is not 23"
   ]
  },
  {
   "cell_type": "markdown",
   "id": "333f53fb",
   "metadata": {},
   "source": [
    "#### Membership Operators"
   ]
  },
  {
   "cell_type": "code",
   "execution_count": 33,
   "id": "1fde212e",
   "metadata": {},
   "outputs": [],
   "source": [
    "nums = [2,4,7,9]"
   ]
  },
  {
   "cell_type": "code",
   "execution_count": 34,
   "id": "d7f9b160",
   "metadata": {},
   "outputs": [
    {
     "data": {
      "text/plain": [
       "True"
      ]
     },
     "execution_count": 34,
     "metadata": {},
     "output_type": "execute_result"
    }
   ],
   "source": [
    "9 in nums"
   ]
  },
  {
   "cell_type": "code",
   "execution_count": 35,
   "id": "fadf62ff",
   "metadata": {},
   "outputs": [
    {
     "data": {
      "text/plain": [
       "False"
      ]
     },
     "execution_count": 35,
     "metadata": {},
     "output_type": "execute_result"
    }
   ],
   "source": [
    "7 not in nums"
   ]
  },
  {
   "cell_type": "markdown",
   "id": "2d0e8fe1",
   "metadata": {},
   "source": [
    "### Lists"
   ]
  },
  {
   "cell_type": "code",
   "execution_count": 3,
   "id": "1f2de447",
   "metadata": {},
   "outputs": [],
   "source": [
    "newlist1 = []"
   ]
  },
  {
   "cell_type": "code",
   "execution_count": 4,
   "id": "02d0c4e2",
   "metadata": {},
   "outputs": [
    {
     "data": {
      "text/plain": [
       "list"
      ]
     },
     "execution_count": 4,
     "metadata": {},
     "output_type": "execute_result"
    }
   ],
   "source": [
    "type(newlist1)"
   ]
  },
  {
   "cell_type": "code",
   "execution_count": 5,
   "id": "b686e915",
   "metadata": {},
   "outputs": [],
   "source": [
    "newlist2 = list()"
   ]
  },
  {
   "cell_type": "code",
   "execution_count": 6,
   "id": "e4cec723",
   "metadata": {},
   "outputs": [
    {
     "data": {
      "text/plain": [
       "list"
      ]
     },
     "execution_count": 6,
     "metadata": {},
     "output_type": "execute_result"
    }
   ],
   "source": [
    "type(newlist2)"
   ]
  },
  {
   "cell_type": "code",
   "execution_count": 7,
   "id": "4966631b",
   "metadata": {},
   "outputs": [
    {
     "data": {
      "text/plain": [
       "[1, 2, 3, 4, 5, 6, 7, 8, 9, 10, 11, 12, 13, 14, 15, 16, 17]"
      ]
     },
     "execution_count": 7,
     "metadata": {},
     "output_type": "execute_result"
    }
   ],
   "source": [
    "nums = list(range(1,18,1))\n",
    "nums"
   ]
  },
  {
   "cell_type": "code",
   "execution_count": 8,
   "id": "2c7af137",
   "metadata": {},
   "outputs": [
    {
     "data": {
      "text/plain": [
       "[]"
      ]
     },
     "execution_count": 8,
     "metadata": {},
     "output_type": "execute_result"
    }
   ],
   "source": [
    "newlist1"
   ]
  },
  {
   "cell_type": "code",
   "execution_count": 9,
   "id": "852e9a87",
   "metadata": {},
   "outputs": [],
   "source": [
    "for num in nums:\n",
    "    if num%2 == 0:\n",
    "        newlist1.append(num)"
   ]
  },
  {
   "cell_type": "code",
   "execution_count": 10,
   "id": "cfc4c0d3",
   "metadata": {},
   "outputs": [
    {
     "data": {
      "text/plain": [
       "[2, 4, 6, 8, 10, 12, 14, 16]"
      ]
     },
     "execution_count": 10,
     "metadata": {},
     "output_type": "execute_result"
    }
   ],
   "source": [
    "newlist1"
   ]
  },
  {
   "cell_type": "code",
   "execution_count": 11,
   "id": "923fe8cf",
   "metadata": {},
   "outputs": [],
   "source": [
    "newlist3 = ['man', 23, 13.5, True]"
   ]
  },
  {
   "cell_type": "code",
   "execution_count": 12,
   "id": "16dc0ee2",
   "metadata": {},
   "outputs": [
    {
     "data": {
      "text/plain": [
       "['man', 23, 13.5, True]"
      ]
     },
     "execution_count": 12,
     "metadata": {},
     "output_type": "execute_result"
    }
   ],
   "source": [
    "newlist3"
   ]
  },
  {
   "cell_type": "code",
   "execution_count": 13,
   "id": "a2cfb08e",
   "metadata": {},
   "outputs": [],
   "source": [
    "newlist4 = []"
   ]
  },
  {
   "cell_type": "code",
   "execution_count": 15,
   "id": "4f6065b9",
   "metadata": {},
   "outputs": [],
   "source": [
    "for item in newlist3:\n",
    "    newlist4.append(item)"
   ]
  },
  {
   "cell_type": "code",
   "execution_count": 16,
   "id": "c3ce0763",
   "metadata": {},
   "outputs": [
    {
     "data": {
      "text/plain": [
       "['man', 23, 13.5, True]"
      ]
     },
     "execution_count": 16,
     "metadata": {},
     "output_type": "execute_result"
    }
   ],
   "source": [
    "newlist4"
   ]
  },
  {
   "cell_type": "code",
   "execution_count": 17,
   "id": "57c0551e",
   "metadata": {},
   "outputs": [
    {
     "data": {
      "text/plain": [
       "4"
      ]
     },
     "execution_count": 17,
     "metadata": {},
     "output_type": "execute_result"
    }
   ],
   "source": [
    "len(newlist4)"
   ]
  },
  {
   "cell_type": "code",
   "execution_count": 19,
   "id": "097365bb",
   "metadata": {},
   "outputs": [
    {
     "data": {
      "text/plain": [
       "True"
      ]
     },
     "execution_count": 19,
     "metadata": {},
     "output_type": "execute_result"
    }
   ],
   "source": [
    "newlist4.pop()"
   ]
  },
  {
   "cell_type": "code",
   "execution_count": 21,
   "id": "a1a1f237",
   "metadata": {},
   "outputs": [
    {
     "data": {
      "text/plain": [
       "23"
      ]
     },
     "execution_count": 21,
     "metadata": {},
     "output_type": "execute_result"
    }
   ],
   "source": [
    "newlist4.pop(1)"
   ]
  },
  {
   "cell_type": "code",
   "execution_count": 22,
   "id": "088d572f",
   "metadata": {},
   "outputs": [
    {
     "data": {
      "text/plain": [
       "['man', 13.5]"
      ]
     },
     "execution_count": 22,
     "metadata": {},
     "output_type": "execute_result"
    }
   ],
   "source": [
    "newlist4"
   ]
  },
  {
   "cell_type": "code",
   "execution_count": 23,
   "id": "dbd33639",
   "metadata": {},
   "outputs": [],
   "source": [
    "newlist4.append(5)"
   ]
  },
  {
   "cell_type": "code",
   "execution_count": 24,
   "id": "74bd9515",
   "metadata": {},
   "outputs": [],
   "source": [
    "newlist4.append(5)"
   ]
  },
  {
   "cell_type": "code",
   "execution_count": 25,
   "id": "6ef7b6e1",
   "metadata": {},
   "outputs": [
    {
     "data": {
      "text/plain": [
       "['man', 13.5, 5, 5]"
      ]
     },
     "execution_count": 25,
     "metadata": {},
     "output_type": "execute_result"
    }
   ],
   "source": [
    "newlist4"
   ]
  },
  {
   "cell_type": "code",
   "execution_count": 27,
   "id": "408e8833",
   "metadata": {},
   "outputs": [
    {
     "data": {
      "text/plain": [
       "0"
      ]
     },
     "execution_count": 27,
     "metadata": {},
     "output_type": "execute_result"
    }
   ],
   "source": [
    "newlist4.count(14)"
   ]
  },
  {
   "cell_type": "code",
   "execution_count": 28,
   "id": "42982911",
   "metadata": {},
   "outputs": [],
   "source": [
    "newlist4.insert(1, 'Franklin')"
   ]
  },
  {
   "cell_type": "code",
   "execution_count": 29,
   "id": "c5910e77",
   "metadata": {},
   "outputs": [
    {
     "data": {
      "text/plain": [
       "['man', 'Franklin', 13.5, 5, 5]"
      ]
     },
     "execution_count": 29,
     "metadata": {},
     "output_type": "execute_result"
    }
   ],
   "source": [
    "newlist4"
   ]
  },
  {
   "cell_type": "markdown",
   "id": "0403d67f",
   "metadata": {},
   "source": [
    "### Dictionaries"
   ]
  },
  {
   "cell_type": "code",
   "execution_count": 30,
   "id": "82bf136d",
   "metadata": {},
   "outputs": [],
   "source": [
    "dict1 = {}"
   ]
  },
  {
   "cell_type": "code",
   "execution_count": 31,
   "id": "469e1944",
   "metadata": {},
   "outputs": [
    {
     "data": {
      "text/plain": [
       "dict"
      ]
     },
     "execution_count": 31,
     "metadata": {},
     "output_type": "execute_result"
    }
   ],
   "source": [
    "type(dict1)"
   ]
  },
  {
   "cell_type": "code",
   "execution_count": 32,
   "id": "d744f3b4",
   "metadata": {},
   "outputs": [],
   "source": [
    "dict2 = dict()"
   ]
  },
  {
   "cell_type": "code",
   "execution_count": 34,
   "id": "dd16eb50",
   "metadata": {},
   "outputs": [
    {
     "data": {
      "text/plain": [
       "dict"
      ]
     },
     "execution_count": 34,
     "metadata": {},
     "output_type": "execute_result"
    }
   ],
   "source": [
    "type(dict2)"
   ]
  },
  {
   "cell_type": "code",
   "execution_count": 37,
   "id": "9ab3944b",
   "metadata": {},
   "outputs": [],
   "source": [
    "dict3 = {'name': 'Franklin', 'color': 'black', 'salary': 44000}"
   ]
  },
  {
   "cell_type": "code",
   "execution_count": 39,
   "id": "2f07ba3e",
   "metadata": {},
   "outputs": [
    {
     "data": {
      "text/plain": [
       "dict_keys(['name', 'color', 'salary'])"
      ]
     },
     "execution_count": 39,
     "metadata": {},
     "output_type": "execute_result"
    }
   ],
   "source": [
    "dict3.keys()"
   ]
  },
  {
   "cell_type": "code",
   "execution_count": 40,
   "id": "c77ad536",
   "metadata": {},
   "outputs": [
    {
     "data": {
      "text/plain": [
       "dict_values(['Franklin', 'black', 44000])"
      ]
     },
     "execution_count": 40,
     "metadata": {},
     "output_type": "execute_result"
    }
   ],
   "source": [
    "dict3.values()"
   ]
  },
  {
   "cell_type": "code",
   "execution_count": 41,
   "id": "0a59e73c",
   "metadata": {},
   "outputs": [],
   "source": [
    "dict3['spouse'] = 'Mary'"
   ]
  },
  {
   "cell_type": "code",
   "execution_count": 42,
   "id": "267bdb43",
   "metadata": {},
   "outputs": [
    {
     "data": {
      "text/plain": [
       "{'name': 'Franklin', 'color': 'black', 'salary': 44000, 'spouse': 'Mary'}"
      ]
     },
     "execution_count": 42,
     "metadata": {},
     "output_type": "execute_result"
    }
   ],
   "source": [
    "dict3"
   ]
  },
  {
   "cell_type": "code",
   "execution_count": 43,
   "id": "ba0e8345",
   "metadata": {},
   "outputs": [
    {
     "data": {
      "text/plain": [
       "'black'"
      ]
     },
     "execution_count": 43,
     "metadata": {},
     "output_type": "execute_result"
    }
   ],
   "source": [
    "dict3.pop('color')"
   ]
  },
  {
   "cell_type": "code",
   "execution_count": 45,
   "id": "ea23ebc2",
   "metadata": {},
   "outputs": [],
   "source": [
    "dict3.update({'spouse': 'Franklina'})"
   ]
  },
  {
   "cell_type": "code",
   "execution_count": 46,
   "id": "b236f51f",
   "metadata": {},
   "outputs": [
    {
     "data": {
      "text/plain": [
       "{'name': 'Franklin', 'salary': 44000, 'spouse': 'Franklina'}"
      ]
     },
     "execution_count": 46,
     "metadata": {},
     "output_type": "execute_result"
    }
   ],
   "source": [
    "dict3"
   ]
  },
  {
   "cell_type": "markdown",
   "id": "59b7744c",
   "metadata": {},
   "source": [
    "### Slicing"
   ]
  },
  {
   "cell_type": "code",
   "execution_count": 56,
   "id": "4afa3fc1",
   "metadata": {},
   "outputs": [
    {
     "data": {
      "text/plain": [
       "[1, 4, 7, 10, 13, 16, 19, 22, 25, 28, 31, 34, 37, 40, 43, 46, 49]"
      ]
     },
     "execution_count": 56,
     "metadata": {},
     "output_type": "execute_result"
    }
   ],
   "source": [
    "list(range(1,50,3))"
   ]
  },
  {
   "cell_type": "code",
   "execution_count": 60,
   "id": "a7b77f2e",
   "metadata": {},
   "outputs": [],
   "source": [
    "newlist5 = newlist3 + list(range(1,50,3))"
   ]
  },
  {
   "cell_type": "code",
   "execution_count": 48,
   "id": "ed22abd6",
   "metadata": {},
   "outputs": [
    {
     "data": {
      "text/plain": [
       "{'name': 'Franklin', 'salary': 44000, 'spouse': 'Franklina'}"
      ]
     },
     "execution_count": 48,
     "metadata": {},
     "output_type": "execute_result"
    }
   ],
   "source": [
    "dict3"
   ]
  },
  {
   "cell_type": "code",
   "execution_count": 63,
   "id": "2ded9ada",
   "metadata": {},
   "outputs": [
    {
     "data": {
      "text/plain": [
       "['man',\n",
       " 23,\n",
       " 13.5,\n",
       " True,\n",
       " 1,\n",
       " 4,\n",
       " 7,\n",
       " 10,\n",
       " 13,\n",
       " 16,\n",
       " 19,\n",
       " 22,\n",
       " 25,\n",
       " 28,\n",
       " 31,\n",
       " 34,\n",
       " 37,\n",
       " 40,\n",
       " 43,\n",
       " 46,\n",
       " 49]"
      ]
     },
     "execution_count": 63,
     "metadata": {},
     "output_type": "execute_result"
    }
   ],
   "source": [
    "newlist5"
   ]
  },
  {
   "cell_type": "code",
   "execution_count": 62,
   "id": "45eabfbd",
   "metadata": {},
   "outputs": [
    {
     "data": {
      "text/plain": [
       "[7, 10, 13, 16, 19, 22, 25, 28, 31]"
      ]
     },
     "execution_count": 62,
     "metadata": {},
     "output_type": "execute_result"
    }
   ],
   "source": [
    "newlist5[6:15]"
   ]
  },
  {
   "cell_type": "code",
   "execution_count": 64,
   "id": "208f8e49",
   "metadata": {},
   "outputs": [
    {
     "data": {
      "text/plain": [
       "43"
      ]
     },
     "execution_count": 64,
     "metadata": {},
     "output_type": "execute_result"
    }
   ],
   "source": [
    "newlist5[-3]"
   ]
  },
  {
   "cell_type": "code",
   "execution_count": 65,
   "id": "f87a761e",
   "metadata": {},
   "outputs": [
    {
     "data": {
      "text/plain": [
       "[37, 40, 43, 46]"
      ]
     },
     "execution_count": 65,
     "metadata": {},
     "output_type": "execute_result"
    }
   ],
   "source": [
    "newlist5[-5:-1]"
   ]
  },
  {
   "cell_type": "markdown",
   "id": "b3caae2f",
   "metadata": {},
   "source": [
    "### If...Else Block"
   ]
  },
  {
   "cell_type": "code",
   "execution_count": 69,
   "id": "9be8e158",
   "metadata": {},
   "outputs": [
    {
     "data": {
      "text/plain": [
       "[3, 6, 9, 12, 15, 18, 21, 24, 27, 30, 33, 36, 39, 42, 45, 48, 51, 54]"
      ]
     },
     "execution_count": 69,
     "metadata": {},
     "output_type": "execute_result"
    }
   ],
   "source": [
    "list(range(3,57,3))"
   ]
  },
  {
   "cell_type": "code",
   "execution_count": 74,
   "id": "81df9171",
   "metadata": {},
   "outputs": [
    {
     "name": "stdout",
     "output_type": "stream",
     "text": [
      "3 : Satisfies None\n",
      "6 : is an even number\n",
      "9 : Satisfies None\n",
      "12 : is an even number\n",
      "15 : Satisfies None\n",
      "18 : is an even number\n",
      "21 : is divisible by seven and three\n",
      "24 : is an even number\n",
      "27 : Satisfies None\n",
      "30 : is an even number\n",
      "33 : Satisfies None\n",
      "36 : is an even number\n",
      "39 : Satisfies None\n",
      "42 : is an even number\n",
      "45 : Satisfies None\n",
      "48 : is an even number\n",
      "51 : Satisfies None\n",
      "54 : is an even number\n"
     ]
    }
   ],
   "source": [
    "for num in list(range(3,57,3)):\n",
    "    if num%2 == 0:\n",
    "        print(str(num) + ' : is an even number')\n",
    "    elif (num%3 == 0) and (num%7 == 0):\n",
    "        print(str(num) + ' : is divisible by seven and three')\n",
    "    else:\n",
    "        print(str(num) + ' : Satisfies None')"
   ]
  },
  {
   "cell_type": "markdown",
   "id": "b41cfc8a",
   "metadata": {},
   "source": [
    "### For Loop"
   ]
  },
  {
   "cell_type": "code",
   "execution_count": 11,
   "id": "2e5f4c2c",
   "metadata": {},
   "outputs": [],
   "source": [
    "abena_nums = list(range(2,20000,4))"
   ]
  },
  {
   "cell_type": "code",
   "execution_count": 12,
   "id": "d26a7a34",
   "metadata": {},
   "outputs": [
    {
     "data": {
      "text/plain": [
       "5000"
      ]
     },
     "execution_count": 12,
     "metadata": {},
     "output_type": "execute_result"
    }
   ],
   "source": [
    "len(abena_nums)"
   ]
  },
  {
   "cell_type": "code",
   "execution_count": 1,
   "id": "4dca62ba",
   "metadata": {},
   "outputs": [],
   "source": [
    "nums = list(range(2, 53, 2))"
   ]
  },
  {
   "cell_type": "code",
   "execution_count": 3,
   "id": "c24e0a43",
   "metadata": {},
   "outputs": [],
   "source": [
    "newlist = []\n",
    "for num in nums:\n",
    "    newnum = num + 1\n",
    "    newlist.append(newnum)       "
   ]
  },
  {
   "cell_type": "code",
   "execution_count": 14,
   "id": "27aabd87",
   "metadata": {},
   "outputs": [
    {
     "data": {
      "text/plain": [
       "[3, 5, 7, 9, 11]"
      ]
     },
     "execution_count": 14,
     "metadata": {},
     "output_type": "execute_result"
    }
   ],
   "source": [
    "newlist[:5]"
   ]
  },
  {
   "cell_type": "markdown",
   "id": "0422b673",
   "metadata": {},
   "source": [
    "### While Loop"
   ]
  },
  {
   "cell_type": "code",
   "execution_count": 21,
   "id": "8bce3af4",
   "metadata": {},
   "outputs": [
    {
     "name": "stdout",
     "output_type": "stream",
     "text": [
      "2\n",
      "3\n",
      "4\n",
      "5\n",
      "6\n",
      "7\n"
     ]
    }
   ],
   "source": [
    "newlist2 = []\n",
    "newlist3 = []\n",
    "num = 2\n",
    "while num < 8:\n",
    "    print(num)\n",
    "    newlist3.append(num)\n",
    "    num = num + 1\n",
    "    newlist2.append(num)"
   ]
  },
  {
   "cell_type": "code",
   "execution_count": 24,
   "id": "21d56901",
   "metadata": {},
   "outputs": [
    {
     "data": {
      "text/plain": [
       "[3, 4, 5, 6, 7, 8]"
      ]
     },
     "execution_count": 24,
     "metadata": {},
     "output_type": "execute_result"
    }
   ],
   "source": [
    "newlist2"
   ]
  },
  {
   "cell_type": "code",
   "execution_count": 23,
   "id": "32ab6254",
   "metadata": {},
   "outputs": [
    {
     "data": {
      "text/plain": [
       "[2, 3, 4, 5, 6, 7]"
      ]
     },
     "execution_count": 23,
     "metadata": {},
     "output_type": "execute_result"
    }
   ],
   "source": [
    "newlist3"
   ]
  },
  {
   "cell_type": "markdown",
   "id": "9c101277",
   "metadata": {},
   "source": [
    "### Functions"
   ]
  },
  {
   "cell_type": "code",
   "execution_count": 25,
   "id": "0eea5714",
   "metadata": {},
   "outputs": [
    {
     "name": "stdout",
     "output_type": "stream",
     "text": [
      "Hello Akwasi\n",
      "Hello Mercy\n",
      "Hello Hepzibah\n"
     ]
    }
   ],
   "source": [
    "names = ['Akwasi', 'Mercy', 'Hepzibah']\n",
    "print('Hello ' + 'Akwasi')\n",
    "print('Hello ' + 'Mercy')\n",
    "print('Hello ' + 'Hepzibah')"
   ]
  },
  {
   "cell_type": "code",
   "execution_count": 26,
   "id": "d588d326",
   "metadata": {},
   "outputs": [],
   "source": [
    "def printname(name):\n",
    "    print('Hello ' + name)"
   ]
  },
  {
   "cell_type": "code",
   "execution_count": 27,
   "id": "87986c87",
   "metadata": {},
   "outputs": [
    {
     "name": "stdout",
     "output_type": "stream",
     "text": [
      "Hello Sherifa\n"
     ]
    }
   ],
   "source": [
    "printname('Sherifa')"
   ]
  },
  {
   "cell_type": "code",
   "execution_count": 28,
   "id": "5ec4bd80",
   "metadata": {},
   "outputs": [
    {
     "name": "stdout",
     "output_type": "stream",
     "text": [
      "Hello Adjei-Twum\n"
     ]
    }
   ],
   "source": [
    "printname('Adjei-Twum')"
   ]
  },
  {
   "cell_type": "code",
   "execution_count": 33,
   "id": "95221bb9",
   "metadata": {},
   "outputs": [],
   "source": [
    "def calculate_hypotenuse(adjacent, opposite):\n",
    "    import math\n",
    "    hypotenuse = math.sqrt(adjacent**2 + opposite**2) \n",
    "    print(int(hypotenuse)) "
   ]
  },
  {
   "cell_type": "code",
   "execution_count": 34,
   "id": "7b2b81df",
   "metadata": {},
   "outputs": [
    {
     "name": "stdout",
     "output_type": "stream",
     "text": [
      "5\n"
     ]
    }
   ],
   "source": [
    "calculate_hypotenuse(3,4)"
   ]
  },
  {
   "cell_type": "code",
   "execution_count": 39,
   "id": "ddab32dc",
   "metadata": {},
   "outputs": [
    {
     "name": "stdout",
     "output_type": "stream",
     "text": [
      "17\n"
     ]
    }
   ],
   "source": [
    "calculate_hypotenuse(12,13)"
   ]
  },
  {
   "cell_type": "code",
   "execution_count": 40,
   "id": "ebdea280",
   "metadata": {},
   "outputs": [
    {
     "name": "stdout",
     "output_type": "stream",
     "text": [
      "34\n"
     ]
    }
   ],
   "source": [
    "calculate_hypotenuse(32,14)"
   ]
  },
  {
   "cell_type": "code",
   "execution_count": 38,
   "id": "0c381f59",
   "metadata": {},
   "outputs": [],
   "source": [
    "import math\n",
    "# help(math)"
   ]
  },
  {
   "cell_type": "code",
   "execution_count": 44,
   "id": "38843d50",
   "metadata": {},
   "outputs": [],
   "source": [
    "def printname2(name = 'Franklin'):\n",
    "    print('Hello ' + name)"
   ]
  },
  {
   "cell_type": "code",
   "execution_count": 46,
   "id": "8971d20c",
   "metadata": {},
   "outputs": [
    {
     "name": "stdout",
     "output_type": "stream",
     "text": [
      "Hello Tilly\n"
     ]
    }
   ],
   "source": [
    "printname2('Tilly')"
   ]
  },
  {
   "cell_type": "markdown",
   "id": "afe2e46b",
   "metadata": {},
   "source": [
    "### Lambda"
   ]
  },
  {
   "cell_type": "code",
   "execution_count": 47,
   "id": "06ecdb96",
   "metadata": {},
   "outputs": [],
   "source": [
    "printname3 = lambda name : 'Hello ' + name"
   ]
  },
  {
   "cell_type": "code",
   "execution_count": 49,
   "id": "61d83238",
   "metadata": {},
   "outputs": [
    {
     "data": {
      "text/plain": [
       "'Hello Naa Solomon'"
      ]
     },
     "execution_count": 49,
     "metadata": {},
     "output_type": "execute_result"
    }
   ],
   "source": [
    "printname3('Naa Solomon')"
   ]
  },
  {
   "cell_type": "code",
   "execution_count": 50,
   "id": "416a5bef",
   "metadata": {},
   "outputs": [],
   "source": [
    "cal_hyp = lambda adj, opp : math.sqrt(adj**2 + opp**2)"
   ]
  },
  {
   "cell_type": "code",
   "execution_count": 51,
   "id": "436f8ca2",
   "metadata": {},
   "outputs": [
    {
     "data": {
      "text/plain": [
       "4.47213595499958"
      ]
     },
     "execution_count": 51,
     "metadata": {},
     "output_type": "execute_result"
    }
   ],
   "source": [
    "cal_hyp(2,4)"
   ]
  },
  {
   "cell_type": "markdown",
   "id": "55e6fbf7",
   "metadata": {},
   "source": [
    "### User Input"
   ]
  },
  {
   "cell_type": "code",
   "execution_count": 52,
   "id": "a5c177fb",
   "metadata": {},
   "outputs": [
    {
     "name": "stdout",
     "output_type": "stream",
     "text": [
      "Adjei-Twum\n",
      "Welcome Adjei-Twum\n"
     ]
    }
   ],
   "source": [
    "name = input()\n",
    "print('Welcome ' + name)"
   ]
  },
  {
   "cell_type": "code",
   "execution_count": 53,
   "id": "9468121e",
   "metadata": {},
   "outputs": [
    {
     "name": "stdout",
     "output_type": "stream",
     "text": [
      "Enter your name: Franklin\n",
      "Welcome Franklin\n"
     ]
    }
   ],
   "source": [
    "name = input('Enter your name: ')\n",
    "print('Welcome ' + name)"
   ]
  },
  {
   "cell_type": "markdown",
   "id": "6832046e",
   "metadata": {},
   "source": [
    "### String Formatting"
   ]
  },
  {
   "cell_type": "code",
   "execution_count": 54,
   "id": "1958983c",
   "metadata": {},
   "outputs": [
    {
     "name": "stdout",
     "output_type": "stream",
     "text": [
      "There are 10 students on the call\n"
     ]
    }
   ],
   "source": [
    "list_of_students = ['Akwasi', 'Abena', 'Tilly', 'Sherifa', 'Adjei', 'Naa', 'Fauzia', 'Irene', 'Zoe', 'Nashirat']\n",
    "num = len(list_of_students)\n",
    "print('There are {} students on the call'.format(num))"
   ]
  },
  {
   "cell_type": "code",
   "execution_count": 57,
   "id": "7f150d59",
   "metadata": {},
   "outputs": [
    {
     "name": "stdout",
     "output_type": "stream",
     "text": [
      "Enter number of guys: 1\n",
      "Enter number of ladies: 9\n",
      "There is(are) 1 guy(s) and 9 lady/ladies\n"
     ]
    }
   ],
   "source": [
    "num_of_guys = input('Enter number of guys: ')\n",
    "num_of_ladies = input('Enter number of ladies: ')\n",
    "print('There is(are) {} guy(s) and {} lady/ladies'.format(num_of_guys, num_of_ladies))"
   ]
  },
  {
   "cell_type": "markdown",
   "id": "bc7935d1",
   "metadata": {},
   "source": [
    "### Object Oriented Programming"
   ]
  },
  {
   "cell_type": "code",
   "execution_count": 76,
   "id": "e28964ae",
   "metadata": {},
   "outputs": [],
   "source": [
    "class HumanBeing:\n",
    "    def __init__(self, eye_color, nose_shape):\n",
    "        self.eye_color = eye_color\n",
    "        self.nose_shape = nose_shape\n",
    "    \n",
    "    def talk(self, language):\n",
    "        print('I can speak ' + language)\n",
    "    \n",
    "    def sing(self, title):\n",
    "        print('I can sing ' + title)\n",
    "    \n",
    "    def dance(self, dance_type):\n",
    "        print('I can dance ' + dance_type)\n",
    "        \n",
    "# Inheritance        \n",
    "class Employee(HumanBeing):\n",
    "    def __init__(self, eye_color, nose_shape, idnumber):\n",
    "        self.idnumber = idnumber\n",
    "        HumanBeing.__init__(self, eye_color, nose_shape)\n",
    "        \n",
    "    def salary(self, amount):\n",
    "        print('My salary is ' + amount)\n",
    "        \n",
    "        "
   ]
  },
  {
   "cell_type": "code",
   "execution_count": 61,
   "id": "df5556d9",
   "metadata": {},
   "outputs": [],
   "source": [
    "Nashirat = HumanBeing('blue', 'pointed')"
   ]
  },
  {
   "cell_type": "code",
   "execution_count": 63,
   "id": "6bde4852",
   "metadata": {},
   "outputs": [
    {
     "name": "stdout",
     "output_type": "stream",
     "text": [
      "I can speak Kupe\n"
     ]
    }
   ],
   "source": [
    "Nashirat.dance('Kupe')"
   ]
  },
  {
   "cell_type": "code",
   "execution_count": 32,
   "id": "de0174e7",
   "metadata": {},
   "outputs": [
    {
     "name": "stdout",
     "output_type": "stream",
     "text": [
      "I can dance Shakushaku\n"
     ]
    }
   ],
   "source": [
    "Nashirat.dance('Shakushaku')"
   ]
  },
  {
   "cell_type": "code",
   "execution_count": 37,
   "id": "fecb69e5",
   "metadata": {},
   "outputs": [],
   "source": [
    "Akwasi = HumanBeing('brown', 'pointed')"
   ]
  },
  {
   "cell_type": "code",
   "execution_count": 34,
   "id": "26d3323f",
   "metadata": {},
   "outputs": [
    {
     "name": "stdout",
     "output_type": "stream",
     "text": [
      "I can dance Azonto\n"
     ]
    }
   ],
   "source": [
    "Akwasi.dance('Azonto')"
   ]
  },
  {
   "cell_type": "code",
   "execution_count": 35,
   "id": "0cb1302b",
   "metadata": {},
   "outputs": [
    {
     "name": "stdout",
     "output_type": "stream",
     "text": [
      "I can speak English\n"
     ]
    }
   ],
   "source": [
    "Akwasi.talk('English')"
   ]
  },
  {
   "cell_type": "code",
   "execution_count": 38,
   "id": "ef71b822",
   "metadata": {},
   "outputs": [
    {
     "name": "stdout",
     "output_type": "stream",
     "text": [
      "I can sing Reggae\n"
     ]
    }
   ],
   "source": [
    "Akwasi.sing('Reggae')"
   ]
  },
  {
   "cell_type": "code",
   "execution_count": 40,
   "id": "6ad0e43c",
   "metadata": {},
   "outputs": [
    {
     "ename": "AttributeError",
     "evalue": "'HumanBeing' object has no attribute 'salary'",
     "output_type": "error",
     "traceback": [
      "\u001b[1;31m---------------------------------------------------------------------------\u001b[0m",
      "\u001b[1;31mAttributeError\u001b[0m                            Traceback (most recent call last)",
      "\u001b[1;32m~\\AppData\\Local\\Temp/ipykernel_17804/3996128171.py\u001b[0m in \u001b[0;36m<module>\u001b[1;34m\u001b[0m\n\u001b[1;32m----> 1\u001b[1;33m \u001b[0mAkwasi\u001b[0m\u001b[1;33m.\u001b[0m\u001b[0msalary\u001b[0m\u001b[1;33m(\u001b[0m\u001b[1;34m'$45,000'\u001b[0m\u001b[1;33m)\u001b[0m\u001b[1;33m\u001b[0m\u001b[1;33m\u001b[0m\u001b[0m\n\u001b[0m",
      "\u001b[1;31mAttributeError\u001b[0m: 'HumanBeing' object has no attribute 'salary'"
     ]
    }
   ],
   "source": [
    "Akwasi.salary('$45,000')"
   ]
  },
  {
   "cell_type": "code",
   "execution_count": 77,
   "id": "38b0f006",
   "metadata": {},
   "outputs": [],
   "source": [
    "Zoe = Employee('light blue', 'pointed', '0010')"
   ]
  },
  {
   "cell_type": "code",
   "execution_count": 72,
   "id": "a45aab21",
   "metadata": {},
   "outputs": [
    {
     "name": "stdout",
     "output_type": "stream",
     "text": [
      "I can dance Salsa\n"
     ]
    }
   ],
   "source": [
    "Zoe.dance('Salsa')"
   ]
  },
  {
   "cell_type": "code",
   "execution_count": null,
   "id": "0f5069ee",
   "metadata": {},
   "outputs": [],
   "source": [
    "Zoe.salary('$56000')"
   ]
  }
 ],
 "metadata": {
  "kernelspec": {
   "display_name": "Python 3 (ipykernel)",
   "language": "python",
   "name": "python3"
  },
  "language_info": {
   "codemirror_mode": {
    "name": "ipython",
    "version": 3
   },
   "file_extension": ".py",
   "mimetype": "text/x-python",
   "name": "python",
   "nbconvert_exporter": "python",
   "pygments_lexer": "ipython3",
   "version": "3.9.7"
  }
 },
 "nbformat": 4,
 "nbformat_minor": 5
}
