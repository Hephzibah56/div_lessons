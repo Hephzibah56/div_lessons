{
 "cells": [
  {
   "cell_type": "code",
   "execution_count": 1,
   "id": "0720bd5c",
   "metadata": {},
   "outputs": [],
   "source": [
    "# import necessary libraries\n",
    "import pandas as pd\n",
    "import math"
   ]
  },
  {
   "cell_type": "code",
   "execution_count": 2,
   "id": "545cdcb8",
   "metadata": {},
   "outputs": [
    {
     "data": {
      "text/html": [
       "<div>\n",
       "<style scoped>\n",
       "    .dataframe tbody tr th:only-of-type {\n",
       "        vertical-align: middle;\n",
       "    }\n",
       "\n",
       "    .dataframe tbody tr th {\n",
       "        vertical-align: top;\n",
       "    }\n",
       "\n",
       "    .dataframe thead th {\n",
       "        text-align: right;\n",
       "    }\n",
       "</style>\n",
       "<table border=\"1\" class=\"dataframe\">\n",
       "  <thead>\n",
       "    <tr style=\"text-align: right;\">\n",
       "      <th></th>\n",
       "      <th>Name</th>\n",
       "      <th>Age</th>\n",
       "      <th>race</th>\n",
       "    </tr>\n",
       "  </thead>\n",
       "  <tbody>\n",
       "    <tr>\n",
       "      <th>0</th>\n",
       "      <td>Tigi</td>\n",
       "      <td>24</td>\n",
       "      <td>african-american</td>\n",
       "    </tr>\n",
       "    <tr>\n",
       "      <th>1</th>\n",
       "      <td>Mobi</td>\n",
       "      <td>27</td>\n",
       "      <td>asian</td>\n",
       "    </tr>\n",
       "    <tr>\n",
       "      <th>2</th>\n",
       "      <td>Waga</td>\n",
       "      <td>32</td>\n",
       "      <td>latino</td>\n",
       "    </tr>\n",
       "  </tbody>\n",
       "</table>\n",
       "</div>"
      ],
      "text/plain": [
       "   Name   Age               race\n",
       "0  Tigi    24   african-american\n",
       "1  Mobi    27              asian\n",
       "2  Waga    32             latino"
      ]
     },
     "execution_count": 2,
     "metadata": {},
     "output_type": "execute_result"
    }
   ],
   "source": [
    "csv_data = pd.read_csv('csv_data.csv')\n",
    "csv_data"
   ]
  },
  {
   "cell_type": "code",
   "execution_count": 3,
   "id": "f37c665c",
   "metadata": {},
   "outputs": [
    {
     "data": {
      "text/html": [
       "<div>\n",
       "<style scoped>\n",
       "    .dataframe tbody tr th:only-of-type {\n",
       "        vertical-align: middle;\n",
       "    }\n",
       "\n",
       "    .dataframe tbody tr th {\n",
       "        vertical-align: top;\n",
       "    }\n",
       "\n",
       "    .dataframe thead th {\n",
       "        text-align: right;\n",
       "    }\n",
       "</style>\n",
       "<table border=\"1\" class=\"dataframe\">\n",
       "  <thead>\n",
       "    <tr style=\"text-align: right;\">\n",
       "      <th></th>\n",
       "      <th>Students</th>\n",
       "      <th>Height</th>\n",
       "      <th>Fav_color</th>\n",
       "      <th>Salary()</th>\n",
       "    </tr>\n",
       "  </thead>\n",
       "  <tbody>\n",
       "    <tr>\n",
       "      <th>0</th>\n",
       "      <td>Akwasi</td>\n",
       "      <td>184</td>\n",
       "      <td>Black</td>\n",
       "      <td>70000</td>\n",
       "    </tr>\n",
       "    <tr>\n",
       "      <th>1</th>\n",
       "      <td>Franklin</td>\n",
       "      <td>175</td>\n",
       "      <td>Burgundy</td>\n",
       "      <td>20000</td>\n",
       "    </tr>\n",
       "    <tr>\n",
       "      <th>2</th>\n",
       "      <td>Nashirat</td>\n",
       "      <td>178</td>\n",
       "      <td>Purple</td>\n",
       "      <td>70000</td>\n",
       "    </tr>\n",
       "    <tr>\n",
       "      <th>3</th>\n",
       "      <td>Irene</td>\n",
       "      <td>188</td>\n",
       "      <td>Green</td>\n",
       "      <td>70000</td>\n",
       "    </tr>\n",
       "    <tr>\n",
       "      <th>4</th>\n",
       "      <td>Amma</td>\n",
       "      <td>182</td>\n",
       "      <td>Pink</td>\n",
       "      <td>70000</td>\n",
       "    </tr>\n",
       "    <tr>\n",
       "      <th>5</th>\n",
       "      <td>Fauzia</td>\n",
       "      <td>186</td>\n",
       "      <td>Yellow</td>\n",
       "      <td>70000</td>\n",
       "    </tr>\n",
       "  </tbody>\n",
       "</table>\n",
       "</div>"
      ],
      "text/plain": [
       "   Students  Height Fav_color  Salary()\n",
       "0    Akwasi     184     Black     70000\n",
       "1  Franklin     175  Burgundy     20000\n",
       "2  Nashirat     178    Purple     70000\n",
       "3     Irene     188     Green     70000\n",
       "4      Amma     182      Pink     70000\n",
       "5    Fauzia     186    Yellow     70000"
      ]
     },
     "execution_count": 3,
     "metadata": {},
     "output_type": "execute_result"
    }
   ],
   "source": [
    "data = pd.read_excel('excel_data.xlsx')\n",
    "data"
   ]
  },
  {
   "cell_type": "code",
   "execution_count": 4,
   "id": "70907292",
   "metadata": {
    "scrolled": true
   },
   "outputs": [
    {
     "data": {
      "text/html": [
       "<div>\n",
       "<style scoped>\n",
       "    .dataframe tbody tr th:only-of-type {\n",
       "        vertical-align: middle;\n",
       "    }\n",
       "\n",
       "    .dataframe tbody tr th {\n",
       "        vertical-align: top;\n",
       "    }\n",
       "\n",
       "    .dataframe thead th {\n",
       "        text-align: right;\n",
       "    }\n",
       "</style>\n",
       "<table border=\"1\" class=\"dataframe\">\n",
       "  <thead>\n",
       "    <tr style=\"text-align: right;\">\n",
       "      <th></th>\n",
       "      <th>REGION</th>\n",
       "      <th>DISTRICT</th>\n",
       "      <th>YEAR</th>\n",
       "      <th>CROP</th>\n",
       "      <th>AREA (HA)</th>\n",
       "      <th>YIELD (MT/HA)</th>\n",
       "      <th>PRODUCTION (MT)</th>\n",
       "    </tr>\n",
       "  </thead>\n",
       "  <tbody>\n",
       "    <tr>\n",
       "      <th>0</th>\n",
       "      <td>WESTERN</td>\n",
       "      <td>SHAMA AHANTA EAST</td>\n",
       "      <td>2008</td>\n",
       "      <td>MAIZE</td>\n",
       "      <td>1,099.00</td>\n",
       "      <td>1.15</td>\n",
       "      <td>1,263.85</td>\n",
       "    </tr>\n",
       "    <tr>\n",
       "      <th>1</th>\n",
       "      <td>WESTERN</td>\n",
       "      <td>WEST AHANTA</td>\n",
       "      <td>2008</td>\n",
       "      <td>MAIZE</td>\n",
       "      <td>1,433.00</td>\n",
       "      <td>1.19</td>\n",
       "      <td>1,705.27</td>\n",
       "    </tr>\n",
       "    <tr>\n",
       "      <th>2</th>\n",
       "      <td>WESTERN</td>\n",
       "      <td>MPORHOR WASSA EAST</td>\n",
       "      <td>2008</td>\n",
       "      <td>MAIZE</td>\n",
       "      <td>2,034.00</td>\n",
       "      <td>1.32</td>\n",
       "      <td>2,684.88</td>\n",
       "    </tr>\n",
       "    <tr>\n",
       "      <th>3</th>\n",
       "      <td>WESTERN</td>\n",
       "      <td>WASSA WEST</td>\n",
       "      <td>2008</td>\n",
       "      <td>MAIZE</td>\n",
       "      <td>2,204.00</td>\n",
       "      <td>1.2</td>\n",
       "      <td>2,644.80</td>\n",
       "    </tr>\n",
       "    <tr>\n",
       "      <th>4</th>\n",
       "      <td>WESTERN</td>\n",
       "      <td>EAST NZEMA</td>\n",
       "      <td>2008</td>\n",
       "      <td>MAIZE</td>\n",
       "      <td>1,550.00</td>\n",
       "      <td>1.38</td>\n",
       "      <td>2,139.00</td>\n",
       "    </tr>\n",
       "    <tr>\n",
       "      <th>...</th>\n",
       "      <td>...</td>\n",
       "      <td>...</td>\n",
       "      <td>...</td>\n",
       "      <td>...</td>\n",
       "      <td>...</td>\n",
       "      <td>...</td>\n",
       "      <td>...</td>\n",
       "    </tr>\n",
       "    <tr>\n",
       "      <th>8231</th>\n",
       "      <td>NORTHERN REGION</td>\n",
       "      <td>MAMPRUGU MOAGDURI</td>\n",
       "      <td>2017</td>\n",
       "      <td>CASSAVA</td>\n",
       "      <td>900</td>\n",
       "      <td>7.95</td>\n",
       "      <td>7,155.00</td>\n",
       "    </tr>\n",
       "    <tr>\n",
       "      <th>8232</th>\n",
       "      <td>NORTHERN REGION</td>\n",
       "      <td>YENDI</td>\n",
       "      <td>2017</td>\n",
       "      <td>CASSAVA</td>\n",
       "      <td>4,790.00</td>\n",
       "      <td>13.59</td>\n",
       "      <td>65,096.10</td>\n",
       "    </tr>\n",
       "    <tr>\n",
       "      <th>8233</th>\n",
       "      <td>NORTHERN REGION</td>\n",
       "      <td>MION</td>\n",
       "      <td>2017</td>\n",
       "      <td>CASSAVA</td>\n",
       "      <td>3,831.00</td>\n",
       "      <td>6.96</td>\n",
       "      <td>26,663.76</td>\n",
       "    </tr>\n",
       "    <tr>\n",
       "      <th>8234</th>\n",
       "      <td>NORTHERN REGION</td>\n",
       "      <td>TATALE SANGULI</td>\n",
       "      <td>2017</td>\n",
       "      <td>CASSAVA</td>\n",
       "      <td>5,192.00</td>\n",
       "      <td>13.85</td>\n",
       "      <td>71,909.20</td>\n",
       "    </tr>\n",
       "    <tr>\n",
       "      <th>8235</th>\n",
       "      <td>NORTHERN REGION</td>\n",
       "      <td>ZABZUGU</td>\n",
       "      <td>2017</td>\n",
       "      <td>CASSAVA</td>\n",
       "      <td>4,612.00</td>\n",
       "      <td>13.85</td>\n",
       "      <td>63,876.20</td>\n",
       "    </tr>\n",
       "  </tbody>\n",
       "</table>\n",
       "<p>8236 rows × 7 columns</p>\n",
       "</div>"
      ],
      "text/plain": [
       "               REGION            DISTRICT  YEAR     CROP AREA (HA)  \\\n",
       "0             WESTERN   SHAMA AHANTA EAST  2008    MAIZE  1,099.00   \n",
       "1             WESTERN         WEST AHANTA  2008    MAIZE  1,433.00   \n",
       "2             WESTERN  MPORHOR WASSA EAST  2008    MAIZE  2,034.00   \n",
       "3             WESTERN          WASSA WEST  2008    MAIZE  2,204.00   \n",
       "4             WESTERN          EAST NZEMA  2008    MAIZE  1,550.00   \n",
       "...               ...                 ...   ...      ...       ...   \n",
       "8231  NORTHERN REGION   MAMPRUGU MOAGDURI  2017  CASSAVA       900   \n",
       "8232  NORTHERN REGION               YENDI  2017  CASSAVA  4,790.00   \n",
       "8233  NORTHERN REGION                MION  2017  CASSAVA  3,831.00   \n",
       "8234  NORTHERN REGION      TATALE SANGULI  2017  CASSAVA  5,192.00   \n",
       "8235  NORTHERN REGION             ZABZUGU  2017  CASSAVA  4,612.00   \n",
       "\n",
       "     YIELD (MT/HA) PRODUCTION (MT)  \n",
       "0             1.15        1,263.85  \n",
       "1             1.19        1,705.27  \n",
       "2             1.32        2,684.88  \n",
       "3              1.2        2,644.80  \n",
       "4             1.38        2,139.00  \n",
       "...            ...             ...  \n",
       "8231          7.95        7,155.00  \n",
       "8232         13.59       65,096.10  \n",
       "8233          6.96       26,663.76  \n",
       "8234         13.85       71,909.20  \n",
       "8235         13.85       63,876.20  \n",
       "\n",
       "[8236 rows x 7 columns]"
      ]
     },
     "execution_count": 4,
     "metadata": {},
     "output_type": "execute_result"
    }
   ],
   "source": [
    "pro_est_df = pd.read_csv('PRODUCTION ESTIMATES.csv')\n",
    "pro_est_df"
   ]
  },
  {
   "cell_type": "code",
   "execution_count": 5,
   "id": "62a3c95f",
   "metadata": {
    "scrolled": true
   },
   "outputs": [
    {
     "name": "stdout",
     "output_type": "stream",
     "text": [
      "<class 'pandas.core.frame.DataFrame'>\n",
      "RangeIndex: 8236 entries, 0 to 8235\n",
      "Data columns (total 7 columns):\n",
      " #   Column           Non-Null Count  Dtype \n",
      "---  ------           --------------  ----- \n",
      " 0   REGION           8236 non-null   object\n",
      " 1   DISTRICT         8236 non-null   object\n",
      " 2   YEAR             8236 non-null   int64 \n",
      " 3   CROP             8236 non-null   object\n",
      " 4   AREA (HA)        8236 non-null   object\n",
      " 5   YIELD (MT/HA)    8220 non-null   object\n",
      " 6   PRODUCTION (MT)  8234 non-null   object\n",
      "dtypes: int64(1), object(6)\n",
      "memory usage: 450.5+ KB\n"
     ]
    }
   ],
   "source": [
    "# ascertain the column types\n",
    "pro_est_df.info()"
   ]
  },
  {
   "cell_type": "code",
   "execution_count": 6,
   "id": "7725a11a",
   "metadata": {},
   "outputs": [
    {
     "data": {
      "text/html": [
       "<div>\n",
       "<style scoped>\n",
       "    .dataframe tbody tr th:only-of-type {\n",
       "        vertical-align: middle;\n",
       "    }\n",
       "\n",
       "    .dataframe tbody tr th {\n",
       "        vertical-align: top;\n",
       "    }\n",
       "\n",
       "    .dataframe thead th {\n",
       "        text-align: right;\n",
       "    }\n",
       "</style>\n",
       "<table border=\"1\" class=\"dataframe\">\n",
       "  <thead>\n",
       "    <tr style=\"text-align: right;\">\n",
       "      <th></th>\n",
       "      <th>Students</th>\n",
       "      <th>Height</th>\n",
       "      <th>Fav_color</th>\n",
       "      <th>Salary()</th>\n",
       "    </tr>\n",
       "  </thead>\n",
       "  <tbody>\n",
       "    <tr>\n",
       "      <th>0</th>\n",
       "      <td>Akwasi</td>\n",
       "      <td>184</td>\n",
       "      <td>Black</td>\n",
       "      <td>70000</td>\n",
       "    </tr>\n",
       "    <tr>\n",
       "      <th>1</th>\n",
       "      <td>Franklin</td>\n",
       "      <td>175</td>\n",
       "      <td>Burgundy</td>\n",
       "      <td>20000</td>\n",
       "    </tr>\n",
       "    <tr>\n",
       "      <th>2</th>\n",
       "      <td>Nashirat</td>\n",
       "      <td>178</td>\n",
       "      <td>Purple</td>\n",
       "      <td>70000</td>\n",
       "    </tr>\n",
       "    <tr>\n",
       "      <th>3</th>\n",
       "      <td>Irene</td>\n",
       "      <td>188</td>\n",
       "      <td>Green</td>\n",
       "      <td>70000</td>\n",
       "    </tr>\n",
       "    <tr>\n",
       "      <th>4</th>\n",
       "      <td>Amma</td>\n",
       "      <td>182</td>\n",
       "      <td>Pink</td>\n",
       "      <td>70000</td>\n",
       "    </tr>\n",
       "    <tr>\n",
       "      <th>5</th>\n",
       "      <td>Fauzia</td>\n",
       "      <td>186</td>\n",
       "      <td>Yellow</td>\n",
       "      <td>70000</td>\n",
       "    </tr>\n",
       "  </tbody>\n",
       "</table>\n",
       "</div>"
      ],
      "text/plain": [
       "   Students  Height Fav_color  Salary()\n",
       "0    Akwasi     184     Black     70000\n",
       "1  Franklin     175  Burgundy     20000\n",
       "2  Nashirat     178    Purple     70000\n",
       "3     Irene     188     Green     70000\n",
       "4      Amma     182      Pink     70000\n",
       "5    Fauzia     186    Yellow     70000"
      ]
     },
     "execution_count": 6,
     "metadata": {},
     "output_type": "execute_result"
    }
   ],
   "source": [
    "data = pd.read_excel('excel_data.xlsx')\n",
    "data"
   ]
  },
  {
   "cell_type": "code",
   "execution_count": 7,
   "id": "f948317a",
   "metadata": {},
   "outputs": [
    {
     "data": {
      "text/plain": [
       "Students     0\n",
       "Height       0\n",
       "Fav_color    0\n",
       "Salary()     0\n",
       "dtype: int64"
      ]
     },
     "execution_count": 7,
     "metadata": {},
     "output_type": "execute_result"
    }
   ],
   "source": [
    "# count null values within each column\n",
    "data.isnull().sum()"
   ]
  },
  {
   "cell_type": "code",
   "execution_count": 8,
   "id": "c97c4a81",
   "metadata": {},
   "outputs": [
    {
     "data": {
      "text/plain": [
       "REGION              0\n",
       "DISTRICT            0\n",
       "YEAR                0\n",
       "CROP                0\n",
       "AREA (HA)           0\n",
       "YIELD (MT/HA)      16\n",
       "PRODUCTION (MT)     2\n",
       "dtype: int64"
      ]
     },
     "execution_count": 8,
     "metadata": {},
     "output_type": "execute_result"
    }
   ],
   "source": [
    "pro_est_df.isnull().sum()"
   ]
  },
  {
   "cell_type": "code",
   "execution_count": 9,
   "id": "d71317ba",
   "metadata": {},
   "outputs": [
    {
     "data": {
      "text/plain": [
       "Index(['REGION', 'DISTRICT', 'YEAR', 'CROP', 'AREA (HA)', 'YIELD (MT/HA)',\n",
       "       'PRODUCTION (MT)'],\n",
       "      dtype='object')"
      ]
     },
     "execution_count": 9,
     "metadata": {},
     "output_type": "execute_result"
    }
   ],
   "source": [
    "pro_est_df.columns"
   ]
  },
  {
   "cell_type": "code",
   "execution_count": 10,
   "id": "54311f02",
   "metadata": {
    "scrolled": true
   },
   "outputs": [
    {
     "data": {
      "text/plain": [
       "0               WESTERN\n",
       "1               WESTERN\n",
       "2               WESTERN\n",
       "3               WESTERN\n",
       "4               WESTERN\n",
       "             ...       \n",
       "8231    NORTHERN REGION\n",
       "8232    NORTHERN REGION\n",
       "8233    NORTHERN REGION\n",
       "8234    NORTHERN REGION\n",
       "8235    NORTHERN REGION\n",
       "Name: REGION, Length: 8236, dtype: object"
      ]
     },
     "execution_count": 10,
     "metadata": {},
     "output_type": "execute_result"
    }
   ],
   "source": [
    "pro_est_df.REGION"
   ]
  },
  {
   "cell_type": "code",
   "execution_count": 11,
   "id": "df7196c7",
   "metadata": {},
   "outputs": [
    {
     "data": {
      "text/plain": [
       "0               WESTERN\n",
       "1               WESTERN\n",
       "2               WESTERN\n",
       "3               WESTERN\n",
       "4               WESTERN\n",
       "             ...       \n",
       "8231    NORTHERN REGION\n",
       "8232    NORTHERN REGION\n",
       "8233    NORTHERN REGION\n",
       "8234    NORTHERN REGION\n",
       "8235    NORTHERN REGION\n",
       "Name: REGION, Length: 8236, dtype: object"
      ]
     },
     "execution_count": 11,
     "metadata": {},
     "output_type": "execute_result"
    }
   ],
   "source": [
    "pro_est_df['REGION']"
   ]
  },
  {
   "cell_type": "code",
   "execution_count": 12,
   "id": "5c5efb1d",
   "metadata": {},
   "outputs": [
    {
     "data": {
      "text/plain": [
       "0       1,099.00\n",
       "1       1,433.00\n",
       "2       2,034.00\n",
       "3       2,204.00\n",
       "4       1,550.00\n",
       "          ...   \n",
       "8231         900\n",
       "8232    4,790.00\n",
       "8233    3,831.00\n",
       "8234    5,192.00\n",
       "8235    4,612.00\n",
       "Name: AREA (HA), Length: 8236, dtype: object"
      ]
     },
     "execution_count": 12,
     "metadata": {},
     "output_type": "execute_result"
    }
   ],
   "source": [
    "pro_est_df['AREA (HA)']"
   ]
  },
  {
   "cell_type": "code",
   "execution_count": 13,
   "id": "741ac450",
   "metadata": {},
   "outputs": [],
   "source": [
    "# get rows and columns\n",
    "rows_cols = pro_est_df.shape"
   ]
  },
  {
   "cell_type": "code",
   "execution_count": 14,
   "id": "0a11db05",
   "metadata": {},
   "outputs": [
    {
     "data": {
      "text/plain": [
       "tuple"
      ]
     },
     "execution_count": 14,
     "metadata": {},
     "output_type": "execute_result"
    }
   ],
   "source": [
    "type(rows_cols)"
   ]
  },
  {
   "cell_type": "code",
   "execution_count": 15,
   "id": "3d540c0c",
   "metadata": {},
   "outputs": [
    {
     "data": {
      "text/plain": [
       "7"
      ]
     },
     "execution_count": 15,
     "metadata": {},
     "output_type": "execute_result"
    }
   ],
   "source": [
    "rows_cols[1]"
   ]
  },
  {
   "cell_type": "code",
   "execution_count": 16,
   "id": "56a4dd9d",
   "metadata": {
    "scrolled": true
   },
   "outputs": [
    {
     "data": {
      "text/html": [
       "<div>\n",
       "<style scoped>\n",
       "    .dataframe tbody tr th:only-of-type {\n",
       "        vertical-align: middle;\n",
       "    }\n",
       "\n",
       "    .dataframe tbody tr th {\n",
       "        vertical-align: top;\n",
       "    }\n",
       "\n",
       "    .dataframe thead th {\n",
       "        text-align: right;\n",
       "    }\n",
       "</style>\n",
       "<table border=\"1\" class=\"dataframe\">\n",
       "  <thead>\n",
       "    <tr style=\"text-align: right;\">\n",
       "      <th></th>\n",
       "      <th>REGION</th>\n",
       "      <th>DISTRICT</th>\n",
       "      <th>YEAR</th>\n",
       "      <th>CROP</th>\n",
       "      <th>AREA (HA)</th>\n",
       "      <th>YIELD (MT/HA)</th>\n",
       "      <th>PRODUCTION (MT)</th>\n",
       "    </tr>\n",
       "  </thead>\n",
       "  <tbody>\n",
       "    <tr>\n",
       "      <th>0</th>\n",
       "      <td>WESTERN</td>\n",
       "      <td>SHAMA AHANTA EAST</td>\n",
       "      <td>2008</td>\n",
       "      <td>MAIZE</td>\n",
       "      <td>1,099.00</td>\n",
       "      <td>1.15</td>\n",
       "      <td>1,263.85</td>\n",
       "    </tr>\n",
       "    <tr>\n",
       "      <th>1</th>\n",
       "      <td>WESTERN</td>\n",
       "      <td>WEST AHANTA</td>\n",
       "      <td>2008</td>\n",
       "      <td>MAIZE</td>\n",
       "      <td>1,433.00</td>\n",
       "      <td>1.19</td>\n",
       "      <td>1,705.27</td>\n",
       "    </tr>\n",
       "    <tr>\n",
       "      <th>2</th>\n",
       "      <td>WESTERN</td>\n",
       "      <td>MPORHOR WASSA EAST</td>\n",
       "      <td>2008</td>\n",
       "      <td>MAIZE</td>\n",
       "      <td>2,034.00</td>\n",
       "      <td>1.32</td>\n",
       "      <td>2,684.88</td>\n",
       "    </tr>\n",
       "    <tr>\n",
       "      <th>3</th>\n",
       "      <td>WESTERN</td>\n",
       "      <td>WASSA WEST</td>\n",
       "      <td>2008</td>\n",
       "      <td>MAIZE</td>\n",
       "      <td>2,204.00</td>\n",
       "      <td>1.2</td>\n",
       "      <td>2,644.80</td>\n",
       "    </tr>\n",
       "    <tr>\n",
       "      <th>4</th>\n",
       "      <td>WESTERN</td>\n",
       "      <td>EAST NZEMA</td>\n",
       "      <td>2008</td>\n",
       "      <td>MAIZE</td>\n",
       "      <td>1,550.00</td>\n",
       "      <td>1.38</td>\n",
       "      <td>2,139.00</td>\n",
       "    </tr>\n",
       "  </tbody>\n",
       "</table>\n",
       "</div>"
      ],
      "text/plain": [
       "    REGION            DISTRICT  YEAR   CROP AREA (HA) YIELD (MT/HA)  \\\n",
       "0  WESTERN   SHAMA AHANTA EAST  2008  MAIZE  1,099.00          1.15   \n",
       "1  WESTERN         WEST AHANTA  2008  MAIZE  1,433.00          1.19   \n",
       "2  WESTERN  MPORHOR WASSA EAST  2008  MAIZE  2,034.00          1.32   \n",
       "3  WESTERN          WASSA WEST  2008  MAIZE  2,204.00           1.2   \n",
       "4  WESTERN          EAST NZEMA  2008  MAIZE  1,550.00          1.38   \n",
       "\n",
       "  PRODUCTION (MT)  \n",
       "0        1,263.85  \n",
       "1        1,705.27  \n",
       "2        2,684.88  \n",
       "3        2,644.80  \n",
       "4        2,139.00  "
      ]
     },
     "execution_count": 16,
     "metadata": {},
     "output_type": "execute_result"
    }
   ],
   "source": [
    "# get first 5 rows\n",
    "pro_est_df.head()"
   ]
  },
  {
   "cell_type": "code",
   "execution_count": 17,
   "id": "acee7e87",
   "metadata": {},
   "outputs": [
    {
     "data": {
      "text/html": [
       "<div>\n",
       "<style scoped>\n",
       "    .dataframe tbody tr th:only-of-type {\n",
       "        vertical-align: middle;\n",
       "    }\n",
       "\n",
       "    .dataframe tbody tr th {\n",
       "        vertical-align: top;\n",
       "    }\n",
       "\n",
       "    .dataframe thead th {\n",
       "        text-align: right;\n",
       "    }\n",
       "</style>\n",
       "<table border=\"1\" class=\"dataframe\">\n",
       "  <thead>\n",
       "    <tr style=\"text-align: right;\">\n",
       "      <th></th>\n",
       "      <th>REGION</th>\n",
       "      <th>DISTRICT</th>\n",
       "      <th>YEAR</th>\n",
       "      <th>CROP</th>\n",
       "      <th>AREA (HA)</th>\n",
       "      <th>YIELD (MT/HA)</th>\n",
       "      <th>PRODUCTION (MT)</th>\n",
       "    </tr>\n",
       "  </thead>\n",
       "  <tbody>\n",
       "    <tr>\n",
       "      <th>8231</th>\n",
       "      <td>NORTHERN REGION</td>\n",
       "      <td>MAMPRUGU MOAGDURI</td>\n",
       "      <td>2017</td>\n",
       "      <td>CASSAVA</td>\n",
       "      <td>900</td>\n",
       "      <td>7.95</td>\n",
       "      <td>7,155.00</td>\n",
       "    </tr>\n",
       "    <tr>\n",
       "      <th>8232</th>\n",
       "      <td>NORTHERN REGION</td>\n",
       "      <td>YENDI</td>\n",
       "      <td>2017</td>\n",
       "      <td>CASSAVA</td>\n",
       "      <td>4,790.00</td>\n",
       "      <td>13.59</td>\n",
       "      <td>65,096.10</td>\n",
       "    </tr>\n",
       "    <tr>\n",
       "      <th>8233</th>\n",
       "      <td>NORTHERN REGION</td>\n",
       "      <td>MION</td>\n",
       "      <td>2017</td>\n",
       "      <td>CASSAVA</td>\n",
       "      <td>3,831.00</td>\n",
       "      <td>6.96</td>\n",
       "      <td>26,663.76</td>\n",
       "    </tr>\n",
       "    <tr>\n",
       "      <th>8234</th>\n",
       "      <td>NORTHERN REGION</td>\n",
       "      <td>TATALE SANGULI</td>\n",
       "      <td>2017</td>\n",
       "      <td>CASSAVA</td>\n",
       "      <td>5,192.00</td>\n",
       "      <td>13.85</td>\n",
       "      <td>71,909.20</td>\n",
       "    </tr>\n",
       "    <tr>\n",
       "      <th>8235</th>\n",
       "      <td>NORTHERN REGION</td>\n",
       "      <td>ZABZUGU</td>\n",
       "      <td>2017</td>\n",
       "      <td>CASSAVA</td>\n",
       "      <td>4,612.00</td>\n",
       "      <td>13.85</td>\n",
       "      <td>63,876.20</td>\n",
       "    </tr>\n",
       "  </tbody>\n",
       "</table>\n",
       "</div>"
      ],
      "text/plain": [
       "               REGION           DISTRICT  YEAR     CROP AREA (HA)  \\\n",
       "8231  NORTHERN REGION  MAMPRUGU MOAGDURI  2017  CASSAVA       900   \n",
       "8232  NORTHERN REGION              YENDI  2017  CASSAVA  4,790.00   \n",
       "8233  NORTHERN REGION               MION  2017  CASSAVA  3,831.00   \n",
       "8234  NORTHERN REGION     TATALE SANGULI  2017  CASSAVA  5,192.00   \n",
       "8235  NORTHERN REGION            ZABZUGU  2017  CASSAVA  4,612.00   \n",
       "\n",
       "     YIELD (MT/HA) PRODUCTION (MT)  \n",
       "8231          7.95        7,155.00  \n",
       "8232         13.59       65,096.10  \n",
       "8233          6.96       26,663.76  \n",
       "8234         13.85       71,909.20  \n",
       "8235         13.85       63,876.20  "
      ]
     },
     "execution_count": 17,
     "metadata": {},
     "output_type": "execute_result"
    }
   ],
   "source": [
    "# get last 5 rows\n",
    "pro_est_df.tail()"
   ]
  },
  {
   "cell_type": "code",
   "execution_count": 18,
   "id": "46e1166d",
   "metadata": {
    "scrolled": true
   },
   "outputs": [
    {
     "data": {
      "text/html": [
       "<div>\n",
       "<style scoped>\n",
       "    .dataframe tbody tr th:only-of-type {\n",
       "        vertical-align: middle;\n",
       "    }\n",
       "\n",
       "    .dataframe tbody tr th {\n",
       "        vertical-align: top;\n",
       "    }\n",
       "\n",
       "    .dataframe thead th {\n",
       "        text-align: right;\n",
       "    }\n",
       "</style>\n",
       "<table border=\"1\" class=\"dataframe\">\n",
       "  <thead>\n",
       "    <tr style=\"text-align: right;\">\n",
       "      <th></th>\n",
       "      <th>REGION</th>\n",
       "      <th>DISTRICT</th>\n",
       "      <th>YEAR</th>\n",
       "      <th>CROP</th>\n",
       "      <th>AREA (HA)</th>\n",
       "      <th>YIELD (MT/HA)</th>\n",
       "      <th>PRODUCTION (MT)</th>\n",
       "    </tr>\n",
       "  </thead>\n",
       "  <tbody>\n",
       "    <tr>\n",
       "      <th>8223</th>\n",
       "      <td>NORTHERN REGION</td>\n",
       "      <td>SAWLA/TUNA/KALBA</td>\n",
       "      <td>2017</td>\n",
       "      <td>CASSAVA</td>\n",
       "      <td>1,258.00</td>\n",
       "      <td>14.24</td>\n",
       "      <td>17,913.92</td>\n",
       "    </tr>\n",
       "    <tr>\n",
       "      <th>8224</th>\n",
       "      <td>NORTHERN REGION</td>\n",
       "      <td>TAMALE METRO</td>\n",
       "      <td>2017</td>\n",
       "      <td>CASSAVA</td>\n",
       "      <td>1,567.32</td>\n",
       "      <td>6.96</td>\n",
       "      <td>10,908.55</td>\n",
       "    </tr>\n",
       "    <tr>\n",
       "      <th>8225</th>\n",
       "      <td>NORTHERN REGION</td>\n",
       "      <td>SAGNERIGU</td>\n",
       "      <td>2017</td>\n",
       "      <td>CASSAVA</td>\n",
       "      <td>346</td>\n",
       "      <td>6.96</td>\n",
       "      <td>2,408.16</td>\n",
       "    </tr>\n",
       "    <tr>\n",
       "      <th>8226</th>\n",
       "      <td>NORTHERN REGION</td>\n",
       "      <td>TOLON</td>\n",
       "      <td>2017</td>\n",
       "      <td>CASSAVA</td>\n",
       "      <td>4,738.00</td>\n",
       "      <td>13.71</td>\n",
       "      <td>64,957.98</td>\n",
       "    </tr>\n",
       "    <tr>\n",
       "      <th>8227</th>\n",
       "      <td>NORTHERN REGION</td>\n",
       "      <td>KUMBUNGU</td>\n",
       "      <td>2017</td>\n",
       "      <td>CASSAVA</td>\n",
       "      <td>1,000.00</td>\n",
       "      <td>9</td>\n",
       "      <td>9,000.00</td>\n",
       "    </tr>\n",
       "    <tr>\n",
       "      <th>8228</th>\n",
       "      <td>NORTHERN REGION</td>\n",
       "      <td>WEST GONJA</td>\n",
       "      <td>2017</td>\n",
       "      <td>CASSAVA</td>\n",
       "      <td>14,100.00</td>\n",
       "      <td>25.6</td>\n",
       "      <td>360,960.00</td>\n",
       "    </tr>\n",
       "    <tr>\n",
       "      <th>8229</th>\n",
       "      <td>NORTHERN REGION</td>\n",
       "      <td>NORTH GONJA</td>\n",
       "      <td>2017</td>\n",
       "      <td>CASSAVA</td>\n",
       "      <td>850</td>\n",
       "      <td>13</td>\n",
       "      <td>11,050.00</td>\n",
       "    </tr>\n",
       "    <tr>\n",
       "      <th>8230</th>\n",
       "      <td>NORTHERN REGION</td>\n",
       "      <td>WEST MAMPRUSI</td>\n",
       "      <td>2017</td>\n",
       "      <td>CASSAVA</td>\n",
       "      <td>1,100.00</td>\n",
       "      <td>5</td>\n",
       "      <td>5,500.00</td>\n",
       "    </tr>\n",
       "    <tr>\n",
       "      <th>8231</th>\n",
       "      <td>NORTHERN REGION</td>\n",
       "      <td>MAMPRUGU MOAGDURI</td>\n",
       "      <td>2017</td>\n",
       "      <td>CASSAVA</td>\n",
       "      <td>900</td>\n",
       "      <td>7.95</td>\n",
       "      <td>7,155.00</td>\n",
       "    </tr>\n",
       "    <tr>\n",
       "      <th>8232</th>\n",
       "      <td>NORTHERN REGION</td>\n",
       "      <td>YENDI</td>\n",
       "      <td>2017</td>\n",
       "      <td>CASSAVA</td>\n",
       "      <td>4,790.00</td>\n",
       "      <td>13.59</td>\n",
       "      <td>65,096.10</td>\n",
       "    </tr>\n",
       "    <tr>\n",
       "      <th>8233</th>\n",
       "      <td>NORTHERN REGION</td>\n",
       "      <td>MION</td>\n",
       "      <td>2017</td>\n",
       "      <td>CASSAVA</td>\n",
       "      <td>3,831.00</td>\n",
       "      <td>6.96</td>\n",
       "      <td>26,663.76</td>\n",
       "    </tr>\n",
       "    <tr>\n",
       "      <th>8234</th>\n",
       "      <td>NORTHERN REGION</td>\n",
       "      <td>TATALE SANGULI</td>\n",
       "      <td>2017</td>\n",
       "      <td>CASSAVA</td>\n",
       "      <td>5,192.00</td>\n",
       "      <td>13.85</td>\n",
       "      <td>71,909.20</td>\n",
       "    </tr>\n",
       "    <tr>\n",
       "      <th>8235</th>\n",
       "      <td>NORTHERN REGION</td>\n",
       "      <td>ZABZUGU</td>\n",
       "      <td>2017</td>\n",
       "      <td>CASSAVA</td>\n",
       "      <td>4,612.00</td>\n",
       "      <td>13.85</td>\n",
       "      <td>63,876.20</td>\n",
       "    </tr>\n",
       "  </tbody>\n",
       "</table>\n",
       "</div>"
      ],
      "text/plain": [
       "               REGION           DISTRICT  YEAR     CROP  AREA (HA)  \\\n",
       "8223  NORTHERN REGION   SAWLA/TUNA/KALBA  2017  CASSAVA   1,258.00   \n",
       "8224  NORTHERN REGION       TAMALE METRO  2017  CASSAVA   1,567.32   \n",
       "8225  NORTHERN REGION          SAGNERIGU  2017  CASSAVA        346   \n",
       "8226  NORTHERN REGION              TOLON  2017  CASSAVA   4,738.00   \n",
       "8227  NORTHERN REGION           KUMBUNGU  2017  CASSAVA   1,000.00   \n",
       "8228  NORTHERN REGION         WEST GONJA  2017  CASSAVA  14,100.00   \n",
       "8229  NORTHERN REGION        NORTH GONJA  2017  CASSAVA        850   \n",
       "8230  NORTHERN REGION      WEST MAMPRUSI  2017  CASSAVA   1,100.00   \n",
       "8231  NORTHERN REGION  MAMPRUGU MOAGDURI  2017  CASSAVA        900   \n",
       "8232  NORTHERN REGION              YENDI  2017  CASSAVA   4,790.00   \n",
       "8233  NORTHERN REGION               MION  2017  CASSAVA   3,831.00   \n",
       "8234  NORTHERN REGION     TATALE SANGULI  2017  CASSAVA   5,192.00   \n",
       "8235  NORTHERN REGION            ZABZUGU  2017  CASSAVA   4,612.00   \n",
       "\n",
       "     YIELD (MT/HA) PRODUCTION (MT)  \n",
       "8223         14.24       17,913.92  \n",
       "8224          6.96       10,908.55  \n",
       "8225          6.96        2,408.16  \n",
       "8226         13.71       64,957.98  \n",
       "8227             9        9,000.00  \n",
       "8228          25.6      360,960.00  \n",
       "8229            13       11,050.00  \n",
       "8230             5        5,500.00  \n",
       "8231          7.95        7,155.00  \n",
       "8232         13.59       65,096.10  \n",
       "8233          6.96       26,663.76  \n",
       "8234         13.85       71,909.20  \n",
       "8235         13.85       63,876.20  "
      ]
     },
     "execution_count": 18,
     "metadata": {},
     "output_type": "execute_result"
    }
   ],
   "source": [
    "# get first/last 13 rows\n",
    "pro_est_df.tail(13)"
   ]
  },
  {
   "cell_type": "code",
   "execution_count": 19,
   "id": "dc895a23",
   "metadata": {},
   "outputs": [
    {
     "data": {
      "text/plain": [
       "Index(['REGION', 'DISTRICT', 'YEAR', 'CROP', 'AREA (HA)', 'YIELD (MT/HA)',\n",
       "       'PRODUCTION (MT)'],\n",
       "      dtype='object')"
      ]
     },
     "execution_count": 19,
     "metadata": {},
     "output_type": "execute_result"
    }
   ],
   "source": [
    "pro_est_df.columns"
   ]
  },
  {
   "cell_type": "code",
   "execution_count": 20,
   "id": "30065cb8",
   "metadata": {
    "scrolled": true
   },
   "outputs": [
    {
     "data": {
      "text/html": [
       "<div>\n",
       "<style scoped>\n",
       "    .dataframe tbody tr th:only-of-type {\n",
       "        vertical-align: middle;\n",
       "    }\n",
       "\n",
       "    .dataframe tbody tr th {\n",
       "        vertical-align: top;\n",
       "    }\n",
       "\n",
       "    .dataframe thead th {\n",
       "        text-align: right;\n",
       "    }\n",
       "</style>\n",
       "<table border=\"1\" class=\"dataframe\">\n",
       "  <thead>\n",
       "    <tr style=\"text-align: right;\">\n",
       "      <th></th>\n",
       "      <th>YEAR</th>\n",
       "      <th>AREA (HA)</th>\n",
       "      <th>YIELD (MT/HA)</th>\n",
       "      <th>PRODUCTION (MT)</th>\n",
       "    </tr>\n",
       "  </thead>\n",
       "  <tbody>\n",
       "    <tr>\n",
       "      <th>0</th>\n",
       "      <td>2008</td>\n",
       "      <td>1,099.00</td>\n",
       "      <td>1.15</td>\n",
       "      <td>1,263.85</td>\n",
       "    </tr>\n",
       "    <tr>\n",
       "      <th>1</th>\n",
       "      <td>2008</td>\n",
       "      <td>1,433.00</td>\n",
       "      <td>1.19</td>\n",
       "      <td>1,705.27</td>\n",
       "    </tr>\n",
       "    <tr>\n",
       "      <th>2</th>\n",
       "      <td>2008</td>\n",
       "      <td>2,034.00</td>\n",
       "      <td>1.32</td>\n",
       "      <td>2,684.88</td>\n",
       "    </tr>\n",
       "    <tr>\n",
       "      <th>3</th>\n",
       "      <td>2008</td>\n",
       "      <td>2,204.00</td>\n",
       "      <td>1.2</td>\n",
       "      <td>2,644.80</td>\n",
       "    </tr>\n",
       "    <tr>\n",
       "      <th>4</th>\n",
       "      <td>2008</td>\n",
       "      <td>1,550.00</td>\n",
       "      <td>1.38</td>\n",
       "      <td>2,139.00</td>\n",
       "    </tr>\n",
       "    <tr>\n",
       "      <th>...</th>\n",
       "      <td>...</td>\n",
       "      <td>...</td>\n",
       "      <td>...</td>\n",
       "      <td>...</td>\n",
       "    </tr>\n",
       "    <tr>\n",
       "      <th>8231</th>\n",
       "      <td>2017</td>\n",
       "      <td>900</td>\n",
       "      <td>7.95</td>\n",
       "      <td>7,155.00</td>\n",
       "    </tr>\n",
       "    <tr>\n",
       "      <th>8232</th>\n",
       "      <td>2017</td>\n",
       "      <td>4,790.00</td>\n",
       "      <td>13.59</td>\n",
       "      <td>65,096.10</td>\n",
       "    </tr>\n",
       "    <tr>\n",
       "      <th>8233</th>\n",
       "      <td>2017</td>\n",
       "      <td>3,831.00</td>\n",
       "      <td>6.96</td>\n",
       "      <td>26,663.76</td>\n",
       "    </tr>\n",
       "    <tr>\n",
       "      <th>8234</th>\n",
       "      <td>2017</td>\n",
       "      <td>5,192.00</td>\n",
       "      <td>13.85</td>\n",
       "      <td>71,909.20</td>\n",
       "    </tr>\n",
       "    <tr>\n",
       "      <th>8235</th>\n",
       "      <td>2017</td>\n",
       "      <td>4,612.00</td>\n",
       "      <td>13.85</td>\n",
       "      <td>63,876.20</td>\n",
       "    </tr>\n",
       "  </tbody>\n",
       "</table>\n",
       "<p>8236 rows × 4 columns</p>\n",
       "</div>"
      ],
      "text/plain": [
       "      YEAR AREA (HA) YIELD (MT/HA) PRODUCTION (MT)\n",
       "0     2008  1,099.00          1.15        1,263.85\n",
       "1     2008  1,433.00          1.19        1,705.27\n",
       "2     2008  2,034.00          1.32        2,684.88\n",
       "3     2008  2,204.00           1.2        2,644.80\n",
       "4     2008  1,550.00          1.38        2,139.00\n",
       "...    ...       ...           ...             ...\n",
       "8231  2017       900          7.95        7,155.00\n",
       "8232  2017  4,790.00         13.59       65,096.10\n",
       "8233  2017  3,831.00          6.96       26,663.76\n",
       "8234  2017  5,192.00         13.85       71,909.20\n",
       "8235  2017  4,612.00         13.85       63,876.20\n",
       "\n",
       "[8236 rows x 4 columns]"
      ]
     },
     "execution_count": 20,
     "metadata": {},
     "output_type": "execute_result"
    }
   ],
   "source": [
    "# get fraction of all columns\n",
    "pro_est_df[[ 'YEAR', 'AREA (HA)', 'YIELD (MT/HA)','PRODUCTION (MT)']]"
   ]
  },
  {
   "cell_type": "code",
   "execution_count": 21,
   "id": "6610f43f",
   "metadata": {},
   "outputs": [
    {
     "data": {
      "text/html": [
       "<div>\n",
       "<style scoped>\n",
       "    .dataframe tbody tr th:only-of-type {\n",
       "        vertical-align: middle;\n",
       "    }\n",
       "\n",
       "    .dataframe tbody tr th {\n",
       "        vertical-align: top;\n",
       "    }\n",
       "\n",
       "    .dataframe thead th {\n",
       "        text-align: right;\n",
       "    }\n",
       "</style>\n",
       "<table border=\"1\" class=\"dataframe\">\n",
       "  <thead>\n",
       "    <tr style=\"text-align: right;\">\n",
       "      <th></th>\n",
       "      <th>YEAR</th>\n",
       "    </tr>\n",
       "  </thead>\n",
       "  <tbody>\n",
       "    <tr>\n",
       "      <th>count</th>\n",
       "      <td>8236.000000</td>\n",
       "    </tr>\n",
       "    <tr>\n",
       "      <th>mean</th>\n",
       "      <td>2012.969888</td>\n",
       "    </tr>\n",
       "    <tr>\n",
       "      <th>std</th>\n",
       "      <td>2.864953</td>\n",
       "    </tr>\n",
       "    <tr>\n",
       "      <th>min</th>\n",
       "      <td>2008.000000</td>\n",
       "    </tr>\n",
       "    <tr>\n",
       "      <th>25%</th>\n",
       "      <td>2011.000000</td>\n",
       "    </tr>\n",
       "    <tr>\n",
       "      <th>50%</th>\n",
       "      <td>2013.000000</td>\n",
       "    </tr>\n",
       "    <tr>\n",
       "      <th>75%</th>\n",
       "      <td>2016.000000</td>\n",
       "    </tr>\n",
       "    <tr>\n",
       "      <th>max</th>\n",
       "      <td>2017.000000</td>\n",
       "    </tr>\n",
       "  </tbody>\n",
       "</table>\n",
       "</div>"
      ],
      "text/plain": [
       "              YEAR\n",
       "count  8236.000000\n",
       "mean   2012.969888\n",
       "std       2.864953\n",
       "min    2008.000000\n",
       "25%    2011.000000\n",
       "50%    2013.000000\n",
       "75%    2016.000000\n",
       "max    2017.000000"
      ]
     },
     "execution_count": 21,
     "metadata": {},
     "output_type": "execute_result"
    }
   ],
   "source": [
    "# get descriptive statistics\n",
    "pro_est_df.describe()"
   ]
  },
  {
   "cell_type": "code",
   "execution_count": 22,
   "id": "3ae0a6c2",
   "metadata": {},
   "outputs": [
    {
     "data": {
      "text/html": [
       "<div>\n",
       "<style scoped>\n",
       "    .dataframe tbody tr th:only-of-type {\n",
       "        vertical-align: middle;\n",
       "    }\n",
       "\n",
       "    .dataframe tbody tr th {\n",
       "        vertical-align: top;\n",
       "    }\n",
       "\n",
       "    .dataframe thead th {\n",
       "        text-align: right;\n",
       "    }\n",
       "</style>\n",
       "<table border=\"1\" class=\"dataframe\">\n",
       "  <thead>\n",
       "    <tr style=\"text-align: right;\">\n",
       "      <th></th>\n",
       "      <th>Students</th>\n",
       "      <th>Height</th>\n",
       "      <th>Fav_color</th>\n",
       "      <th>Salary()</th>\n",
       "    </tr>\n",
       "  </thead>\n",
       "  <tbody>\n",
       "    <tr>\n",
       "      <th>0</th>\n",
       "      <td>Akwasi</td>\n",
       "      <td>184</td>\n",
       "      <td>Black</td>\n",
       "      <td>70000</td>\n",
       "    </tr>\n",
       "    <tr>\n",
       "      <th>1</th>\n",
       "      <td>Franklin</td>\n",
       "      <td>175</td>\n",
       "      <td>Burgundy</td>\n",
       "      <td>20000</td>\n",
       "    </tr>\n",
       "    <tr>\n",
       "      <th>2</th>\n",
       "      <td>Nashirat</td>\n",
       "      <td>178</td>\n",
       "      <td>Purple</td>\n",
       "      <td>70000</td>\n",
       "    </tr>\n",
       "    <tr>\n",
       "      <th>3</th>\n",
       "      <td>Irene</td>\n",
       "      <td>188</td>\n",
       "      <td>Green</td>\n",
       "      <td>70000</td>\n",
       "    </tr>\n",
       "    <tr>\n",
       "      <th>4</th>\n",
       "      <td>Amma</td>\n",
       "      <td>182</td>\n",
       "      <td>Pink</td>\n",
       "      <td>70000</td>\n",
       "    </tr>\n",
       "    <tr>\n",
       "      <th>5</th>\n",
       "      <td>Fauzia</td>\n",
       "      <td>186</td>\n",
       "      <td>Yellow</td>\n",
       "      <td>70000</td>\n",
       "    </tr>\n",
       "  </tbody>\n",
       "</table>\n",
       "</div>"
      ],
      "text/plain": [
       "   Students  Height Fav_color  Salary()\n",
       "0    Akwasi     184     Black     70000\n",
       "1  Franklin     175  Burgundy     20000\n",
       "2  Nashirat     178    Purple     70000\n",
       "3     Irene     188     Green     70000\n",
       "4      Amma     182      Pink     70000\n",
       "5    Fauzia     186    Yellow     70000"
      ]
     },
     "execution_count": 22,
     "metadata": {},
     "output_type": "execute_result"
    }
   ],
   "source": [
    "data = pd.read_excel('excel_data.xlsx')\n",
    "data"
   ]
  },
  {
   "cell_type": "code",
   "execution_count": 23,
   "id": "b0804da9",
   "metadata": {},
   "outputs": [
    {
     "name": "stdout",
     "output_type": "stream",
     "text": [
      "<class 'pandas.core.frame.DataFrame'>\n",
      "RangeIndex: 6 entries, 0 to 5\n",
      "Data columns (total 4 columns):\n",
      " #   Column     Non-Null Count  Dtype \n",
      "---  ------     --------------  ----- \n",
      " 0   Students   6 non-null      object\n",
      " 1   Height     6 non-null      int64 \n",
      " 2   Fav_color  6 non-null      object\n",
      " 3   Salary()   6 non-null      int64 \n",
      "dtypes: int64(2), object(2)\n",
      "memory usage: 320.0+ bytes\n"
     ]
    }
   ],
   "source": [
    "data.info()"
   ]
  },
  {
   "cell_type": "code",
   "execution_count": 24,
   "id": "ff5077e6",
   "metadata": {
    "scrolled": true
   },
   "outputs": [
    {
     "data": {
      "text/html": [
       "<div>\n",
       "<style scoped>\n",
       "    .dataframe tbody tr th:only-of-type {\n",
       "        vertical-align: middle;\n",
       "    }\n",
       "\n",
       "    .dataframe tbody tr th {\n",
       "        vertical-align: top;\n",
       "    }\n",
       "\n",
       "    .dataframe thead th {\n",
       "        text-align: right;\n",
       "    }\n",
       "</style>\n",
       "<table border=\"1\" class=\"dataframe\">\n",
       "  <thead>\n",
       "    <tr style=\"text-align: right;\">\n",
       "      <th></th>\n",
       "      <th>Height</th>\n",
       "      <th>Salary()</th>\n",
       "    </tr>\n",
       "  </thead>\n",
       "  <tbody>\n",
       "    <tr>\n",
       "      <th>count</th>\n",
       "      <td>6.000000</td>\n",
       "      <td>6.000000</td>\n",
       "    </tr>\n",
       "    <tr>\n",
       "      <th>mean</th>\n",
       "      <td>182.166667</td>\n",
       "      <td>61666.666667</td>\n",
       "    </tr>\n",
       "    <tr>\n",
       "      <th>std</th>\n",
       "      <td>4.915960</td>\n",
       "      <td>20412.414523</td>\n",
       "    </tr>\n",
       "    <tr>\n",
       "      <th>min</th>\n",
       "      <td>175.000000</td>\n",
       "      <td>20000.000000</td>\n",
       "    </tr>\n",
       "    <tr>\n",
       "      <th>25%</th>\n",
       "      <td>179.000000</td>\n",
       "      <td>70000.000000</td>\n",
       "    </tr>\n",
       "    <tr>\n",
       "      <th>50%</th>\n",
       "      <td>183.000000</td>\n",
       "      <td>70000.000000</td>\n",
       "    </tr>\n",
       "    <tr>\n",
       "      <th>75%</th>\n",
       "      <td>185.500000</td>\n",
       "      <td>70000.000000</td>\n",
       "    </tr>\n",
       "    <tr>\n",
       "      <th>max</th>\n",
       "      <td>188.000000</td>\n",
       "      <td>70000.000000</td>\n",
       "    </tr>\n",
       "  </tbody>\n",
       "</table>\n",
       "</div>"
      ],
      "text/plain": [
       "           Height      Salary()\n",
       "count    6.000000      6.000000\n",
       "mean   182.166667  61666.666667\n",
       "std      4.915960  20412.414523\n",
       "min    175.000000  20000.000000\n",
       "25%    179.000000  70000.000000\n",
       "50%    183.000000  70000.000000\n",
       "75%    185.500000  70000.000000\n",
       "max    188.000000  70000.000000"
      ]
     },
     "execution_count": 24,
     "metadata": {},
     "output_type": "execute_result"
    }
   ],
   "source": [
    "data.describe()"
   ]
  },
  {
   "cell_type": "code",
   "execution_count": 25,
   "id": "58754e57",
   "metadata": {},
   "outputs": [
    {
     "data": {
      "text/plain": [
       "182.16666666666666"
      ]
     },
     "execution_count": 25,
     "metadata": {},
     "output_type": "execute_result"
    }
   ],
   "source": [
    "data.Height.mean()"
   ]
  },
  {
   "cell_type": "code",
   "execution_count": 26,
   "id": "1698669b",
   "metadata": {},
   "outputs": [
    {
     "data": {
      "text/plain": [
       "175"
      ]
     },
     "execution_count": 26,
     "metadata": {},
     "output_type": "execute_result"
    }
   ],
   "source": [
    "data.Height.min()"
   ]
  },
  {
   "cell_type": "code",
   "execution_count": 27,
   "id": "5da494a6",
   "metadata": {},
   "outputs": [
    {
     "data": {
      "text/plain": [
       "188"
      ]
     },
     "execution_count": 27,
     "metadata": {},
     "output_type": "execute_result"
    }
   ],
   "source": [
    "data.Height.max()"
   ]
  },
  {
   "cell_type": "code",
   "execution_count": 28,
   "id": "adade8e5",
   "metadata": {},
   "outputs": [
    {
     "data": {
      "text/plain": [
       "182.16666666666666"
      ]
     },
     "execution_count": 28,
     "metadata": {},
     "output_type": "execute_result"
    }
   ],
   "source": [
    "data.Height.mean()"
   ]
  },
  {
   "cell_type": "code",
   "execution_count": 29,
   "id": "f0448366",
   "metadata": {},
   "outputs": [
    {
     "data": {
      "text/plain": [
       "4.915960401250875"
      ]
     },
     "execution_count": 29,
     "metadata": {},
     "output_type": "execute_result"
    }
   ],
   "source": [
    "data.Height.std()"
   ]
  },
  {
   "cell_type": "code",
   "execution_count": 30,
   "id": "3365c9d4",
   "metadata": {
    "scrolled": true
   },
   "outputs": [
    {
     "data": {
      "text/html": [
       "<div>\n",
       "<style scoped>\n",
       "    .dataframe tbody tr th:only-of-type {\n",
       "        vertical-align: middle;\n",
       "    }\n",
       "\n",
       "    .dataframe tbody tr th {\n",
       "        vertical-align: top;\n",
       "    }\n",
       "\n",
       "    .dataframe thead th {\n",
       "        text-align: right;\n",
       "    }\n",
       "</style>\n",
       "<table border=\"1\" class=\"dataframe\">\n",
       "  <thead>\n",
       "    <tr style=\"text-align: right;\">\n",
       "      <th></th>\n",
       "      <th>Students</th>\n",
       "      <th>Height</th>\n",
       "      <th>Fav_color</th>\n",
       "      <th>Salary()</th>\n",
       "    </tr>\n",
       "  </thead>\n",
       "  <tbody>\n",
       "    <tr>\n",
       "      <th>0</th>\n",
       "      <td>Akwasi</td>\n",
       "      <td>184</td>\n",
       "      <td>Black</td>\n",
       "      <td>70000</td>\n",
       "    </tr>\n",
       "    <tr>\n",
       "      <th>3</th>\n",
       "      <td>Irene</td>\n",
       "      <td>188</td>\n",
       "      <td>Green</td>\n",
       "      <td>70000</td>\n",
       "    </tr>\n",
       "    <tr>\n",
       "      <th>5</th>\n",
       "      <td>Fauzia</td>\n",
       "      <td>186</td>\n",
       "      <td>Yellow</td>\n",
       "      <td>70000</td>\n",
       "    </tr>\n",
       "  </tbody>\n",
       "</table>\n",
       "</div>"
      ],
      "text/plain": [
       "  Students  Height Fav_color  Salary()\n",
       "0   Akwasi     184     Black     70000\n",
       "3    Irene     188     Green     70000\n",
       "5   Fauzia     186    Yellow     70000"
      ]
     },
     "execution_count": 30,
     "metadata": {},
     "output_type": "execute_result"
    }
   ],
   "source": [
    "# get a dataframe using a condition\n",
    "data[data['Height'] > data.Height.mean() ]"
   ]
  },
  {
   "cell_type": "code",
   "execution_count": 31,
   "id": "248ff514",
   "metadata": {},
   "outputs": [
    {
     "data": {
      "text/plain": [
       "182.16666666666666"
      ]
     },
     "execution_count": 31,
     "metadata": {},
     "output_type": "execute_result"
    }
   ],
   "source": [
    "data.Height.mean()"
   ]
  },
  {
   "cell_type": "code",
   "execution_count": 32,
   "id": "d296813d",
   "metadata": {},
   "outputs": [
    {
     "data": {
      "text/plain": [
       "Index(['Students', 'Height', 'Fav_color', 'Salary()'], dtype='object')"
      ]
     },
     "execution_count": 32,
     "metadata": {},
     "output_type": "execute_result"
    }
   ],
   "source": [
    "data.columns"
   ]
  },
  {
   "cell_type": "code",
   "execution_count": 33,
   "id": "20993ad3",
   "metadata": {},
   "outputs": [
    {
     "data": {
      "text/html": [
       "<div>\n",
       "<style scoped>\n",
       "    .dataframe tbody tr th:only-of-type {\n",
       "        vertical-align: middle;\n",
       "    }\n",
       "\n",
       "    .dataframe tbody tr th {\n",
       "        vertical-align: top;\n",
       "    }\n",
       "\n",
       "    .dataframe thead th {\n",
       "        text-align: right;\n",
       "    }\n",
       "</style>\n",
       "<table border=\"1\" class=\"dataframe\">\n",
       "  <thead>\n",
       "    <tr style=\"text-align: right;\">\n",
       "      <th></th>\n",
       "      <th>Students</th>\n",
       "      <th>Height</th>\n",
       "      <th>Fav_color</th>\n",
       "      <th>Salary()</th>\n",
       "    </tr>\n",
       "  </thead>\n",
       "  <tbody>\n",
       "    <tr>\n",
       "      <th>1</th>\n",
       "      <td>Franklin</td>\n",
       "      <td>175</td>\n",
       "      <td>Burgundy</td>\n",
       "      <td>20000</td>\n",
       "    </tr>\n",
       "    <tr>\n",
       "      <th>2</th>\n",
       "      <td>Nashirat</td>\n",
       "      <td>178</td>\n",
       "      <td>Purple</td>\n",
       "      <td>70000</td>\n",
       "    </tr>\n",
       "  </tbody>\n",
       "</table>\n",
       "</div>"
      ],
      "text/plain": [
       "   Students  Height Fav_color  Salary()\n",
       "1  Franklin     175  Burgundy     20000\n",
       "2  Nashirat     178    Purple     70000"
      ]
     },
     "execution_count": 33,
     "metadata": {},
     "output_type": "execute_result"
    }
   ],
   "source": [
    "data[(data['Height'] < 180) | (data['Salary()'] == 30000)]"
   ]
  },
  {
   "cell_type": "code",
   "execution_count": 34,
   "id": "1d771d6f",
   "metadata": {},
   "outputs": [
    {
     "data": {
      "text/plain": [
       "Index(['Students', 'Height', 'Fav_color', 'Salary()'], dtype='object')"
      ]
     },
     "execution_count": 34,
     "metadata": {},
     "output_type": "execute_result"
    }
   ],
   "source": [
    "data.columns"
   ]
  },
  {
   "cell_type": "code",
   "execution_count": 35,
   "id": "ce899875",
   "metadata": {},
   "outputs": [
    {
     "data": {
      "text/html": [
       "<div>\n",
       "<style scoped>\n",
       "    .dataframe tbody tr th:only-of-type {\n",
       "        vertical-align: middle;\n",
       "    }\n",
       "\n",
       "    .dataframe tbody tr th {\n",
       "        vertical-align: top;\n",
       "    }\n",
       "\n",
       "    .dataframe thead th {\n",
       "        text-align: right;\n",
       "    }\n",
       "</style>\n",
       "<table border=\"1\" class=\"dataframe\">\n",
       "  <thead>\n",
       "    <tr style=\"text-align: right;\">\n",
       "      <th></th>\n",
       "      <th>Students</th>\n",
       "      <th>Height</th>\n",
       "      <th>Fav_color</th>\n",
       "      <th>Salary()</th>\n",
       "    </tr>\n",
       "  </thead>\n",
       "  <tbody>\n",
       "    <tr>\n",
       "      <th>0</th>\n",
       "      <td>Akwasi</td>\n",
       "      <td>184</td>\n",
       "      <td>Black</td>\n",
       "      <td>70000</td>\n",
       "    </tr>\n",
       "    <tr>\n",
       "      <th>1</th>\n",
       "      <td>Franklin</td>\n",
       "      <td>175</td>\n",
       "      <td>Burgundy</td>\n",
       "      <td>20000</td>\n",
       "    </tr>\n",
       "    <tr>\n",
       "      <th>2</th>\n",
       "      <td>Nashirat</td>\n",
       "      <td>178</td>\n",
       "      <td>Purple</td>\n",
       "      <td>70000</td>\n",
       "    </tr>\n",
       "    <tr>\n",
       "      <th>3</th>\n",
       "      <td>Irene</td>\n",
       "      <td>188</td>\n",
       "      <td>Green</td>\n",
       "      <td>70000</td>\n",
       "    </tr>\n",
       "    <tr>\n",
       "      <th>4</th>\n",
       "      <td>Amma</td>\n",
       "      <td>182</td>\n",
       "      <td>Pink</td>\n",
       "      <td>70000</td>\n",
       "    </tr>\n",
       "    <tr>\n",
       "      <th>5</th>\n",
       "      <td>Fauzia</td>\n",
       "      <td>186</td>\n",
       "      <td>Yellow</td>\n",
       "      <td>70000</td>\n",
       "    </tr>\n",
       "  </tbody>\n",
       "</table>\n",
       "</div>"
      ],
      "text/plain": [
       "   Students  Height Fav_color  Salary()\n",
       "0    Akwasi     184     Black     70000\n",
       "1  Franklin     175  Burgundy     20000\n",
       "2  Nashirat     178    Purple     70000\n",
       "3     Irene     188     Green     70000\n",
       "4      Amma     182      Pink     70000\n",
       "5    Fauzia     186    Yellow     70000"
      ]
     },
     "execution_count": 35,
     "metadata": {},
     "output_type": "execute_result"
    }
   ],
   "source": [
    "data"
   ]
  },
  {
   "cell_type": "code",
   "execution_count": 36,
   "id": "4f35230e",
   "metadata": {},
   "outputs": [
    {
     "data": {
      "text/html": [
       "<div>\n",
       "<style scoped>\n",
       "    .dataframe tbody tr th:only-of-type {\n",
       "        vertical-align: middle;\n",
       "    }\n",
       "\n",
       "    .dataframe tbody tr th {\n",
       "        vertical-align: top;\n",
       "    }\n",
       "\n",
       "    .dataframe thead th {\n",
       "        text-align: right;\n",
       "    }\n",
       "</style>\n",
       "<table border=\"1\" class=\"dataframe\">\n",
       "  <thead>\n",
       "    <tr style=\"text-align: right;\">\n",
       "      <th></th>\n",
       "      <th>Students</th>\n",
       "      <th>Height</th>\n",
       "      <th>Fav_color</th>\n",
       "      <th>Salary()</th>\n",
       "    </tr>\n",
       "  </thead>\n",
       "  <tbody>\n",
       "    <tr>\n",
       "      <th>0</th>\n",
       "      <td>Akwasi</td>\n",
       "      <td>184</td>\n",
       "      <td>Black</td>\n",
       "      <td>70000</td>\n",
       "    </tr>\n",
       "    <tr>\n",
       "      <th>1</th>\n",
       "      <td>Franklin</td>\n",
       "      <td>175</td>\n",
       "      <td>Burgundy</td>\n",
       "      <td>20000</td>\n",
       "    </tr>\n",
       "  </tbody>\n",
       "</table>\n",
       "</div>"
      ],
      "text/plain": [
       "   Students  Height Fav_color  Salary()\n",
       "0    Akwasi     184     Black     70000\n",
       "1  Franklin     175  Burgundy     20000"
      ]
     },
     "execution_count": 36,
     "metadata": {},
     "output_type": "execute_result"
    }
   ],
   "source": [
    "# finding a wording in a column\n",
    "data[data['Fav_color'].str.contains('B')]"
   ]
  },
  {
   "cell_type": "code",
   "execution_count": 37,
   "id": "c64e43b0",
   "metadata": {},
   "outputs": [
    {
     "data": {
      "text/html": [
       "<div>\n",
       "<style scoped>\n",
       "    .dataframe tbody tr th:only-of-type {\n",
       "        vertical-align: middle;\n",
       "    }\n",
       "\n",
       "    .dataframe tbody tr th {\n",
       "        vertical-align: top;\n",
       "    }\n",
       "\n",
       "    .dataframe thead th {\n",
       "        text-align: right;\n",
       "    }\n",
       "</style>\n",
       "<table border=\"1\" class=\"dataframe\">\n",
       "  <thead>\n",
       "    <tr style=\"text-align: right;\">\n",
       "      <th></th>\n",
       "      <th>Students</th>\n",
       "      <th>Height</th>\n",
       "      <th>Fav_color</th>\n",
       "      <th>Salary()</th>\n",
       "    </tr>\n",
       "  </thead>\n",
       "  <tbody>\n",
       "    <tr>\n",
       "      <th>2</th>\n",
       "      <td>Nashirat</td>\n",
       "      <td>178</td>\n",
       "      <td>Purple</td>\n",
       "      <td>70000</td>\n",
       "    </tr>\n",
       "    <tr>\n",
       "      <th>3</th>\n",
       "      <td>Irene</td>\n",
       "      <td>188</td>\n",
       "      <td>Green</td>\n",
       "      <td>70000</td>\n",
       "    </tr>\n",
       "    <tr>\n",
       "      <th>5</th>\n",
       "      <td>Fauzia</td>\n",
       "      <td>186</td>\n",
       "      <td>Yellow</td>\n",
       "      <td>70000</td>\n",
       "    </tr>\n",
       "  </tbody>\n",
       "</table>\n",
       "</div>"
      ],
      "text/plain": [
       "   Students  Height Fav_color  Salary()\n",
       "2  Nashirat     178    Purple     70000\n",
       "3     Irene     188     Green     70000\n",
       "5    Fauzia     186    Yellow     70000"
      ]
     },
     "execution_count": 37,
     "metadata": {},
     "output_type": "execute_result"
    }
   ],
   "source": [
    "data[data['Fav_color'].str.contains('e')]"
   ]
  },
  {
   "cell_type": "code",
   "execution_count": 38,
   "id": "35c04a6b",
   "metadata": {},
   "outputs": [],
   "source": [
    "## add tiems to the a specific column\n",
    "#general method\n",
    "data['Fav_color'] = data['Fav_color'] + ' color' "
   ]
  },
  {
   "cell_type": "code",
   "execution_count": 39,
   "id": "b1937958",
   "metadata": {},
   "outputs": [
    {
     "data": {
      "text/html": [
       "<div>\n",
       "<style scoped>\n",
       "    .dataframe tbody tr th:only-of-type {\n",
       "        vertical-align: middle;\n",
       "    }\n",
       "\n",
       "    .dataframe tbody tr th {\n",
       "        vertical-align: top;\n",
       "    }\n",
       "\n",
       "    .dataframe thead th {\n",
       "        text-align: right;\n",
       "    }\n",
       "</style>\n",
       "<table border=\"1\" class=\"dataframe\">\n",
       "  <thead>\n",
       "    <tr style=\"text-align: right;\">\n",
       "      <th></th>\n",
       "      <th>Students</th>\n",
       "      <th>Height</th>\n",
       "      <th>Fav_color</th>\n",
       "      <th>Salary()</th>\n",
       "    </tr>\n",
       "  </thead>\n",
       "  <tbody>\n",
       "    <tr>\n",
       "      <th>0</th>\n",
       "      <td>Akwasi</td>\n",
       "      <td>184</td>\n",
       "      <td>Black color</td>\n",
       "      <td>70000</td>\n",
       "    </tr>\n",
       "    <tr>\n",
       "      <th>1</th>\n",
       "      <td>Franklin</td>\n",
       "      <td>175</td>\n",
       "      <td>Burgundy color</td>\n",
       "      <td>20000</td>\n",
       "    </tr>\n",
       "    <tr>\n",
       "      <th>2</th>\n",
       "      <td>Nashirat</td>\n",
       "      <td>178</td>\n",
       "      <td>Purple color</td>\n",
       "      <td>70000</td>\n",
       "    </tr>\n",
       "    <tr>\n",
       "      <th>3</th>\n",
       "      <td>Irene</td>\n",
       "      <td>188</td>\n",
       "      <td>Green color</td>\n",
       "      <td>70000</td>\n",
       "    </tr>\n",
       "    <tr>\n",
       "      <th>4</th>\n",
       "      <td>Amma</td>\n",
       "      <td>182</td>\n",
       "      <td>Pink color</td>\n",
       "      <td>70000</td>\n",
       "    </tr>\n",
       "    <tr>\n",
       "      <th>5</th>\n",
       "      <td>Fauzia</td>\n",
       "      <td>186</td>\n",
       "      <td>Yellow color</td>\n",
       "      <td>70000</td>\n",
       "    </tr>\n",
       "  </tbody>\n",
       "</table>\n",
       "</div>"
      ],
      "text/plain": [
       "   Students  Height       Fav_color  Salary()\n",
       "0    Akwasi     184     Black color     70000\n",
       "1  Franklin     175  Burgundy color     20000\n",
       "2  Nashirat     178    Purple color     70000\n",
       "3     Irene     188     Green color     70000\n",
       "4      Amma     182      Pink color     70000\n",
       "5    Fauzia     186    Yellow color     70000"
      ]
     },
     "execution_count": 39,
     "metadata": {},
     "output_type": "execute_result"
    }
   ],
   "source": [
    "data"
   ]
  },
  {
   "cell_type": "code",
   "execution_count": 40,
   "id": "42dcc1c5",
   "metadata": {},
   "outputs": [],
   "source": [
    "data['Students'] = 'Dr. ' + data['Students'] "
   ]
  },
  {
   "cell_type": "code",
   "execution_count": 41,
   "id": "a070f2ab",
   "metadata": {},
   "outputs": [],
   "source": [
    "data['Salary()'] = 200 + data['Salary()'] "
   ]
  },
  {
   "cell_type": "code",
   "execution_count": 42,
   "id": "fc484593",
   "metadata": {},
   "outputs": [],
   "source": [
    "## add tiems to the a specific column\n",
    "#general method\n",
    "data['Fav_color'] = '¢ '+ data['Fav_color']"
   ]
  },
  {
   "cell_type": "code",
   "execution_count": 43,
   "id": "cb7aeb8e",
   "metadata": {},
   "outputs": [
    {
     "data": {
      "text/html": [
       "<div>\n",
       "<style scoped>\n",
       "    .dataframe tbody tr th:only-of-type {\n",
       "        vertical-align: middle;\n",
       "    }\n",
       "\n",
       "    .dataframe tbody tr th {\n",
       "        vertical-align: top;\n",
       "    }\n",
       "\n",
       "    .dataframe thead th {\n",
       "        text-align: right;\n",
       "    }\n",
       "</style>\n",
       "<table border=\"1\" class=\"dataframe\">\n",
       "  <thead>\n",
       "    <tr style=\"text-align: right;\">\n",
       "      <th></th>\n",
       "      <th>Students</th>\n",
       "      <th>Height</th>\n",
       "      <th>Fav_color</th>\n",
       "      <th>Salary()</th>\n",
       "    </tr>\n",
       "  </thead>\n",
       "  <tbody>\n",
       "    <tr>\n",
       "      <th>0</th>\n",
       "      <td>Dr. Akwasi</td>\n",
       "      <td>184</td>\n",
       "      <td>¢ Black color</td>\n",
       "      <td>70200</td>\n",
       "    </tr>\n",
       "    <tr>\n",
       "      <th>1</th>\n",
       "      <td>Dr. Franklin</td>\n",
       "      <td>175</td>\n",
       "      <td>¢ Burgundy color</td>\n",
       "      <td>20200</td>\n",
       "    </tr>\n",
       "    <tr>\n",
       "      <th>2</th>\n",
       "      <td>Dr. Nashirat</td>\n",
       "      <td>178</td>\n",
       "      <td>¢ Purple color</td>\n",
       "      <td>70200</td>\n",
       "    </tr>\n",
       "    <tr>\n",
       "      <th>3</th>\n",
       "      <td>Dr. Irene</td>\n",
       "      <td>188</td>\n",
       "      <td>¢ Green color</td>\n",
       "      <td>70200</td>\n",
       "    </tr>\n",
       "    <tr>\n",
       "      <th>4</th>\n",
       "      <td>Dr. Amma</td>\n",
       "      <td>182</td>\n",
       "      <td>¢ Pink color</td>\n",
       "      <td>70200</td>\n",
       "    </tr>\n",
       "    <tr>\n",
       "      <th>5</th>\n",
       "      <td>Dr. Fauzia</td>\n",
       "      <td>186</td>\n",
       "      <td>¢ Yellow color</td>\n",
       "      <td>70200</td>\n",
       "    </tr>\n",
       "  </tbody>\n",
       "</table>\n",
       "</div>"
      ],
      "text/plain": [
       "       Students  Height         Fav_color  Salary()\n",
       "0    Dr. Akwasi     184     ¢ Black color     70200\n",
       "1  Dr. Franklin     175  ¢ Burgundy color     20200\n",
       "2  Dr. Nashirat     178    ¢ Purple color     70200\n",
       "3     Dr. Irene     188     ¢ Green color     70200\n",
       "4      Dr. Amma     182      ¢ Pink color     70200\n",
       "5    Dr. Fauzia     186    ¢ Yellow color     70200"
      ]
     },
     "execution_count": 43,
     "metadata": {},
     "output_type": "execute_result"
    }
   ],
   "source": [
    "data "
   ]
  },
  {
   "cell_type": "code",
   "execution_count": 44,
   "id": "b3221594",
   "metadata": {},
   "outputs": [],
   "source": [
    "try_data = pd.read_excel(r'C:\\Users\\JB479JV\\OneDrive - EY\\Desktop\\JanBootCamp\\New folder\\try_data.xlsx')"
   ]
  },
  {
   "cell_type": "code",
   "execution_count": 45,
   "id": "efb28431",
   "metadata": {},
   "outputs": [
    {
     "data": {
      "text/html": [
       "<div>\n",
       "<style scoped>\n",
       "    .dataframe tbody tr th:only-of-type {\n",
       "        vertical-align: middle;\n",
       "    }\n",
       "\n",
       "    .dataframe tbody tr th {\n",
       "        vertical-align: top;\n",
       "    }\n",
       "\n",
       "    .dataframe thead th {\n",
       "        text-align: right;\n",
       "    }\n",
       "</style>\n",
       "<table border=\"1\" class=\"dataframe\">\n",
       "  <thead>\n",
       "    <tr style=\"text-align: right;\">\n",
       "      <th></th>\n",
       "      <th>Students</th>\n",
       "      <th>Height</th>\n",
       "      <th>Fav_color</th>\n",
       "      <th>Salary()</th>\n",
       "    </tr>\n",
       "  </thead>\n",
       "  <tbody>\n",
       "    <tr>\n",
       "      <th>0</th>\n",
       "      <td>Akwasi</td>\n",
       "      <td>184</td>\n",
       "      <td>Black</td>\n",
       "      <td>70000</td>\n",
       "    </tr>\n",
       "    <tr>\n",
       "      <th>1</th>\n",
       "      <td>Franklin</td>\n",
       "      <td>175</td>\n",
       "      <td>Burgundy</td>\n",
       "      <td>20000</td>\n",
       "    </tr>\n",
       "    <tr>\n",
       "      <th>2</th>\n",
       "      <td>Nashirat</td>\n",
       "      <td>178</td>\n",
       "      <td>Purple</td>\n",
       "      <td>70000</td>\n",
       "    </tr>\n",
       "    <tr>\n",
       "      <th>3</th>\n",
       "      <td>Irene</td>\n",
       "      <td>188</td>\n",
       "      <td>Green</td>\n",
       "      <td>70000</td>\n",
       "    </tr>\n",
       "    <tr>\n",
       "      <th>4</th>\n",
       "      <td>Amma</td>\n",
       "      <td>182</td>\n",
       "      <td>Pink</td>\n",
       "      <td>70000</td>\n",
       "    </tr>\n",
       "    <tr>\n",
       "      <th>5</th>\n",
       "      <td>Fauzia</td>\n",
       "      <td>186</td>\n",
       "      <td>Yellow</td>\n",
       "      <td>70000</td>\n",
       "    </tr>\n",
       "  </tbody>\n",
       "</table>\n",
       "</div>"
      ],
      "text/plain": [
       "   Students  Height Fav_color  Salary()\n",
       "0    Akwasi     184     Black     70000\n",
       "1  Franklin     175  Burgundy     20000\n",
       "2  Nashirat     178    Purple     70000\n",
       "3     Irene     188     Green     70000\n",
       "4      Amma     182      Pink     70000\n",
       "5    Fauzia     186    Yellow     70000"
      ]
     },
     "execution_count": 45,
     "metadata": {},
     "output_type": "execute_result"
    }
   ],
   "source": [
    "try_data"
   ]
  },
  {
   "cell_type": "code",
   "execution_count": 46,
   "id": "5d60d797",
   "metadata": {},
   "outputs": [],
   "source": [
    "import os"
   ]
  },
  {
   "cell_type": "code",
   "execution_count": 47,
   "id": "f3e6c791",
   "metadata": {},
   "outputs": [
    {
     "data": {
      "text/plain": [
       "'C:\\\\Users\\\\JB479JV\\\\OneDrive - EY\\\\Desktop\\\\JanBootCamp'"
      ]
     },
     "execution_count": 47,
     "metadata": {},
     "output_type": "execute_result"
    }
   ],
   "source": [
    "os.getcwd()   #get path"
   ]
  },
  {
   "cell_type": "code",
   "execution_count": 48,
   "id": "90463b41",
   "metadata": {},
   "outputs": [],
   "source": [
    "os.chdir(r'C:\\Users\\JB479JV\\OneDrive - EY\\Desktop\\JanBootCamp')  #change directory"
   ]
  },
  {
   "cell_type": "code",
   "execution_count": 49,
   "id": "2135429b",
   "metadata": {},
   "outputs": [],
   "source": [
    "# try_data = pd.read_excel('try_data.xlsx')"
   ]
  },
  {
   "cell_type": "code",
   "execution_count": 50,
   "id": "bb941035",
   "metadata": {},
   "outputs": [],
   "source": [
    "## add tiems to the a specific column\n",
    "#function method\n",
    "data['Salary()'] = data.apply(lambda row: math.sqrt(row['Salary()']) if row['Salary()'] > 20000 else row['Salary()'], axis = 1) "
   ]
  },
  {
   "cell_type": "code",
   "execution_count": 51,
   "id": "f75e50d4",
   "metadata": {},
   "outputs": [
    {
     "data": {
      "text/html": [
       "<div>\n",
       "<style scoped>\n",
       "    .dataframe tbody tr th:only-of-type {\n",
       "        vertical-align: middle;\n",
       "    }\n",
       "\n",
       "    .dataframe tbody tr th {\n",
       "        vertical-align: top;\n",
       "    }\n",
       "\n",
       "    .dataframe thead th {\n",
       "        text-align: right;\n",
       "    }\n",
       "</style>\n",
       "<table border=\"1\" class=\"dataframe\">\n",
       "  <thead>\n",
       "    <tr style=\"text-align: right;\">\n",
       "      <th></th>\n",
       "      <th>Students</th>\n",
       "      <th>Height</th>\n",
       "      <th>Fav_color</th>\n",
       "      <th>Salary()</th>\n",
       "    </tr>\n",
       "  </thead>\n",
       "  <tbody>\n",
       "    <tr>\n",
       "      <th>0</th>\n",
       "      <td>Dr. Akwasi</td>\n",
       "      <td>184</td>\n",
       "      <td>¢ Black color</td>\n",
       "      <td>264.952826</td>\n",
       "    </tr>\n",
       "    <tr>\n",
       "      <th>1</th>\n",
       "      <td>Dr. Franklin</td>\n",
       "      <td>175</td>\n",
       "      <td>¢ Burgundy color</td>\n",
       "      <td>142.126704</td>\n",
       "    </tr>\n",
       "    <tr>\n",
       "      <th>2</th>\n",
       "      <td>Dr. Nashirat</td>\n",
       "      <td>178</td>\n",
       "      <td>¢ Purple color</td>\n",
       "      <td>264.952826</td>\n",
       "    </tr>\n",
       "    <tr>\n",
       "      <th>3</th>\n",
       "      <td>Dr. Irene</td>\n",
       "      <td>188</td>\n",
       "      <td>¢ Green color</td>\n",
       "      <td>264.952826</td>\n",
       "    </tr>\n",
       "    <tr>\n",
       "      <th>4</th>\n",
       "      <td>Dr. Amma</td>\n",
       "      <td>182</td>\n",
       "      <td>¢ Pink color</td>\n",
       "      <td>264.952826</td>\n",
       "    </tr>\n",
       "    <tr>\n",
       "      <th>5</th>\n",
       "      <td>Dr. Fauzia</td>\n",
       "      <td>186</td>\n",
       "      <td>¢ Yellow color</td>\n",
       "      <td>264.952826</td>\n",
       "    </tr>\n",
       "  </tbody>\n",
       "</table>\n",
       "</div>"
      ],
      "text/plain": [
       "       Students  Height         Fav_color    Salary()\n",
       "0    Dr. Akwasi     184     ¢ Black color  264.952826\n",
       "1  Dr. Franklin     175  ¢ Burgundy color  142.126704\n",
       "2  Dr. Nashirat     178    ¢ Purple color  264.952826\n",
       "3     Dr. Irene     188     ¢ Green color  264.952826\n",
       "4      Dr. Amma     182      ¢ Pink color  264.952826\n",
       "5    Dr. Fauzia     186    ¢ Yellow color  264.952826"
      ]
     },
     "execution_count": 51,
     "metadata": {},
     "output_type": "execute_result"
    }
   ],
   "source": [
    "data"
   ]
  },
  {
   "cell_type": "code",
   "execution_count": 52,
   "id": "c1629601",
   "metadata": {},
   "outputs": [
    {
     "data": {
      "text/plain": [
       "0     13.564660\n",
       "1    175.000000\n",
       "2    178.000000\n",
       "3     13.711309\n",
       "4     13.490738\n",
       "5     13.638182\n",
       "Name: Height, dtype: float64"
      ]
     },
     "execution_count": 52,
     "metadata": {},
     "output_type": "execute_result"
    }
   ],
   "source": [
    "data['Height'].apply(lambda row: math.sqrt(row) if row > 180 else row) "
   ]
  },
  {
   "cell_type": "code",
   "execution_count": 53,
   "id": "42513e1f",
   "metadata": {},
   "outputs": [
    {
     "data": {
      "text/html": [
       "<div>\n",
       "<style scoped>\n",
       "    .dataframe tbody tr th:only-of-type {\n",
       "        vertical-align: middle;\n",
       "    }\n",
       "\n",
       "    .dataframe tbody tr th {\n",
       "        vertical-align: top;\n",
       "    }\n",
       "\n",
       "    .dataframe thead th {\n",
       "        text-align: right;\n",
       "    }\n",
       "</style>\n",
       "<table border=\"1\" class=\"dataframe\">\n",
       "  <thead>\n",
       "    <tr style=\"text-align: right;\">\n",
       "      <th></th>\n",
       "      <th>Students</th>\n",
       "      <th>Height</th>\n",
       "      <th>Fav_color</th>\n",
       "      <th>Salary()</th>\n",
       "    </tr>\n",
       "  </thead>\n",
       "  <tbody>\n",
       "    <tr>\n",
       "      <th>0</th>\n",
       "      <td>Dr. Akwasi</td>\n",
       "      <td>184</td>\n",
       "      <td>¢ Black color</td>\n",
       "      <td>264.952826</td>\n",
       "    </tr>\n",
       "    <tr>\n",
       "      <th>1</th>\n",
       "      <td>Dr. Franklin</td>\n",
       "      <td>175</td>\n",
       "      <td>¢ Burgundy color</td>\n",
       "      <td>142.126704</td>\n",
       "    </tr>\n",
       "    <tr>\n",
       "      <th>2</th>\n",
       "      <td>Dr. Nashirat</td>\n",
       "      <td>178</td>\n",
       "      <td>¢ Purple color</td>\n",
       "      <td>264.952826</td>\n",
       "    </tr>\n",
       "    <tr>\n",
       "      <th>3</th>\n",
       "      <td>Dr. Irene</td>\n",
       "      <td>188</td>\n",
       "      <td>¢ Green color</td>\n",
       "      <td>264.952826</td>\n",
       "    </tr>\n",
       "    <tr>\n",
       "      <th>4</th>\n",
       "      <td>Dr. Amma</td>\n",
       "      <td>182</td>\n",
       "      <td>¢ Pink color</td>\n",
       "      <td>264.952826</td>\n",
       "    </tr>\n",
       "    <tr>\n",
       "      <th>5</th>\n",
       "      <td>Dr. Fauzia</td>\n",
       "      <td>186</td>\n",
       "      <td>¢ Yellow color</td>\n",
       "      <td>264.952826</td>\n",
       "    </tr>\n",
       "  </tbody>\n",
       "</table>\n",
       "</div>"
      ],
      "text/plain": [
       "       Students  Height         Fav_color    Salary()\n",
       "0    Dr. Akwasi     184     ¢ Black color  264.952826\n",
       "1  Dr. Franklin     175  ¢ Burgundy color  142.126704\n",
       "2  Dr. Nashirat     178    ¢ Purple color  264.952826\n",
       "3     Dr. Irene     188     ¢ Green color  264.952826\n",
       "4      Dr. Amma     182      ¢ Pink color  264.952826\n",
       "5    Dr. Fauzia     186    ¢ Yellow color  264.952826"
      ]
     },
     "execution_count": 53,
     "metadata": {},
     "output_type": "execute_result"
    }
   ],
   "source": [
    "data"
   ]
  },
  {
   "cell_type": "code",
   "execution_count": 54,
   "id": "780996aa",
   "metadata": {},
   "outputs": [],
   "source": [
    "# drop a column\n",
    "# data_one = data.drop('Salary()', axis = 1)\n",
    "data.drop('Salary()', axis = 1, inplace = True)\n",
    "\n",
    "#drop a row"
   ]
  },
  {
   "cell_type": "code",
   "execution_count": 55,
   "id": "5adbbb28",
   "metadata": {},
   "outputs": [
    {
     "data": {
      "text/html": [
       "<div>\n",
       "<style scoped>\n",
       "    .dataframe tbody tr th:only-of-type {\n",
       "        vertical-align: middle;\n",
       "    }\n",
       "\n",
       "    .dataframe tbody tr th {\n",
       "        vertical-align: top;\n",
       "    }\n",
       "\n",
       "    .dataframe thead th {\n",
       "        text-align: right;\n",
       "    }\n",
       "</style>\n",
       "<table border=\"1\" class=\"dataframe\">\n",
       "  <thead>\n",
       "    <tr style=\"text-align: right;\">\n",
       "      <th></th>\n",
       "      <th>Students</th>\n",
       "      <th>Height</th>\n",
       "      <th>Fav_color</th>\n",
       "    </tr>\n",
       "  </thead>\n",
       "  <tbody>\n",
       "    <tr>\n",
       "      <th>0</th>\n",
       "      <td>Dr. Akwasi</td>\n",
       "      <td>184</td>\n",
       "      <td>¢ Black color</td>\n",
       "    </tr>\n",
       "    <tr>\n",
       "      <th>1</th>\n",
       "      <td>Dr. Franklin</td>\n",
       "      <td>175</td>\n",
       "      <td>¢ Burgundy color</td>\n",
       "    </tr>\n",
       "    <tr>\n",
       "      <th>2</th>\n",
       "      <td>Dr. Nashirat</td>\n",
       "      <td>178</td>\n",
       "      <td>¢ Purple color</td>\n",
       "    </tr>\n",
       "    <tr>\n",
       "      <th>3</th>\n",
       "      <td>Dr. Irene</td>\n",
       "      <td>188</td>\n",
       "      <td>¢ Green color</td>\n",
       "    </tr>\n",
       "    <tr>\n",
       "      <th>4</th>\n",
       "      <td>Dr. Amma</td>\n",
       "      <td>182</td>\n",
       "      <td>¢ Pink color</td>\n",
       "    </tr>\n",
       "    <tr>\n",
       "      <th>5</th>\n",
       "      <td>Dr. Fauzia</td>\n",
       "      <td>186</td>\n",
       "      <td>¢ Yellow color</td>\n",
       "    </tr>\n",
       "  </tbody>\n",
       "</table>\n",
       "</div>"
      ],
      "text/plain": [
       "       Students  Height         Fav_color\n",
       "0    Dr. Akwasi     184     ¢ Black color\n",
       "1  Dr. Franklin     175  ¢ Burgundy color\n",
       "2  Dr. Nashirat     178    ¢ Purple color\n",
       "3     Dr. Irene     188     ¢ Green color\n",
       "4      Dr. Amma     182      ¢ Pink color\n",
       "5    Dr. Fauzia     186    ¢ Yellow color"
      ]
     },
     "execution_count": 55,
     "metadata": {},
     "output_type": "execute_result"
    }
   ],
   "source": [
    "data"
   ]
  },
  {
   "cell_type": "code",
   "execution_count": 56,
   "id": "22dd7e34",
   "metadata": {},
   "outputs": [],
   "source": [
    "# data_one"
   ]
  },
  {
   "cell_type": "code",
   "execution_count": 57,
   "id": "e5f010f4",
   "metadata": {},
   "outputs": [],
   "source": [
    "# writing the dataframe\n",
    "data.to_csv('Hippopotamus.csv')"
   ]
  },
  {
   "cell_type": "code",
   "execution_count": 58,
   "id": "c9fd71ac",
   "metadata": {},
   "outputs": [],
   "source": [
    "# data.to_excel('Mercy.xlsx')"
   ]
  },
  {
   "cell_type": "markdown",
   "id": "273e5cd6",
   "metadata": {},
   "source": [
    "### Missing vales"
   ]
  },
  {
   "cell_type": "code",
   "execution_count": 77,
   "id": "3697f96e",
   "metadata": {},
   "outputs": [
    {
     "data": {
      "text/html": [
       "<div>\n",
       "<style scoped>\n",
       "    .dataframe tbody tr th:only-of-type {\n",
       "        vertical-align: middle;\n",
       "    }\n",
       "\n",
       "    .dataframe tbody tr th {\n",
       "        vertical-align: top;\n",
       "    }\n",
       "\n",
       "    .dataframe thead th {\n",
       "        text-align: right;\n",
       "    }\n",
       "</style>\n",
       "<table border=\"1\" class=\"dataframe\">\n",
       "  <thead>\n",
       "    <tr style=\"text-align: right;\">\n",
       "      <th></th>\n",
       "      <th>Firstname</th>\n",
       "      <th>Lastname</th>\n",
       "      <th>School</th>\n",
       "      <th>Age</th>\n",
       "      <th>Profession</th>\n",
       "    </tr>\n",
       "  </thead>\n",
       "  <tbody>\n",
       "    <tr>\n",
       "      <th>0</th>\n",
       "      <td>Kojo</td>\n",
       "      <td>Mensah</td>\n",
       "      <td>KNUST</td>\n",
       "      <td>24.0</td>\n",
       "      <td>Data engineer</td>\n",
       "    </tr>\n",
       "    <tr>\n",
       "      <th>1</th>\n",
       "      <td>Aba</td>\n",
       "      <td>Kylis</td>\n",
       "      <td>KNUST</td>\n",
       "      <td>26.0</td>\n",
       "      <td>Data analyst</td>\n",
       "    </tr>\n",
       "    <tr>\n",
       "      <th>2</th>\n",
       "      <td>Esi</td>\n",
       "      <td>Najo</td>\n",
       "      <td>Legon</td>\n",
       "      <td>25.0</td>\n",
       "      <td>BI Developer</td>\n",
       "    </tr>\n",
       "    <tr>\n",
       "      <th>3</th>\n",
       "      <td>Kwame</td>\n",
       "      <td>Beako</td>\n",
       "      <td>27</td>\n",
       "      <td>36.0</td>\n",
       "      <td>Data scientist</td>\n",
       "    </tr>\n",
       "    <tr>\n",
       "      <th>4</th>\n",
       "      <td>Araba</td>\n",
       "      <td>Yahan</td>\n",
       "      <td>KNUST</td>\n",
       "      <td>NaN</td>\n",
       "      <td>Database engineer</td>\n",
       "    </tr>\n",
       "    <tr>\n",
       "      <th>5</th>\n",
       "      <td>Franky</td>\n",
       "      <td>Tomatoes</td>\n",
       "      <td>NaN</td>\n",
       "      <td>NaN</td>\n",
       "      <td>NaN</td>\n",
       "    </tr>\n",
       "    <tr>\n",
       "      <th>6</th>\n",
       "      <td>Ama</td>\n",
       "      <td>Potatoes</td>\n",
       "      <td>Legon</td>\n",
       "      <td>NaN</td>\n",
       "      <td>89</td>\n",
       "    </tr>\n",
       "    <tr>\n",
       "      <th>7</th>\n",
       "      <td>Kweku</td>\n",
       "      <td>Chilling</td>\n",
       "      <td>UMaT</td>\n",
       "      <td>56.0</td>\n",
       "      <td>Data engineer</td>\n",
       "    </tr>\n",
       "  </tbody>\n",
       "</table>\n",
       "</div>"
      ],
      "text/plain": [
       "  Firstname  Lastname School   Age         Profession\n",
       "0      Kojo    Mensah  KNUST  24.0      Data engineer\n",
       "1       Aba     Kylis  KNUST  26.0       Data analyst\n",
       "2       Esi      Najo  Legon  25.0       BI Developer\n",
       "3     Kwame     Beako     27  36.0     Data scientist\n",
       "4    Araba      Yahan  KNUST   NaN  Database engineer\n",
       "5    Franky  Tomatoes    NaN   NaN                NaN\n",
       "6       Ama  Potatoes  Legon   NaN                 89\n",
       "7     Kweku  Chilling   UMaT  56.0     Data engineer "
      ]
     },
     "execution_count": 77,
     "metadata": {},
     "output_type": "execute_result"
    }
   ],
   "source": [
    "df = pd.read_csv('example.csv')\n",
    "df"
   ]
  },
  {
   "cell_type": "code",
   "execution_count": 78,
   "id": "15d24d31",
   "metadata": {},
   "outputs": [
    {
     "data": {
      "text/html": [
       "<div>\n",
       "<style scoped>\n",
       "    .dataframe tbody tr th:only-of-type {\n",
       "        vertical-align: middle;\n",
       "    }\n",
       "\n",
       "    .dataframe tbody tr th {\n",
       "        vertical-align: top;\n",
       "    }\n",
       "\n",
       "    .dataframe thead th {\n",
       "        text-align: right;\n",
       "    }\n",
       "</style>\n",
       "<table border=\"1\" class=\"dataframe\">\n",
       "  <thead>\n",
       "    <tr style=\"text-align: right;\">\n",
       "      <th></th>\n",
       "      <th>REGION</th>\n",
       "      <th>DISTRICT</th>\n",
       "      <th>YEAR</th>\n",
       "      <th>CROP</th>\n",
       "      <th>AREA (HA)</th>\n",
       "      <th>YIELD (MT/HA)</th>\n",
       "      <th>PRODUCTION (MT)</th>\n",
       "    </tr>\n",
       "  </thead>\n",
       "  <tbody>\n",
       "    <tr>\n",
       "      <th>0</th>\n",
       "      <td>WESTERN</td>\n",
       "      <td>SHAMA AHANTA EAST</td>\n",
       "      <td>2008</td>\n",
       "      <td>MAIZE</td>\n",
       "      <td>1,099.00</td>\n",
       "      <td>1.15</td>\n",
       "      <td>1,263.85</td>\n",
       "    </tr>\n",
       "    <tr>\n",
       "      <th>1</th>\n",
       "      <td>WESTERN</td>\n",
       "      <td>WEST AHANTA</td>\n",
       "      <td>2008</td>\n",
       "      <td>MAIZE</td>\n",
       "      <td>1,433.00</td>\n",
       "      <td>1.19</td>\n",
       "      <td>1,705.27</td>\n",
       "    </tr>\n",
       "    <tr>\n",
       "      <th>2</th>\n",
       "      <td>WESTERN</td>\n",
       "      <td>MPORHOR WASSA EAST</td>\n",
       "      <td>2008</td>\n",
       "      <td>MAIZE</td>\n",
       "      <td>2,034.00</td>\n",
       "      <td>1.32</td>\n",
       "      <td>2,684.88</td>\n",
       "    </tr>\n",
       "    <tr>\n",
       "      <th>3</th>\n",
       "      <td>WESTERN</td>\n",
       "      <td>WASSA WEST</td>\n",
       "      <td>2008</td>\n",
       "      <td>MAIZE</td>\n",
       "      <td>2,204.00</td>\n",
       "      <td>1.2</td>\n",
       "      <td>2,644.80</td>\n",
       "    </tr>\n",
       "    <tr>\n",
       "      <th>4</th>\n",
       "      <td>WESTERN</td>\n",
       "      <td>EAST NZEMA</td>\n",
       "      <td>2008</td>\n",
       "      <td>MAIZE</td>\n",
       "      <td>1,550.00</td>\n",
       "      <td>1.38</td>\n",
       "      <td>2,139.00</td>\n",
       "    </tr>\n",
       "    <tr>\n",
       "      <th>...</th>\n",
       "      <td>...</td>\n",
       "      <td>...</td>\n",
       "      <td>...</td>\n",
       "      <td>...</td>\n",
       "      <td>...</td>\n",
       "      <td>...</td>\n",
       "      <td>...</td>\n",
       "    </tr>\n",
       "    <tr>\n",
       "      <th>8231</th>\n",
       "      <td>NORTHERN REGION</td>\n",
       "      <td>MAMPRUGU MOAGDURI</td>\n",
       "      <td>2017</td>\n",
       "      <td>CASSAVA</td>\n",
       "      <td>900</td>\n",
       "      <td>7.95</td>\n",
       "      <td>7,155.00</td>\n",
       "    </tr>\n",
       "    <tr>\n",
       "      <th>8232</th>\n",
       "      <td>NORTHERN REGION</td>\n",
       "      <td>YENDI</td>\n",
       "      <td>2017</td>\n",
       "      <td>CASSAVA</td>\n",
       "      <td>4,790.00</td>\n",
       "      <td>13.59</td>\n",
       "      <td>65,096.10</td>\n",
       "    </tr>\n",
       "    <tr>\n",
       "      <th>8233</th>\n",
       "      <td>NORTHERN REGION</td>\n",
       "      <td>MION</td>\n",
       "      <td>2017</td>\n",
       "      <td>CASSAVA</td>\n",
       "      <td>3,831.00</td>\n",
       "      <td>6.96</td>\n",
       "      <td>26,663.76</td>\n",
       "    </tr>\n",
       "    <tr>\n",
       "      <th>8234</th>\n",
       "      <td>NORTHERN REGION</td>\n",
       "      <td>TATALE SANGULI</td>\n",
       "      <td>2017</td>\n",
       "      <td>CASSAVA</td>\n",
       "      <td>5,192.00</td>\n",
       "      <td>13.85</td>\n",
       "      <td>71,909.20</td>\n",
       "    </tr>\n",
       "    <tr>\n",
       "      <th>8235</th>\n",
       "      <td>NORTHERN REGION</td>\n",
       "      <td>ZABZUGU</td>\n",
       "      <td>2017</td>\n",
       "      <td>CASSAVA</td>\n",
       "      <td>4,612.00</td>\n",
       "      <td>13.85</td>\n",
       "      <td>63,876.20</td>\n",
       "    </tr>\n",
       "  </tbody>\n",
       "</table>\n",
       "<p>8236 rows × 7 columns</p>\n",
       "</div>"
      ],
      "text/plain": [
       "               REGION            DISTRICT  YEAR     CROP AREA (HA)  \\\n",
       "0             WESTERN   SHAMA AHANTA EAST  2008    MAIZE  1,099.00   \n",
       "1             WESTERN         WEST AHANTA  2008    MAIZE  1,433.00   \n",
       "2             WESTERN  MPORHOR WASSA EAST  2008    MAIZE  2,034.00   \n",
       "3             WESTERN          WASSA WEST  2008    MAIZE  2,204.00   \n",
       "4             WESTERN          EAST NZEMA  2008    MAIZE  1,550.00   \n",
       "...               ...                 ...   ...      ...       ...   \n",
       "8231  NORTHERN REGION   MAMPRUGU MOAGDURI  2017  CASSAVA       900   \n",
       "8232  NORTHERN REGION               YENDI  2017  CASSAVA  4,790.00   \n",
       "8233  NORTHERN REGION                MION  2017  CASSAVA  3,831.00   \n",
       "8234  NORTHERN REGION      TATALE SANGULI  2017  CASSAVA  5,192.00   \n",
       "8235  NORTHERN REGION             ZABZUGU  2017  CASSAVA  4,612.00   \n",
       "\n",
       "     YIELD (MT/HA) PRODUCTION (MT)  \n",
       "0             1.15        1,263.85  \n",
       "1             1.19        1,705.27  \n",
       "2             1.32        2,684.88  \n",
       "3              1.2        2,644.80  \n",
       "4             1.38        2,139.00  \n",
       "...            ...             ...  \n",
       "8231          7.95        7,155.00  \n",
       "8232         13.59       65,096.10  \n",
       "8233          6.96       26,663.76  \n",
       "8234         13.85       71,909.20  \n",
       "8235         13.85       63,876.20  \n",
       "\n",
       "[8236 rows x 7 columns]"
      ]
     },
     "execution_count": 78,
     "metadata": {},
     "output_type": "execute_result"
    }
   ],
   "source": [
    "pro_est_df"
   ]
  },
  {
   "cell_type": "code",
   "execution_count": 79,
   "id": "0242463d",
   "metadata": {},
   "outputs": [
    {
     "data": {
      "text/plain": [
       "ASHANTI            1635\n",
       "BRONG AHAFO        1254\n",
       "EASTERN            1203\n",
       "WESTERN             971\n",
       "VOLTA               965\n",
       "CENTRAL             756\n",
       "UPPER WEST          707\n",
       "UPPER EAST          637\n",
       "NORTHERN REGION      78\n",
       "GREATER ACCRA        30\n",
       "Name: REGION, dtype: int64"
      ]
     },
     "execution_count": 79,
     "metadata": {},
     "output_type": "execute_result"
    }
   ],
   "source": [
    "pro_est_df.REGION.value_counts()"
   ]
  },
  {
   "cell_type": "code",
   "execution_count": 80,
   "id": "8d92b83c",
   "metadata": {},
   "outputs": [
    {
     "data": {
      "text/plain": [
       "array(['WESTERN', 'CENTRAL', 'EASTERN', 'VOLTA', 'ASHANTI', 'BRONG AHAFO',\n",
       "       'UPPER EAST', 'UPPER WEST', 'GREATER ACCRA', 'NORTHERN REGION'],\n",
       "      dtype=object)"
      ]
     },
     "execution_count": 80,
     "metadata": {},
     "output_type": "execute_result"
    }
   ],
   "source": [
    "pro_est_df.REGION.unique()"
   ]
  },
  {
   "cell_type": "code",
   "execution_count": 81,
   "id": "8b82d0a6",
   "metadata": {},
   "outputs": [
    {
     "data": {
      "text/plain": [
       "24.0    1\n",
       "26.0    1\n",
       "25.0    1\n",
       "36.0    1\n",
       "56.0    1\n",
       "Name: Age, dtype: int64"
      ]
     },
     "execution_count": 81,
     "metadata": {},
     "output_type": "execute_result"
    }
   ],
   "source": [
    "df.Age.value_counts()"
   ]
  },
  {
   "cell_type": "code",
   "execution_count": 82,
   "id": "6903d8d7",
   "metadata": {},
   "outputs": [
    {
     "data": {
      "text/plain": [
       "Firstname     0\n",
       "Lastname      0\n",
       "School        1\n",
       "Age           3\n",
       "Profession    1\n",
       "dtype: int64"
      ]
     },
     "execution_count": 82,
     "metadata": {},
     "output_type": "execute_result"
    }
   ],
   "source": [
    "df.isnull().sum()"
   ]
  },
  {
   "cell_type": "code",
   "execution_count": 83,
   "id": "0555e1eb",
   "metadata": {},
   "outputs": [
    {
     "data": {
      "text/html": [
       "<div>\n",
       "<style scoped>\n",
       "    .dataframe tbody tr th:only-of-type {\n",
       "        vertical-align: middle;\n",
       "    }\n",
       "\n",
       "    .dataframe tbody tr th {\n",
       "        vertical-align: top;\n",
       "    }\n",
       "\n",
       "    .dataframe thead th {\n",
       "        text-align: right;\n",
       "    }\n",
       "</style>\n",
       "<table border=\"1\" class=\"dataframe\">\n",
       "  <thead>\n",
       "    <tr style=\"text-align: right;\">\n",
       "      <th></th>\n",
       "      <th>Firstname</th>\n",
       "      <th>Lastname</th>\n",
       "      <th>School</th>\n",
       "      <th>Age</th>\n",
       "      <th>Profession</th>\n",
       "    </tr>\n",
       "  </thead>\n",
       "  <tbody>\n",
       "    <tr>\n",
       "      <th>0</th>\n",
       "      <td>Kojo</td>\n",
       "      <td>Mensah</td>\n",
       "      <td>KNUST</td>\n",
       "      <td>24.0</td>\n",
       "      <td>Data engineer</td>\n",
       "    </tr>\n",
       "    <tr>\n",
       "      <th>1</th>\n",
       "      <td>Aba</td>\n",
       "      <td>Kylis</td>\n",
       "      <td>KNUST</td>\n",
       "      <td>26.0</td>\n",
       "      <td>Data analyst</td>\n",
       "    </tr>\n",
       "    <tr>\n",
       "      <th>2</th>\n",
       "      <td>Esi</td>\n",
       "      <td>Najo</td>\n",
       "      <td>Legon</td>\n",
       "      <td>25.0</td>\n",
       "      <td>BI Developer</td>\n",
       "    </tr>\n",
       "    <tr>\n",
       "      <th>3</th>\n",
       "      <td>Kwame</td>\n",
       "      <td>Beako</td>\n",
       "      <td>27</td>\n",
       "      <td>36.0</td>\n",
       "      <td>Data scientist</td>\n",
       "    </tr>\n",
       "    <tr>\n",
       "      <th>4</th>\n",
       "      <td>Araba</td>\n",
       "      <td>Yahan</td>\n",
       "      <td>KNUST</td>\n",
       "      <td>NaN</td>\n",
       "      <td>Database engineer</td>\n",
       "    </tr>\n",
       "    <tr>\n",
       "      <th>5</th>\n",
       "      <td>Franky</td>\n",
       "      <td>Tomatoes</td>\n",
       "      <td>NaN</td>\n",
       "      <td>NaN</td>\n",
       "      <td>NaN</td>\n",
       "    </tr>\n",
       "    <tr>\n",
       "      <th>6</th>\n",
       "      <td>Ama</td>\n",
       "      <td>Potatoes</td>\n",
       "      <td>Legon</td>\n",
       "      <td>NaN</td>\n",
       "      <td>89</td>\n",
       "    </tr>\n",
       "    <tr>\n",
       "      <th>7</th>\n",
       "      <td>Kweku</td>\n",
       "      <td>Chilling</td>\n",
       "      <td>UMaT</td>\n",
       "      <td>56.0</td>\n",
       "      <td>Data engineer</td>\n",
       "    </tr>\n",
       "  </tbody>\n",
       "</table>\n",
       "</div>"
      ],
      "text/plain": [
       "  Firstname  Lastname School   Age         Profession\n",
       "0      Kojo    Mensah  KNUST  24.0      Data engineer\n",
       "1       Aba     Kylis  KNUST  26.0       Data analyst\n",
       "2       Esi      Najo  Legon  25.0       BI Developer\n",
       "3     Kwame     Beako     27  36.0     Data scientist\n",
       "4    Araba      Yahan  KNUST   NaN  Database engineer\n",
       "5    Franky  Tomatoes    NaN   NaN                NaN\n",
       "6       Ama  Potatoes  Legon   NaN                 89\n",
       "7     Kweku  Chilling   UMaT  56.0     Data engineer "
      ]
     },
     "execution_count": 83,
     "metadata": {},
     "output_type": "execute_result"
    }
   ],
   "source": [
    "df"
   ]
  },
  {
   "cell_type": "code",
   "execution_count": 84,
   "id": "2330611e",
   "metadata": {},
   "outputs": [
    {
     "data": {
      "text/plain": [
       "array(['Data engineer', 'Data analyst', 'BI Developer', 'Data scientist',\n",
       "       'Database engineer', nan, '89', 'Data engineer '], dtype=object)"
      ]
     },
     "execution_count": 84,
     "metadata": {},
     "output_type": "execute_result"
    }
   ],
   "source": [
    "df.Profession.unique()"
   ]
  },
  {
   "cell_type": "code",
   "execution_count": 85,
   "id": "6b167e7e",
   "metadata": {},
   "outputs": [
    {
     "data": {
      "text/html": [
       "<div>\n",
       "<style scoped>\n",
       "    .dataframe tbody tr th:only-of-type {\n",
       "        vertical-align: middle;\n",
       "    }\n",
       "\n",
       "    .dataframe tbody tr th {\n",
       "        vertical-align: top;\n",
       "    }\n",
       "\n",
       "    .dataframe thead th {\n",
       "        text-align: right;\n",
       "    }\n",
       "</style>\n",
       "<table border=\"1\" class=\"dataframe\">\n",
       "  <thead>\n",
       "    <tr style=\"text-align: right;\">\n",
       "      <th></th>\n",
       "      <th>Firstname</th>\n",
       "      <th>Lastname</th>\n",
       "      <th>School</th>\n",
       "      <th>Age</th>\n",
       "      <th>Profession</th>\n",
       "    </tr>\n",
       "  </thead>\n",
       "  <tbody>\n",
       "    <tr>\n",
       "      <th>0</th>\n",
       "      <td>Kojo</td>\n",
       "      <td>Mensah</td>\n",
       "      <td>KNUST</td>\n",
       "      <td>24.0</td>\n",
       "      <td>Data engineer</td>\n",
       "    </tr>\n",
       "    <tr>\n",
       "      <th>1</th>\n",
       "      <td>Aba</td>\n",
       "      <td>Kylis</td>\n",
       "      <td>KNUST</td>\n",
       "      <td>26.0</td>\n",
       "      <td>Data analyst</td>\n",
       "    </tr>\n",
       "    <tr>\n",
       "      <th>2</th>\n",
       "      <td>Esi</td>\n",
       "      <td>Najo</td>\n",
       "      <td>Legon</td>\n",
       "      <td>25.0</td>\n",
       "      <td>BI Developer</td>\n",
       "    </tr>\n",
       "    <tr>\n",
       "      <th>3</th>\n",
       "      <td>Kwame</td>\n",
       "      <td>Beako</td>\n",
       "      <td>27</td>\n",
       "      <td>36.0</td>\n",
       "      <td>Data scientist</td>\n",
       "    </tr>\n",
       "    <tr>\n",
       "      <th>4</th>\n",
       "      <td>Araba</td>\n",
       "      <td>Yahan</td>\n",
       "      <td>KNUST</td>\n",
       "      <td>NaN</td>\n",
       "      <td>Database engineer</td>\n",
       "    </tr>\n",
       "    <tr>\n",
       "      <th>5</th>\n",
       "      <td>Franky</td>\n",
       "      <td>Tomatoes</td>\n",
       "      <td>NaN</td>\n",
       "      <td>NaN</td>\n",
       "      <td>NaN</td>\n",
       "    </tr>\n",
       "    <tr>\n",
       "      <th>6</th>\n",
       "      <td>Ama</td>\n",
       "      <td>Potatoes</td>\n",
       "      <td>Legon</td>\n",
       "      <td>NaN</td>\n",
       "      <td>89</td>\n",
       "    </tr>\n",
       "    <tr>\n",
       "      <th>7</th>\n",
       "      <td>Kweku</td>\n",
       "      <td>Chilling</td>\n",
       "      <td>UMaT</td>\n",
       "      <td>56.0</td>\n",
       "      <td>Data engineer</td>\n",
       "    </tr>\n",
       "  </tbody>\n",
       "</table>\n",
       "</div>"
      ],
      "text/plain": [
       "  Firstname  Lastname School   Age         Profession\n",
       "0      Kojo    Mensah  KNUST  24.0      Data engineer\n",
       "1       Aba     Kylis  KNUST  26.0       Data analyst\n",
       "2       Esi      Najo  Legon  25.0       BI Developer\n",
       "3     Kwame     Beako     27  36.0     Data scientist\n",
       "4    Araba      Yahan  KNUST   NaN  Database engineer\n",
       "5    Franky  Tomatoes    NaN   NaN                NaN\n",
       "6       Ama  Potatoes  Legon   NaN                 89\n",
       "7     Kweku  Chilling   UMaT  56.0     Data engineer "
      ]
     },
     "execution_count": 85,
     "metadata": {},
     "output_type": "execute_result"
    }
   ],
   "source": [
    "df"
   ]
  },
  {
   "cell_type": "code",
   "execution_count": 86,
   "id": "f2421fc3",
   "metadata": {},
   "outputs": [],
   "source": [
    "# df['Profession'] = df['Profession'].fillna('Database engineer')"
   ]
  },
  {
   "cell_type": "code",
   "execution_count": 87,
   "id": "8e971680",
   "metadata": {},
   "outputs": [],
   "source": [
    "# df['School'] = df['School'].fillna('Legon')"
   ]
  },
  {
   "cell_type": "code",
   "execution_count": 88,
   "id": "9e06b886",
   "metadata": {},
   "outputs": [],
   "source": [
    "# df['School'] = df['School'].replace({'27': 'KNUST'})"
   ]
  },
  {
   "cell_type": "code",
   "execution_count": 89,
   "id": "3bc8c4ec",
   "metadata": {},
   "outputs": [
    {
     "data": {
      "text/html": [
       "<div>\n",
       "<style scoped>\n",
       "    .dataframe tbody tr th:only-of-type {\n",
       "        vertical-align: middle;\n",
       "    }\n",
       "\n",
       "    .dataframe tbody tr th {\n",
       "        vertical-align: top;\n",
       "    }\n",
       "\n",
       "    .dataframe thead th {\n",
       "        text-align: right;\n",
       "    }\n",
       "</style>\n",
       "<table border=\"1\" class=\"dataframe\">\n",
       "  <thead>\n",
       "    <tr style=\"text-align: right;\">\n",
       "      <th></th>\n",
       "      <th>Firstname</th>\n",
       "      <th>Lastname</th>\n",
       "      <th>School</th>\n",
       "      <th>Age</th>\n",
       "      <th>Profession</th>\n",
       "    </tr>\n",
       "  </thead>\n",
       "  <tbody>\n",
       "    <tr>\n",
       "      <th>0</th>\n",
       "      <td>Kojo</td>\n",
       "      <td>Mensah</td>\n",
       "      <td>KNUST</td>\n",
       "      <td>24.0</td>\n",
       "      <td>Data engineer</td>\n",
       "    </tr>\n",
       "    <tr>\n",
       "      <th>1</th>\n",
       "      <td>Aba</td>\n",
       "      <td>Kylis</td>\n",
       "      <td>KNUST</td>\n",
       "      <td>26.0</td>\n",
       "      <td>Data analyst</td>\n",
       "    </tr>\n",
       "    <tr>\n",
       "      <th>2</th>\n",
       "      <td>Esi</td>\n",
       "      <td>Najo</td>\n",
       "      <td>Legon</td>\n",
       "      <td>25.0</td>\n",
       "      <td>BI Developer</td>\n",
       "    </tr>\n",
       "    <tr>\n",
       "      <th>3</th>\n",
       "      <td>Kwame</td>\n",
       "      <td>Beako</td>\n",
       "      <td>27</td>\n",
       "      <td>36.0</td>\n",
       "      <td>Data scientist</td>\n",
       "    </tr>\n",
       "    <tr>\n",
       "      <th>4</th>\n",
       "      <td>Araba</td>\n",
       "      <td>Yahan</td>\n",
       "      <td>KNUST</td>\n",
       "      <td>NaN</td>\n",
       "      <td>Database engineer</td>\n",
       "    </tr>\n",
       "    <tr>\n",
       "      <th>5</th>\n",
       "      <td>Franky</td>\n",
       "      <td>Tomatoes</td>\n",
       "      <td>NaN</td>\n",
       "      <td>NaN</td>\n",
       "      <td>NaN</td>\n",
       "    </tr>\n",
       "    <tr>\n",
       "      <th>6</th>\n",
       "      <td>Ama</td>\n",
       "      <td>Potatoes</td>\n",
       "      <td>Legon</td>\n",
       "      <td>NaN</td>\n",
       "      <td>89</td>\n",
       "    </tr>\n",
       "    <tr>\n",
       "      <th>7</th>\n",
       "      <td>Kweku</td>\n",
       "      <td>Chilling</td>\n",
       "      <td>UMaT</td>\n",
       "      <td>56.0</td>\n",
       "      <td>Data engineer</td>\n",
       "    </tr>\n",
       "  </tbody>\n",
       "</table>\n",
       "</div>"
      ],
      "text/plain": [
       "  Firstname  Lastname School   Age         Profession\n",
       "0      Kojo    Mensah  KNUST  24.0      Data engineer\n",
       "1       Aba     Kylis  KNUST  26.0       Data analyst\n",
       "2       Esi      Najo  Legon  25.0       BI Developer\n",
       "3     Kwame     Beako     27  36.0     Data scientist\n",
       "4    Araba      Yahan  KNUST   NaN  Database engineer\n",
       "5    Franky  Tomatoes    NaN   NaN                NaN\n",
       "6       Ama  Potatoes  Legon   NaN                 89\n",
       "7     Kweku  Chilling   UMaT  56.0     Data engineer "
      ]
     },
     "execution_count": 89,
     "metadata": {},
     "output_type": "execute_result"
    }
   ],
   "source": [
    "df"
   ]
  },
  {
   "cell_type": "code",
   "execution_count": 90,
   "id": "d4696d86",
   "metadata": {},
   "outputs": [
    {
     "data": {
      "text/plain": [
       "33.4"
      ]
     },
     "execution_count": 90,
     "metadata": {},
     "output_type": "execute_result"
    }
   ],
   "source": [
    "df.Age.mean()"
   ]
  },
  {
   "cell_type": "code",
   "execution_count": 91,
   "id": "7e451374",
   "metadata": {},
   "outputs": [],
   "source": [
    "df.Age = df.Age.fillna(df.Age.mean())"
   ]
  },
  {
   "cell_type": "code",
   "execution_count": 93,
   "id": "11d55eb5",
   "metadata": {},
   "outputs": [
    {
     "data": {
      "text/plain": [
       "KNUST    3\n",
       "Legon    2\n",
       "27       1\n",
       "UMaT     1\n",
       "Name: School, dtype: int64"
      ]
     },
     "execution_count": 93,
     "metadata": {},
     "output_type": "execute_result"
    }
   ],
   "source": [
    "df.School.value_counts()"
   ]
  },
  {
   "cell_type": "code",
   "execution_count": 96,
   "id": "d3e7a64a",
   "metadata": {},
   "outputs": [],
   "source": [
    "df.School = df.School.fillna('KNUST')"
   ]
  },
  {
   "cell_type": "code",
   "execution_count": 98,
   "id": "38f2885b",
   "metadata": {},
   "outputs": [],
   "source": [
    "df.School = df.School.replace({'27': 'KNUST'})"
   ]
  },
  {
   "cell_type": "code",
   "execution_count": 100,
   "id": "35aea618",
   "metadata": {},
   "outputs": [
    {
     "data": {
      "text/plain": [
       "Data engineer        1\n",
       "Data analyst         1\n",
       "BI Developer         1\n",
       "Data scientist       1\n",
       "Database engineer    1\n",
       "89                   1\n",
       "Data engineer        1\n",
       "Name: Profession, dtype: int64"
      ]
     },
     "execution_count": 100,
     "metadata": {},
     "output_type": "execute_result"
    }
   ],
   "source": [
    "df.Profession.value_counts()"
   ]
  },
  {
   "cell_type": "code",
   "execution_count": 101,
   "id": "91f692c6",
   "metadata": {},
   "outputs": [
    {
     "data": {
      "text/plain": [
       "array(['Data engineer', 'Data analyst', 'BI Developer', 'Data scientist',\n",
       "       'Database engineer', nan, '89', 'Data engineer '], dtype=object)"
      ]
     },
     "execution_count": 101,
     "metadata": {},
     "output_type": "execute_result"
    }
   ],
   "source": [
    "df.Profession.unique()"
   ]
  },
  {
   "cell_type": "code",
   "execution_count": 102,
   "id": "538ce2f1",
   "metadata": {},
   "outputs": [],
   "source": [
    "df.Profession = df.Profession.replace({'Data engineer ': 'Data engineer'})"
   ]
  },
  {
   "cell_type": "code",
   "execution_count": 103,
   "id": "d9cebcfd",
   "metadata": {},
   "outputs": [
    {
     "data": {
      "text/plain": [
       "Data engineer        2\n",
       "Data analyst         1\n",
       "BI Developer         1\n",
       "Data scientist       1\n",
       "Database engineer    1\n",
       "89                   1\n",
       "Name: Profession, dtype: int64"
      ]
     },
     "execution_count": 103,
     "metadata": {},
     "output_type": "execute_result"
    }
   ],
   "source": [
    "df.Profession.value_counts()"
   ]
  },
  {
   "cell_type": "code",
   "execution_count": 105,
   "id": "83de9066",
   "metadata": {},
   "outputs": [],
   "source": [
    "df.Profession = df.Profession.replace({'89': 'Data engineer'})"
   ]
  },
  {
   "cell_type": "code",
   "execution_count": 107,
   "id": "87b84ec1",
   "metadata": {},
   "outputs": [],
   "source": [
    "df.Profession = df.Profession.fillna('Data engineer')"
   ]
  },
  {
   "cell_type": "code",
   "execution_count": 108,
   "id": "fd3d08fb",
   "metadata": {
    "scrolled": true
   },
   "outputs": [
    {
     "data": {
      "text/html": [
       "<div>\n",
       "<style scoped>\n",
       "    .dataframe tbody tr th:only-of-type {\n",
       "        vertical-align: middle;\n",
       "    }\n",
       "\n",
       "    .dataframe tbody tr th {\n",
       "        vertical-align: top;\n",
       "    }\n",
       "\n",
       "    .dataframe thead th {\n",
       "        text-align: right;\n",
       "    }\n",
       "</style>\n",
       "<table border=\"1\" class=\"dataframe\">\n",
       "  <thead>\n",
       "    <tr style=\"text-align: right;\">\n",
       "      <th></th>\n",
       "      <th>Firstname</th>\n",
       "      <th>Lastname</th>\n",
       "      <th>School</th>\n",
       "      <th>Age</th>\n",
       "      <th>Profession</th>\n",
       "    </tr>\n",
       "  </thead>\n",
       "  <tbody>\n",
       "    <tr>\n",
       "      <th>0</th>\n",
       "      <td>Kojo</td>\n",
       "      <td>Mensah</td>\n",
       "      <td>KNUST</td>\n",
       "      <td>24.0</td>\n",
       "      <td>Data engineer</td>\n",
       "    </tr>\n",
       "    <tr>\n",
       "      <th>1</th>\n",
       "      <td>Aba</td>\n",
       "      <td>Kylis</td>\n",
       "      <td>KNUST</td>\n",
       "      <td>26.0</td>\n",
       "      <td>Data analyst</td>\n",
       "    </tr>\n",
       "    <tr>\n",
       "      <th>2</th>\n",
       "      <td>Esi</td>\n",
       "      <td>Najo</td>\n",
       "      <td>Legon</td>\n",
       "      <td>25.0</td>\n",
       "      <td>BI Developer</td>\n",
       "    </tr>\n",
       "    <tr>\n",
       "      <th>3</th>\n",
       "      <td>Kwame</td>\n",
       "      <td>Beako</td>\n",
       "      <td>KNUST</td>\n",
       "      <td>36.0</td>\n",
       "      <td>Data scientist</td>\n",
       "    </tr>\n",
       "    <tr>\n",
       "      <th>4</th>\n",
       "      <td>Araba</td>\n",
       "      <td>Yahan</td>\n",
       "      <td>KNUST</td>\n",
       "      <td>33.4</td>\n",
       "      <td>Database engineer</td>\n",
       "    </tr>\n",
       "    <tr>\n",
       "      <th>5</th>\n",
       "      <td>Franky</td>\n",
       "      <td>Tomatoes</td>\n",
       "      <td>KNUST</td>\n",
       "      <td>33.4</td>\n",
       "      <td>Data engineer</td>\n",
       "    </tr>\n",
       "    <tr>\n",
       "      <th>6</th>\n",
       "      <td>Ama</td>\n",
       "      <td>Potatoes</td>\n",
       "      <td>Legon</td>\n",
       "      <td>33.4</td>\n",
       "      <td>Data engineer</td>\n",
       "    </tr>\n",
       "    <tr>\n",
       "      <th>7</th>\n",
       "      <td>Kweku</td>\n",
       "      <td>Chilling</td>\n",
       "      <td>UMaT</td>\n",
       "      <td>56.0</td>\n",
       "      <td>Data engineer</td>\n",
       "    </tr>\n",
       "  </tbody>\n",
       "</table>\n",
       "</div>"
      ],
      "text/plain": [
       "  Firstname  Lastname School   Age         Profession\n",
       "0      Kojo    Mensah  KNUST  24.0      Data engineer\n",
       "1       Aba     Kylis  KNUST  26.0       Data analyst\n",
       "2       Esi      Najo  Legon  25.0       BI Developer\n",
       "3     Kwame     Beako  KNUST  36.0     Data scientist\n",
       "4    Araba      Yahan  KNUST  33.4  Database engineer\n",
       "5    Franky  Tomatoes  KNUST  33.4      Data engineer\n",
       "6       Ama  Potatoes  Legon  33.4      Data engineer\n",
       "7     Kweku  Chilling   UMaT  56.0      Data engineer"
      ]
     },
     "execution_count": 108,
     "metadata": {},
     "output_type": "execute_result"
    }
   ],
   "source": [
    "df"
   ]
  },
  {
   "cell_type": "markdown",
   "id": "63eb6c38",
   "metadata": {},
   "source": [
    "### Concatenation"
   ]
  },
  {
   "cell_type": "code",
   "execution_count": 109,
   "id": "37b65868",
   "metadata": {},
   "outputs": [],
   "source": [
    "newlist = [2,4,5,8]"
   ]
  },
  {
   "cell_type": "code",
   "execution_count": 113,
   "id": "e4a16fb0",
   "metadata": {},
   "outputs": [
    {
     "data": {
      "text/plain": [
       "[4, 5, 8]"
      ]
     },
     "execution_count": 113,
     "metadata": {},
     "output_type": "execute_result"
    }
   ],
   "source": [
    "newlist[1:4]"
   ]
  },
  {
   "cell_type": "code",
   "execution_count": 128,
   "id": "169b0e4e",
   "metadata": {},
   "outputs": [
    {
     "data": {
      "text/html": [
       "<div>\n",
       "<style scoped>\n",
       "    .dataframe tbody tr th:only-of-type {\n",
       "        vertical-align: middle;\n",
       "    }\n",
       "\n",
       "    .dataframe tbody tr th {\n",
       "        vertical-align: top;\n",
       "    }\n",
       "\n",
       "    .dataframe thead th {\n",
       "        text-align: right;\n",
       "    }\n",
       "</style>\n",
       "<table border=\"1\" class=\"dataframe\">\n",
       "  <thead>\n",
       "    <tr style=\"text-align: right;\">\n",
       "      <th></th>\n",
       "      <th>Firstname</th>\n",
       "      <th>Lastname</th>\n",
       "      <th>School</th>\n",
       "      <th>Age</th>\n",
       "      <th>Profession</th>\n",
       "    </tr>\n",
       "  </thead>\n",
       "  <tbody>\n",
       "    <tr>\n",
       "      <th>0</th>\n",
       "      <td>Kojo</td>\n",
       "      <td>Mensah</td>\n",
       "      <td>KNUST</td>\n",
       "      <td>24.0</td>\n",
       "      <td>Data engineer</td>\n",
       "    </tr>\n",
       "    <tr>\n",
       "      <th>1</th>\n",
       "      <td>Aba</td>\n",
       "      <td>Kylis</td>\n",
       "      <td>KNUST</td>\n",
       "      <td>26.0</td>\n",
       "      <td>Data analyst</td>\n",
       "    </tr>\n",
       "    <tr>\n",
       "      <th>2</th>\n",
       "      <td>Esi</td>\n",
       "      <td>Najo</td>\n",
       "      <td>Legon</td>\n",
       "      <td>25.0</td>\n",
       "      <td>BI Developer</td>\n",
       "    </tr>\n",
       "    <tr>\n",
       "      <th>3</th>\n",
       "      <td>Kwame</td>\n",
       "      <td>Beako</td>\n",
       "      <td>KNUST</td>\n",
       "      <td>36.0</td>\n",
       "      <td>Data scientist</td>\n",
       "    </tr>\n",
       "  </tbody>\n",
       "</table>\n",
       "</div>"
      ],
      "text/plain": [
       "  Firstname Lastname School   Age      Profession\n",
       "0      Kojo   Mensah  KNUST  24.0   Data engineer\n",
       "1       Aba    Kylis  KNUST  26.0    Data analyst\n",
       "2       Esi     Najo  Legon  25.0    BI Developer\n",
       "3     Kwame    Beako  KNUST  36.0  Data scientist"
      ]
     },
     "execution_count": 128,
     "metadata": {},
     "output_type": "execute_result"
    }
   ],
   "source": [
    "df1 = df[:4]\n",
    "df1"
   ]
  },
  {
   "cell_type": "code",
   "execution_count": 129,
   "id": "e39ed9bf",
   "metadata": {},
   "outputs": [
    {
     "data": {
      "text/html": [
       "<div>\n",
       "<style scoped>\n",
       "    .dataframe tbody tr th:only-of-type {\n",
       "        vertical-align: middle;\n",
       "    }\n",
       "\n",
       "    .dataframe tbody tr th {\n",
       "        vertical-align: top;\n",
       "    }\n",
       "\n",
       "    .dataframe thead th {\n",
       "        text-align: right;\n",
       "    }\n",
       "</style>\n",
       "<table border=\"1\" class=\"dataframe\">\n",
       "  <thead>\n",
       "    <tr style=\"text-align: right;\">\n",
       "      <th></th>\n",
       "      <th>Firstname</th>\n",
       "      <th>Lastname</th>\n",
       "      <th>School</th>\n",
       "      <th>Age</th>\n",
       "      <th>Profession</th>\n",
       "    </tr>\n",
       "  </thead>\n",
       "  <tbody>\n",
       "    <tr>\n",
       "      <th>4</th>\n",
       "      <td>Araba</td>\n",
       "      <td>Yahan</td>\n",
       "      <td>KNUST</td>\n",
       "      <td>33.4</td>\n",
       "      <td>Database engineer</td>\n",
       "    </tr>\n",
       "    <tr>\n",
       "      <th>5</th>\n",
       "      <td>Franky</td>\n",
       "      <td>Tomatoes</td>\n",
       "      <td>KNUST</td>\n",
       "      <td>33.4</td>\n",
       "      <td>Data engineer</td>\n",
       "    </tr>\n",
       "    <tr>\n",
       "      <th>6</th>\n",
       "      <td>Ama</td>\n",
       "      <td>Potatoes</td>\n",
       "      <td>Legon</td>\n",
       "      <td>33.4</td>\n",
       "      <td>Data engineer</td>\n",
       "    </tr>\n",
       "    <tr>\n",
       "      <th>7</th>\n",
       "      <td>Kweku</td>\n",
       "      <td>Chilling</td>\n",
       "      <td>UMaT</td>\n",
       "      <td>56.0</td>\n",
       "      <td>Data engineer</td>\n",
       "    </tr>\n",
       "  </tbody>\n",
       "</table>\n",
       "</div>"
      ],
      "text/plain": [
       "  Firstname  Lastname School   Age         Profession\n",
       "4    Araba      Yahan  KNUST  33.4  Database engineer\n",
       "5    Franky  Tomatoes  KNUST  33.4      Data engineer\n",
       "6       Ama  Potatoes  Legon  33.4      Data engineer\n",
       "7     Kweku  Chilling   UMaT  56.0      Data engineer"
      ]
     },
     "execution_count": 129,
     "metadata": {},
     "output_type": "execute_result"
    }
   ],
   "source": [
    "df2 = df[4:]\n",
    "df2"
   ]
  },
  {
   "cell_type": "code",
   "execution_count": 130,
   "id": "29b6c9fc",
   "metadata": {},
   "outputs": [
    {
     "data": {
      "text/html": [
       "<div>\n",
       "<style scoped>\n",
       "    .dataframe tbody tr th:only-of-type {\n",
       "        vertical-align: middle;\n",
       "    }\n",
       "\n",
       "    .dataframe tbody tr th {\n",
       "        vertical-align: top;\n",
       "    }\n",
       "\n",
       "    .dataframe thead th {\n",
       "        text-align: right;\n",
       "    }\n",
       "</style>\n",
       "<table border=\"1\" class=\"dataframe\">\n",
       "  <thead>\n",
       "    <tr style=\"text-align: right;\">\n",
       "      <th></th>\n",
       "      <th>Firstname</th>\n",
       "      <th>Lastname</th>\n",
       "      <th>School</th>\n",
       "      <th>Age</th>\n",
       "      <th>Profession</th>\n",
       "    </tr>\n",
       "  </thead>\n",
       "  <tbody>\n",
       "    <tr>\n",
       "      <th>0</th>\n",
       "      <td>Kojo</td>\n",
       "      <td>Mensah</td>\n",
       "      <td>KNUST</td>\n",
       "      <td>24.0</td>\n",
       "      <td>Data engineer</td>\n",
       "    </tr>\n",
       "    <tr>\n",
       "      <th>1</th>\n",
       "      <td>Aba</td>\n",
       "      <td>Kylis</td>\n",
       "      <td>KNUST</td>\n",
       "      <td>26.0</td>\n",
       "      <td>Data analyst</td>\n",
       "    </tr>\n",
       "    <tr>\n",
       "      <th>2</th>\n",
       "      <td>Esi</td>\n",
       "      <td>Najo</td>\n",
       "      <td>Legon</td>\n",
       "      <td>25.0</td>\n",
       "      <td>BI Developer</td>\n",
       "    </tr>\n",
       "    <tr>\n",
       "      <th>3</th>\n",
       "      <td>Kwame</td>\n",
       "      <td>Beako</td>\n",
       "      <td>KNUST</td>\n",
       "      <td>36.0</td>\n",
       "      <td>Data scientist</td>\n",
       "    </tr>\n",
       "    <tr>\n",
       "      <th>4</th>\n",
       "      <td>Araba</td>\n",
       "      <td>Yahan</td>\n",
       "      <td>KNUST</td>\n",
       "      <td>33.4</td>\n",
       "      <td>Database engineer</td>\n",
       "    </tr>\n",
       "    <tr>\n",
       "      <th>5</th>\n",
       "      <td>Franky</td>\n",
       "      <td>Tomatoes</td>\n",
       "      <td>KNUST</td>\n",
       "      <td>33.4</td>\n",
       "      <td>Data engineer</td>\n",
       "    </tr>\n",
       "    <tr>\n",
       "      <th>6</th>\n",
       "      <td>Ama</td>\n",
       "      <td>Potatoes</td>\n",
       "      <td>Legon</td>\n",
       "      <td>33.4</td>\n",
       "      <td>Data engineer</td>\n",
       "    </tr>\n",
       "    <tr>\n",
       "      <th>7</th>\n",
       "      <td>Kweku</td>\n",
       "      <td>Chilling</td>\n",
       "      <td>UMaT</td>\n",
       "      <td>56.0</td>\n",
       "      <td>Data engineer</td>\n",
       "    </tr>\n",
       "  </tbody>\n",
       "</table>\n",
       "</div>"
      ],
      "text/plain": [
       "  Firstname  Lastname School   Age         Profession\n",
       "0      Kojo    Mensah  KNUST  24.0      Data engineer\n",
       "1       Aba     Kylis  KNUST  26.0       Data analyst\n",
       "2       Esi      Najo  Legon  25.0       BI Developer\n",
       "3     Kwame     Beako  KNUST  36.0     Data scientist\n",
       "4    Araba      Yahan  KNUST  33.4  Database engineer\n",
       "5    Franky  Tomatoes  KNUST  33.4      Data engineer\n",
       "6       Ama  Potatoes  Legon  33.4      Data engineer\n",
       "7     Kweku  Chilling   UMaT  56.0      Data engineer"
      ]
     },
     "execution_count": 130,
     "metadata": {},
     "output_type": "execute_result"
    }
   ],
   "source": [
    "df3 = pd.concat([df1, df2])\n",
    "df3"
   ]
  },
  {
   "cell_type": "code",
   "execution_count": 131,
   "id": "f828082c",
   "metadata": {},
   "outputs": [
    {
     "data": {
      "text/html": [
       "<div>\n",
       "<style scoped>\n",
       "    .dataframe tbody tr th:only-of-type {\n",
       "        vertical-align: middle;\n",
       "    }\n",
       "\n",
       "    .dataframe tbody tr th {\n",
       "        vertical-align: top;\n",
       "    }\n",
       "\n",
       "    .dataframe thead th {\n",
       "        text-align: right;\n",
       "    }\n",
       "</style>\n",
       "<table border=\"1\" class=\"dataframe\">\n",
       "  <thead>\n",
       "    <tr style=\"text-align: right;\">\n",
       "      <th></th>\n",
       "      <th>Firstname</th>\n",
       "      <th>Lastname</th>\n",
       "      <th>School</th>\n",
       "      <th>Age</th>\n",
       "      <th>Profession</th>\n",
       "    </tr>\n",
       "  </thead>\n",
       "  <tbody>\n",
       "    <tr>\n",
       "      <th>4</th>\n",
       "      <td>Araba</td>\n",
       "      <td>Yahan</td>\n",
       "      <td>KNUST</td>\n",
       "      <td>33.4</td>\n",
       "      <td>Database engineer</td>\n",
       "    </tr>\n",
       "    <tr>\n",
       "      <th>5</th>\n",
       "      <td>Franky</td>\n",
       "      <td>Tomatoes</td>\n",
       "      <td>KNUST</td>\n",
       "      <td>33.4</td>\n",
       "      <td>Data engineer</td>\n",
       "    </tr>\n",
       "    <tr>\n",
       "      <th>6</th>\n",
       "      <td>Ama</td>\n",
       "      <td>Potatoes</td>\n",
       "      <td>Legon</td>\n",
       "      <td>33.4</td>\n",
       "      <td>Data engineer</td>\n",
       "    </tr>\n",
       "    <tr>\n",
       "      <th>7</th>\n",
       "      <td>Kweku</td>\n",
       "      <td>Chilling</td>\n",
       "      <td>UMaT</td>\n",
       "      <td>56.0</td>\n",
       "      <td>Data engineer</td>\n",
       "    </tr>\n",
       "    <tr>\n",
       "      <th>0</th>\n",
       "      <td>Kojo</td>\n",
       "      <td>Mensah</td>\n",
       "      <td>KNUST</td>\n",
       "      <td>24.0</td>\n",
       "      <td>Data engineer</td>\n",
       "    </tr>\n",
       "    <tr>\n",
       "      <th>1</th>\n",
       "      <td>Aba</td>\n",
       "      <td>Kylis</td>\n",
       "      <td>KNUST</td>\n",
       "      <td>26.0</td>\n",
       "      <td>Data analyst</td>\n",
       "    </tr>\n",
       "    <tr>\n",
       "      <th>2</th>\n",
       "      <td>Esi</td>\n",
       "      <td>Najo</td>\n",
       "      <td>Legon</td>\n",
       "      <td>25.0</td>\n",
       "      <td>BI Developer</td>\n",
       "    </tr>\n",
       "    <tr>\n",
       "      <th>3</th>\n",
       "      <td>Kwame</td>\n",
       "      <td>Beako</td>\n",
       "      <td>KNUST</td>\n",
       "      <td>36.0</td>\n",
       "      <td>Data scientist</td>\n",
       "    </tr>\n",
       "  </tbody>\n",
       "</table>\n",
       "</div>"
      ],
      "text/plain": [
       "  Firstname  Lastname School   Age         Profession\n",
       "4    Araba      Yahan  KNUST  33.4  Database engineer\n",
       "5    Franky  Tomatoes  KNUST  33.4      Data engineer\n",
       "6       Ama  Potatoes  Legon  33.4      Data engineer\n",
       "7     Kweku  Chilling   UMaT  56.0      Data engineer\n",
       "0      Kojo    Mensah  KNUST  24.0      Data engineer\n",
       "1       Aba     Kylis  KNUST  26.0       Data analyst\n",
       "2       Esi      Najo  Legon  25.0       BI Developer\n",
       "3     Kwame     Beako  KNUST  36.0     Data scientist"
      ]
     },
     "execution_count": 131,
     "metadata": {},
     "output_type": "execute_result"
    }
   ],
   "source": [
    "df4 = pd.concat([df2, df1])\n",
    "df4"
   ]
  },
  {
   "cell_type": "code",
   "execution_count": 136,
   "id": "b68d4a55",
   "metadata": {},
   "outputs": [
    {
     "data": {
      "text/html": [
       "<div>\n",
       "<style scoped>\n",
       "    .dataframe tbody tr th:only-of-type {\n",
       "        vertical-align: middle;\n",
       "    }\n",
       "\n",
       "    .dataframe tbody tr th {\n",
       "        vertical-align: top;\n",
       "    }\n",
       "\n",
       "    .dataframe thead th {\n",
       "        text-align: right;\n",
       "    }\n",
       "</style>\n",
       "<table border=\"1\" class=\"dataframe\">\n",
       "  <thead>\n",
       "    <tr style=\"text-align: right;\">\n",
       "      <th></th>\n",
       "      <th>Firstname</th>\n",
       "      <th>Lastname</th>\n",
       "      <th>School</th>\n",
       "      <th>Age</th>\n",
       "      <th>Profession</th>\n",
       "    </tr>\n",
       "  </thead>\n",
       "  <tbody>\n",
       "    <tr>\n",
       "      <th>0</th>\n",
       "      <td>Araba</td>\n",
       "      <td>Yahan</td>\n",
       "      <td>KNUST</td>\n",
       "      <td>33.4</td>\n",
       "      <td>Database engineer</td>\n",
       "    </tr>\n",
       "    <tr>\n",
       "      <th>1</th>\n",
       "      <td>Franky</td>\n",
       "      <td>Tomatoes</td>\n",
       "      <td>KNUST</td>\n",
       "      <td>33.4</td>\n",
       "      <td>Data engineer</td>\n",
       "    </tr>\n",
       "    <tr>\n",
       "      <th>2</th>\n",
       "      <td>Ama</td>\n",
       "      <td>Potatoes</td>\n",
       "      <td>Legon</td>\n",
       "      <td>33.4</td>\n",
       "      <td>Data engineer</td>\n",
       "    </tr>\n",
       "    <tr>\n",
       "      <th>3</th>\n",
       "      <td>Kweku</td>\n",
       "      <td>Chilling</td>\n",
       "      <td>UMaT</td>\n",
       "      <td>56.0</td>\n",
       "      <td>Data engineer</td>\n",
       "    </tr>\n",
       "    <tr>\n",
       "      <th>4</th>\n",
       "      <td>Kojo</td>\n",
       "      <td>Mensah</td>\n",
       "      <td>KNUST</td>\n",
       "      <td>24.0</td>\n",
       "      <td>Data engineer</td>\n",
       "    </tr>\n",
       "    <tr>\n",
       "      <th>5</th>\n",
       "      <td>Aba</td>\n",
       "      <td>Kylis</td>\n",
       "      <td>KNUST</td>\n",
       "      <td>26.0</td>\n",
       "      <td>Data analyst</td>\n",
       "    </tr>\n",
       "    <tr>\n",
       "      <th>6</th>\n",
       "      <td>Esi</td>\n",
       "      <td>Najo</td>\n",
       "      <td>Legon</td>\n",
       "      <td>25.0</td>\n",
       "      <td>BI Developer</td>\n",
       "    </tr>\n",
       "    <tr>\n",
       "      <th>7</th>\n",
       "      <td>Kwame</td>\n",
       "      <td>Beako</td>\n",
       "      <td>KNUST</td>\n",
       "      <td>36.0</td>\n",
       "      <td>Data scientist</td>\n",
       "    </tr>\n",
       "  </tbody>\n",
       "</table>\n",
       "</div>"
      ],
      "text/plain": [
       "  Firstname  Lastname School   Age         Profession\n",
       "0    Araba      Yahan  KNUST  33.4  Database engineer\n",
       "1    Franky  Tomatoes  KNUST  33.4      Data engineer\n",
       "2       Ama  Potatoes  Legon  33.4      Data engineer\n",
       "3     Kweku  Chilling   UMaT  56.0      Data engineer\n",
       "4      Kojo    Mensah  KNUST  24.0      Data engineer\n",
       "5       Aba     Kylis  KNUST  26.0       Data analyst\n",
       "6       Esi      Najo  Legon  25.0       BI Developer\n",
       "7     Kwame     Beako  KNUST  36.0     Data scientist"
      ]
     },
     "execution_count": 136,
     "metadata": {},
     "output_type": "execute_result"
    }
   ],
   "source": [
    "df5 = df4.reset_index(drop = True)\n",
    "df5"
   ]
  },
  {
   "cell_type": "markdown",
   "id": "d5c31157",
   "metadata": {},
   "source": [
    "### Merging"
   ]
  },
  {
   "cell_type": "code",
   "execution_count": 142,
   "id": "8f30c140",
   "metadata": {},
   "outputs": [
    {
     "data": {
      "text/html": [
       "<div>\n",
       "<style scoped>\n",
       "    .dataframe tbody tr th:only-of-type {\n",
       "        vertical-align: middle;\n",
       "    }\n",
       "\n",
       "    .dataframe tbody tr th {\n",
       "        vertical-align: top;\n",
       "    }\n",
       "\n",
       "    .dataframe thead th {\n",
       "        text-align: right;\n",
       "    }\n",
       "</style>\n",
       "<table border=\"1\" class=\"dataframe\">\n",
       "  <thead>\n",
       "    <tr style=\"text-align: right;\">\n",
       "      <th></th>\n",
       "      <th>ID</th>\n",
       "      <th>Name</th>\n",
       "      <th>Age</th>\n",
       "    </tr>\n",
       "  </thead>\n",
       "  <tbody>\n",
       "    <tr>\n",
       "      <th>0</th>\n",
       "      <td>1</td>\n",
       "      <td>Aba</td>\n",
       "      <td>21</td>\n",
       "    </tr>\n",
       "    <tr>\n",
       "      <th>1</th>\n",
       "      <td>2</td>\n",
       "      <td>Kojo</td>\n",
       "      <td>87</td>\n",
       "    </tr>\n",
       "    <tr>\n",
       "      <th>2</th>\n",
       "      <td>3</td>\n",
       "      <td>Kwesi</td>\n",
       "      <td>54</td>\n",
       "    </tr>\n",
       "    <tr>\n",
       "      <th>3</th>\n",
       "      <td>4</td>\n",
       "      <td>Pratt</td>\n",
       "      <td>36</td>\n",
       "    </tr>\n",
       "  </tbody>\n",
       "</table>\n",
       "</div>"
      ],
      "text/plain": [
       "   ID   Name  Age\n",
       "0   1   Aba    21\n",
       "1   2   Kojo   87\n",
       "2   3  Kwesi   54\n",
       "3   4  Pratt   36"
      ]
     },
     "execution_count": 142,
     "metadata": {},
     "output_type": "execute_result"
    }
   ],
   "source": [
    "mdf1 = pd.read_excel('mergedf1.xlsx')\n",
    "mdf1"
   ]
  },
  {
   "cell_type": "code",
   "execution_count": 143,
   "id": "00cbfeb0",
   "metadata": {},
   "outputs": [
    {
     "data": {
      "text/html": [
       "<div>\n",
       "<style scoped>\n",
       "    .dataframe tbody tr th:only-of-type {\n",
       "        vertical-align: middle;\n",
       "    }\n",
       "\n",
       "    .dataframe tbody tr th {\n",
       "        vertical-align: top;\n",
       "    }\n",
       "\n",
       "    .dataframe thead th {\n",
       "        text-align: right;\n",
       "    }\n",
       "</style>\n",
       "<table border=\"1\" class=\"dataframe\">\n",
       "  <thead>\n",
       "    <tr style=\"text-align: right;\">\n",
       "      <th></th>\n",
       "      <th>Name</th>\n",
       "      <th>ID</th>\n",
       "      <th>School</th>\n",
       "      <th>Fav Food</th>\n",
       "    </tr>\n",
       "  </thead>\n",
       "  <tbody>\n",
       "    <tr>\n",
       "      <th>0</th>\n",
       "      <td>Kwesi</td>\n",
       "      <td>5</td>\n",
       "      <td>KNUST</td>\n",
       "      <td>Mango</td>\n",
       "    </tr>\n",
       "    <tr>\n",
       "      <th>1</th>\n",
       "      <td>Kilson</td>\n",
       "      <td>6</td>\n",
       "      <td>Legon</td>\n",
       "      <td>Rice</td>\n",
       "    </tr>\n",
       "  </tbody>\n",
       "</table>\n",
       "</div>"
      ],
      "text/plain": [
       "     Name  ID School Fav Food\n",
       "0   Kwesi   5  KNUST    Mango\n",
       "1  Kilson   6  Legon     Rice"
      ]
     },
     "execution_count": 143,
     "metadata": {},
     "output_type": "execute_result"
    }
   ],
   "source": [
    "mdf2 = pd.read_excel('mergedf2.xlsx')\n",
    "mdf2"
   ]
  },
  {
   "cell_type": "code",
   "execution_count": 144,
   "id": "c32269e9",
   "metadata": {},
   "outputs": [
    {
     "data": {
      "text/html": [
       "<div>\n",
       "<style scoped>\n",
       "    .dataframe tbody tr th:only-of-type {\n",
       "        vertical-align: middle;\n",
       "    }\n",
       "\n",
       "    .dataframe tbody tr th {\n",
       "        vertical-align: top;\n",
       "    }\n",
       "\n",
       "    .dataframe thead th {\n",
       "        text-align: right;\n",
       "    }\n",
       "</style>\n",
       "<table border=\"1\" class=\"dataframe\">\n",
       "  <thead>\n",
       "    <tr style=\"text-align: right;\">\n",
       "      <th></th>\n",
       "      <th>Name</th>\n",
       "      <th>ID</th>\n",
       "      <th>Hometown</th>\n",
       "    </tr>\n",
       "  </thead>\n",
       "  <tbody>\n",
       "    <tr>\n",
       "      <th>0</th>\n",
       "      <td>Aba</td>\n",
       "      <td>1</td>\n",
       "      <td>Bogoso</td>\n",
       "    </tr>\n",
       "    <tr>\n",
       "      <th>1</th>\n",
       "      <td>Kojo</td>\n",
       "      <td>2</td>\n",
       "      <td>Atuabo</td>\n",
       "    </tr>\n",
       "    <tr>\n",
       "      <th>2</th>\n",
       "      <td>Kwesi</td>\n",
       "      <td>3</td>\n",
       "      <td>Wenchi</td>\n",
       "    </tr>\n",
       "    <tr>\n",
       "      <th>3</th>\n",
       "      <td>Pratt</td>\n",
       "      <td>4</td>\n",
       "      <td>Wa</td>\n",
       "    </tr>\n",
       "  </tbody>\n",
       "</table>\n",
       "</div>"
      ],
      "text/plain": [
       "   Name   ID Hometown\n",
       "0   Aba    1   Bogoso\n",
       "1   Kojo   2   Atuabo\n",
       "2  Kwesi   3   Wenchi\n",
       "3  Pratt   4       Wa"
      ]
     },
     "execution_count": 144,
     "metadata": {},
     "output_type": "execute_result"
    }
   ],
   "source": [
    "mdf3 = pd.read_excel('mergedf3.xlsx')\n",
    "mdf3"
   ]
  },
  {
   "cell_type": "code",
   "execution_count": 146,
   "id": "3829004f",
   "metadata": {},
   "outputs": [
    {
     "data": {
      "text/html": [
       "<div>\n",
       "<style scoped>\n",
       "    .dataframe tbody tr th:only-of-type {\n",
       "        vertical-align: middle;\n",
       "    }\n",
       "\n",
       "    .dataframe tbody tr th {\n",
       "        vertical-align: top;\n",
       "    }\n",
       "\n",
       "    .dataframe thead th {\n",
       "        text-align: right;\n",
       "    }\n",
       "</style>\n",
       "<table border=\"1\" class=\"dataframe\">\n",
       "  <thead>\n",
       "    <tr style=\"text-align: right;\">\n",
       "      <th></th>\n",
       "      <th>Name</th>\n",
       "      <th>ID</th>\n",
       "      <th>School</th>\n",
       "      <th>Fav Food</th>\n",
       "      <th>Name</th>\n",
       "      <th>Hometown</th>\n",
       "    </tr>\n",
       "  </thead>\n",
       "  <tbody>\n",
       "    <tr>\n",
       "      <th>0</th>\n",
       "      <td>Kwesi</td>\n",
       "      <td>5</td>\n",
       "      <td>KNUST</td>\n",
       "      <td>Mango</td>\n",
       "      <td>NaN</td>\n",
       "      <td>NaN</td>\n",
       "    </tr>\n",
       "    <tr>\n",
       "      <th>1</th>\n",
       "      <td>Kilson</td>\n",
       "      <td>6</td>\n",
       "      <td>Legon</td>\n",
       "      <td>Rice</td>\n",
       "      <td>NaN</td>\n",
       "      <td>NaN</td>\n",
       "    </tr>\n",
       "    <tr>\n",
       "      <th>2</th>\n",
       "      <td>NaN</td>\n",
       "      <td>1</td>\n",
       "      <td>NaN</td>\n",
       "      <td>NaN</td>\n",
       "      <td>Aba</td>\n",
       "      <td>Bogoso</td>\n",
       "    </tr>\n",
       "    <tr>\n",
       "      <th>3</th>\n",
       "      <td>NaN</td>\n",
       "      <td>2</td>\n",
       "      <td>NaN</td>\n",
       "      <td>NaN</td>\n",
       "      <td>Kojo</td>\n",
       "      <td>Atuabo</td>\n",
       "    </tr>\n",
       "    <tr>\n",
       "      <th>4</th>\n",
       "      <td>NaN</td>\n",
       "      <td>3</td>\n",
       "      <td>NaN</td>\n",
       "      <td>NaN</td>\n",
       "      <td>Kwesi</td>\n",
       "      <td>Wenchi</td>\n",
       "    </tr>\n",
       "    <tr>\n",
       "      <th>5</th>\n",
       "      <td>NaN</td>\n",
       "      <td>4</td>\n",
       "      <td>NaN</td>\n",
       "      <td>NaN</td>\n",
       "      <td>Pratt</td>\n",
       "      <td>Wa</td>\n",
       "    </tr>\n",
       "  </tbody>\n",
       "</table>\n",
       "</div>"
      ],
      "text/plain": [
       "     Name  ID School Fav Food  Name  Hometown\n",
       "0   Kwesi   5  KNUST    Mango    NaN      NaN\n",
       "1  Kilson   6  Legon     Rice    NaN      NaN\n",
       "2     NaN   1    NaN      NaN   Aba    Bogoso\n",
       "3     NaN   2    NaN      NaN   Kojo   Atuabo\n",
       "4     NaN   3    NaN      NaN  Kwesi   Wenchi\n",
       "5     NaN   4    NaN      NaN  Pratt       Wa"
      ]
     },
     "execution_count": 146,
     "metadata": {},
     "output_type": "execute_result"
    }
   ],
   "source": [
    "mdf2.merge(mdf3, on = 'ID', how = 'outer')"
   ]
  },
  {
   "cell_type": "code",
   "execution_count": 147,
   "id": "e77bebea",
   "metadata": {},
   "outputs": [
    {
     "data": {
      "text/html": [
       "<div>\n",
       "<style scoped>\n",
       "    .dataframe tbody tr th:only-of-type {\n",
       "        vertical-align: middle;\n",
       "    }\n",
       "\n",
       "    .dataframe tbody tr th {\n",
       "        vertical-align: top;\n",
       "    }\n",
       "\n",
       "    .dataframe thead th {\n",
       "        text-align: right;\n",
       "    }\n",
       "</style>\n",
       "<table border=\"1\" class=\"dataframe\">\n",
       "  <thead>\n",
       "    <tr style=\"text-align: right;\">\n",
       "      <th></th>\n",
       "      <th>Name</th>\n",
       "      <th>ID</th>\n",
       "      <th>School</th>\n",
       "      <th>Fav Food</th>\n",
       "      <th>Name</th>\n",
       "      <th>Hometown</th>\n",
       "    </tr>\n",
       "  </thead>\n",
       "  <tbody>\n",
       "    <tr>\n",
       "      <th>0</th>\n",
       "      <td>Kwesi</td>\n",
       "      <td>5</td>\n",
       "      <td>KNUST</td>\n",
       "      <td>Mango</td>\n",
       "      <td>NaN</td>\n",
       "      <td>NaN</td>\n",
       "    </tr>\n",
       "    <tr>\n",
       "      <th>1</th>\n",
       "      <td>Kilson</td>\n",
       "      <td>6</td>\n",
       "      <td>Legon</td>\n",
       "      <td>Rice</td>\n",
       "      <td>NaN</td>\n",
       "      <td>NaN</td>\n",
       "    </tr>\n",
       "  </tbody>\n",
       "</table>\n",
       "</div>"
      ],
      "text/plain": [
       "     Name  ID School Fav Food Name  Hometown\n",
       "0   Kwesi   5  KNUST    Mango   NaN      NaN\n",
       "1  Kilson   6  Legon     Rice   NaN      NaN"
      ]
     },
     "execution_count": 147,
     "metadata": {},
     "output_type": "execute_result"
    }
   ],
   "source": [
    "mdf2.merge(mdf3, on = 'ID', how = 'left')"
   ]
  },
  {
   "cell_type": "code",
   "execution_count": 148,
   "id": "f60c4f9b",
   "metadata": {},
   "outputs": [
    {
     "data": {
      "text/html": [
       "<div>\n",
       "<style scoped>\n",
       "    .dataframe tbody tr th:only-of-type {\n",
       "        vertical-align: middle;\n",
       "    }\n",
       "\n",
       "    .dataframe tbody tr th {\n",
       "        vertical-align: top;\n",
       "    }\n",
       "\n",
       "    .dataframe thead th {\n",
       "        text-align: right;\n",
       "    }\n",
       "</style>\n",
       "<table border=\"1\" class=\"dataframe\">\n",
       "  <thead>\n",
       "    <tr style=\"text-align: right;\">\n",
       "      <th></th>\n",
       "      <th>Name</th>\n",
       "      <th>ID</th>\n",
       "      <th>School</th>\n",
       "      <th>Fav Food</th>\n",
       "      <th>Name</th>\n",
       "      <th>Hometown</th>\n",
       "    </tr>\n",
       "  </thead>\n",
       "  <tbody>\n",
       "    <tr>\n",
       "      <th>0</th>\n",
       "      <td>NaN</td>\n",
       "      <td>1</td>\n",
       "      <td>NaN</td>\n",
       "      <td>NaN</td>\n",
       "      <td>Aba</td>\n",
       "      <td>Bogoso</td>\n",
       "    </tr>\n",
       "    <tr>\n",
       "      <th>1</th>\n",
       "      <td>NaN</td>\n",
       "      <td>2</td>\n",
       "      <td>NaN</td>\n",
       "      <td>NaN</td>\n",
       "      <td>Kojo</td>\n",
       "      <td>Atuabo</td>\n",
       "    </tr>\n",
       "    <tr>\n",
       "      <th>2</th>\n",
       "      <td>NaN</td>\n",
       "      <td>3</td>\n",
       "      <td>NaN</td>\n",
       "      <td>NaN</td>\n",
       "      <td>Kwesi</td>\n",
       "      <td>Wenchi</td>\n",
       "    </tr>\n",
       "    <tr>\n",
       "      <th>3</th>\n",
       "      <td>NaN</td>\n",
       "      <td>4</td>\n",
       "      <td>NaN</td>\n",
       "      <td>NaN</td>\n",
       "      <td>Pratt</td>\n",
       "      <td>Wa</td>\n",
       "    </tr>\n",
       "  </tbody>\n",
       "</table>\n",
       "</div>"
      ],
      "text/plain": [
       "  Name  ID School Fav Food  Name  Hometown\n",
       "0  NaN   1    NaN      NaN   Aba    Bogoso\n",
       "1  NaN   2    NaN      NaN   Kojo   Atuabo\n",
       "2  NaN   3    NaN      NaN  Kwesi   Wenchi\n",
       "3  NaN   4    NaN      NaN  Pratt       Wa"
      ]
     },
     "execution_count": 148,
     "metadata": {},
     "output_type": "execute_result"
    }
   ],
   "source": [
    "mdf2.merge(mdf3, on = 'ID', how = 'right')"
   ]
  }
 ],
 "metadata": {
  "kernelspec": {
   "display_name": "Python 3 (ipykernel)",
   "language": "python",
   "name": "python3"
  },
  "language_info": {
   "codemirror_mode": {
    "name": "ipython",
    "version": 3
   },
   "file_extension": ".py",
   "mimetype": "text/x-python",
   "name": "python",
   "nbconvert_exporter": "python",
   "pygments_lexer": "ipython3",
   "version": "3.9.7"
  }
 },
 "nbformat": 4,
 "nbformat_minor": 5
}
